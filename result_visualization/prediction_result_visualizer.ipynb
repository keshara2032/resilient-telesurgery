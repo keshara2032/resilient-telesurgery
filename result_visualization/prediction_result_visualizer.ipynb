{
 "cells": [
  {
   "cell_type": "code",
   "execution_count": 2,
   "id": "65604dae-8a45-4cf1-8aa6-c008e0cf5429",
   "metadata": {},
   "outputs": [],
   "source": [
    "import torch\n",
    "import torch.nn as nn\n",
    "import torch.optim as optim\n",
    "from torch.utils.data import DataLoader, Dataset\n",
    "import numpy as np\n",
    "import pandas as pd\n",
    "import os\n",
    "import glob\n",
    "from sklearn import preprocessing\n",
    "from sklearn.model_selection import train_test_split\n",
    "from pathlib import Path\n",
    "from cgpt_transformer_model import *\n",
    "import torch.onnx\n"
   ]
  },
  {
   "cell_type": "code",
   "execution_count": 153,
   "id": "6d3506ff-219c-4813-bbd2-91255116696e",
   "metadata": {},
   "outputs": [],
   "source": []
  },
  {
   "cell_type": "code",
   "execution_count": 154,
   "id": "aff1288f-b0e5-4253-8143-33b31a22601d",
   "metadata": {},
   "outputs": [],
   "source": []
  },
  {
   "cell_type": "code",
   "execution_count": 219,
   "id": "eb6e8244-12e1-4779-8767-f261fcdfb48d",
   "metadata": {},
   "outputs": [
    {
     "name": "stderr",
     "output_type": "stream",
     "text": [
      "C:\\Users\\cjh9fw\\AppData\\Local\\anaconda3\\envs\\keras-tt\\lib\\site-packages\\sklearn\\preprocessing\\_label.py:116: DataConversionWarning: A column-vector y was passed when a 1d array was expected. Please change the shape of y to (n_samples, ), for example using ravel().\n",
      "  y = column_or_1d(y, warn=True)\n"
     ]
    },
    {
     "name": "stdout",
     "output_type": "stream",
     "text": [
      "Gesture Recognition Accuracy\n",
      "gesture:  S1 accuracy:  0.9248554913294798\n",
      "\n",
      "Gesture Recognition Accuracy\n",
      "gesture:  S2 accuracy:  0.4347826086956522\n",
      "\n",
      "Gesture Recognition Accuracy\n",
      "gesture:  S3 accuracy:  0.7613636363636364\n",
      "\n",
      "Gesture Recognition Accuracy\n",
      "gesture:  S4 accuracy:  0.8956521739130435\n",
      "\n",
      "Gesture Recognition Accuracy\n",
      "gesture:  S5 accuracy:  0.9415204678362573\n",
      "\n",
      "Gesture Recognition Accuracy\n",
      "gesture:  S6 accuracy:  0.6973684210526316\n",
      "\n",
      "Gesture Recognition Accuracy\n",
      "gesture:  S7 accuracy:  0.9671052631578947\n",
      "\n",
      "Gesture Recognition Accuracy\n",
      "gesture:  S1 accuracy:  0.8666666666666667\n",
      "\n",
      "Gesture Recognition Accuracy\n",
      "gesture:  S2 accuracy:  0.21052631578947367\n",
      "\n",
      "Gesture Recognition Accuracy\n",
      "gesture:  S3 accuracy:  0.7211538461538461\n",
      "\n",
      "Gesture Recognition Accuracy\n",
      "gesture:  S4 accuracy:  0.8114754098360656\n",
      "\n",
      "Gesture Recognition Accuracy\n",
      "gesture:  S5 accuracy:  0.9952830188679245\n",
      "\n",
      "Gesture Recognition Accuracy\n",
      "gesture:  S6 accuracy:  0.5039370078740157\n",
      "\n",
      "Gesture Recognition Accuracy\n",
      "gesture:  S7 accuracy:  0.98\n",
      "\n",
      "Gesture Recognition Accuracy\n",
      "gesture:  S1 accuracy:  0.8603351955307262\n",
      "\n",
      "Gesture Recognition Accuracy\n",
      "gesture:  S2 accuracy:  0.6423357664233577\n",
      "\n",
      "Gesture Recognition Accuracy\n",
      "gesture:  S3 accuracy:  0.8478260869565217\n",
      "\n",
      "Gesture Recognition Accuracy\n",
      "gesture:  S4 accuracy:  0.7931034482758621\n",
      "\n",
      "Gesture Recognition Accuracy\n",
      "gesture:  S5 accuracy:  0.9385964912280702\n",
      "\n",
      "Gesture Recognition Accuracy\n",
      "gesture:  S6 accuracy:  0.6881720430107527\n",
      "\n",
      "Gesture Recognition Accuracy\n",
      "gesture:  S7 accuracy:  0.8630952380952381\n",
      "\n"
     ]
    },
    {
     "name": "stderr",
     "output_type": "stream",
     "text": [
      "C:\\Users\\cjh9fw\\AppData\\Local\\Temp\\ipykernel_13864\\1582791462.py:133: SettingWithCopyWarning: \n",
      "A value is trying to be set on a copy of a slice from a DataFrame\n",
      "\n",
      "See the caveats in the documentation: https://pandas.pydata.org/pandas-docs/stable/user_guide/indexing.html#returning-a-view-versus-a-copy\n",
      "  pred_changes_df.drop(columns=pred_changes_df.columns[0], axis=1, inplace=True)\n"
     ]
    },
    {
     "data": {
      "application/vnd.vegalite.v4+json": {
       "$schema": "https://vega.github.io/schema/vega-lite/v4.17.0.json",
       "config": {
        "view": {
         "continuousHeight": 300,
         "continuousWidth": 400
        }
       },
       "datasets": {
        "data-72d865762ae4feb3256d1b49cff2bb52": [
         {
          "end": 173,
          "gesture": "S1",
          "start": 0,
          "valid": true
         },
         {
          "end": 265,
          "gesture": "S2",
          "start": 173,
          "valid": true
         },
         {
          "end": 353,
          "gesture": "S3",
          "start": 265,
          "valid": true
         },
         {
          "end": 468,
          "gesture": "S4",
          "start": 353,
          "valid": true
         },
         {
          "end": 639,
          "gesture": "S5",
          "start": 468,
          "valid": true
         },
         {
          "end": 791,
          "gesture": "S6",
          "start": 639,
          "valid": true
         },
         {
          "end": 943,
          "gesture": "S7",
          "start": 791,
          "valid": true
         },
         {
          "end": 1108,
          "gesture": "S1",
          "start": 943,
          "valid": true
         },
         {
          "end": 1165,
          "gesture": "S2",
          "start": 1108,
          "valid": true
         },
         {
          "end": 1269,
          "gesture": "S3",
          "start": 1165,
          "valid": true
         },
         {
          "end": 1391,
          "gesture": "S4",
          "start": 1269,
          "valid": true
         },
         {
          "end": 1603,
          "gesture": "S5",
          "start": 1391,
          "valid": true
         },
         {
          "end": 1730,
          "gesture": "S6",
          "start": 1603,
          "valid": true
         },
         {
          "end": 1930,
          "gesture": "S7",
          "start": 1730,
          "valid": true
         },
         {
          "end": 2109,
          "gesture": "S1",
          "start": 1930,
          "valid": true
         },
         {
          "end": 2383,
          "gesture": "S2",
          "start": 2109,
          "valid": true
         },
         {
          "end": 2475,
          "gesture": "S3",
          "start": 2383,
          "valid": true
         },
         {
          "end": 2562,
          "gesture": "S4",
          "start": 2475,
          "valid": true
         },
         {
          "end": 2676,
          "gesture": "S5",
          "start": 2562,
          "valid": true
         },
         {
          "end": 2769,
          "gesture": "S6",
          "start": 2676,
          "valid": true
         },
         {
          "end": 2937,
          "gesture": "S7",
          "start": 2769,
          "valid": true
         }
        ],
        "data-d484ed32591ec86d1043033314175fc7": [
         {
          "end": 23,
          "gesture": "S1",
          "start": 0
         },
         {
          "end": 25,
          "gesture": "S7",
          "start": 23
         },
         {
          "end": 114,
          "gesture": "S1",
          "start": 25
         },
         {
          "end": 115,
          "gesture": "S2",
          "start": 114
         },
         {
          "end": 150,
          "gesture": "S1",
          "start": 115
         },
         {
          "end": 151,
          "gesture": "S2",
          "start": 150
         },
         {
          "end": 160,
          "gesture": "S1",
          "start": 151
         },
         {
          "end": 161,
          "gesture": "S2",
          "start": 160
         },
         {
          "end": 164,
          "gesture": "S1",
          "start": 161
         },
         {
          "end": 166,
          "gesture": "S2",
          "start": 164
         },
         {
          "end": 167,
          "gesture": "S1",
          "start": 166
         },
         {
          "end": 173,
          "gesture": "S2",
          "start": 167
         },
         {
          "end": 191,
          "gesture": "S1",
          "start": 173
         },
         {
          "end": 192,
          "gesture": "S2",
          "start": 191
         },
         {
          "end": 199,
          "gesture": "S1",
          "start": 192
         },
         {
          "end": 200,
          "gesture": "S2",
          "start": 199
         },
         {
          "end": 201,
          "gesture": "S1",
          "start": 200
         },
         {
          "end": 202,
          "gesture": "S2",
          "start": 201
         },
         {
          "end": 204,
          "gesture": "S1",
          "start": 202
         },
         {
          "end": 206,
          "gesture": "S2",
          "start": 204
         },
         {
          "end": 208,
          "gesture": "S1",
          "start": 206
         },
         {
          "end": 209,
          "gesture": "S2",
          "start": 208
         },
         {
          "end": 212,
          "gesture": "S1",
          "start": 209
         },
         {
          "end": 213,
          "gesture": "S2",
          "start": 212
         },
         {
          "end": 214,
          "gesture": "S1",
          "start": 213
         },
         {
          "end": 216,
          "gesture": "S2",
          "start": 214
         },
         {
          "end": 218,
          "gesture": "S1",
          "start": 216
         },
         {
          "end": 224,
          "gesture": "S2",
          "start": 218
         },
         {
          "end": 225,
          "gesture": "S1",
          "start": 224
         },
         {
          "end": 231,
          "gesture": "S2",
          "start": 225
         },
         {
          "end": 232,
          "gesture": "S1",
          "start": 231
         },
         {
          "end": 240,
          "gesture": "S2",
          "start": 232
         },
         {
          "end": 241,
          "gesture": "S1",
          "start": 240
         },
         {
          "end": 247,
          "gesture": "S2",
          "start": 241
         },
         {
          "end": 249,
          "gesture": "S1",
          "start": 247
         },
         {
          "end": 252,
          "gesture": "S2",
          "start": 249
         },
         {
          "end": 253,
          "gesture": "S1",
          "start": 252
         },
         {
          "end": 255,
          "gesture": "S2",
          "start": 253
         },
         {
          "end": 256,
          "gesture": "S1",
          "start": 255
         },
         {
          "end": 269,
          "gesture": "S3",
          "start": 256
         },
         {
          "end": 270,
          "gesture": "S2",
          "start": 269
         },
         {
          "end": 287,
          "gesture": "S3",
          "start": 270
         },
         {
          "end": 288,
          "gesture": "S7",
          "start": 287
         },
         {
          "end": 292,
          "gesture": "S3",
          "start": 288
         },
         {
          "end": 293,
          "gesture": "S7",
          "start": 292
         },
         {
          "end": 321,
          "gesture": "S3",
          "start": 293
         },
         {
          "end": 323,
          "gesture": "S4",
          "start": 321
         },
         {
          "end": 324,
          "gesture": "S3",
          "start": 323
         },
         {
          "end": 325,
          "gesture": "S7",
          "start": 324
         },
         {
          "end": 330,
          "gesture": "S3",
          "start": 325
         },
         {
          "end": 331,
          "gesture": "S4",
          "start": 330
         },
         {
          "end": 333,
          "gesture": "S3",
          "start": 331
         },
         {
          "end": 334,
          "gesture": "S4",
          "start": 333
         },
         {
          "end": 338,
          "gesture": "S3",
          "start": 334
         },
         {
          "end": 342,
          "gesture": "S4",
          "start": 338
         },
         {
          "end": 343,
          "gesture": "S3",
          "start": 342
         },
         {
          "end": 345,
          "gesture": "S4",
          "start": 343
         },
         {
          "end": 346,
          "gesture": "S3",
          "start": 345
         },
         {
          "end": 354,
          "gesture": "S4",
          "start": 346
         },
         {
          "end": 356,
          "gesture": "S3",
          "start": 354
         },
         {
          "end": 358,
          "gesture": "S4",
          "start": 356
         },
         {
          "end": 360,
          "gesture": "S3",
          "start": 358
         },
         {
          "end": 378,
          "gesture": "S4",
          "start": 360
         },
         {
          "end": 379,
          "gesture": "S3",
          "start": 378
         },
         {
          "end": 457,
          "gesture": "S4",
          "start": 379
         },
         {
          "end": 459,
          "gesture": "S5",
          "start": 457
         },
         {
          "end": 460,
          "gesture": "S4",
          "start": 459
         },
         {
          "end": 461,
          "gesture": "S5",
          "start": 460
         },
         {
          "end": 463,
          "gesture": "S4",
          "start": 461
         },
         {
          "end": 466,
          "gesture": "S5",
          "start": 463
         },
         {
          "end": 467,
          "gesture": "S4",
          "start": 466
         },
         {
          "end": 468,
          "gesture": "S5",
          "start": 467
         },
         {
          "end": 473,
          "gesture": "S4",
          "start": 468
         },
         {
          "end": 475,
          "gesture": "S5",
          "start": 473
         },
         {
          "end": 476,
          "gesture": "S4",
          "start": 475
         },
         {
          "end": 477,
          "gesture": "S5",
          "start": 476
         },
         {
          "end": 480,
          "gesture": "S4",
          "start": 477
         },
         {
          "end": 481,
          "gesture": "S5",
          "start": 480
         },
         {
          "end": 482,
          "gesture": "S4",
          "start": 481
         },
         {
          "end": 658,
          "gesture": "S5",
          "start": 482
         },
         {
          "end": 659,
          "gesture": "S6",
          "start": 658
         },
         {
          "end": 660,
          "gesture": "S5",
          "start": 659
         },
         {
          "end": 663,
          "gesture": "S6",
          "start": 660
         },
         {
          "end": 664,
          "gesture": "S5",
          "start": 663
         },
         {
          "end": 667,
          "gesture": "S6",
          "start": 664
         },
         {
          "end": 668,
          "gesture": "S5",
          "start": 667
         },
         {
          "end": 669,
          "gesture": "S6",
          "start": 668
         },
         {
          "end": 670,
          "gesture": "S5",
          "start": 669
         },
         {
          "end": 674,
          "gesture": "S6",
          "start": 670
         },
         {
          "end": 675,
          "gesture": "S5",
          "start": 674
         },
         {
          "end": 756,
          "gesture": "S6",
          "start": 675
         },
         {
          "end": 759,
          "gesture": "S7",
          "start": 756
         },
         {
          "end": 769,
          "gesture": "S6",
          "start": 759
         },
         {
          "end": 770,
          "gesture": "S7",
          "start": 769
         },
         {
          "end": 772,
          "gesture": "S6",
          "start": 770
         },
         {
          "end": 773,
          "gesture": "S7",
          "start": 772
         },
         {
          "end": 774,
          "gesture": "S6",
          "start": 773
         },
         {
          "end": 793,
          "gesture": "S7",
          "start": 774
         },
         {
          "end": 795,
          "gesture": "S6",
          "start": 793
         },
         {
          "end": 796,
          "gesture": "S7",
          "start": 795
         },
         {
          "end": 797,
          "gesture": "S6",
          "start": 796
         },
         {
          "end": 941,
          "gesture": "S7",
          "start": 797
         },
         {
          "end": 943,
          "gesture": "S1",
          "start": 941
         },
         {
          "end": 951,
          "gesture": "S7",
          "start": 943
         },
         {
          "end": 952,
          "gesture": "S1",
          "start": 951
         },
         {
          "end": 953,
          "gesture": "S7",
          "start": 952
         },
         {
          "end": 954,
          "gesture": "S1",
          "start": 953
         },
         {
          "end": 958,
          "gesture": "S7",
          "start": 954
         },
         {
          "end": 961,
          "gesture": "S1",
          "start": 958
         },
         {
          "end": 962,
          "gesture": "S7",
          "start": 961
         },
         {
          "end": 963,
          "gesture": "S1",
          "start": 962
         },
         {
          "end": 964,
          "gesture": "S7",
          "start": 963
         },
         {
          "end": 970,
          "gesture": "S1",
          "start": 964
         },
         {
          "end": 971,
          "gesture": "S7",
          "start": 970
         },
         {
          "end": 1098,
          "gesture": "S1",
          "start": 971
         },
         {
          "end": 1100,
          "gesture": "S2",
          "start": 1098
         },
         {
          "end": 1104,
          "gesture": "S1",
          "start": 1100
         },
         {
          "end": 1108,
          "gesture": "S2",
          "start": 1104
         },
         {
          "end": 1137,
          "gesture": "S1",
          "start": 1108
         },
         {
          "end": 1138,
          "gesture": "S2",
          "start": 1137
         },
         {
          "end": 1139,
          "gesture": "S1",
          "start": 1138
         },
         {
          "end": 1140,
          "gesture": "S2",
          "start": 1139
         },
         {
          "end": 1143,
          "gesture": "S1",
          "start": 1140
         },
         {
          "end": 1144,
          "gesture": "S2",
          "start": 1143
         },
         {
          "end": 1146,
          "gesture": "S1",
          "start": 1144
         },
         {
          "end": 1147,
          "gesture": "S2",
          "start": 1146
         },
         {
          "end": 1148,
          "gesture": "S1",
          "start": 1147
         },
         {
          "end": 1149,
          "gesture": "S2",
          "start": 1148
         },
         {
          "end": 1150,
          "gesture": "S1",
          "start": 1149
         },
         {
          "end": 1151,
          "gesture": "S2",
          "start": 1150
         },
         {
          "end": 1154,
          "gesture": "S1",
          "start": 1151
         },
         {
          "end": 1157,
          "gesture": "S2",
          "start": 1154
         },
         {
          "end": 1161,
          "gesture": "S1",
          "start": 1157
         },
         {
          "end": 1164,
          "gesture": "S2",
          "start": 1161
         },
         {
          "end": 1227,
          "gesture": "S3",
          "start": 1164
         },
         {
          "end": 1228,
          "gesture": "S4",
          "start": 1227
         },
         {
          "end": 1234,
          "gesture": "S3",
          "start": 1228
         },
         {
          "end": 1235,
          "gesture": "S4",
          "start": 1234
         },
         {
          "end": 1236,
          "gesture": "S3",
          "start": 1235
         },
         {
          "end": 1239,
          "gesture": "S4",
          "start": 1236
         },
         {
          "end": 1241,
          "gesture": "S3",
          "start": 1239
         },
         {
          "end": 1242,
          "gesture": "S4",
          "start": 1241
         },
         {
          "end": 1243,
          "gesture": "S3",
          "start": 1242
         },
         {
          "end": 1244,
          "gesture": "S4",
          "start": 1243
         },
         {
          "end": 1246,
          "gesture": "S3",
          "start": 1244
         },
         {
          "end": 1247,
          "gesture": "S4",
          "start": 1246
         },
         {
          "end": 1248,
          "gesture": "S3",
          "start": 1247
         },
         {
          "end": 1270,
          "gesture": "S4",
          "start": 1248
         },
         {
          "end": 1271,
          "gesture": "S3",
          "start": 1270
         },
         {
          "end": 1273,
          "gesture": "S4",
          "start": 1271
         },
         {
          "end": 1274,
          "gesture": "S3",
          "start": 1273
         },
         {
          "end": 1276,
          "gesture": "S4",
          "start": 1274
         },
         {
          "end": 1277,
          "gesture": "S7",
          "start": 1276
         },
         {
          "end": 1315,
          "gesture": "S4",
          "start": 1277
         },
         {
          "end": 1316,
          "gesture": "S5",
          "start": 1315
         },
         {
          "end": 1317,
          "gesture": "S4",
          "start": 1316
         },
         {
          "end": 1318,
          "gesture": "S5",
          "start": 1317
         },
         {
          "end": 1331,
          "gesture": "S4",
          "start": 1318
         },
         {
          "end": 1332,
          "gesture": "S5",
          "start": 1331
         },
         {
          "end": 1337,
          "gesture": "S4",
          "start": 1332
         },
         {
          "end": 1338,
          "gesture": "S5",
          "start": 1337
         },
         {
          "end": 1345,
          "gesture": "S4",
          "start": 1338
         },
         {
          "end": 1346,
          "gesture": "S5",
          "start": 1345
         },
         {
          "end": 1367,
          "gesture": "S4",
          "start": 1346
         },
         {
          "end": 1368,
          "gesture": "S5",
          "start": 1367
         },
         {
          "end": 1373,
          "gesture": "S4",
          "start": 1368
         },
         {
          "end": 1374,
          "gesture": "S5",
          "start": 1373
         },
         {
          "end": 1376,
          "gesture": "S4",
          "start": 1374
         },
         {
          "end": 1377,
          "gesture": "S5",
          "start": 1376
         },
         {
          "end": 1378,
          "gesture": "S4",
          "start": 1377
         },
         {
          "end": 1380,
          "gesture": "S5",
          "start": 1378
         },
         {
          "end": 1381,
          "gesture": "S4",
          "start": 1380
         },
         {
          "end": 1407,
          "gesture": "S5",
          "start": 1381
         },
         {
          "end": 1408,
          "gesture": "S4",
          "start": 1407
         },
         {
          "end": 1614,
          "gesture": "S5",
          "start": 1408
         },
         {
          "end": 1615,
          "gesture": "S6",
          "start": 1614
         },
         {
          "end": 1616,
          "gesture": "S5",
          "start": 1615
         },
         {
          "end": 1618,
          "gesture": "S6",
          "start": 1616
         },
         {
          "end": 1619,
          "gesture": "S5",
          "start": 1618
         },
         {
          "end": 1620,
          "gesture": "S6",
          "start": 1619
         },
         {
          "end": 1623,
          "gesture": "S5",
          "start": 1620
         },
         {
          "end": 1626,
          "gesture": "S6",
          "start": 1623
         },
         {
          "end": 1627,
          "gesture": "S5",
          "start": 1626
         },
         {
          "end": 1630,
          "gesture": "S6",
          "start": 1627
         },
         {
          "end": 1631,
          "gesture": "S5",
          "start": 1630
         },
         {
          "end": 1633,
          "gesture": "S6",
          "start": 1631
         },
         {
          "end": 1635,
          "gesture": "S5",
          "start": 1633
         },
         {
          "end": 1643,
          "gesture": "S6",
          "start": 1635
         },
         {
          "end": 1644,
          "gesture": "S4",
          "start": 1643
         },
         {
          "end": 1674,
          "gesture": "S6",
          "start": 1644
         },
         {
          "end": 1675,
          "gesture": "S7",
          "start": 1674
         },
         {
          "end": 1679,
          "gesture": "S6",
          "start": 1675
         },
         {
          "end": 1680,
          "gesture": "S7",
          "start": 1679
         },
         {
          "end": 1681,
          "gesture": "S6",
          "start": 1680
         },
         {
          "end": 1683,
          "gesture": "S7",
          "start": 1681
         },
         {
          "end": 1684,
          "gesture": "S6",
          "start": 1683
         },
         {
          "end": 1685,
          "gesture": "S7",
          "start": 1684
         },
         {
          "end": 1687,
          "gesture": "S6",
          "start": 1685
         },
         {
          "end": 1688,
          "gesture": "S7",
          "start": 1687
         },
         {
          "end": 1689,
          "gesture": "S6",
          "start": 1688
         },
         {
          "end": 1690,
          "gesture": "S7",
          "start": 1689
         },
         {
          "end": 1691,
          "gesture": "S6",
          "start": 1690
         },
         {
          "end": 1692,
          "gesture": "S7",
          "start": 1691
         },
         {
          "end": 1693,
          "gesture": "S6",
          "start": 1692
         },
         {
          "end": 1696,
          "gesture": "S7",
          "start": 1693
         },
         {
          "end": 1697,
          "gesture": "S6",
          "start": 1696
         },
         {
          "end": 1699,
          "gesture": "S7",
          "start": 1697
         },
         {
          "end": 1700,
          "gesture": "S6",
          "start": 1699
         },
         {
          "end": 1705,
          "gesture": "S7",
          "start": 1700
         },
         {
          "end": 1706,
          "gesture": "S6",
          "start": 1705
         },
         {
          "end": 1734,
          "gesture": "S7",
          "start": 1706
         },
         {
          "end": 1735,
          "gesture": "S6",
          "start": 1734
         },
         {
          "end": 1914,
          "gesture": "S7",
          "start": 1735
         },
         {
          "end": 1915,
          "gesture": "S1",
          "start": 1914
         },
         {
          "end": 1925,
          "gesture": "S7",
          "start": 1915
         },
         {
          "end": 1926,
          "gesture": "S1",
          "start": 1925
         },
         {
          "end": 1929,
          "gesture": "S7",
          "start": 1926
         },
         {
          "end": 1930,
          "gesture": "S1",
          "start": 1929
         },
         {
          "end": 1942,
          "gesture": "S7",
          "start": 1930
         },
         {
          "end": 1943,
          "gesture": "S1",
          "start": 1942
         },
         {
          "end": 1944,
          "gesture": "S7",
          "start": 1943
         },
         {
          "end": 1948,
          "gesture": "S1",
          "start": 1944
         },
         {
          "end": 1949,
          "gesture": "S7",
          "start": 1948
         },
         {
          "end": 1954,
          "gesture": "S1",
          "start": 1949
         },
         {
          "end": 1956,
          "gesture": "S7",
          "start": 1954
         },
         {
          "end": 1960,
          "gesture": "S1",
          "start": 1956
         },
         {
          "end": 1961,
          "gesture": "S7",
          "start": 1960
         },
         {
          "end": 1962,
          "gesture": "S1",
          "start": 1961
         },
         {
          "end": 1963,
          "gesture": "S7",
          "start": 1962
         },
         {
          "end": 1964,
          "gesture": "S1",
          "start": 1963
         },
         {
          "end": 1965,
          "gesture": "S7",
          "start": 1964
         },
         {
          "end": 1966,
          "gesture": "S1",
          "start": 1965
         },
         {
          "end": 1967,
          "gesture": "S7",
          "start": 1966
         },
         {
          "end": 1976,
          "gesture": "S1",
          "start": 1967
         },
         {
          "end": 1977,
          "gesture": "S7",
          "start": 1976
         },
         {
          "end": 2097,
          "gesture": "S1",
          "start": 1977
         },
         {
          "end": 2098,
          "gesture": "S2",
          "start": 2097
         },
         {
          "end": 2099,
          "gesture": "S1",
          "start": 2098
         },
         {
          "end": 2100,
          "gesture": "S2",
          "start": 2099
         },
         {
          "end": 2105,
          "gesture": "S1",
          "start": 2100
         },
         {
          "end": 2106,
          "gesture": "S2",
          "start": 2105
         },
         {
          "end": 2107,
          "gesture": "S1",
          "start": 2106
         },
         {
          "end": 2108,
          "gesture": "S2",
          "start": 2107
         },
         {
          "end": 2142,
          "gesture": "S1",
          "start": 2108
         },
         {
          "end": 2143,
          "gesture": "S2",
          "start": 2142
         },
         {
          "end": 2148,
          "gesture": "S1",
          "start": 2143
         },
         {
          "end": 2153,
          "gesture": "S2",
          "start": 2148
         },
         {
          "end": 2157,
          "gesture": "S1",
          "start": 2153
         },
         {
          "end": 2160,
          "gesture": "S2",
          "start": 2157
         },
         {
          "end": 2161,
          "gesture": "S1",
          "start": 2160
         },
         {
          "end": 2162,
          "gesture": "S2",
          "start": 2161
         },
         {
          "end": 2165,
          "gesture": "S1",
          "start": 2162
         },
         {
          "end": 2166,
          "gesture": "S2",
          "start": 2165
         },
         {
          "end": 2168,
          "gesture": "S1",
          "start": 2166
         },
         {
          "end": 2173,
          "gesture": "S2",
          "start": 2168
         },
         {
          "end": 2177,
          "gesture": "S1",
          "start": 2173
         },
         {
          "end": 2178,
          "gesture": "S2",
          "start": 2177
         },
         {
          "end": 2195,
          "gesture": "S1",
          "start": 2178
         },
         {
          "end": 2207,
          "gesture": "S2",
          "start": 2195
         },
         {
          "end": 2209,
          "gesture": "S1",
          "start": 2207
         },
         {
          "end": 2224,
          "gesture": "S2",
          "start": 2209
         },
         {
          "end": 2226,
          "gesture": "S1",
          "start": 2224
         },
         {
          "end": 2230,
          "gesture": "S2",
          "start": 2226
         },
         {
          "end": 2231,
          "gesture": "S7",
          "start": 2230
         },
         {
          "end": 2232,
          "gesture": "S2",
          "start": 2231
         },
         {
          "end": 2233,
          "gesture": "S1",
          "start": 2232
         },
         {
          "end": 2235,
          "gesture": "S2",
          "start": 2233
         },
         {
          "end": 2236,
          "gesture": "S1",
          "start": 2235
         },
         {
          "end": 2241,
          "gesture": "S2",
          "start": 2236
         },
         {
          "end": 2243,
          "gesture": "S7",
          "start": 2241
         },
         {
          "end": 2244,
          "gesture": "S1",
          "start": 2243
         },
         {
          "end": 2250,
          "gesture": "S2",
          "start": 2244
         },
         {
          "end": 2252,
          "gesture": "S1",
          "start": 2250
         },
         {
          "end": 2271,
          "gesture": "S2",
          "start": 2252
         },
         {
          "end": 2272,
          "gesture": "S1",
          "start": 2271
         },
         {
          "end": 2363,
          "gesture": "S2",
          "start": 2272
         },
         {
          "end": 2364,
          "gesture": "S3",
          "start": 2363
         },
         {
          "end": 2367,
          "gesture": "S2",
          "start": 2364
         },
         {
          "end": 2370,
          "gesture": "S3",
          "start": 2367
         },
         {
          "end": 2371,
          "gesture": "S2",
          "start": 2370
         },
         {
          "end": 2456,
          "gesture": "S3",
          "start": 2371
         },
         {
          "end": 2457,
          "gesture": "S4",
          "start": 2456
         },
         {
          "end": 2461,
          "gesture": "S3",
          "start": 2457
         },
         {
          "end": 2464,
          "gesture": "S4",
          "start": 2461
         },
         {
          "end": 2465,
          "gesture": "S3",
          "start": 2464
         },
         {
          "end": 2476,
          "gesture": "S4",
          "start": 2465
         },
         {
          "end": 2477,
          "gesture": "S3",
          "start": 2476
         },
         {
          "end": 2479,
          "gesture": "S4",
          "start": 2477
         },
         {
          "end": 2481,
          "gesture": "S3",
          "start": 2479
         },
         {
          "end": 2483,
          "gesture": "S4",
          "start": 2481
         },
         {
          "end": 2484,
          "gesture": "S3",
          "start": 2483
         },
         {
          "end": 2548,
          "gesture": "S4",
          "start": 2484
         },
         {
          "end": 2563,
          "gesture": "S5",
          "start": 2548
         },
         {
          "end": 2564,
          "gesture": "S4",
          "start": 2563
         },
         {
          "end": 2661,
          "gesture": "S5",
          "start": 2564
         },
         {
          "end": 2662,
          "gesture": "S6",
          "start": 2661
         },
         {
          "end": 2666,
          "gesture": "S5",
          "start": 2662
         },
         {
          "end": 2668,
          "gesture": "S6",
          "start": 2666
         },
         {
          "end": 2670,
          "gesture": "S5",
          "start": 2668
         },
         {
          "end": 2671,
          "gesture": "S6",
          "start": 2670
         },
         {
          "end": 2674,
          "gesture": "S5",
          "start": 2671
         },
         {
          "end": 2680,
          "gesture": "S6",
          "start": 2674
         },
         {
          "end": 2684,
          "gesture": "S5",
          "start": 2680
         },
         {
          "end": 2739,
          "gesture": "S6",
          "start": 2684
         },
         {
          "end": 2740,
          "gesture": "S7",
          "start": 2739
         },
         {
          "end": 2741,
          "gesture": "S6",
          "start": 2740
         },
         {
          "end": 2744,
          "gesture": "S7",
          "start": 2741
         },
         {
          "end": 2746,
          "gesture": "S6",
          "start": 2744
         },
         {
          "end": 2748,
          "gesture": "S7",
          "start": 2746
         },
         {
          "end": 2749,
          "gesture": "S6",
          "start": 2748
         },
         {
          "end": 2753,
          "gesture": "S7",
          "start": 2749
         },
         {
          "end": 2754,
          "gesture": "S6",
          "start": 2753
         },
         {
          "end": 2769,
          "gesture": "S7",
          "start": 2754
         },
         {
          "end": 2770,
          "gesture": "S6",
          "start": 2769
         },
         {
          "end": 2915,
          "gesture": "S7",
          "start": 2770
         }
        ]
       },
       "vconcat": [
        {
         "data": {
          "name": "data-72d865762ae4feb3256d1b49cff2bb52"
         },
         "encoding": {
          "color": {
           "field": "gesture",
           "scale": {
            "scheme": "dark2"
           },
           "type": "nominal"
          },
          "x": {
           "field": "start",
           "scale": {
            "domain": [
             0,
             3000
            ]
           },
           "type": "quantitative"
          },
          "x2": {
           "field": "end"
          },
          "y": {
           "aggregate": "sum",
           "axis": {
            "labels": false
           },
           "field": "gesture",
           "title": "Gesture",
           "type": "nominal"
          }
         },
         "height": 25,
         "mark": {
          "clip": true,
          "type": "bar"
         },
         "title": "Ground Truth",
         "width": 800
        },
        {
         "data": {
          "name": "data-d484ed32591ec86d1043033314175fc7"
         },
         "encoding": {
          "color": {
           "field": "gesture",
           "scale": {
            "scheme": "dark2"
           },
           "type": "nominal"
          },
          "x": {
           "field": "start",
           "scale": {
            "domain": [
             0,
             3000
            ]
           },
           "type": "quantitative"
          },
          "x2": {
           "field": "end"
          },
          "y": {
           "aggregate": "sum",
           "axis": {
            "labels": false
           },
           "field": "gesture",
           "title": "Gesture",
           "type": "nominal"
          }
         },
         "height": 25,
         "mark": {
          "clip": true,
          "type": "bar"
         },
         "title": "Prediction",
         "width": 800
        }
       ]
      },
      "image/png": "[encoded data removed]",
      "text/plain": [
       "<VegaLite 4 object>\n",
       "\n",
       "If you see this message, it means the renderer has not been properly enabled\n",
       "for the frontend that you are using. For more information, see\n",
       "https://altair-viz.github.io/user_guide/troubleshooting.html\n"
      ]
     },
     "execution_count": 219,
     "metadata": {},
     "output_type": "execute_result"
    }
   ],
   "source": [
    "\n",
    "# 1. Create models directory \n",
    "MODEL_PATH = Path(\"models\")\n",
    "MODEL_PATH.mkdir(parents=True, exist_ok=True)\n",
    "\n",
    "# 2. Create model save path \n",
    "MODEL_NAME = \"64_4_2_01_pytorch_workflow_model_0.pth\"\n",
    "MODEL_SAVE_PATH = MODEL_PATH / MODEL_NAME\n",
    "\n",
    "\n",
    "# testing preprocessing\n",
    "\n",
    "test_path_csv = \"./dataset/peg_transfer/labeled/gestures/Gesture_Labeled_Peg_Transfer_S01_T01.csv\"\n",
    "# test_path_csv = \"./dataset/peg_transfer/labeled/gestures/gesture_seperated/S7_all_trials.csv\"\n",
    "test_path_txt = \"./dataset/peg_transfer/gestures/Peg_Transfer_S01_T01.txt\"\n",
    "\n",
    "test = pd.read_csv(test_path_csv)\n",
    "# test = test.drop(test.columns[[0,-1]], axis=1) # only for gesture_seperated\n",
    "test_label = pd.read_csv(test_path_txt, delim_whitespace=' ', header=None, names= [\"start\",\"end\",\"gesture\",\"valid\"])\n",
    "\n",
    "\n",
    "le = preprocessing.LabelEncoder()\n",
    "targets = le.fit_transform(test.iloc[:,-1:].values)\n",
    "y_test = torch.as_tensor(targets)\n",
    "# print(y_test)\n",
    "\n",
    "# everything except last column (gesture)\n",
    "x_vals = test.iloc[:,:-1]\n",
    "X_test = torch.tensor(x_vals.values)\n",
    "# print(X_train.shape[-1])\n",
    "\n",
    "X_test = X_test.to(torch.float32)\n",
    "\n",
    "model = TransformerModel(input_dim=X_test.shape[-1], output_dim=7, d_model=64, nhead=4, num_layers=2)\n",
    "model.load_state_dict(torch.load(MODEL_SAVE_PATH))\n",
    "\n",
    "test = test.reset_index()\n",
    "test[\"gesture\"] = test[\"gesture\"].map({'S1':1,\n",
    "          'S2':2,\n",
    "          'S3':3,\n",
    "          'S4':4,\n",
    "          'S5':5,\n",
    "          'S6':6,\n",
    "          'S7':7})\n",
    "\n",
    "\n",
    "\n",
    "# entire trial recognition\n",
    "\n",
    "predicted_gestures_total = []\n",
    "\n",
    "for idx,row in test_label.iterrows():\n",
    "    gesture_start = row[\"start\"]\n",
    "    gesture_end = row[\"end\"]\n",
    "    gesture = row[\"gesture\"]\n",
    "    \n",
    "    # print(gesture_start,gesture_end )\n",
    "    \n",
    "    y_pred = model(X_test[gesture_start:gesture_end])\n",
    "\n",
    "\n",
    "    relu = nn.ReLU()\n",
    "\n",
    "    predicted_gestures = []\n",
    "    for idx,y in enumerate(y_pred) :\n",
    "        pred_gesture = np.argmax(relu(y).detach())\n",
    "\n",
    "        # print(\"sample: \",idx, \"gesture: \",pred_gesture)\n",
    "        predicted_gestures.append(pred_gesture.numpy()+1)\n",
    "        predicted_gestures_total.append(pred_gesture.numpy()+1)\n",
    "\n",
    "        probs = nn.functional.softmax(relu(y),dim=0)\n",
    "        conf, classes = torch.max(probs, 0)\n",
    "        conf_prcnt = round(conf.item(), 2) * 100\n",
    "        # if(conf_prcnt < 80):\n",
    "        #     print(\"not confident\")\n",
    "        # print(idx,predicted_gestures[idx], conf_prcnt)\n",
    "\n",
    "\n",
    "    predicted_gestures_df = pd.DataFrame(predicted_gestures)\n",
    "    predicted_gestures_df.columns = [\"gesture\"]\n",
    "\n",
    "    predicted_gestures_df = predicted_gestures_df.reset_index()\n",
    "\n",
    "    # predicted_gestures_df.plot( kind='scatter', x='index', y='gesture',\n",
    "    #                            c=predicted_gestures_df['gesture'],\n",
    "    #                                    colormap='viridis',\n",
    "    #                                    legend = True)\n",
    "\n",
    "\n",
    "\n",
    "    ''' numerical results generation '''\n",
    "\n",
    "    erroneous_gesture_preds_count = 0\n",
    "    for idx,y in enumerate(predicted_gestures) :\n",
    "        if y != test[\"gesture\"][idx+gesture_start]:\n",
    "            # print(\"gt: data_index=\" + str(idx) + \" gesture: S\" + str(test[\"gesture\"][idx]))\n",
    "            # print(\"pred: data_index=\" + str(idx) + \" gesture: S\" + str(y))\n",
    "            # print()\n",
    "            erroneous_gesture_preds_count += 1\n",
    "\n",
    "    total_data_points = len(predicted_gestures)\n",
    "\n",
    "    mis_pred_percentage = erroneous_gesture_preds_count/total_data_points\n",
    "    accuracy = 1 - mis_pred_percentage\n",
    "\n",
    "    print(\"Gesture Recognition Accuracy\")\n",
    "    print(\"gesture: \",gesture, \"accuracy: \",accuracy)\n",
    "    print()\n",
    "\n",
    "\n",
    "predicted_gestures_df = pd.DataFrame(predicted_gestures_total)\n",
    "predicted_gestures_df.columns = [\"gesture\"]\n",
    "\n",
    "predicted_gestures_df = predicted_gestures_df.reset_index()\n",
    "\n",
    "# predicted_gestures_df.plot( kind='scatter', x='index', y='gesture',\n",
    "#                            c=predicted_gestures_df['gesture'],\n",
    "#                                    colormap='viridis',\n",
    "#                                    legend = True)\n",
    "\n",
    "pred_plot_title = \"Recognition: \"+test_path_txt.split('/')[-1]\n",
    "gt_plot_title = \"Ground Truth: \"+test_path_txt.split('/')[-1]\n",
    "\n",
    "# ax = test.plot( x=\"index\", y = \"gesture\" ,title = gt_plot_title, xlabel = \"sample_index\",  ylabel = \"gesture\")\n",
    "\n",
    "\n",
    "pred_index_changes = predicted_gestures_df[\"gesture\"].diff()[predicted_gestures_df[\"gesture\"].diff() != 0].index.values\n",
    "\n",
    "# print(predicted_gestures_df.iloc[pred_index_changes])\n",
    "\n",
    "pred_changes_df = predicted_gestures_df.iloc[pred_index_changes]\n",
    "pred_changes_df.reset_index(inplace=True)\n",
    "pred_changes_df.drop(columns=pred_changes_df.columns[0], axis=1, inplace=True)\n",
    "# print(pred_changes_df)\n",
    "\n",
    "\n",
    "pred_index_changes_labels = []\n",
    "\n",
    "for idx,row in pred_changes_df.iterrows():\n",
    "    if(idx < pred_changes_df.shape[0]-1):\n",
    "        pred_index_changes_labels.append([pred_changes_df.iloc[idx][\"index\"], pred_changes_df.iloc[idx+1][\"index\"], pred_changes_df.iloc[idx][\"gesture\"]])\n",
    "\n",
    "\n",
    "\n",
    "pred_index_changes_labels_df  = pd.DataFrame(pred_index_changes_labels)\n",
    "pred_index_changes_labels_df.columns = [\"start\",\"end\",\"gesture\"]\n",
    "\n",
    "pred_index_changes_labels_df[\"gesture\"] = pred_index_changes_labels_df[\"gesture\"].map({1:\"S1\",\n",
    "          2:'S2',\n",
    "          3:'S3',\n",
    "          4:'S4',\n",
    "          5:'S5',\n",
    "          6:'S6',\n",
    "          7:'S7'})\n",
    "\n",
    "\n",
    "import altair as alt\n",
    "import datetime as dt\n",
    "\n",
    "\n",
    "alt.renderers.enable('jupyterlab')\n",
    "\n",
    "\n",
    "gt = alt.Chart(test_label).encode(\n",
    "    x=alt.X('start', scale=alt.Scale(domain=[0,3000])),\n",
    "    x2='end',\n",
    "    y=alt.Y('sum(gesture)',title = \"Gesture\", axis=alt.Axis(labels=False)),\n",
    "    color=alt.Color('gesture', scale=alt.Scale(scheme='dark2'))\n",
    ").properties(\n",
    "    width=800,\n",
    "    height=25,\n",
    "    title=\"Ground Truth\"\n",
    ")\n",
    "\n",
    "alt.renderers.enable('jupyterlab')\n",
    "\n",
    "pred = alt.Chart(pred_index_changes_labels_df).mark_bar(clip=True).encode(\n",
    "    x=alt.X('start', scale=alt.Scale(domain=[0,3000])),\n",
    "    x2='end',\n",
    "    y=alt.Y('sum(gesture)',title = \"Gesture\", axis=alt.Axis(labels=False)),\n",
    "    color=alt.Color('gesture', scale=alt.Scale(scheme='dark2'))\n",
    ").properties(\n",
    "    width=800,\n",
    "    height=25,\n",
    "    title=\"Prediction\"\n",
    "\n",
    ")\n",
    "\n",
    "alt.vconcat(\n",
    "gt.mark_bar(clip=True),\n",
    "pred.mark_bar(clip=True),\n",
    ")\n",
    "\n",
    "\n",
    "# ax = predicted_gestures_df.plot(x=\"index\", title = pred_plot_title, xlabel = \"sample_index\", ylabel = \"gesture\")\n",
    "\n",
    "\n",
    "# '''  chunk by chunk recognition '''\n",
    "\n",
    "# x_test_chunks = []\n",
    "# for idx,sample in enumerate(X_test):\n",
    "#     x_test_chunks.append(sample)\n",
    "#     if(idx%100 == 0):\n",
    "#         # print(sample)\n",
    "#         stacked_tensor = torch.stack(x_test_chunks)\n",
    "#         y_pred = model(stacked_tensor)\n",
    "    \n",
    "    \n",
    "#         # recognize entire trial #\n",
    "#         # y_pred = model(X_test)\n",
    "\n",
    "\n",
    "#         relu = nn.ReLU()\n",
    "\n",
    "#         predicted_gestures = []\n",
    "#         for idx,y in enumerate(y_pred) :\n",
    "#             pred_gesture = np.argmax(relu(y).detach())\n",
    "\n",
    "#             # print(\"sample: \",idx, \"gesture: \",pred_gesture)\n",
    "#             predicted_gestures.append(pred_gesture.numpy()+1)\n",
    "\n",
    "\n",
    "#         predicted_gestures_df = pd.DataFrame(predicted_gestures)\n",
    "#         predicted_gestures_df.columns = [\"gesture\"]\n",
    "\n",
    "#         predicted_gestures_df = predicted_gestures_df.reset_index()\n",
    "\n",
    "#         # predicted_gestures_df.plot( kind='scatter', x='index', y='gesture',\n",
    "#         #                            c=predicted_gestures_df['gesture'],\n",
    "#         #                                    colormap='viridis',\n",
    "#         #                                    legend = True)\n",
    "\n",
    "#         pred_plot_title = \"Recognition: \"+test_path_txt.split('/')[-1]\n",
    "#         gt_plot_title = \"Ground Truth: \"+test_path_txt.split('/')[-1]\n",
    "\n",
    "\n",
    "#         predicted_gestures_df.plot(x=\"index\", title = pred_plot_title, xlabel = \"sample_index\", ylabel = \"gesture\")\n",
    "\n",
    "\n",
    "\n"
   ]
  }
 ],
 "metadata": {
  "kernelspec": {
   "display_name": "pytorch",
   "language": "python",
   "name": "pytorch"
  },
  "language_info": {
   "codemirror_mode": {
    "name": "ipython",
    "version": 3
   },
   "file_extension": ".py",
   "mimetype": "text/x-python",
   "name": "python",
   "nbconvert_exporter": "python",
   "pygments_lexer": "ipython3",
   "version": "3.9.16"
  }
 },
 "nbformat": 4,
 "nbformat_minor": 5
}
