{
 "cells": [
  {
   "cell_type": "code",
   "execution_count": 4,
   "metadata": {},
   "outputs": [],
   "source": [
    "import numpy as np\n",
    "import pandas as pd\n",
    "import os"
   ]
  },
  {
   "cell_type": "code",
   "execution_count": 12,
   "metadata": {},
   "outputs": [],
   "source": [
    "root_path = \"./dataset/Peg_Transfer/\"\n",
    "gestures_path = os.path.join(root_path, \"gestures\")\n",
    "kinematics_path = os.path.join(root_path, \"kinematics\")\n",
    "os.makedirs(\"./new_dataset/gestures\")"
   ]
  },
  {
   "cell_type": "code",
   "execution_count": 22,
   "metadata": {},
   "outputs": [],
   "source": [
    "for file in os.listdir(gestures_path):\n",
    "    if file.startswith(\"Peg_Transfer\"):\n",
    "        file_path = os.path.join(gestures_path, file)\n",
    "        labels = pd.read_csv(file_path, sep=' ', index_col=None, header=None)\n",
    "        labels = labels.set_axis(['Start', \"Stop\", \"MP\", \"Success\", \"X\"], axis=1).drop(\"X\", axis=1)\n",
    "        kinematics = pd.read_csv(os.path.join(kinematics_path, file[:-3] + 'csv'), index_col=None)\n",
    "        kinematics['label'] = ['-'] * len(kinematics)\n",
    "        for i, row in labels.iterrows():\n",
    "            start, stop, mp = int(row['Start']), int(row['Stop']), row['MP']\n",
    "            kinematics.loc[start:stop, 'label'] = mp\n",
    "        kinematics = kinematics[kinematics['label'] != '-']\n",
    "        kinematics.to_csv(\"./new_dataset/gestures/\" + file[:-3] + 'csv')"
   ]
  },
  {
   "cell_type": "code",
   "execution_count": null,
   "metadata": {},
   "outputs": [],
   "source": []
  }
 ],
 "metadata": {
  "kernelspec": {
   "display_name": "resurg",
   "language": "python",
   "name": "python3"
  },
  "language_info": {
   "codemirror_mode": {
    "name": "ipython",
    "version": 3
   },
   "file_extension": ".py",
   "mimetype": "text/x-python",
   "name": "python",
   "nbconvert_exporter": "python",
   "pygments_lexer": "ipython3",
   "version": "3.11.3"
  },
  "orig_nbformat": 4
 },
 "nbformat": 4,
 "nbformat_minor": 2
}
