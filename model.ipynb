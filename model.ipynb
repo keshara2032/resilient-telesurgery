{
 "cells": [
  {
   "cell_type": "code",
   "execution_count": 1,
   "metadata": {},
   "outputs": [],
   "source": [
    "import torch\n",
    "import torch.nn as nn\n",
    "import torch.optim as optim\n",
    "import pandas as pd\n",
    "import math\n",
    "import numpy as np\n",
    "import os\n",
    "\n",
    "from torch.utils.data import Dataset"
   ]
  },
  {
   "attachments": {},
   "cell_type": "markdown",
   "metadata": {},
   "source": [
    "#### Transformer Encoder"
   ]
  },
  {
   "cell_type": "code",
   "execution_count": 18,
   "metadata": {},
   "outputs": [
    {
     "name": "stdout",
     "output_type": "stream",
     "text": [
      "torch.Size([10, 32, 7])\n"
     ]
    }
   ],
   "source": [
    "class PositionalEncoding(nn.Module):\n",
    "\n",
    "    def __init__(self, d_model: int, dropout: float = 0.1, max_len: int = 5000):\n",
    "        super().__init__()\n",
    "        self.dropout = nn.Dropout(p=dropout)\n",
    "\n",
    "        position = torch.arange(max_len).unsqueeze(1)\n",
    "        div_term = torch.exp(torch.arange(0, d_model, 2) * (-math.log(10000.0) / d_model))\n",
    "        pe = torch.zeros(max_len, 1, d_model)\n",
    "        pe[:, 0, 0::2] = torch.sin(position * div_term)\n",
    "        pe[:, 0, 1::2] = torch.cos(position * div_term)\n",
    "        self.register_buffer('pe', pe)\n",
    "\n",
    "    def forward(self, x):\n",
    "        \"\"\"\n",
    "        Arguments:\n",
    "            x: Tensor, shape ``[seq_len, batch_size, embedding_dim]``\n",
    "        \"\"\"\n",
    "        x = x + self.pe[:x.size(0)]\n",
    "        return self.dropout(x)\n",
    "    \n",
    "\n",
    "class Transformer(nn.Module):\n",
    "    def __init__(self, d_model, heads, num_layers,dropout, max_len, output_classes):\n",
    "        super().__init__()\n",
    "        self.encoder_layer= nn.TransformerEncoderLayer(d_model=d_model, nhead=heads)\n",
    "        self.encoder = nn.TransformerEncoder(self.encoder_layer, num_layers=num_layers)\n",
    "        self.positional_encoder = PositionalEncoding(d_model=d_model, dropout=dropout, max_len=max_len)\n",
    "        self.linear = nn.Linear(in_features=d_model, out_features=output_classes)\n",
    "        \n",
    "    def forward(self, x):\n",
    "        x1 = self.positional_encoder(x)\n",
    "        x2 = self.encoder(x1)\n",
    "        out = self.linear(x2)\n",
    "        return out\n",
    "        \n",
    "\n",
    "\n",
    "kinematic_features = 22 #dmodel\n",
    "heads = 11\n",
    "num_layers = 6\n",
    "dropout = 0.1\n",
    "max_len = 100\n",
    "output_classes = 7\n",
    "\n",
    "src = torch.rand(10, 32, kinematic_features)\n",
    "\n",
    "model = Transformer(kinematic_features,heads,num_layers,dropout,max_len,output_classes)\n",
    "\n",
    "out = model(src)\n",
    "print(out.shape)"
   ]
  },
  {
   "attachments": {},
   "cell_type": "markdown",
   "metadata": {},
   "source": [
    "#### Load Data"
   ]
  },
  {
   "cell_type": "code",
   "execution_count": 48,
   "metadata": {},
   "outputs": [],
   "source": [
    "gesture_labels_directory = './new_dataset/peg_transfer/peg_transfer/labeled/gestures/'\n",
    "window_size = 10 # 10 frame windows (kinematic data)\n",
    "enite_dataset = []\n",
    "counter = 0\n",
    "\n",
    "\n",
    "\n",
    "class KinematicDataset(Dataset):\n",
    "    \n",
    "    def __init__(self,data_directory, window_size):\n",
    "        \n",
    "        self.directory = data_directory\n",
    "        self.window_size = window_size\n",
    "        (self.X, self.Y) = self._load_data()\n",
    "        \n",
    "    def _load_data(self):\n",
    "        x = []\n",
    "        y = []\n",
    "        self.windows_per_file = []\n",
    "        \n",
    "        for filename in os.listdir(self.directory):\n",
    "            f = os.path.join(self.directory, filename)\n",
    "            # checking if it is a file\n",
    "            if os.path.isfile(f):\n",
    "                kinematics_data = pd.read_csv(f)\n",
    "                kin_data = kinematics_data.loc[:,:-1]\n",
    "                kin_label = kinematics_data.loc[:,-1]\n",
    "                \n",
    "                x.append(kin_data.values)\n",
    "                y.append(kin_label.values)\n",
    "                \n",
    "                if len(self.windows_per_file) == 0:\n",
    "                    self.windows_per_file = [len(kin_label) - self.window_size + 1]\n",
    "                else:\n",
    "                    self.windows_per_file.append(self.windows_per_file[-1] + len(kin_label) - self.window_size + 1)\n",
    "        \n",
    "        return (x, y)\n",
    "    \n",
    "    def __len__(self):\n",
    "        # this should return the size of the dataset\n",
    "        return sum(self.windows_per_file)\n",
    "\n",
    "    def __getitem__(self, idx):\n",
    "        # this should return one sample from the dataset\n",
    "        file_index = 0\n",
    "        while self.windows_per_file[file_index] < idx:\n",
    "            file_index += 1\n",
    "        window_start_index = self.windows_per_file[file_index]\n",
    "        features = self.X[file_index][window_start_index : window_start_index + window_size]\n",
    "        target = self.y[file_index][window_start_index : window_start_index + window_size]\n",
    "        return features, target\n",
    "                    \n",
    "                    \n",
    "\n",
    "\n",
    "\n",
    "\n",
    "\n",
    "\n",
    "\n",
    "for filename in os.listdir(gesture_labels_directory):\n",
    "        counter += 1\n",
    "        f = os.path.join(gesture_labels_directory, filename)\n",
    "        # checking if it is a file\n",
    "        if os.path.isfile(f):\n",
    "            # print(f)\n",
    "            kinematics_data = pd.read_csv(f)\n",
    "            # print(kinematics_data)\n",
    "\n",
    "print(enite_dataset)\n"
   ]
  },
  {
   "cell_type": "code",
   "execution_count": null,
   "metadata": {},
   "outputs": [],
   "source": [
    "train_data, test_data = "
   ]
  }
 ],
 "metadata": {
  "kernelspec": {
   "display_name": "rsurgery",
   "language": "python",
   "name": "python3"
  },
  "language_info": {
   "codemirror_mode": {
    "name": "ipython",
    "version": 3
   },
   "file_extension": ".py",
   "mimetype": "text/x-python",
   "name": "python",
   "nbconvert_exporter": "python",
   "pygments_lexer": "ipython3",
   "version": "3.8.16"
  },
  "orig_nbformat": 4
 },
 "nbformat": 4,
 "nbformat_minor": 2
}
