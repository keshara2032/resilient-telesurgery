{
 "cells": [
  {
   "cell_type": "code",
   "execution_count": 3,
   "metadata": {},
   "outputs": [],
   "source": [
    "from torch import nn\n",
    "import torch\n",
    "from torchvision.models.feature_extraction import get_graph_node_names\n",
    "\n",
    "transformer_model = nn.Transformer(nhead=16, num_encoder_layers=12)\n",
    "train_nodes, eval_nodes = get_graph_node_names(transformer_model())\n",
    "\n",
    "print(train_nodes)\n",
    "\n",
    "# src = torch.rand((10, 32, 512))\n",
    "# tgt = torch.rand((20, 32, 512))\n",
    "# out = transformer_model(src, tgt)\n",
    "\n",
    "\n"
   ]
  },
  {
   "attachments": {},
   "cell_type": "markdown",
   "metadata": {},
   "source": []
  }
 ],
 "metadata": {
  "kernelspec": {
   "display_name": "rsurgery",
   "language": "python",
   "name": "python3"
  },
  "language_info": {
   "codemirror_mode": {
    "name": "ipython",
    "version": 3
   },
   "file_extension": ".py",
   "mimetype": "text/x-python",
   "name": "python",
   "nbconvert_exporter": "python",
   "pygments_lexer": "ipython3",
   "version": "3.8.16"
  },
  "orig_nbformat": 4
 },
 "nbformat": 4,
 "nbformat_minor": 2
}
