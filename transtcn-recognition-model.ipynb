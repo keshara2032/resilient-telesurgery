{
 "cells": [
  {
   "cell_type": "code",
   "execution_count": 1,
   "metadata": {},
   "outputs": [
    {
     "ename": "ImportError",
     "evalue": "cannot import name 'kinematic_feature_names_jigsaws_patient_position' from 'datagen' (/home/kesharaw/Desktop/repos/hamid/resilient-telesurgery/datagen.py)",
     "output_type": "error",
     "traceback": [
      "\u001b[0;31m---------------------------------------------------------------------------\u001b[0m",
      "\u001b[0;31mImportError\u001b[0m                               Traceback (most recent call last)",
      "Cell \u001b[0;32mIn[1], line 24\u001b[0m\n\u001b[1;32m     21\u001b[0m \u001b[39mfrom\u001b[39;00m \u001b[39mutils\u001b[39;00m \u001b[39mimport\u001b[39;00m get_dataloaders\n\u001b[1;32m     23\u001b[0m \u001b[39mfrom\u001b[39;00m \u001b[39mmodels\u001b[39;00m\u001b[39m.\u001b[39;00m\u001b[39mutils\u001b[39;00m \u001b[39mimport\u001b[39;00m \u001b[39m*\u001b[39m\n\u001b[0;32m---> 24\u001b[0m \u001b[39mfrom\u001b[39;00m \u001b[39mdatagen\u001b[39;00m \u001b[39mimport\u001b[39;00m kinematic_feature_names, kinematic_feature_names_jigsaws, kinematic_feature_names_jigsaws_patient_position, class_names, all_class_names, state_variables\n\u001b[1;32m     26\u001b[0m \u001b[39mfrom\u001b[39;00m \u001b[39mtqdm\u001b[39;00m \u001b[39mimport\u001b[39;00m tqdm\n\u001b[1;32m     28\u001b[0m \u001b[39mfrom\u001b[39;00m \u001b[39mcollections\u001b[39;00m \u001b[39mimport\u001b[39;00m OrderedDict\n",
      "\u001b[0;31mImportError\u001b[0m: cannot import name 'kinematic_feature_names_jigsaws_patient_position' from 'datagen' (/home/kesharaw/Desktop/repos/hamid/resilient-telesurgery/datagen.py)"
     ]
    }
   ],
   "source": [
    "import torch\n",
    "import torch.nn as nn\n",
    "import torch.optim as optim\n",
    "from torch.utils.data import DataLoader, Dataset\n",
    "import numpy as np\n",
    "import pandas as pd\n",
    "import os\n",
    "import glob\n",
    "from sklearn import preprocessing\n",
    "from sklearn.model_selection import train_test_split\n",
    "from pathlib import Path\n",
    "from torch.optim.lr_scheduler import _LRScheduler, ReduceLROnPlateau\n",
    "\n",
    "import json\n",
    "\n",
    "from typing import List\n",
    "import os\n",
    "from functools import partial\n",
    "import torch.nn.functional as F\n",
    "from timeit import default_timer as timer\n",
    "from utils import get_dataloaders\n",
    "\n",
    "from models.utils import *\n",
    "from datagen import kinematic_feature_names, kinematic_feature_names_jigsaws, kinematic_feature_names_jigsaws_patient_position, class_names, all_class_names, state_variables\n",
    "\n",
    "from tqdm import tqdm\n",
    "\n",
    "from collections import OrderedDict\n",
    "\n",
    "from config import *\n",
    "\n",
    "torch.manual_seed(0)\n",
    "\n"
   ]
  },
  {
   "cell_type": "markdown",
   "metadata": {},
   "source": [
    "Dataset & Dataloaders"
   ]
  },
  {
   "cell_type": "code",
   "execution_count": null,
   "metadata": {},
   "outputs": [
    {
     "name": "stdout",
     "output_type": "stream",
     "text": [
      "['G1' 'G10' 'G11' 'G2' 'G3' 'G4' 'G5' 'G6' 'G8' 'G9']\n",
      "[0 0 0 ... 2 2 2]\n",
      "[[1. 0. 0. ... 0. 0. 0.]\n",
      " [1. 0. 0. ... 0. 0. 0.]\n",
      " [1. 0. 0. ... 0. 0. 0.]\n",
      " ...\n",
      " [0. 0. 1. ... 0. 0. 0.]\n",
      " [0. 0. 1. ... 0. 0. 0.]\n",
      " [0. 0. 1. ... 0. 0. 0.]]\n",
      "['G1' 'G10' 'G11' 'G2' 'G3' 'G4' 'G5' 'G6' 'G8' 'G9']\n",
      "[0 0 0 ... 2 2 2]\n",
      "[[1. 0. 0. ... 0. 0. 0.]\n",
      " [1. 0. 0. ... 0. 0. 0.]\n",
      " [1. 0. 0. ... 0. 0. 0.]\n",
      " ...\n",
      " [0. 0. 1. ... 0. 0. 0.]\n",
      " [0. 0. 1. ... 0. 0. 0.]\n",
      " [0. 0. 1. ... 0. 0. 0.]]\n",
      "datasets lengths:  11080 1834\n",
      "X shape:  (110801, 43) (18345, 43)\n",
      "Y shape:  (110801, 10) (18345, 10)\n",
      "Obs Kinematics Shape:  (10, 43)\n",
      "Obs Target Shape:  (11, 10)\n",
      "Future Target Shape:  (10, 10)\n",
      "Future Kinematics Shape:  (10, 43)\n",
      "Train N Trials:  34\n",
      "Train Max Length:  9011\n",
      "Test N Trials:  5\n",
      "Test Max Length:  5555\n",
      "Features:  ['PSML_position_x', 'PSML_position_y', 'PSML_position_z', 'PSML_rotation_0', 'PSML_rotation_1', 'PSML_rotation_2', 'PSML_rotation_3', 'PSML_rotation_4', 'PSML_rotation_5', 'PSML_rotation_6', 'PSML_rotation_7', 'PSML_rotation_8', 'PSML_velocity_x', 'PSML_velocity_y', 'PSML_velocity_z', 'PSML_velocity_rot0', 'PSML_velocity_rot1', 'PSML_velocity_rot2', 'PSML_gripper_angle', 'PSMR_position_x', 'PSMR_position_y', 'PSMR_position_z', 'PSMR_rotation_0', 'PSMR_rotation_1', 'PSMR_rotation_2', 'PSMR_rotation_3', 'PSMR_rotation_4', 'PSMR_rotation_5', 'PSMR_rotation_6', 'PSMR_rotation_7', 'PSMR_rotation_8', 'PSMR_velocity_x', 'PSMR_velocity_y', 'PSMR_velocity_z', 'PSMR_velocity_rot0', 'PSMR_velocity_rot1', 'PSMR_velocity_rot2', 'PSMR_gripper_angle', 'left_holding', 'left_contact', 'right_holding', 'right_contact', 'needle_state']\n"
     ]
    }
   ],
   "source": [
    "\n",
    "### -------------------------- DATA -----------------------------------------------------\n",
    "tasks = [\"Suturing\"]\n",
    "Features = kinematic_feature_names_jigsaws[38:] + state_variables #all patient side kinematic features + state variable features\n",
    "# Features = kinematic_feature_names_jigsaws[0:]  #all patient side kinematic features + state variable features\n",
    "# Features = kinematic_feature_names_jigsaws_patient_position + state_variables #kinematic features + state variable features\n",
    "# Features = kinematic_feature_names_jigsaws_patient_position  #kinematic features only\n",
    "\n",
    "one_hot = True\n",
    "device = torch.device(\"cuda\" if torch.cuda.is_available() else \"cpu\")\n",
    "observation_window = 10\n",
    "prediction_window = 10\n",
    "batch_size = 64\n",
    "\n",
    "user_left_out = 2\n",
    "cast = True\n",
    "include_image_features = False\n",
    "normalizer = '' # ('standardization', 'min-max', 'power', '')\n",
    "step = 1 # 1 - 30 Hz\n",
    "\n",
    "train_dataloader, valid_dataloader = get_dataloaders(tasks,\n",
    "                                                     user_left_out,\n",
    "                                                     observation_window,\n",
    "                                                     prediction_window,\n",
    "                                                     batch_size,\n",
    "                                                     one_hot,\n",
    "                                                     class_names = class_names['Suturing'],\n",
    "                                                     feature_names = Features,\n",
    "                                                     include_image_features=include_image_features,\n",
    "                                                     cast = cast,\n",
    "                                                     normalizer = normalizer,\n",
    "                                                     step=step)\n",
    "\n",
    "print(\"datasets lengths: \", len(train_dataloader.dataset), len(valid_dataloader.dataset))\n",
    "print(\"X shape: \", train_dataloader.dataset.X.shape, valid_dataloader.dataset.X.shape)\n",
    "print(\"Y shape: \", train_dataloader.dataset.Y.shape, valid_dataloader.dataset.Y.shape)\n",
    "\n",
    "# loader generator aragement: (src, tgt, future_gesture, future_kinematics)\n",
    "print(\"Obs Kinematics Shape: \", train_dataloader.dataset[0][0].shape) \n",
    "print(\"Obs Target Shape: \", train_dataloader.dataset[0][1].shape)\n",
    "print(\"Future Target Shape: \", train_dataloader.dataset[0][2].shape)\n",
    "print(\"Future Kinematics Shape: \", train_dataloader.dataset[0][3].shape)\n",
    "print(\"Train N Trials: \", train_dataloader.dataset.get_num_trials())\n",
    "print(\"Train Max Length: \", train_dataloader.dataset.get_max_len())\n",
    "print(\"Test N Trials: \", valid_dataloader.dataset.get_num_trials())\n",
    "print(\"Test Max Length: \", valid_dataloader.dataset.get_max_len())\n",
    "print(\"Features: \", train_dataloader.dataset.get_feature_names())\n",
    "\n"
   ]
  },
  {
   "cell_type": "code",
   "execution_count": null,
   "metadata": {},
   "outputs": [
    {
     "name": "stdout",
     "output_type": "stream",
     "text": [
      "torch.Size([64, 10, 14])\n",
      "torch.Size([64, 14])\n"
     ]
    }
   ],
   "source": [
    "\n",
    "# Example tensor of shape [batch_size, seq_len, features]\n",
    "tensor = torch.tensor([[[1, 2, 3], [3, 2, 1], [1, 1, 2]],\n",
    "                       [[2, 3, 3], [1, 2, 2], [3, 2, 3]]])\n",
    "tensor = torch.zeros(64,10,14)\n",
    "print(tensor.shape)\n",
    "# Calculate the most common feature along the seq_len axis for each batch\n",
    "most_common_feature = torch.mode(tensor, dim=1).values\n",
    "\n",
    "print(most_common_feature.shape)\n"
   ]
  },
  {
   "cell_type": "code",
   "execution_count": null,
   "metadata": {},
   "outputs": [],
   "source": [
    "def find_mostcommon(tensor,device):\n",
    "    # # 64,10,10\n",
    "    # # Count the occurrences of each row\n",
    "    # unique_rows, counts = np.unique(batch_y, axis=0, return_counts=True)\n",
    "\n",
    "    # # Get the index of the row with the highest count\n",
    "    # most_common_row_index = np.argmax(counts)\n",
    "\n",
    "    # # Get the most common row\n",
    "    # most_common_row = unique_rows[most_common_row_index]\n",
    "    \n",
    "    # batch_y_bin = most_common_row\n",
    "    \n",
    "    # batch_y_bin = torch.from_numpy(batch_y_bin)\n",
    "    \n",
    "    batch_y_bin = torch.mode(tensor, dim=1).values\n",
    "    batch_y_bin = batch_y_bin.to(device)\n",
    "    \n",
    "    return batch_y_bin\n",
    "    "
   ]
  },
  {
   "cell_type": "code",
   "execution_count": null,
   "metadata": {},
   "outputs": [],
   "source": [
    "\n"
   ]
  },
  {
   "cell_type": "code",
   "execution_count": null,
   "metadata": {},
   "outputs": [],
   "source": []
  },
  {
   "cell_type": "code",
   "execution_count": null,
   "metadata": {},
   "outputs": [],
   "source": [
    "class LSTMModel(nn.Module):\n",
    "    def __init__(self, input_size, hidden_size, num_layers, num_classes):\n",
    "        super(LSTMModel, self).__init__()\n",
    "        self.hidden_size = hidden_size\n",
    "        self.num_layers = num_layers\n",
    "        self.lstm = nn.LSTM(input_size, hidden_size, num_layers, batch_first=True, bidirectional=True)\n",
    "        self.fc = nn.Linear(hidden_size * 2, num_classes)\n",
    "\n",
    "    def forward(self, x):\n",
    "\n",
    "        out, _ = self.lstm(x)\n",
    "\n",
    "        out = self.fc(out)\n",
    "\n",
    "        return out"
   ]
  },
  {
   "cell_type": "code",
   "execution_count": null,
   "metadata": {},
   "outputs": [],
   "source": [
    "\n",
    "class CyclicLR(_LRScheduler):\n",
    "    \n",
    "    def __init__(self, optimizer, schedule, last_epoch=-1):\n",
    "        assert callable(schedule)\n",
    "        self.schedule = schedule\n",
    "        super().__init__(optimizer, last_epoch)\n",
    "\n",
    "    def get_lr(self):\n",
    "        return [self.schedule(self.last_epoch, lr) for lr in self.base_lrs]\n",
    "\n",
    "\n",
    "\n",
    "def cosine(t_max, eta_min=0):\n",
    "    \n",
    "    def scheduler(epoch, base_lr):\n",
    "        t = epoch % t_max\n",
    "        return eta_min + (base_lr - eta_min)*(1 + np.cos(np.pi*t/t_max))/2\n",
    "    \n",
    "    return scheduler\n",
    "\n"
   ]
  },
  {
   "cell_type": "markdown",
   "metadata": {},
   "source": [
    "Transformer+TCN"
   ]
  },
  {
   "cell_type": "code",
   "execution_count": null,
   "metadata": {},
   "outputs": [],
   "source": [
    "\n",
    "class GlobalMaxPooling1D(nn.Module):\n",
    "\n",
    "    def __init__(self, data_format='channels_last'):\n",
    "        super(GlobalMaxPooling1D, self).__init__()\n",
    "        self.data_format = data_format\n",
    "        self.step_axis = 1 if self.data_format == 'channels_last' else 2\n",
    "\n",
    "    def forward(self, input):\n",
    "        return torch.max(input, axis=self.step_axis).values\n",
    "    \n",
    "\n",
    "class LSTMModel(nn.Module):\n",
    "    def __init__(self, input_size, hidden_size, num_layers, num_classes):\n",
    "        super(LSTMModel, self).__init__()\n",
    "        self.hidden_size = hidden_size\n",
    "        self.num_layers = num_layers\n",
    "        self.lstm = nn.LSTM(input_size, hidden_size, num_layers, batch_first=True)\n",
    "        self.fc = nn.Linear(hidden_size, num_classes)\n",
    "\n",
    "    def forward(self, x):\n",
    "        out, _ = self.lstm(x)\n",
    "\n",
    "        out = self.fc(out)\n",
    "\n",
    "        return out\n",
    "    \n",
    "class GRUNet(nn.Module):\n",
    "    def __init__(self, input_dim, hidden_dim, output_dim, n_layers, drop_prob=0.2):\n",
    "        super(GRUNet, self).__init__()\n",
    "        self.hidden_dim = hidden_dim\n",
    "        self.n_layers = n_layers\n",
    "        \n",
    "        self.gru = nn.GRU(input_dim, hidden_dim, n_layers, batch_first=True, dropout=drop_prob)\n",
    "        self.fc = nn.Linear(hidden_dim, output_dim)\n",
    "        self.relu = nn.ReLU()\n",
    "        \n",
    "    def forward(self, x, h):\n",
    "        out, h = self.gru(x, h)\n",
    "        out = self.fc(self.relu(out))\n",
    "        return out, h\n",
    "    \n",
    "    def init_hidden(self, batch_size):\n",
    "        weight = next(self.parameters()).data\n",
    "        hidden = weight.new(self.n_layers, batch_size, self.hidden_dim).zero_()\n",
    "        return hidden\n",
    "    \n",
    "class CNN_Encoder(nn.Module):\n",
    "    def __init__(self, in_channels, out_channels, kernel_size):\n",
    "        super(CNN_Encoder, self).__init__()\n",
    "\n",
    "        self.encoder = nn.Sequential(\n",
    "            nn.Conv1d(in_channels=in_channels, out_channels=96, kernel_size=kernel_size, stride=1, padding=kernel_size//2),\n",
    "            nn.ReLU(),\n",
    "            nn.MaxPool1d(kernel_size=2, stride = 2),\n",
    "            nn.Conv1d(in_channels=96, out_channels=128, kernel_size=kernel_size, stride=1, padding=kernel_size//2),\n",
    "            nn.ReLU(),\n",
    "            nn.MaxPool1d(kernel_size=2, stride = 2),\n",
    "            nn.Conv1d(in_channels=128, out_channels=out_channels, kernel_size=kernel_size, stride=1, padding=kernel_size//2),\n",
    "            nn.ReLU(),\n",
    "            nn.MaxPool1d(kernel_size=2, stride = 2)\n",
    "        )\n",
    "    \n",
    "\n",
    "    def forward(self, x):\n",
    "        x = x.permute(0, 2, 1)  # Reshape input to [batch_size, features, seq_len]\n",
    "        x = self.encoder(x)\n",
    "        # print('encoder_out',x.shape)\n",
    "        return x\n",
    "    \n",
    "    \n",
    "class CNN_Decoder(nn.Module):\n",
    "    def __init__(self, in_channels, out_channels, kernel_size):\n",
    "        super(CNN_Decoder, self).__init__()\n",
    "\n",
    "        self.decoder = nn.Sequential(\n",
    "            nn.Upsample(scale_factor=2.0),\n",
    "            nn.ConvTranspose1d(in_channels=in_channels, out_channels=96, kernel_size=kernel_size, stride=1, padding=kernel_size//2),\n",
    "            nn.ReLU(),\n",
    "            nn.Upsample(scale_factor=2.0),\n",
    "            nn.ConvTranspose1d(in_channels=96, out_channels=64, kernel_size=kernel_size, stride=1, padding=kernel_size//2),\n",
    "            nn.ReLU(),\n",
    "            nn.Upsample(scale_factor=2.0),\n",
    "            nn.ConvTranspose1d(in_channels=64, out_channels=out_channels, kernel_size=kernel_size, stride=1, padding=kernel_size//2),\n",
    "            nn.ReLU(),\n",
    "        )\n",
    "    def forward(self, x):\n",
    "        x = self.decoder(x)\n",
    "        # print('decoder_out',x.shape)\n",
    "        return x\n",
    "    \n",
    "    \n",
    "class TransformerModel(nn.Module):\n",
    "    \n",
    "    def __init__(self, input_dim, output_dim, d_model, nhead, num_layers, hidden_dim, layer_dim,dropout=0.1):\n",
    "        super().__init__()\n",
    "        self.transformer = nn.TransformerEncoder(\n",
    "            nn.TransformerEncoderLayer(d_model=d_model, nhead=nhead, dropout=dropout), num_layers=num_layers\n",
    "        )\n",
    "        \n",
    "        self.lstm = LSTMModel(2*d_model, hidden_dim, layer_dim, int(2*d_model))\n",
    "        \n",
    "        self.gru = GRUNet(input_dim=2*d_model,hidden_dim=512,output_dim= output_dim,n_layers=4)\n",
    "        \n",
    "        encoder_paramss = { \"in_channels\": input_dim,\n",
    "                    \"kernel_size\": 59,\n",
    "                    \"out_channels\": 2*d_model,\n",
    "                    }\n",
    "        decoder_params = {\n",
    "                    \"in_channels\": 2*d_model,\n",
    "                    \"kernel_size\": 59,\n",
    "                    \"out_channels\": int(d_model)\n",
    "                        }\n",
    "                                      \n",
    "        self.encoder = CNN_Encoder(**encoder_paramss)\n",
    "        self.decoder = CNN_Decoder(**decoder_params)\n",
    "        \n",
    "        self.max_pool = GlobalMaxPooling1D()\n",
    "        self.fc = nn.Linear(input_dim, 2*d_model)\n",
    "        # self.out = nn.Linear(int(d_model/2), output_dim)\n",
    "        self.out = nn.Linear(d_model, output_dim) # vanilla + gru\n",
    "        \n",
    "    # tcn + transformer\n",
    "    def forward(self, x):\n",
    "        \n",
    "        x = self.encoder(x)\n",
    "        \n",
    "        x = self.decoder(x)\n",
    "        \n",
    "        x = x.permute(0, 2, 1)  # Reshape input to [batch_size, seq_len,features, ]\n",
    "        \n",
    "        x = self.transformer(x)\n",
    "        \n",
    "        x = self.max_pool(x) # gets rid of seq_len\n",
    "\n",
    "        x = self.out(x)\n",
    "        \n",
    "        return x\n",
    "        \n",
    "\n",
    "    \n"
   ]
  },
  {
   "cell_type": "markdown",
   "metadata": {},
   "source": [
    "TCN"
   ]
  },
  {
   "cell_type": "code",
   "execution_count": null,
   "metadata": {},
   "outputs": [],
   "source": [
    "\n",
    "class LSTM_Layer_tcn(nn.Module):\n",
    "    def __init__(self, input_size, hidden_size, num_layers,\n",
    "                 bi_dir=True, use_gru=True):\n",
    "        super(LSTM_Layer_tcn, self).__init__()\n",
    "\n",
    "        self.input_size = input_size\n",
    "        self.hidden_size = hidden_size\n",
    "        self.num_layers = num_layers\n",
    "        self.bi_dir = bi_dir\n",
    "        self.use_gru = use_gru\n",
    "\n",
    "        if self.use_gru:\n",
    "            self.lstm = nn.GRU(input_size, hidden_size, num_layers, \n",
    "                                batch_first=True, bidirectional=bi_dir)\n",
    "        else:\n",
    "            self.lstm = nn.LSTM(input_size, hidden_size, num_layers, \n",
    "                                batch_first=True, bidirectional=bi_dir)\n",
    "\n",
    "    def forward(self, x): # x: (batch,feature,seq)\n",
    "\n",
    "        x = x.permute(0, 2, 1) \n",
    "\n",
    "        batch_size = x.size(0)\n",
    "        x, _ = self.lstm(x, self.__get_init_state(batch_size)) # x: (batch,seq,hidden)\n",
    "        \n",
    "        x = x.permute(0, 2, 1) \n",
    "        \n",
    "        return x\n",
    "\n",
    "    def __get_init_state(self, batch_size):\n",
    "\n",
    "        if self.bi_dir:\n",
    "            nl_x_nd = 2 * self.num_layers\n",
    "        else:\n",
    "            nl_x_nd = 1 * self.num_layers\n",
    "\n",
    "        h0 = torch.zeros(nl_x_nd, batch_size, self.hidden_size)\n",
    "        h0 = h0.cuda()\n",
    "\n",
    "        if self.use_gru:\n",
    "            return h0\n",
    "        else:\n",
    "            c0 = torch.zeros(nl_x_nd, batch_size, self.hidden_size)\n",
    "            c0 = c0.cuda()\n",
    "            return (h0, c0)\n",
    "\n",
    "\n",
    "class ChannelNorm(nn.Module):\n",
    "    def __init__(self):\n",
    "        super(ChannelNorm, self).__init__()\n",
    "\n",
    "    def forward(self, x): #(batch, feature, seq)\n",
    "        divider = torch.max(torch.max(torch.abs(x), dim=0)[0], dim=1)[0] + 1e-5\n",
    "        divider = divider.unsqueeze(0).unsqueeze(2)\n",
    "        divider = divider.repeat(x.size(0), 1, x.size(2))\n",
    "        x = x / divider\n",
    "        return x\n",
    "\n",
    "\n",
    "class Encoder(nn.Module):\n",
    "    def __init__(self, input_size,\n",
    "                 layer_type, layer_sizes, \n",
    "                 kernel_size=None, norm_type=None,\n",
    "                 downsample=True):\n",
    "        super(Encoder, self).__init__()\n",
    "\n",
    "        if layer_type not in ['TempConv', 'Bi-LSTM']:\n",
    "            raise Exception('Invalid Layer Type')\n",
    "        if layer_type == 'TempConv' and kernel_size is None:\n",
    "            raise Exception('Kernel Size For TempConv Not Specified')\n",
    "\n",
    "        self.output_size = layer_sizes[-1]\n",
    "\n",
    "        module_list = []\n",
    "\n",
    "        for layer in range(len(layer_sizes)):\n",
    "            if layer == 0:\n",
    "                in_chl = input_size\n",
    "            else:\n",
    "                in_chl = layer_sizes[layer-1]\n",
    "            out_chl = layer_sizes[layer]\n",
    "\n",
    "            if layer_type == 'TempConv':\n",
    "                conv_pad = kernel_size // 2\n",
    "                module_list.append(('conv_{}'.format(layer), \n",
    "                    nn.Conv1d(in_chl, out_chl, kernel_size, padding=conv_pad)))\n",
    "            elif layer_type == 'Bi-LSTM':\n",
    "                module_list.append(('lstm_{}'.format(layer), \n",
    "                    LSTM_Layer_tcn(in_chl, out_chl // 2, 1, bi_dir=True)))\n",
    "\n",
    "            if norm_type == 'Channel':\n",
    "                module_list.append(('cn_{}'.format(layer), \n",
    "                    ChannelNorm()))\n",
    "            elif norm_type == 'Batch':\n",
    "                module_list.append(('bn_{}'.format(layer), \n",
    "                    nn.BatchNorm1d(out_chl)))\n",
    "            elif norm_type == 'Instance':\n",
    "                module_list.append(('in_{}'.format(layer), \n",
    "                    nn.InstanceNorm1d(out_chl)))\n",
    "            else:\n",
    "                print('No Norm Used!')           \n",
    "\n",
    "            if layer_type == 'TempConv':\n",
    "                module_list.append(('relu_{}'.format(layer), \n",
    "                    nn.ReLU()))\n",
    "            else:\n",
    "                pass\n",
    "\n",
    "            if downsample:\n",
    "                module_list.append(('pool_{}'.format(layer), \n",
    "                    nn.MaxPool1d(kernel_size=2, stride=2)))\n",
    "\n",
    "        self.module = nn.Sequential(OrderedDict(module_list))\n",
    "\n",
    "\n",
    "    def forward(self, x): # x: (batch,feature, seq)\n",
    "        return self.module(x)\n",
    "\n",
    "\n",
    "\n",
    "class Decoder(nn.Module):\n",
    "    def __init__(self, input_size,\n",
    "                 layer_type, layer_sizes, \n",
    "                 kernel_size=None, transposed_conv=None,\n",
    "                 norm_type=None):\n",
    "        super(Decoder, self).__init__()\n",
    "\n",
    "        if layer_type not in ['TempConv', 'Bi-LSTM']:\n",
    "            raise Exception('Invalid Layer Type')\n",
    "        if layer_type == 'TempConv' and kernel_size is None:\n",
    "            raise Exception('Kernel Size For TempConv Not Specified')\n",
    "        if layer_type == 'TempConv' and transposed_conv is None:\n",
    "            raise Exception('If Use Transposed Conv Not Specified')\n",
    "\n",
    "        self.output_size = layer_sizes[-1]\n",
    "\n",
    "        module_list = []\n",
    "\n",
    "        for layer in range(len(layer_sizes)):\n",
    "            if layer == 0:\n",
    "                in_chl = input_size\n",
    "            else:\n",
    "                in_chl = layer_sizes[layer-1]\n",
    "            out_chl = layer_sizes[layer]\n",
    "\n",
    "            module_list.append(('up_{}'.format(layer), \n",
    "                nn.Upsample(scale_factor=2)))\n",
    "\n",
    "            if layer_type == 'TempConv':\n",
    "                conv_pad = kernel_size // 2\n",
    "                if transposed_conv:\n",
    "                    module_list.append(('conv_{}'.format(layer), \n",
    "                        nn.ConvTranspose1d(in_chl, out_chl, kernel_size, \n",
    "                                                    padding=conv_pad)))\n",
    "                else:\n",
    "                    module_list.append(('conv_{}'.format(layer), \n",
    "                        nn.Conv1d(in_chl, out_chl, kernel_size,\n",
    "                                            padding=conv_pad)))\n",
    "            elif layer_type == 'Bi-LSTM':\n",
    "                module_list.append(('lstm_{}'.format(layer), \n",
    "                    LSTM_Layer_tcn(in_chl, out_chl // 2, 1, bi_dir=True)))\n",
    "\n",
    "            if norm_type == 'Channel':\n",
    "                module_list.append(('cn_{}'.format(layer), \n",
    "                    ChannelNorm()))\n",
    "            elif norm_type == 'Batch':\n",
    "                module_list.append(('bn_{}'.format(layer), \n",
    "                    nn.BatchNorm1d(out_chl)))\n",
    "            elif norm_type == 'Instance':\n",
    "                module_list.append(('in_{}'.format(layer), \n",
    "                    nn.InstanceNorm1d(out_chl)))\n",
    "            else:\n",
    "                print('No Norm Used!')           \n",
    "\n",
    "            if layer_type == 'TempConv':\n",
    "                module_list.append(('relu_{}'.format(layer), \n",
    "                    nn.ReLU()))\n",
    "            else:\n",
    "                pass\n",
    "\n",
    "        self.module = nn.Sequential(OrderedDict(module_list))\n",
    "\n",
    "\n",
    "    def forward(self, x): # x: (batch,feature, seq)\n",
    "        return self.module(x)\n",
    "\n",
    "\n",
    "\n",
    "class EncoderDecoderNet(nn.Module):\n",
    "    def __init__(self, class_num, fc_size,\n",
    "                 encoder_params, \n",
    "                 decoder_params, \n",
    "                 mid_lstm_params=None):\n",
    "\n",
    "        super(EncoderDecoderNet, self).__init__()\n",
    "\n",
    "        self.encoder = Encoder(**encoder_params)\n",
    "\n",
    "        self.middle_lstm = None\n",
    "        if mid_lstm_params is not None:\n",
    "            self.middle_lstm = LSTM_Layer_tcn(mid_lstm_params['input_size'],\n",
    "                                      mid_lstm_params['hidden_size'],\n",
    "                                      mid_lstm_params['layer_num'],\n",
    "                                      bi_dir=True)  # batch_first\n",
    "        \n",
    "        self.decoder = Decoder(**decoder_params)\n",
    "\n",
    "        self.fc1 = nn.Linear(self.decoder.output_size, fc_size)\n",
    "        self.fc2 = nn.Linear(fc_size, class_num)\n",
    "\n",
    "\n",
    "    def forward(self, x):\n",
    "        #x = x.permute(0, 2, 1) \n",
    "        \n",
    "\n",
    "        x = F.relu(self.extract_feature(x))\n",
    "        x = self.fc2(x)\n",
    "        \n",
    "\n",
    "        return x\n",
    "\n",
    "\n",
    "    def extract_feature(self, x):\n",
    "\n",
    "        x = x.permute(0, 2, 1)  \n",
    "\n",
    "        x = self.encoder(x)\n",
    "        if self.middle_lstm is not None:\n",
    "            x = self.middle_lstm(x)\n",
    "\n",
    "        x = self.decoder(x)\n",
    "        x = x.permute(0, 2, 1)\n",
    "\n",
    "        x = self.fc1(x)\n",
    "\n",
    "        return x\n",
    "    \n",
    "    \n",
    "    \n",
    "class TCN(nn.Module):\n",
    "    \n",
    "    def __init__(self, input_dim, output_dim, tcn_model_params, dropout=0.1):\n",
    "        super().__init__()\n",
    "\n",
    "        tcn_model_params['encoder_params']['input_size'] = input_dim\n",
    "        tcn_model_params['class_num'] = output_dim\n",
    "        self.tcn = EncoderDecoderNet(output_dim,tcn_model_params['fc_size'],tcn_model_params['encoder_params'],tcn_model_params['decoder_params'],tcn_model_params['mid_lstm_params'])\n",
    "        self.max_pool = GlobalMaxPooling1D()\n",
    "        \n",
    "    def forward(self, x):\n",
    "        x = self.tcn(x)\n",
    "  \n",
    "        x=self.max_pool(x)\n",
    "\n",
    "        return x \n",
    "    \n"
   ]
  },
  {
   "cell_type": "code",
   "execution_count": null,
   "metadata": {},
   "outputs": [],
   "source": [
    "def initiate_model(input_dim, output_dim, transformer_params, learning_params , tcn_model_params, model):\n",
    "\n",
    "    d_model,nhead, num_layers,hidden_dim,layer_dim = transformer_params.values()\n",
    "\n",
    "    lr, epochs, weight_decay, patience, batch_size, seq_len = learning_params.values()\n",
    "\n",
    "    if(model == 'transformer'):\n",
    "        model = TransformerModel(input_dim=input_dim, output_dim=output_dim, d_model=d_model, nhead=nhead, num_layers=num_layers, hidden_dim=hidden_dim, layer_dim=layer_dim)\n",
    "\n",
    "    elif(model == 'tcn'):\n",
    "        model = TCN(input_dim=input_dim,output_dim=output_dim, tcn_model_params=tcn_model_params)\n",
    "    \n",
    "    model = model.cuda()\n",
    "\n",
    "    # Define the optimizer (Adam optimizer with weight decay)\n",
    "    optimizer = optim.Adam(model.parameters(), lr=lr, weight_decay=weight_decay)\n",
    "\n",
    "    # Define the learning rate scheduler (ReduceLROnPlateau scheduler)\n",
    "    scheduler = ReduceLROnPlateau(optimizer, mode='min', factor=0.1, patience=patience, verbose=True)\n",
    "\n",
    "    criterion = nn.CrossEntropyLoss()\n",
    "    \n",
    "    return model, optimizer,scheduler, criterion\n"
   ]
  },
  {
   "cell_type": "code",
   "execution_count": null,
   "metadata": {},
   "outputs": [],
   "source": [
    "def eval_loop(model, test_dataloader, criterion):\n",
    "    model.eval()\n",
    "    with torch.no_grad():\n",
    "        # eval\n",
    "        losses = []\n",
    "        ypreds, gts = [], []\n",
    "        \n",
    "        for src, tgt, future_gesture, future_kinematics in test_dataloader:\n",
    "            src = src\n",
    "            tgt = tgt[:,1:,:]\n",
    "            y = find_mostcommon(tgt, device)\n",
    "            \n",
    "            y_pred = model(src) # [64,10]\n",
    "        \n",
    "            pred = torch.argmax(y_pred,dim=-1)\n",
    "            gt = torch.argmax(y,dim=1) # maxpool\n",
    "            # gt = torch.argmax(tgt,dim=-1)\n",
    "            \n",
    "            pred = pred.cpu().numpy()\n",
    "            gt = gt.cpu().numpy()\n",
    "            \n",
    "            ypreds.append(pred)\n",
    "            gts.append(gt)\n",
    "            \n",
    "            loss = criterion(y_pred, y)\n",
    "\n",
    "            losses.append(loss.item())\n",
    "          \n",
    "        ypreds = np.concatenate(ypreds)  \n",
    "        gts = np.concatenate(gts)  \n",
    "        \n",
    "        # get_classification_report(ypreds,gts,test_dataloader.dataset.get_target_names())\n",
    "        \n",
    "        # Compare each element and count matches\n",
    "        matches = np.sum(ypreds == gts)\n",
    "\n",
    "        print('evaluation:',ypreds.shape, gts.shape, matches)\n",
    "\n",
    "        # Calculate accuracy\n",
    "        accuracy = matches / len(ypreds)\n",
    "\n",
    "        print(\"Accuracy:\", accuracy)\n",
    "        \n",
    "        return np.mean(losses),accuracy"
   ]
  },
  {
   "cell_type": "code",
   "execution_count": null,
   "metadata": {},
   "outputs": [],
   "source": [
    "\n",
    "def traintest_loop(train_dataloader,test_dataloader,model,optimizer,scheduler,criterion, epochs):\n",
    "    \n",
    "    accuracy = 0\n",
    "    total_accuracy = []\n",
    "    # training loop\n",
    "    for epoch in range(epochs):\n",
    "        model.train()\n",
    "        running_loss = 0.0\n",
    "        for bi, (src, tgt, future_gesture, future_kinematics) in enumerate(tqdm(train_dataloader)):\n",
    "\n",
    "            optimizer.zero_grad()\n",
    "            \n",
    "            src = src\n",
    "            y = find_mostcommon(tgt[:,1:,:], device)\n",
    "            \n",
    "            tgt = tgt[:,1:,:]\n",
    "            \n",
    "            y_pred = model(src) # [64,10]\n",
    "            # print('input, prediction,gt:',src.shape, y_pred.shape,  y.shape, tgt.shape)\n",
    "            \n",
    "            loss = criterion(y_pred, y) #for maxpool\n",
    "            # loss = criterion(y_pred, tgt)\n",
    "            loss.backward()\n",
    "\n",
    "            optimizer.step()\n",
    "            \n",
    "            running_loss += loss.item()\n",
    "            \n",
    "        # scheduler.step(running_loss)\n",
    "        \n",
    "        print(f\"Training Epoch {epoch+1}, Loss: {running_loss / len(train_dataloader):.6f}\")\n",
    "        \n",
    "        # evaluation loop\n",
    "        val_loss, accuracy = eval_loop(model,test_dataloader,criterion)\n",
    "        print(f\"Valdiation Epoch {epoch+1}, Loss: {val_loss:.6f}\")\n",
    "        \n",
    "        total_accuracy.append(accuracy)\n",
    "        \n",
    "    return val_loss,accuracy, total_accuracy"
   ]
  },
  {
   "cell_type": "code",
   "execution_count": 3,
   "metadata": {},
   "outputs": [
    {
     "ename": "NameError",
     "evalue": "name 'learning_params' is not defined",
     "output_type": "error",
     "traceback": [
      "\u001b[0;31m---------------------------------------------------------------------------\u001b[0m",
      "\u001b[0;31mNameError\u001b[0m                                 Traceback (most recent call last)",
      "Cell \u001b[0;32mIn[3], line 3\u001b[0m\n\u001b[1;32m      1\u001b[0m task \u001b[39m=\u001b[39m \u001b[39m\"\u001b[39m\u001b[39mSuturing\u001b[39m\u001b[39m\"\u001b[39m\n\u001b[0;32m----> 3\u001b[0m epochs \u001b[39m=\u001b[39m learning_params[\u001b[39m\"\u001b[39m\u001b[39mepochs\u001b[39m\u001b[39m\"\u001b[39m]\n\u001b[1;32m      4\u001b[0m seq_len \u001b[39m=\u001b[39m learning_params[\u001b[39m\"\u001b[39m\u001b[39mseq_len\u001b[39m\u001b[39m\"\u001b[39m]\n\u001b[1;32m      6\u001b[0m iterations_per_epoch \u001b[39m=\u001b[39m \u001b[39m500\u001b[39m\n",
      "\u001b[0;31mNameError\u001b[0m: name 'learning_params' is not defined"
     ]
    }
   ],
   "source": [
    "        \n",
    "\n",
    "task = \"Suturing\"\n",
    "\n",
    "epochs = learning_params[\"epochs\"]\n",
    "seq_len = learning_params[\"seq_len\"]\n",
    "\n",
    "iterations_per_epoch = 500\n",
    "\n",
    "batch = next(iter(train_dataloader))\n",
    "features = batch[0].shape[-1]\n",
    "output_dim = batch[1].shape[-1]\n",
    "input_dim = features  \n",
    "\n",
    "print(input_dim, output_dim)\n",
    "\n",
    "\n",
    "window_wise = True\n",
    "\n",
    "# model = 'tcn' \n",
    "model = 'transformer'\n",
    "\n",
    "\n",
    "model,optimizer,scheduler,criterion = initiate_model(input_dim=input_dim,output_dim=input_dim,transformer_params=transformer_params,learning_params=learning_params, tcn_model_params=tcn_model_params, model=model)\n",
    "\n",
    "print(model)"
   ]
  },
  {
   "cell_type": "code",
   "execution_count": 40,
   "metadata": {},
   "outputs": [
    {
     "name": "stdout",
     "output_type": "stream",
     "text": [
      "['G1' 'G10' 'G11' 'G2' 'G3' 'G4' 'G5' 'G6' 'G8' 'G9']\n",
      "[0 0 0 ... 2 2 2]\n",
      "[[1. 0. 0. ... 0. 0. 0.]\n",
      " [1. 0. 0. ... 0. 0. 0.]\n",
      " [1. 0. 0. ... 0. 0. 0.]\n",
      " ...\n",
      " [0. 0. 1. ... 0. 0. 0.]\n",
      " [0. 0. 1. ... 0. 0. 0.]\n",
      " [0. 0. 1. ... 0. 0. 0.]]\n",
      "['G1' 'G10' 'G11' 'G2' 'G3' 'G4' 'G5' 'G6' 'G8' 'G9']\n",
      "[0 0 0 ... 2 2 2]\n",
      "[[1. 0. 0. ... 0. 0. 0.]\n",
      " [1. 0. 0. ... 0. 0. 0.]\n",
      " [1. 0. 0. ... 0. 0. 0.]\n",
      " ...\n",
      " [0. 0. 1. ... 0. 0. 0.]\n",
      " [0. 0. 1. ... 0. 0. 0.]\n",
      " [0. 0. 1. ... 0. 0. 0.]]\n"
     ]
    },
    {
     "name": "stderr",
     "output_type": "stream",
     "text": [
      "  0%|          | 0/55 [00:00<?, ?it/s]\n"
     ]
    },
    {
     "ename": "RuntimeError",
     "evalue": "0D or 1D target tensor expected, multi-target not supported",
     "output_type": "error",
     "traceback": [
      "\u001b[0;31m---------------------------------------------------------------------------\u001b[0m",
      "\u001b[0;31mRuntimeError\u001b[0m                              Traceback (most recent call last)",
      "Cell \u001b[0;32mIn[40], line 29\u001b[0m\n\u001b[1;32m     11\u001b[0m user_left_out \u001b[39m=\u001b[39m subject\n\u001b[1;32m     13\u001b[0m train_dataloader, valid_dataloader \u001b[39m=\u001b[39m get_dataloaders(tasks,\n\u001b[1;32m     14\u001b[0m                                                     user_left_out,\n\u001b[1;32m     15\u001b[0m                                                     observation_window,\n\u001b[0;32m   (...)\u001b[0m\n\u001b[1;32m     24\u001b[0m                                                     step\u001b[39m=\u001b[39mstep,\n\u001b[1;32m     25\u001b[0m                                                     window_wise\u001b[39m=\u001b[39m window_wise)\n\u001b[0;32m---> 29\u001b[0m val_loss,acc, total_acc \u001b[39m=\u001b[39m traintest_loop(train_dataloader,valid_dataloader,model,optimizer,scheduler,criterion, epochs)\n\u001b[1;32m     31\u001b[0m \u001b[39m# train_loop(dataloader=train_dataloader, model=model, optimizer=optimizer, scheduler=scheduler, criterion=criterion, epochs=epochs)\u001b[39;00m\n\u001b[1;32m     32\u001b[0m \n\u001b[1;32m     33\u001b[0m \u001b[39m# # # evaluation loop\u001b[39;00m\n\u001b[1;32m     34\u001b[0m \u001b[39m# val_loss, acc = eval_loop(model,valid_dataloader,criterion)\u001b[39;00m\n\u001b[1;32m     35\u001b[0m \u001b[39m# print(f\"Valdiation Loss: {val_loss:.6f}\")\u001b[39;00m\n\u001b[1;32m     38\u001b[0m accuracy\u001b[39m.\u001b[39mappend({\u001b[39m'\u001b[39m\u001b[39msubject\u001b[39m\u001b[39m'\u001b[39m:subject, \u001b[39m'\u001b[39m\u001b[39mlast_accuracy\u001b[39m\u001b[39m'\u001b[39m:acc,  \u001b[39m'\u001b[39m\u001b[39mavg_accuracy\u001b[39m\u001b[39m'\u001b[39m:np\u001b[39m.\u001b[39mmean(total_acc), \u001b[39m'\u001b[39m\u001b[39mhighest_accuracy\u001b[39m\u001b[39m'\u001b[39m:np\u001b[39m.\u001b[39mmax(total_acc)})\n",
      "Cell \u001b[0;32mIn[29], line 21\u001b[0m, in \u001b[0;36mtraintest_loop\u001b[0;34m(train_dataloader, test_dataloader, model, optimizer, scheduler, criterion, epochs)\u001b[0m\n\u001b[1;32m     18\u001b[0m y_pred \u001b[39m=\u001b[39m model(src) \u001b[39m# [64,10]\u001b[39;00m\n\u001b[1;32m     19\u001b[0m \u001b[39m# print('input, prediction,gt:',src.shape, y_pred.shape,  y.shape, tgt.shape)\u001b[39;00m\n\u001b[0;32m---> 21\u001b[0m loss \u001b[39m=\u001b[39m criterion(y_pred, y) \u001b[39m#for maxpool\u001b[39;00m\n\u001b[1;32m     22\u001b[0m \u001b[39m# loss = criterion(y_pred, tgt)\u001b[39;00m\n\u001b[1;32m     23\u001b[0m loss\u001b[39m.\u001b[39mbackward()\n",
      "File \u001b[0;32m~/anaconda3/envs/pytorch/lib/python3.8/site-packages/torch/nn/modules/module.py:1501\u001b[0m, in \u001b[0;36mModule._call_impl\u001b[0;34m(self, *args, **kwargs)\u001b[0m\n\u001b[1;32m   1496\u001b[0m \u001b[39m# If we don't have any hooks, we want to skip the rest of the logic in\u001b[39;00m\n\u001b[1;32m   1497\u001b[0m \u001b[39m# this function, and just call forward.\u001b[39;00m\n\u001b[1;32m   1498\u001b[0m \u001b[39mif\u001b[39;00m \u001b[39mnot\u001b[39;00m (\u001b[39mself\u001b[39m\u001b[39m.\u001b[39m_backward_hooks \u001b[39mor\u001b[39;00m \u001b[39mself\u001b[39m\u001b[39m.\u001b[39m_backward_pre_hooks \u001b[39mor\u001b[39;00m \u001b[39mself\u001b[39m\u001b[39m.\u001b[39m_forward_hooks \u001b[39mor\u001b[39;00m \u001b[39mself\u001b[39m\u001b[39m.\u001b[39m_forward_pre_hooks\n\u001b[1;32m   1499\u001b[0m         \u001b[39mor\u001b[39;00m _global_backward_pre_hooks \u001b[39mor\u001b[39;00m _global_backward_hooks\n\u001b[1;32m   1500\u001b[0m         \u001b[39mor\u001b[39;00m _global_forward_hooks \u001b[39mor\u001b[39;00m _global_forward_pre_hooks):\n\u001b[0;32m-> 1501\u001b[0m     \u001b[39mreturn\u001b[39;00m forward_call(\u001b[39m*\u001b[39;49margs, \u001b[39m*\u001b[39;49m\u001b[39m*\u001b[39;49mkwargs)\n\u001b[1;32m   1502\u001b[0m \u001b[39m# Do not call functions when jit is used\u001b[39;00m\n\u001b[1;32m   1503\u001b[0m full_backward_hooks, non_full_backward_hooks \u001b[39m=\u001b[39m [], []\n",
      "File \u001b[0;32m~/anaconda3/envs/pytorch/lib/python3.8/site-packages/torch/nn/modules/loss.py:1174\u001b[0m, in \u001b[0;36mCrossEntropyLoss.forward\u001b[0;34m(self, input, target)\u001b[0m\n\u001b[1;32m   1173\u001b[0m \u001b[39mdef\u001b[39;00m \u001b[39mforward\u001b[39m(\u001b[39mself\u001b[39m, \u001b[39minput\u001b[39m: Tensor, target: Tensor) \u001b[39m-\u001b[39m\u001b[39m>\u001b[39m Tensor:\n\u001b[0;32m-> 1174\u001b[0m     \u001b[39mreturn\u001b[39;00m F\u001b[39m.\u001b[39;49mcross_entropy(\u001b[39minput\u001b[39;49m, target, weight\u001b[39m=\u001b[39;49m\u001b[39mself\u001b[39;49m\u001b[39m.\u001b[39;49mweight,\n\u001b[1;32m   1175\u001b[0m                            ignore_index\u001b[39m=\u001b[39;49m\u001b[39mself\u001b[39;49m\u001b[39m.\u001b[39;49mignore_index, reduction\u001b[39m=\u001b[39;49m\u001b[39mself\u001b[39;49m\u001b[39m.\u001b[39;49mreduction,\n\u001b[1;32m   1176\u001b[0m                            label_smoothing\u001b[39m=\u001b[39;49m\u001b[39mself\u001b[39;49m\u001b[39m.\u001b[39;49mlabel_smoothing)\n",
      "File \u001b[0;32m~/anaconda3/envs/pytorch/lib/python3.8/site-packages/torch/nn/functional.py:3029\u001b[0m, in \u001b[0;36mcross_entropy\u001b[0;34m(input, target, weight, size_average, ignore_index, reduce, reduction, label_smoothing)\u001b[0m\n\u001b[1;32m   3027\u001b[0m \u001b[39mif\u001b[39;00m size_average \u001b[39mis\u001b[39;00m \u001b[39mnot\u001b[39;00m \u001b[39mNone\u001b[39;00m \u001b[39mor\u001b[39;00m reduce \u001b[39mis\u001b[39;00m \u001b[39mnot\u001b[39;00m \u001b[39mNone\u001b[39;00m:\n\u001b[1;32m   3028\u001b[0m     reduction \u001b[39m=\u001b[39m _Reduction\u001b[39m.\u001b[39mlegacy_get_string(size_average, reduce)\n\u001b[0;32m-> 3029\u001b[0m \u001b[39mreturn\u001b[39;00m torch\u001b[39m.\u001b[39;49m_C\u001b[39m.\u001b[39;49m_nn\u001b[39m.\u001b[39;49mcross_entropy_loss(\u001b[39minput\u001b[39;49m, target, weight, _Reduction\u001b[39m.\u001b[39;49mget_enum(reduction), ignore_index, label_smoothing)\n",
      "\u001b[0;31mRuntimeError\u001b[0m: 0D or 1D target tensor expected, multi-target not supported"
     ]
    }
   ],
   "source": [
    "subjects = [2,3,4,5,6,7,8,9]\n",
    "# subjects = [4]\n",
    "\n",
    "observation_window = seq_len\n",
    "with open(\"results.json\", \"w\") as outfile:\n",
    "    \n",
    "    accuracy = []\n",
    "    for subject in (subjects):\n",
    "\n",
    "        model,optimizer,scheduler,criterion = initiate_model(input_dim=input_dim,output_dim=output_dim,transformer_params=transformer_params,learning_params=learning_params, tcn_model_params=tcn_model_params, model=model)\n",
    "        user_left_out = subject\n",
    "\n",
    "        train_dataloader, valid_dataloader = get_dataloaders(tasks,\n",
    "                                                            user_left_out,\n",
    "                                                            observation_window,\n",
    "                                                            prediction_window,\n",
    "                                                            batch_size,\n",
    "                                                            one_hot,\n",
    "                                                            class_names = class_names['Suturing'],\n",
    "                                                            feature_names = Features,\n",
    "                                                            include_image_features=include_image_features,\n",
    "                                                            cast = cast,\n",
    "                                                            normalizer = normalizer,\n",
    "                                                            step=step,\n",
    "                                                            window_wise= window_wise)\n",
    "\n",
    "\n",
    "\n",
    "        val_loss,acc, total_acc = traintest_loop(train_dataloader,valid_dataloader,model,optimizer,scheduler,criterion, epochs)\n",
    "        \n",
    "        # train_loop(dataloader=train_dataloader, model=model, optimizer=optimizer, scheduler=scheduler, criterion=criterion, epochs=epochs)\n",
    "\n",
    "        # # # evaluation loop\n",
    "        # val_loss, acc = eval_loop(model,valid_dataloader,criterion)\n",
    "        # print(f\"Valdiation Loss: {val_loss:.6f}\")\n",
    "        \n",
    "            \n",
    "        accuracy.append({'subject':subject, 'last_accuracy':acc,  'avg_accuracy':np.mean(total_acc), 'highest_accuracy':np.max(total_acc)})\n",
    "\n",
    "    # Serializing json\n",
    "    json_object = json.dumps(accuracy, indent=4)\n",
    "    outfile.write(json_object)\n",
    "        \n"
   ]
  },
  {
   "cell_type": "code",
   "execution_count": 55,
   "metadata": {},
   "outputs": [
    {
     "name": "stdout",
     "output_type": "stream",
     "text": [
      "Accuracy: 0.8254437869822485\n",
      "Valdiation Loss: 0.740955\n"
     ]
    }
   ],
   "source": [
    "val_loss, acc = eval_loop(model,valid_dataloader,criterion)\n",
    "print(f\"Valdiation Loss: {val_loss:.6f}\")\n",
    "\n",
    "        "
   ]
  },
  {
   "cell_type": "code",
   "execution_count": 17,
   "metadata": {},
   "outputs": [
    {
     "name": "stdout",
     "output_type": "stream",
     "text": [
      "{'subject': 2, 'last_accuracy': 0.6983606557377049, 'avg_accuracy': 0.6784699453551912, 'highest_accuracy': 0.7278688524590164}\n",
      "{'subject': 3, 'last_accuracy': 0.8458333333333333, 'avg_accuracy': 0.8284722222222222, 'highest_accuracy': 0.8708333333333333}\n",
      "{'subject': 4, 'last_accuracy': 0.6825396825396826, 'avg_accuracy': 0.7407407407407407, 'highest_accuracy': 0.798941798941799}\n",
      "{'subject': 5, 'last_accuracy': 0.8828451882845189, 'avg_accuracy': 0.8425383542538356, 'highest_accuracy': 0.8828451882845189}\n",
      "{'subject': 6, 'last_accuracy': 0.8979591836734694, 'avg_accuracy': 0.9074829931972789, 'highest_accuracy': 0.9489795918367347}\n",
      "{'subject': 7, 'last_accuracy': 0.7586206896551724, 'avg_accuracy': 0.74394341290893, 'highest_accuracy': 0.7957559681697612}\n",
      "{'subject': 8, 'last_accuracy': 0.8674242424242424, 'avg_accuracy': 0.8762626262626263, 'highest_accuracy': 0.8977272727272727}\n",
      "{'subject': 9, 'last_accuracy': 0.8284023668639053, 'avg_accuracy': 0.8496055226824457, 'highest_accuracy': 0.8875739644970414}\n",
      "0.8513157462811847\n"
     ]
    }
   ],
   "source": [
    "acc = []\n",
    "for x in accuracy:\n",
    "    print(x)\n",
    "    acc.append(x['highest_accuracy'])\n",
    "    \n",
    "print(np.average(acc))"
   ]
  },
  {
   "cell_type": "code",
   "execution_count": 22,
   "metadata": {},
   "outputs": [
    {
     "name": "stderr",
     "output_type": "stream",
     "text": [
      "[I 2023-08-16 16:29:33,585] A new study created in memory with name: no-name-35d1af8d-1a39-42bf-b540-ff817f5cd8a2\n"
     ]
    },
    {
     "name": "stdout",
     "output_type": "stream",
     "text": [
      "128 32\n",
      "[5555, 3420, 3267, 3256, 2847, 3155, 3266, 3048, 2449, 2527, 3583, 2925, 2516, 2869, 2482, 2803, 2374, 2235, 2372, 2028, 9011, 3378, 5160, 2620, 2453, 5274, 3320, 4020, 3279, 4310, 4411, 4145, 3730, 3700]\n",
      "['G1' 'G10' 'G11' 'G2' 'G3' 'G4' 'G5' 'G6' 'G8' 'G9']\n",
      "[0 0 0 ... 2 2 2]\n",
      "[[1. 0. 0. ... 0. 0. 0.]\n",
      " [1. 0. 0. ... 0. 0. 0.]\n",
      " [1. 0. 0. ... 0. 0. 0.]\n",
      " ...\n",
      " [0. 0. 1. ... 0. 0. 0.]\n",
      " [0. 0. 1. ... 0. 0. 0.]\n",
      " [0. 0. 1. ... 0. 0. 0.]]\n",
      "[2653, 2002, 2303, 2642, 1758]\n",
      "['G1' 'G10' 'G11' 'G2' 'G3' 'G4' 'G5' 'G6' 'G8' 'G9']\n",
      "[0 0 0 ... 2 2 2]\n",
      "[[1. 0. 0. ... 0. 0. 0.]\n",
      " [1. 0. 0. ... 0. 0. 0.]\n",
      " [1. 0. 0. ... 0. 0. 0.]\n",
      " ...\n",
      " [0. 0. 1. ... 0. 0. 0.]\n",
      " [0. 0. 1. ... 0. 0. 0.]\n",
      " [0. 0. 1. ... 0. 0. 0.]]\n"
     ]
    },
    {
     "name": "stderr",
     "output_type": "stream",
     "text": [
      "100%|██████████| 184/184 [00:01<00:00, 96.72it/s] \n"
     ]
    },
    {
     "name": "stdout",
     "output_type": "stream",
     "text": [
      "Training Epoch 1, Loss: 1.989756\n",
      "Accuracy: 0.3185840707964602\n",
      "Valdiation Epoch 1, Loss: 2.212640\n"
     ]
    },
    {
     "name": "stderr",
     "output_type": "stream",
     "text": [
      "100%|██████████| 184/184 [00:01<00:00, 101.36it/s]\n"
     ]
    },
    {
     "name": "stdout",
     "output_type": "stream",
     "text": [
      "Training Epoch 2, Loss: 1.831495\n",
      "Accuracy: 0.384070796460177\n",
      "Valdiation Epoch 2, Loss: 2.040069\n"
     ]
    },
    {
     "name": "stderr",
     "output_type": "stream",
     "text": [
      "100%|██████████| 184/184 [00:02<00:00, 89.99it/s] \n"
     ]
    },
    {
     "name": "stdout",
     "output_type": "stream",
     "text": [
      "Training Epoch 3, Loss: 1.609747\n",
      "Accuracy: 0.42123893805309737\n",
      "Valdiation Epoch 3, Loss: 1.921358\n"
     ]
    },
    {
     "name": "stderr",
     "output_type": "stream",
     "text": [
      "100%|██████████| 184/184 [00:01<00:00, 99.62it/s] \n"
     ]
    },
    {
     "name": "stdout",
     "output_type": "stream",
     "text": [
      "Training Epoch 4, Loss: 1.346222\n",
      "Accuracy: 0.5026548672566372\n",
      "Valdiation Epoch 4, Loss: 1.847432\n"
     ]
    },
    {
     "name": "stderr",
     "output_type": "stream",
     "text": [
      "100%|██████████| 184/184 [00:01<00:00, 107.14it/s]\n"
     ]
    },
    {
     "name": "stdout",
     "output_type": "stream",
     "text": [
      "Training Epoch 5, Loss: 1.221541\n",
      "Accuracy: 0.5061946902654867\n",
      "Valdiation Epoch 5, Loss: 1.854242\n"
     ]
    },
    {
     "name": "stderr",
     "output_type": "stream",
     "text": [
      "100%|██████████| 184/184 [00:01<00:00, 100.53it/s]\n"
     ]
    },
    {
     "name": "stdout",
     "output_type": "stream",
     "text": [
      "Training Epoch 6, Loss: 1.134125\n",
      "Accuracy: 0.5380530973451327\n",
      "Valdiation Epoch 6, Loss: 1.763192\n"
     ]
    },
    {
     "name": "stderr",
     "output_type": "stream",
     "text": [
      "100%|██████████| 184/184 [00:01<00:00, 100.61it/s]\n"
     ]
    },
    {
     "name": "stdout",
     "output_type": "stream",
     "text": [
      "Training Epoch 7, Loss: 1.053756\n",
      "Accuracy: 0.5876106194690266\n",
      "Valdiation Epoch 7, Loss: 1.676006\n"
     ]
    },
    {
     "name": "stderr",
     "output_type": "stream",
     "text": [
      "100%|██████████| 184/184 [00:01<00:00, 100.18it/s]\n"
     ]
    },
    {
     "name": "stdout",
     "output_type": "stream",
     "text": [
      "Training Epoch 8, Loss: 0.964839\n",
      "Accuracy: 0.6\n",
      "Valdiation Epoch 8, Loss: 1.632886\n"
     ]
    },
    {
     "name": "stderr",
     "output_type": "stream",
     "text": [
      "100%|██████████| 184/184 [00:02<00:00, 91.75it/s] \n"
     ]
    },
    {
     "name": "stdout",
     "output_type": "stream",
     "text": [
      "Training Epoch 9, Loss: 0.898802\n",
      "Accuracy: 0.6070796460176991\n",
      "Valdiation Epoch 9, Loss: 1.636561\n"
     ]
    },
    {
     "name": "stderr",
     "output_type": "stream",
     "text": [
      "100%|██████████| 184/184 [00:01<00:00, 99.24it/s] \n",
      "[I 2023-08-16 16:29:54,383] Trial 0 finished with value: 1.631595601638158 and parameters: {'lr': 3.728034909121344e-05, 'batch_size': 32, 'd_model': 7, 'nhead': 5, 'num_layers': 4, 'hidden_dim': 7, 'layer_dim': 3}. Best is trial 0 with value: 1.631595601638158.\n",
      "[I 2023-08-16 16:29:54,384] Trial 1 finished with value: 1000.0 and parameters: {'lr': 0.002644488635622877, 'batch_size': 64, 'd_model': 3, 'nhead': 5, 'num_layers': 1, 'hidden_dim': 5, 'layer_dim': 3}. Best is trial 0 with value: 1.631595601638158.\n",
      "[I 2023-08-16 16:29:54,386] Trial 2 finished with value: 1000.0 and parameters: {'lr': 9.773050463703564e-05, 'batch_size': 32, 'd_model': 2, 'nhead': 4, 'num_layers': 1, 'hidden_dim': 7, 'layer_dim': 3}. Best is trial 0 with value: 1.631595601638158.\n",
      "[I 2023-08-16 16:29:54,387] Trial 3 finished with value: 1000.0 and parameters: {'lr': 0.0001398402383436838, 'batch_size': 64, 'd_model': 2, 'nhead': 7, 'num_layers': 2, 'hidden_dim': 3, 'layer_dim': 3}. Best is trial 0 with value: 1.631595601638158.\n",
      "[I 2023-08-16 16:29:54,389] Trial 4 finished with value: 1000.0 and parameters: {'lr': 0.00044450301481925125, 'batch_size': 32, 'd_model': 5, 'nhead': 6, 'num_layers': 4, 'hidden_dim': 2, 'layer_dim': 1}. Best is trial 0 with value: 1.631595601638158.\n"
     ]
    },
    {
     "name": "stdout",
     "output_type": "stream",
     "text": [
      "Training Epoch 10, Loss: 0.847076\n",
      "Accuracy: 0.6141592920353982\n",
      "Valdiation Epoch 10, Loss: 1.631596\n",
      "8 32\n",
      "4 16\n",
      "4 128\n",
      "32 64\n",
      "8 2\n",
      "[5555, 3420, 3267, 3256, 2847, 3155, 3266, 3048, 2449, 2527, 3583, 2925, 2516, 2869, 2482, 2803, 2374, 2235, 2372, 2028, 9011, 3378, 5160, 2620, 2453, 5274, 3320, 4020, 3279, 4310, 4411, 4145, 3730, 3700]\n",
      "['G1' 'G10' 'G11' 'G2' 'G3' 'G4' 'G5' 'G6' 'G8' 'G9']\n",
      "[0 0 0 ... 2 2 2]\n",
      "[[1. 0. 0. ... 0. 0. 0.]\n",
      " [1. 0. 0. ... 0. 0. 0.]\n",
      " [1. 0. 0. ... 0. 0. 0.]\n",
      " ...\n",
      " [0. 0. 1. ... 0. 0. 0.]\n",
      " [0. 0. 1. ... 0. 0. 0.]\n",
      " [0. 0. 1. ... 0. 0. 0.]]\n",
      "[2653, 2002, 2303, 2642, 1758]\n",
      "['G1' 'G10' 'G11' 'G2' 'G3' 'G4' 'G5' 'G6' 'G8' 'G9']\n",
      "[0 0 0 ... 2 2 2]\n",
      "[[1. 0. 0. ... 0. 0. 0.]\n",
      " [1. 0. 0. ... 0. 0. 0.]\n",
      " [1. 0. 0. ... 0. 0. 0.]\n",
      " ...\n",
      " [0. 0. 1. ... 0. 0. 0.]\n",
      " [0. 0. 1. ... 0. 0. 0.]\n",
      " [0. 0. 1. ... 0. 0. 0.]]\n"
     ]
    },
    {
     "name": "stderr",
     "output_type": "stream",
     "text": [
      "100%|██████████| 184/184 [00:02<00:00, 77.87it/s]\n"
     ]
    },
    {
     "name": "stdout",
     "output_type": "stream",
     "text": [
      "Training Epoch 1, Loss: 1.887758\n",
      "Accuracy: 0.3185840707964602\n",
      "Valdiation Epoch 1, Loss: 2.400936\n"
     ]
    },
    {
     "name": "stderr",
     "output_type": "stream",
     "text": [
      "100%|██████████| 184/184 [00:02<00:00, 79.45it/s]\n"
     ]
    },
    {
     "name": "stdout",
     "output_type": "stream",
     "text": [
      "Training Epoch 2, Loss: 1.712712\n",
      "Accuracy: 0.4247787610619469\n",
      "Valdiation Epoch 2, Loss: 2.140376\n"
     ]
    },
    {
     "name": "stderr",
     "output_type": "stream",
     "text": [
      "100%|██████████| 184/184 [00:02<00:00, 75.01it/s]\n"
     ]
    },
    {
     "name": "stdout",
     "output_type": "stream",
     "text": [
      "Training Epoch 3, Loss: 1.463082\n",
      "Accuracy: 0.4247787610619469\n",
      "Valdiation Epoch 3, Loss: 2.190764\n"
     ]
    },
    {
     "name": "stderr",
     "output_type": "stream",
     "text": [
      "100%|██████████| 184/184 [00:02<00:00, 75.61it/s]\n"
     ]
    },
    {
     "name": "stdout",
     "output_type": "stream",
     "text": [
      "Training Epoch 4, Loss: 1.450687\n",
      "Accuracy: 0.4283185840707965\n",
      "Valdiation Epoch 4, Loss: 2.209381\n"
     ]
    },
    {
     "name": "stderr",
     "output_type": "stream",
     "text": [
      "100%|██████████| 184/184 [00:02<00:00, 79.78it/s]\n"
     ]
    },
    {
     "name": "stdout",
     "output_type": "stream",
     "text": [
      "Training Epoch 5, Loss: 1.438516\n",
      "Accuracy: 0.4265486725663717\n",
      "Valdiation Epoch 5, Loss: 2.202774\n"
     ]
    },
    {
     "name": "stderr",
     "output_type": "stream",
     "text": [
      "100%|██████████| 184/184 [00:02<00:00, 74.51it/s]\n"
     ]
    },
    {
     "name": "stdout",
     "output_type": "stream",
     "text": [
      "Training Epoch 6, Loss: 1.454949\n",
      "Accuracy: 0.42123893805309737\n",
      "Valdiation Epoch 6, Loss: 2.335448\n"
     ]
    },
    {
     "name": "stderr",
     "output_type": "stream",
     "text": [
      "100%|██████████| 184/184 [00:02<00:00, 80.06it/s]\n"
     ]
    },
    {
     "name": "stdout",
     "output_type": "stream",
     "text": [
      "Training Epoch 7, Loss: 1.446091\n",
      "Accuracy: 0.415929203539823\n",
      "Valdiation Epoch 7, Loss: 2.232809\n"
     ]
    },
    {
     "name": "stderr",
     "output_type": "stream",
     "text": [
      "100%|██████████| 184/184 [00:02<00:00, 76.66it/s]\n"
     ]
    },
    {
     "name": "stdout",
     "output_type": "stream",
     "text": [
      "Training Epoch 8, Loss: 1.434021\n",
      "Accuracy: 0.4176991150442478\n",
      "Valdiation Epoch 8, Loss: 2.116881\n"
     ]
    },
    {
     "name": "stderr",
     "output_type": "stream",
     "text": [
      "100%|██████████| 184/184 [00:02<00:00, 76.93it/s]\n"
     ]
    },
    {
     "name": "stdout",
     "output_type": "stream",
     "text": [
      "Training Epoch 9, Loss: 1.452710\n",
      "Accuracy: 0.40530973451327434\n",
      "Valdiation Epoch 9, Loss: 2.376370\n"
     ]
    },
    {
     "name": "stderr",
     "output_type": "stream",
     "text": [
      "100%|██████████| 184/184 [00:02<00:00, 82.12it/s]\n",
      "[I 2023-08-16 16:30:20,310] Trial 5 finished with value: 2.2965416577127247 and parameters: {'lr': 0.002672542956333305, 'batch_size': 32, 'd_model': 3, 'nhead': 1, 'num_layers': 4, 'hidden_dim': 8, 'layer_dim': 4}. Best is trial 0 with value: 1.631595601638158.\n",
      "[I 2023-08-16 16:30:20,312] Trial 6 finished with value: 1000.0 and parameters: {'lr': 5.669124118171992e-05, 'batch_size': 16, 'd_model': 1, 'nhead': 8, 'num_layers': 2, 'hidden_dim': 2, 'layer_dim': 3}. Best is trial 0 with value: 1.631595601638158.\n",
      "[I 2023-08-16 16:30:20,313] Trial 7 finished with value: 1000.0 and parameters: {'lr': 1.376402340726382e-05, 'batch_size': 16, 'd_model': 2, 'nhead': 8, 'num_layers': 2, 'hidden_dim': 2, 'layer_dim': 1}. Best is trial 0 with value: 1.631595601638158.\n",
      "[I 2023-08-16 16:30:20,314] Trial 8 finished with value: 1000.0 and parameters: {'lr': 0.0010017799722383508, 'batch_size': 32, 'd_model': 2, 'nhead': 3, 'num_layers': 4, 'hidden_dim': 8, 'layer_dim': 1}. Best is trial 0 with value: 1.631595601638158.\n"
     ]
    },
    {
     "name": "stdout",
     "output_type": "stream",
     "text": [
      "Training Epoch 10, Loss: 1.423365\n",
      "Accuracy: 0.41415929203539825\n",
      "Valdiation Epoch 10, Loss: 2.296542\n",
      "2 256\n",
      "4 256\n",
      "4 8\n",
      "128 128\n",
      "[5555, 3420, 3267, 3256, 2847, 3155, 3266, 3048, 2449, 2527, 3583, 2925, 2516, 2869, 2482, 2803, 2374, 2235, 2372, 2028, 9011, 3378, 5160, 2620, 2453, 5274, 3320, 4020, 3279, 4310, 4411, 4145, 3730, 3700]\n",
      "['G1' 'G10' 'G11' 'G2' 'G3' 'G4' 'G5' 'G6' 'G8' 'G9']\n",
      "[0 0 0 ... 2 2 2]\n",
      "[[1. 0. 0. ... 0. 0. 0.]\n",
      " [1. 0. 0. ... 0. 0. 0.]\n",
      " [1. 0. 0. ... 0. 0. 0.]\n",
      " ...\n",
      " [0. 0. 1. ... 0. 0. 0.]\n",
      " [0. 0. 1. ... 0. 0. 0.]\n",
      " [0. 0. 1. ... 0. 0. 0.]]\n",
      "[2653, 2002, 2303, 2642, 1758]\n",
      "['G1' 'G10' 'G11' 'G2' 'G3' 'G4' 'G5' 'G6' 'G8' 'G9']\n",
      "[0 0 0 ... 2 2 2]\n",
      "[[1. 0. 0. ... 0. 0. 0.]\n",
      " [1. 0. 0. ... 0. 0. 0.]\n",
      " [1. 0. 0. ... 0. 0. 0.]\n",
      " ...\n",
      " [0. 0. 1. ... 0. 0. 0.]\n",
      " [0. 0. 1. ... 0. 0. 0.]\n",
      " [0. 0. 1. ... 0. 0. 0.]]\n"
     ]
    },
    {
     "name": "stderr",
     "output_type": "stream",
     "text": [
      "100%|██████████| 184/184 [00:01<00:00, 95.53it/s] \n"
     ]
    },
    {
     "name": "stdout",
     "output_type": "stream",
     "text": [
      "Training Epoch 1, Loss: 1.902853\n",
      "Accuracy: 0.3185840707964602\n",
      "Valdiation Epoch 1, Loss: 2.408318\n"
     ]
    },
    {
     "name": "stderr",
     "output_type": "stream",
     "text": [
      "100%|██████████| 184/184 [00:01<00:00, 106.79it/s]\n"
     ]
    },
    {
     "name": "stdout",
     "output_type": "stream",
     "text": [
      "Training Epoch 2, Loss: 1.863525\n",
      "Accuracy: 0.3185840707964602\n",
      "Valdiation Epoch 2, Loss: 2.412701\n"
     ]
    },
    {
     "name": "stderr",
     "output_type": "stream",
     "text": [
      "100%|██████████| 184/184 [00:01<00:00, 112.03it/s]\n"
     ]
    },
    {
     "name": "stdout",
     "output_type": "stream",
     "text": [
      "Training Epoch 3, Loss: 1.860525\n",
      "Accuracy: 0.3185840707964602\n",
      "Valdiation Epoch 3, Loss: 2.388243\n"
     ]
    },
    {
     "name": "stderr",
     "output_type": "stream",
     "text": [
      "100%|██████████| 184/184 [00:01<00:00, 131.04it/s]\n"
     ]
    },
    {
     "name": "stdout",
     "output_type": "stream",
     "text": [
      "Training Epoch 4, Loss: 1.864474\n",
      "Accuracy: 0.3185840707964602\n",
      "Valdiation Epoch 4, Loss: 2.455631\n"
     ]
    },
    {
     "name": "stderr",
     "output_type": "stream",
     "text": [
      "100%|██████████| 184/184 [00:01<00:00, 100.58it/s]\n"
     ]
    },
    {
     "name": "stdout",
     "output_type": "stream",
     "text": [
      "Training Epoch 5, Loss: 1.861396\n",
      "Accuracy: 0.3185840707964602\n",
      "Valdiation Epoch 5, Loss: 2.421481\n"
     ]
    },
    {
     "name": "stderr",
     "output_type": "stream",
     "text": [
      "100%|██████████| 184/184 [00:01<00:00, 97.31it/s] \n"
     ]
    },
    {
     "name": "stdout",
     "output_type": "stream",
     "text": [
      "Training Epoch 6, Loss: 1.858200\n",
      "Accuracy: 0.3185840707964602\n",
      "Valdiation Epoch 6, Loss: 2.485455\n"
     ]
    },
    {
     "name": "stderr",
     "output_type": "stream",
     "text": [
      "100%|██████████| 184/184 [00:01<00:00, 99.53it/s] \n"
     ]
    },
    {
     "name": "stdout",
     "output_type": "stream",
     "text": [
      "Training Epoch 7, Loss: 1.858619\n",
      "Accuracy: 0.3185840707964602\n",
      "Valdiation Epoch 7, Loss: 2.407307\n"
     ]
    },
    {
     "name": "stderr",
     "output_type": "stream",
     "text": [
      "100%|██████████| 184/184 [00:01<00:00, 98.94it/s] \n"
     ]
    },
    {
     "name": "stdout",
     "output_type": "stream",
     "text": [
      "Training Epoch 8, Loss: 1.859095\n",
      "Accuracy: 0.3185840707964602\n",
      "Valdiation Epoch 8, Loss: 2.418487\n"
     ]
    },
    {
     "name": "stderr",
     "output_type": "stream",
     "text": [
      "100%|██████████| 184/184 [00:01<00:00, 111.22it/s]\n"
     ]
    },
    {
     "name": "stdout",
     "output_type": "stream",
     "text": [
      "Training Epoch 9, Loss: 1.859056\n",
      "Accuracy: 0.3185840707964602\n",
      "Valdiation Epoch 9, Loss: 2.446940\n"
     ]
    },
    {
     "name": "stderr",
     "output_type": "stream",
     "text": [
      "100%|██████████| 184/184 [00:01<00:00, 101.06it/s]\n",
      "[I 2023-08-16 16:30:39,975] Trial 9 finished with value: 2.414829366736942 and parameters: {'lr': 0.0009648728381199701, 'batch_size': 32, 'd_model': 7, 'nhead': 7, 'num_layers': 4, 'hidden_dim': 5, 'layer_dim': 4}. Best is trial 0 with value: 1.631595601638158.\n"
     ]
    },
    {
     "name": "stdout",
     "output_type": "stream",
     "text": [
      "Training Epoch 10, Loss: 1.860109\n",
      "Accuracy: 0.3185840707964602\n",
      "Valdiation Epoch 10, Loss: 2.414829\n",
      "256 4\n",
      "[5555, 3420, 3267, 3256, 2847, 3155, 3266, 3048, 2449, 2527, 3583, 2925, 2516, 2869, 2482, 2803, 2374, 2235, 2372, 2028, 9011, 3378, 5160, 2620, 2453, 5274, 3320, 4020, 3279, 4310, 4411, 4145, 3730, 3700]\n",
      "['G1' 'G10' 'G11' 'G2' 'G3' 'G4' 'G5' 'G6' 'G8' 'G9']\n",
      "[0 0 0 ... 2 2 2]\n",
      "[[1. 0. 0. ... 0. 0. 0.]\n",
      " [1. 0. 0. ... 0. 0. 0.]\n",
      " [1. 0. 0. ... 0. 0. 0.]\n",
      " ...\n",
      " [0. 0. 1. ... 0. 0. 0.]\n",
      " [0. 0. 1. ... 0. 0. 0.]\n",
      " [0. 0. 1. ... 0. 0. 0.]]\n",
      "[2653, 2002, 2303, 2642, 1758]\n",
      "['G1' 'G10' 'G11' 'G2' 'G3' 'G4' 'G5' 'G6' 'G8' 'G9']\n",
      "[0 0 0 ... 2 2 2]\n",
      "[[1. 0. 0. ... 0. 0. 0.]\n",
      " [1. 0. 0. ... 0. 0. 0.]\n",
      " [1. 0. 0. ... 0. 0. 0.]\n",
      " ...\n",
      " [0. 0. 1. ... 0. 0. 0.]\n",
      " [0. 0. 1. ... 0. 0. 0.]\n",
      " [0. 0. 1. ... 0. 0. 0.]]\n"
     ]
    },
    {
     "name": "stderr",
     "output_type": "stream",
     "text": [
      "100%|██████████| 368/368 [00:03<00:00, 100.40it/s]\n"
     ]
    },
    {
     "name": "stdout",
     "output_type": "stream",
     "text": [
      "Training Epoch 1, Loss: 2.023251\n",
      "Accuracy: 0.384070796460177\n",
      "Valdiation Epoch 1, Loss: 2.030535\n"
     ]
    },
    {
     "name": "stderr",
     "output_type": "stream",
     "text": [
      "100%|██████████| 368/368 [00:03<00:00, 95.57it/s] \n"
     ]
    },
    {
     "name": "stdout",
     "output_type": "stream",
     "text": [
      "Training Epoch 2, Loss: 1.737015\n",
      "Accuracy: 0.4230088495575221\n",
      "Valdiation Epoch 2, Loss: 1.867464\n"
     ]
    },
    {
     "name": "stderr",
     "output_type": "stream",
     "text": [
      "100%|██████████| 368/368 [00:03<00:00, 105.33it/s]\n"
     ]
    },
    {
     "name": "stdout",
     "output_type": "stream",
     "text": [
      "Training Epoch 3, Loss: 1.536570\n",
      "Accuracy: 0.49911504424778763\n",
      "Valdiation Epoch 3, Loss: 1.769928\n"
     ]
    },
    {
     "name": "stderr",
     "output_type": "stream",
     "text": [
      "100%|██████████| 368/368 [00:03<00:00, 104.99it/s]\n"
     ]
    },
    {
     "name": "stdout",
     "output_type": "stream",
     "text": [
      "Training Epoch 4, Loss: 1.392397\n",
      "Accuracy: 0.5238938053097345\n",
      "Valdiation Epoch 4, Loss: 1.676034\n"
     ]
    },
    {
     "name": "stderr",
     "output_type": "stream",
     "text": [
      "100%|██████████| 368/368 [00:03<00:00, 98.00it/s] \n"
     ]
    },
    {
     "name": "stdout",
     "output_type": "stream",
     "text": [
      "Training Epoch 5, Loss: 1.278185\n",
      "Accuracy: 0.5380530973451327\n",
      "Valdiation Epoch 5, Loss: 1.594268\n"
     ]
    },
    {
     "name": "stderr",
     "output_type": "stream",
     "text": [
      "100%|██████████| 368/368 [00:03<00:00, 99.65it/s] \n"
     ]
    },
    {
     "name": "stdout",
     "output_type": "stream",
     "text": [
      "Training Epoch 6, Loss: 1.178322\n",
      "Accuracy: 0.6106194690265486\n",
      "Valdiation Epoch 6, Loss: 1.554988\n"
     ]
    },
    {
     "name": "stderr",
     "output_type": "stream",
     "text": [
      "100%|██████████| 368/368 [00:03<00:00, 99.80it/s] \n"
     ]
    },
    {
     "name": "stdout",
     "output_type": "stream",
     "text": [
      "Training Epoch 7, Loss: 1.098045\n",
      "Accuracy: 0.6247787610619469\n",
      "Valdiation Epoch 7, Loss: 1.512707\n"
     ]
    },
    {
     "name": "stderr",
     "output_type": "stream",
     "text": [
      "100%|██████████| 368/368 [00:03<00:00, 98.87it/s] \n"
     ]
    },
    {
     "name": "stdout",
     "output_type": "stream",
     "text": [
      "Training Epoch 8, Loss: 1.031201\n",
      "Accuracy: 0.6460176991150443\n",
      "Valdiation Epoch 8, Loss: 1.451976\n"
     ]
    },
    {
     "name": "stderr",
     "output_type": "stream",
     "text": [
      "100%|██████████| 368/368 [00:03<00:00, 100.40it/s]\n"
     ]
    },
    {
     "name": "stdout",
     "output_type": "stream",
     "text": [
      "Training Epoch 9, Loss: 0.968925\n",
      "Accuracy: 0.6442477876106195\n",
      "Valdiation Epoch 9, Loss: 1.438122\n"
     ]
    },
    {
     "name": "stderr",
     "output_type": "stream",
     "text": [
      "100%|██████████| 368/368 [00:03<00:00, 98.27it/s] \n",
      "[I 2023-08-16 16:31:19,411] Trial 10 finished with value: 1.4055613424215052 and parameters: {'lr': 1.3402867981293304e-05, 'batch_size': 16, 'd_model': 8, 'nhead': 2, 'num_layers': 4, 'hidden_dim': 6, 'layer_dim': 2}. Best is trial 10 with value: 1.4055613424215052.\n"
     ]
    },
    {
     "name": "stdout",
     "output_type": "stream",
     "text": [
      "Training Epoch 10, Loss: 0.918996\n",
      "Accuracy: 0.6548672566371682\n",
      "Valdiation Epoch 10, Loss: 1.405561\n",
      "256 4\n",
      "[5555, 3420, 3267, 3256, 2847, 3155, 3266, 3048, 2449, 2527, 3583, 2925, 2516, 2869, 2482, 2803, 2374, 2235, 2372, 2028, 9011, 3378, 5160, 2620, 2453, 5274, 3320, 4020, 3279, 4310, 4411, 4145, 3730, 3700]\n",
      "['G1' 'G10' 'G11' 'G2' 'G3' 'G4' 'G5' 'G6' 'G8' 'G9']\n",
      "[0 0 0 ... 2 2 2]\n",
      "[[1. 0. 0. ... 0. 0. 0.]\n",
      " [1. 0. 0. ... 0. 0. 0.]\n",
      " [1. 0. 0. ... 0. 0. 0.]\n",
      " ...\n",
      " [0. 0. 1. ... 0. 0. 0.]\n",
      " [0. 0. 1. ... 0. 0. 0.]\n",
      " [0. 0. 1. ... 0. 0. 0.]]\n",
      "[2653, 2002, 2303, 2642, 1758]\n",
      "['G1' 'G10' 'G11' 'G2' 'G3' 'G4' 'G5' 'G6' 'G8' 'G9']\n",
      "[0 0 0 ... 2 2 2]\n",
      "[[1. 0. 0. ... 0. 0. 0.]\n",
      " [1. 0. 0. ... 0. 0. 0.]\n",
      " [1. 0. 0. ... 0. 0. 0.]\n",
      " ...\n",
      " [0. 0. 1. ... 0. 0. 0.]\n",
      " [0. 0. 1. ... 0. 0. 0.]\n",
      " [0. 0. 1. ... 0. 0. 0.]]\n"
     ]
    },
    {
     "name": "stderr",
     "output_type": "stream",
     "text": [
      "100%|██████████| 368/368 [00:03<00:00, 101.82it/s]\n"
     ]
    },
    {
     "name": "stdout",
     "output_type": "stream",
     "text": [
      "Training Epoch 1, Loss: 2.020089\n",
      "Accuracy: 0.3805309734513274\n",
      "Valdiation Epoch 1, Loss: 2.034005\n"
     ]
    },
    {
     "name": "stderr",
     "output_type": "stream",
     "text": [
      "100%|██████████| 368/368 [00:03<00:00, 109.22it/s]\n"
     ]
    },
    {
     "name": "stdout",
     "output_type": "stream",
     "text": [
      "Training Epoch 2, Loss: 1.757848\n",
      "Accuracy: 0.4230088495575221\n",
      "Valdiation Epoch 2, Loss: 1.899425\n"
     ]
    },
    {
     "name": "stderr",
     "output_type": "stream",
     "text": [
      "100%|██████████| 368/368 [00:03<00:00, 101.35it/s]\n"
     ]
    },
    {
     "name": "stdout",
     "output_type": "stream",
     "text": [
      "Training Epoch 3, Loss: 1.566258\n",
      "Accuracy: 0.4849557522123894\n",
      "Valdiation Epoch 3, Loss: 1.758177\n"
     ]
    },
    {
     "name": "stderr",
     "output_type": "stream",
     "text": [
      "100%|██████████| 368/368 [00:03<00:00, 97.97it/s] \n"
     ]
    },
    {
     "name": "stdout",
     "output_type": "stream",
     "text": [
      "Training Epoch 4, Loss: 1.407727\n",
      "Accuracy: 0.5132743362831859\n",
      "Valdiation Epoch 4, Loss: 1.724452\n"
     ]
    },
    {
     "name": "stderr",
     "output_type": "stream",
     "text": [
      "100%|██████████| 368/368 [00:03<00:00, 102.01it/s]\n"
     ]
    },
    {
     "name": "stdout",
     "output_type": "stream",
     "text": [
      "Training Epoch 5, Loss: 1.281709\n",
      "Accuracy: 0.5787610619469027\n",
      "Valdiation Epoch 5, Loss: 1.668945\n"
     ]
    },
    {
     "name": "stderr",
     "output_type": "stream",
     "text": [
      "100%|██████████| 368/368 [00:03<00:00, 99.62it/s] \n"
     ]
    },
    {
     "name": "stdout",
     "output_type": "stream",
     "text": [
      "Training Epoch 6, Loss: 1.185399\n",
      "Accuracy: 0.5610619469026549\n",
      "Valdiation Epoch 6, Loss: 1.615878\n"
     ]
    },
    {
     "name": "stderr",
     "output_type": "stream",
     "text": [
      "100%|██████████| 368/368 [00:03<00:00, 113.29it/s]\n"
     ]
    },
    {
     "name": "stdout",
     "output_type": "stream",
     "text": [
      "Training Epoch 7, Loss: 1.110949\n",
      "Accuracy: 0.6106194690265486\n",
      "Valdiation Epoch 7, Loss: 1.557448\n"
     ]
    },
    {
     "name": "stderr",
     "output_type": "stream",
     "text": [
      "100%|██████████| 368/368 [00:03<00:00, 118.68it/s]\n"
     ]
    },
    {
     "name": "stdout",
     "output_type": "stream",
     "text": [
      "Training Epoch 8, Loss: 1.048848\n",
      "Accuracy: 0.6159292035398231\n",
      "Valdiation Epoch 8, Loss: 1.530621\n"
     ]
    },
    {
     "name": "stderr",
     "output_type": "stream",
     "text": [
      "100%|██████████| 368/368 [00:03<00:00, 100.18it/s]\n"
     ]
    },
    {
     "name": "stdout",
     "output_type": "stream",
     "text": [
      "Training Epoch 9, Loss: 0.994410\n",
      "Accuracy: 0.6070796460176991\n",
      "Valdiation Epoch 9, Loss: 1.533811\n"
     ]
    },
    {
     "name": "stderr",
     "output_type": "stream",
     "text": [
      "100%|██████████| 368/368 [00:03<00:00, 96.65it/s] \n",
      "[I 2023-08-16 16:31:57,171] Trial 11 finished with value: 1.5155018948846393 and parameters: {'lr': 1.2799199968601687e-05, 'batch_size': 16, 'd_model': 8, 'nhead': 2, 'num_layers': 4, 'hidden_dim': 6, 'layer_dim': 2}. Best is trial 10 with value: 1.4055613424215052.\n"
     ]
    },
    {
     "name": "stdout",
     "output_type": "stream",
     "text": [
      "Training Epoch 10, Loss: 0.947628\n",
      "Accuracy: 0.6247787610619469\n",
      "Valdiation Epoch 10, Loss: 1.515502\n",
      "256 2\n",
      "[5555, 3420, 3267, 3256, 2847, 3155, 3266, 3048, 2449, 2527, 3583, 2925, 2516, 2869, 2482, 2803, 2374, 2235, 2372, 2028, 9011, 3378, 5160, 2620, 2453, 5274, 3320, 4020, 3279, 4310, 4411, 4145, 3730, 3700]\n",
      "['G1' 'G10' 'G11' 'G2' 'G3' 'G4' 'G5' 'G6' 'G8' 'G9']\n",
      "[0 0 0 ... 2 2 2]\n",
      "[[1. 0. 0. ... 0. 0. 0.]\n",
      " [1. 0. 0. ... 0. 0. 0.]\n",
      " [1. 0. 0. ... 0. 0. 0.]\n",
      " ...\n",
      " [0. 0. 1. ... 0. 0. 0.]\n",
      " [0. 0. 1. ... 0. 0. 0.]\n",
      " [0. 0. 1. ... 0. 0. 0.]]\n",
      "[2653, 2002, 2303, 2642, 1758]\n",
      "['G1' 'G10' 'G11' 'G2' 'G3' 'G4' 'G5' 'G6' 'G8' 'G9']\n",
      "[0 0 0 ... 2 2 2]\n",
      "[[1. 0. 0. ... 0. 0. 0.]\n",
      " [1. 0. 0. ... 0. 0. 0.]\n",
      " [1. 0. 0. ... 0. 0. 0.]\n",
      " ...\n",
      " [0. 0. 1. ... 0. 0. 0.]\n",
      " [0. 0. 1. ... 0. 0. 0.]\n",
      " [0. 0. 1. ... 0. 0. 0.]]\n"
     ]
    },
    {
     "name": "stderr",
     "output_type": "stream",
     "text": [
      "100%|██████████| 368/368 [00:03<00:00, 99.93it/s] \n"
     ]
    },
    {
     "name": "stdout",
     "output_type": "stream",
     "text": [
      "Training Epoch 1, Loss: 2.017936\n",
      "Accuracy: 0.3185840707964602\n",
      "Valdiation Epoch 1, Loss: 2.057485\n"
     ]
    },
    {
     "name": "stderr",
     "output_type": "stream",
     "text": [
      "100%|██████████| 368/368 [00:03<00:00, 98.54it/s] \n"
     ]
    },
    {
     "name": "stdout",
     "output_type": "stream",
     "text": [
      "Training Epoch 2, Loss: 1.764935\n",
      "Accuracy: 0.431858407079646\n",
      "Valdiation Epoch 2, Loss: 1.855802\n"
     ]
    },
    {
     "name": "stderr",
     "output_type": "stream",
     "text": [
      "100%|██████████| 368/368 [00:03<00:00, 96.83it/s] \n"
     ]
    },
    {
     "name": "stdout",
     "output_type": "stream",
     "text": [
      "Training Epoch 3, Loss: 1.573829\n",
      "Accuracy: 0.5469026548672566\n",
      "Valdiation Epoch 3, Loss: 1.708806\n"
     ]
    },
    {
     "name": "stderr",
     "output_type": "stream",
     "text": [
      "100%|██████████| 368/368 [00:03<00:00, 98.63it/s] \n"
     ]
    },
    {
     "name": "stdout",
     "output_type": "stream",
     "text": [
      "Training Epoch 4, Loss: 1.413578\n",
      "Accuracy: 0.5858407079646017\n",
      "Valdiation Epoch 4, Loss: 1.646710\n"
     ]
    },
    {
     "name": "stderr",
     "output_type": "stream",
     "text": [
      "100%|██████████| 368/368 [00:03<00:00, 100.31it/s]\n"
     ]
    },
    {
     "name": "stdout",
     "output_type": "stream",
     "text": [
      "Training Epoch 5, Loss: 1.283898\n",
      "Accuracy: 0.6053097345132743\n",
      "Valdiation Epoch 5, Loss: 1.581054\n"
     ]
    },
    {
     "name": "stderr",
     "output_type": "stream",
     "text": [
      "100%|██████████| 368/368 [00:03<00:00, 101.06it/s]\n"
     ]
    },
    {
     "name": "stdout",
     "output_type": "stream",
     "text": [
      "Training Epoch 6, Loss: 1.185285\n",
      "Accuracy: 0.6176991150442478\n",
      "Valdiation Epoch 6, Loss: 1.548029\n"
     ]
    },
    {
     "name": "stderr",
     "output_type": "stream",
     "text": [
      "100%|██████████| 368/368 [00:03<00:00, 99.96it/s] \n"
     ]
    },
    {
     "name": "stdout",
     "output_type": "stream",
     "text": [
      "Training Epoch 7, Loss: 1.112770\n",
      "Accuracy: 0.6053097345132743\n",
      "Valdiation Epoch 7, Loss: 1.570718\n"
     ]
    },
    {
     "name": "stderr",
     "output_type": "stream",
     "text": [
      "100%|██████████| 368/368 [00:03<00:00, 102.93it/s]\n"
     ]
    },
    {
     "name": "stdout",
     "output_type": "stream",
     "text": [
      "Training Epoch 8, Loss: 1.049970\n",
      "Accuracy: 0.6123893805309735\n",
      "Valdiation Epoch 8, Loss: 1.533920\n"
     ]
    },
    {
     "name": "stderr",
     "output_type": "stream",
     "text": [
      "100%|██████████| 368/368 [00:03<00:00, 104.74it/s]\n"
     ]
    },
    {
     "name": "stdout",
     "output_type": "stream",
     "text": [
      "Training Epoch 9, Loss: 1.003354\n",
      "Accuracy: 0.6283185840707964\n",
      "Valdiation Epoch 9, Loss: 1.508627\n"
     ]
    },
    {
     "name": "stderr",
     "output_type": "stream",
     "text": [
      "100%|██████████| 368/368 [00:03<00:00, 104.40it/s]\n",
      "[I 2023-08-16 16:32:36,641] Trial 12 finished with value: 1.531637358168761 and parameters: {'lr': 1.2949599664221451e-05, 'batch_size': 16, 'd_model': 8, 'nhead': 1, 'num_layers': 4, 'hidden_dim': 6, 'layer_dim': 2}. Best is trial 10 with value: 1.4055613424215052.\n"
     ]
    },
    {
     "name": "stdout",
     "output_type": "stream",
     "text": [
      "Training Epoch 10, Loss: 0.956583\n",
      "Accuracy: 0.6336283185840708\n",
      "Valdiation Epoch 10, Loss: 1.531637\n",
      "64 4\n",
      "[5555, 3420, 3267, 3256, 2847, 3155, 3266, 3048, 2449, 2527, 3583, 2925, 2516, 2869, 2482, 2803, 2374, 2235, 2372, 2028, 9011, 3378, 5160, 2620, 2453, 5274, 3320, 4020, 3279, 4310, 4411, 4145, 3730, 3700]\n",
      "['G1' 'G10' 'G11' 'G2' 'G3' 'G4' 'G5' 'G6' 'G8' 'G9']\n",
      "[0 0 0 ... 2 2 2]\n",
      "[[1. 0. 0. ... 0. 0. 0.]\n",
      " [1. 0. 0. ... 0. 0. 0.]\n",
      " [1. 0. 0. ... 0. 0. 0.]\n",
      " ...\n",
      " [0. 0. 1. ... 0. 0. 0.]\n",
      " [0. 0. 1. ... 0. 0. 0.]\n",
      " [0. 0. 1. ... 0. 0. 0.]]\n",
      "[2653, 2002, 2303, 2642, 1758]\n",
      "['G1' 'G10' 'G11' 'G2' 'G3' 'G4' 'G5' 'G6' 'G8' 'G9']\n",
      "[0 0 0 ... 2 2 2]\n",
      "[[1. 0. 0. ... 0. 0. 0.]\n",
      " [1. 0. 0. ... 0. 0. 0.]\n",
      " [1. 0. 0. ... 0. 0. 0.]\n",
      " ...\n",
      " [0. 0. 1. ... 0. 0. 0.]\n",
      " [0. 0. 1. ... 0. 0. 0.]\n",
      " [0. 0. 1. ... 0. 0. 0.]]\n"
     ]
    },
    {
     "name": "stderr",
     "output_type": "stream",
     "text": [
      "100%|██████████| 368/368 [00:03<00:00, 111.48it/s]\n"
     ]
    },
    {
     "name": "stdout",
     "output_type": "stream",
     "text": [
      "Training Epoch 1, Loss: 2.184856\n",
      "Accuracy: 0.3185840707964602\n",
      "Valdiation Epoch 1, Loss: 2.190975\n"
     ]
    },
    {
     "name": "stderr",
     "output_type": "stream",
     "text": [
      "100%|██████████| 368/368 [00:03<00:00, 106.50it/s]\n"
     ]
    },
    {
     "name": "stdout",
     "output_type": "stream",
     "text": [
      "Training Epoch 2, Loss: 2.051529\n",
      "Accuracy: 0.3663716814159292\n",
      "Valdiation Epoch 2, Loss: 2.095003\n"
     ]
    },
    {
     "name": "stderr",
     "output_type": "stream",
     "text": [
      "100%|██████████| 368/368 [00:03<00:00, 112.55it/s]\n"
     ]
    },
    {
     "name": "stdout",
     "output_type": "stream",
     "text": [
      "Training Epoch 3, Loss: 1.930460\n",
      "Accuracy: 0.40176991150442476\n",
      "Valdiation Epoch 3, Loss: 2.007150\n"
     ]
    },
    {
     "name": "stderr",
     "output_type": "stream",
     "text": [
      "100%|██████████| 368/368 [00:03<00:00, 104.69it/s]\n"
     ]
    },
    {
     "name": "stdout",
     "output_type": "stream",
     "text": [
      "Training Epoch 4, Loss: 1.830073\n",
      "Accuracy: 0.4265486725663717\n",
      "Valdiation Epoch 4, Loss: 1.950243\n"
     ]
    },
    {
     "name": "stderr",
     "output_type": "stream",
     "text": [
      "100%|██████████| 368/368 [00:03<00:00, 107.99it/s]\n"
     ]
    },
    {
     "name": "stdout",
     "output_type": "stream",
     "text": [
      "Training Epoch 5, Loss: 1.747645\n",
      "Accuracy: 0.4247787610619469\n",
      "Valdiation Epoch 5, Loss: 1.919154\n"
     ]
    },
    {
     "name": "stderr",
     "output_type": "stream",
     "text": [
      "100%|██████████| 368/368 [00:03<00:00, 97.35it/s] \n"
     ]
    },
    {
     "name": "stdout",
     "output_type": "stream",
     "text": [
      "Training Epoch 6, Loss: 1.676481\n",
      "Accuracy: 0.431858407079646\n",
      "Valdiation Epoch 6, Loss: 1.871671\n"
     ]
    },
    {
     "name": "stderr",
     "output_type": "stream",
     "text": [
      "100%|██████████| 368/368 [00:03<00:00, 107.32it/s]\n"
     ]
    },
    {
     "name": "stdout",
     "output_type": "stream",
     "text": [
      "Training Epoch 7, Loss: 1.610410\n",
      "Accuracy: 0.4389380530973451\n",
      "Valdiation Epoch 7, Loss: 1.820826\n"
     ]
    },
    {
     "name": "stderr",
     "output_type": "stream",
     "text": [
      "100%|██████████| 368/368 [00:02<00:00, 150.22it/s]\n"
     ]
    },
    {
     "name": "stdout",
     "output_type": "stream",
     "text": [
      "Training Epoch 8, Loss: 1.546204\n",
      "Accuracy: 0.44424778761061945\n",
      "Valdiation Epoch 8, Loss: 1.784152\n"
     ]
    },
    {
     "name": "stderr",
     "output_type": "stream",
     "text": [
      "100%|██████████| 368/368 [00:03<00:00, 113.11it/s]\n"
     ]
    },
    {
     "name": "stdout",
     "output_type": "stream",
     "text": [
      "Training Epoch 9, Loss: 1.490091\n",
      "Accuracy: 0.5008849557522124\n",
      "Valdiation Epoch 9, Loss: 1.751974\n"
     ]
    },
    {
     "name": "stderr",
     "output_type": "stream",
     "text": [
      "100%|██████████| 368/368 [00:03<00:00, 109.82it/s]\n",
      "[I 2023-08-16 16:33:12,420] Trial 13 finished with value: 1.7387425071663327 and parameters: {'lr': 2.4460754482140534e-05, 'batch_size': 16, 'd_model': 6, 'nhead': 2, 'num_layers': 4, 'hidden_dim': 4, 'layer_dim': 2}. Best is trial 10 with value: 1.4055613424215052.\n"
     ]
    },
    {
     "name": "stdout",
     "output_type": "stream",
     "text": [
      "Training Epoch 10, Loss: 1.437884\n",
      "Accuracy: 0.511504424778761\n",
      "Valdiation Epoch 10, Loss: 1.738743\n",
      "256 8\n",
      "[5555, 3420, 3267, 3256, 2847, 3155, 3266, 3048, 2449, 2527, 3583, 2925, 2516, 2869, 2482, 2803, 2374, 2235, 2372, 2028, 9011, 3378, 5160, 2620, 2453, 5274, 3320, 4020, 3279, 4310, 4411, 4145, 3730, 3700]\n",
      "['G1' 'G10' 'G11' 'G2' 'G3' 'G4' 'G5' 'G6' 'G8' 'G9']\n",
      "[0 0 0 ... 2 2 2]\n",
      "[[1. 0. 0. ... 0. 0. 0.]\n",
      " [1. 0. 0. ... 0. 0. 0.]\n",
      " [1. 0. 0. ... 0. 0. 0.]\n",
      " ...\n",
      " [0. 0. 1. ... 0. 0. 0.]\n",
      " [0. 0. 1. ... 0. 0. 0.]\n",
      " [0. 0. 1. ... 0. 0. 0.]]\n",
      "[2653, 2002, 2303, 2642, 1758]\n",
      "['G1' 'G10' 'G11' 'G2' 'G3' 'G4' 'G5' 'G6' 'G8' 'G9']\n",
      "[0 0 0 ... 2 2 2]\n",
      "[[1. 0. 0. ... 0. 0. 0.]\n",
      " [1. 0. 0. ... 0. 0. 0.]\n",
      " [1. 0. 0. ... 0. 0. 0.]\n",
      " ...\n",
      " [0. 0. 1. ... 0. 0. 0.]\n",
      " [0. 0. 1. ... 0. 0. 0.]\n",
      " [0. 0. 1. ... 0. 0. 0.]]\n"
     ]
    },
    {
     "name": "stderr",
     "output_type": "stream",
     "text": [
      "100%|██████████| 368/368 [00:03<00:00, 106.73it/s]\n"
     ]
    },
    {
     "name": "stdout",
     "output_type": "stream",
     "text": [
      "Training Epoch 1, Loss: 2.016327\n",
      "Accuracy: 0.3398230088495575\n",
      "Valdiation Epoch 1, Loss: 1.981180\n"
     ]
    },
    {
     "name": "stderr",
     "output_type": "stream",
     "text": [
      "100%|██████████| 368/368 [00:03<00:00, 104.44it/s]\n"
     ]
    },
    {
     "name": "stdout",
     "output_type": "stream",
     "text": [
      "Training Epoch 2, Loss: 1.734777\n",
      "Accuracy: 0.49380530973451325\n",
      "Valdiation Epoch 2, Loss: 1.787762\n"
     ]
    },
    {
     "name": "stderr",
     "output_type": "stream",
     "text": [
      "100%|██████████| 368/368 [00:03<00:00, 94.49it/s] \n"
     ]
    },
    {
     "name": "stdout",
     "output_type": "stream",
     "text": [
      "Training Epoch 3, Loss: 1.537499\n",
      "Accuracy: 0.5150442477876106\n",
      "Valdiation Epoch 3, Loss: 1.711838\n"
     ]
    },
    {
     "name": "stderr",
     "output_type": "stream",
     "text": [
      "100%|██████████| 368/368 [00:03<00:00, 94.84it/s] \n"
     ]
    },
    {
     "name": "stdout",
     "output_type": "stream",
     "text": [
      "Training Epoch 4, Loss: 1.390776\n",
      "Accuracy: 0.5345132743362832\n",
      "Valdiation Epoch 4, Loss: 1.663655\n"
     ]
    },
    {
     "name": "stderr",
     "output_type": "stream",
     "text": [
      "100%|██████████| 368/368 [00:03<00:00, 96.83it/s] \n"
     ]
    },
    {
     "name": "stdout",
     "output_type": "stream",
     "text": [
      "Training Epoch 5, Loss: 1.282181\n",
      "Accuracy: 0.536283185840708\n",
      "Valdiation Epoch 5, Loss: 1.622699\n"
     ]
    },
    {
     "name": "stderr",
     "output_type": "stream",
     "text": [
      "100%|██████████| 368/368 [00:03<00:00, 101.22it/s]\n"
     ]
    },
    {
     "name": "stdout",
     "output_type": "stream",
     "text": [
      "Training Epoch 6, Loss: 1.186275\n",
      "Accuracy: 0.5964601769911504\n",
      "Valdiation Epoch 6, Loss: 1.542081\n"
     ]
    },
    {
     "name": "stderr",
     "output_type": "stream",
     "text": [
      "100%|██████████| 368/368 [00:03<00:00, 97.73it/s] \n"
     ]
    },
    {
     "name": "stdout",
     "output_type": "stream",
     "text": [
      "Training Epoch 7, Loss: 1.101511\n",
      "Accuracy: 0.6070796460176991\n",
      "Valdiation Epoch 7, Loss: 1.521281\n"
     ]
    },
    {
     "name": "stderr",
     "output_type": "stream",
     "text": [
      "100%|██████████| 368/368 [00:03<00:00, 102.04it/s]\n"
     ]
    },
    {
     "name": "stdout",
     "output_type": "stream",
     "text": [
      "Training Epoch 8, Loss: 1.035041\n",
      "Accuracy: 0.6265486725663717\n",
      "Valdiation Epoch 8, Loss: 1.508007\n"
     ]
    },
    {
     "name": "stderr",
     "output_type": "stream",
     "text": [
      "100%|██████████| 368/368 [00:03<00:00, 111.79it/s]\n"
     ]
    },
    {
     "name": "stdout",
     "output_type": "stream",
     "text": [
      "Training Epoch 9, Loss: 0.981953\n",
      "Accuracy: 0.6407079646017699\n",
      "Valdiation Epoch 9, Loss: 1.471345\n"
     ]
    },
    {
     "name": "stderr",
     "output_type": "stream",
     "text": [
      "100%|██████████| 368/368 [00:03<00:00, 100.43it/s]\n",
      "[I 2023-08-16 16:33:51,492] Trial 14 finished with value: 1.4588260451952617 and parameters: {'lr': 1.301451651185226e-05, 'batch_size': 16, 'd_model': 8, 'nhead': 3, 'num_layers': 4, 'hidden_dim': 6, 'layer_dim': 2}. Best is trial 10 with value: 1.4055613424215052.\n"
     ]
    },
    {
     "name": "stdout",
     "output_type": "stream",
     "text": [
      "Training Epoch 10, Loss: 0.928294\n",
      "Accuracy: 0.6460176991150443\n",
      "Valdiation Epoch 10, Loss: 1.458826\n",
      "64 8\n",
      "[5555, 3420, 3267, 3256, 2847, 3155, 3266, 3048, 2449, 2527, 3583, 2925, 2516, 2869, 2482, 2803, 2374, 2235, 2372, 2028, 9011, 3378, 5160, 2620, 2453, 5274, 3320, 4020, 3279, 4310, 4411, 4145, 3730, 3700]\n",
      "['G1' 'G10' 'G11' 'G2' 'G3' 'G4' 'G5' 'G6' 'G8' 'G9']\n",
      "[0 0 0 ... 2 2 2]\n",
      "[[1. 0. 0. ... 0. 0. 0.]\n",
      " [1. 0. 0. ... 0. 0. 0.]\n",
      " [1. 0. 0. ... 0. 0. 0.]\n",
      " ...\n",
      " [0. 0. 1. ... 0. 0. 0.]\n",
      " [0. 0. 1. ... 0. 0. 0.]\n",
      " [0. 0. 1. ... 0. 0. 0.]]\n",
      "[2653, 2002, 2303, 2642, 1758]\n",
      "['G1' 'G10' 'G11' 'G2' 'G3' 'G4' 'G5' 'G6' 'G8' 'G9']\n",
      "[0 0 0 ... 2 2 2]\n",
      "[[1. 0. 0. ... 0. 0. 0.]\n",
      " [1. 0. 0. ... 0. 0. 0.]\n",
      " [1. 0. 0. ... 0. 0. 0.]\n",
      " ...\n",
      " [0. 0. 1. ... 0. 0. 0.]\n",
      " [0. 0. 1. ... 0. 0. 0.]\n",
      " [0. 0. 1. ... 0. 0. 0.]]\n"
     ]
    },
    {
     "name": "stderr",
     "output_type": "stream",
     "text": [
      "100%|██████████| 368/368 [00:02<00:00, 174.48it/s]\n"
     ]
    },
    {
     "name": "stdout",
     "output_type": "stream",
     "text": [
      "Training Epoch 1, Loss: 2.188922\n",
      "Accuracy: 0.3185840707964602\n",
      "Valdiation Epoch 1, Loss: 2.170836\n"
     ]
    },
    {
     "name": "stderr",
     "output_type": "stream",
     "text": [
      "100%|██████████| 368/368 [00:02<00:00, 182.53it/s]\n"
     ]
    },
    {
     "name": "stdout",
     "output_type": "stream",
     "text": [
      "Training Epoch 2, Loss: 2.006499\n",
      "Accuracy: 0.3185840707964602\n",
      "Valdiation Epoch 2, Loss: 2.057730\n"
     ]
    },
    {
     "name": "stderr",
     "output_type": "stream",
     "text": [
      "100%|██████████| 368/368 [00:01<00:00, 187.07it/s]\n"
     ]
    },
    {
     "name": "stdout",
     "output_type": "stream",
     "text": [
      "Training Epoch 3, Loss: 1.857599\n",
      "Accuracy: 0.40176991150442476\n",
      "Valdiation Epoch 3, Loss: 1.953018\n"
     ]
    },
    {
     "name": "stderr",
     "output_type": "stream",
     "text": [
      "100%|██████████| 368/368 [00:01<00:00, 210.44it/s]\n"
     ]
    },
    {
     "name": "stdout",
     "output_type": "stream",
     "text": [
      "Training Epoch 4, Loss: 1.732431\n",
      "Accuracy: 0.4300884955752212\n",
      "Valdiation Epoch 4, Loss: 1.843305\n"
     ]
    },
    {
     "name": "stderr",
     "output_type": "stream",
     "text": [
      "100%|██████████| 368/368 [00:02<00:00, 163.55it/s]\n"
     ]
    },
    {
     "name": "stdout",
     "output_type": "stream",
     "text": [
      "Training Epoch 5, Loss: 1.621360\n",
      "Accuracy: 0.49557522123893805\n",
      "Valdiation Epoch 5, Loss: 1.765623\n"
     ]
    },
    {
     "name": "stderr",
     "output_type": "stream",
     "text": [
      "100%|██████████| 368/368 [00:02<00:00, 172.45it/s]\n"
     ]
    },
    {
     "name": "stdout",
     "output_type": "stream",
     "text": [
      "Training Epoch 6, Loss: 1.520035\n",
      "Accuracy: 0.5345132743362832\n",
      "Valdiation Epoch 6, Loss: 1.706572\n"
     ]
    },
    {
     "name": "stderr",
     "output_type": "stream",
     "text": [
      "100%|██████████| 368/368 [00:01<00:00, 201.77it/s]\n"
     ]
    },
    {
     "name": "stdout",
     "output_type": "stream",
     "text": [
      "Training Epoch 7, Loss: 1.433465\n",
      "Accuracy: 0.5610619469026549\n",
      "Valdiation Epoch 7, Loss: 1.639117\n"
     ]
    },
    {
     "name": "stderr",
     "output_type": "stream",
     "text": [
      "100%|██████████| 368/368 [00:02<00:00, 179.13it/s]\n"
     ]
    },
    {
     "name": "stdout",
     "output_type": "stream",
     "text": [
      "Training Epoch 8, Loss: 1.359748\n",
      "Accuracy: 0.552212389380531\n",
      "Valdiation Epoch 8, Loss: 1.614974\n"
     ]
    },
    {
     "name": "stderr",
     "output_type": "stream",
     "text": [
      "100%|██████████| 368/368 [00:02<00:00, 177.00it/s]\n"
     ]
    },
    {
     "name": "stdout",
     "output_type": "stream",
     "text": [
      "Training Epoch 9, Loss: 1.292358\n",
      "Accuracy: 0.5716814159292035\n",
      "Valdiation Epoch 9, Loss: 1.583786\n"
     ]
    },
    {
     "name": "stderr",
     "output_type": "stream",
     "text": [
      "100%|██████████| 368/368 [00:01<00:00, 188.54it/s]\n",
      "[I 2023-08-16 16:34:13,977] Trial 15 finished with value: 1.5302769053313467 and parameters: {'lr': 3.6404046716561886e-05, 'batch_size': 16, 'd_model': 6, 'nhead': 3, 'num_layers': 1, 'hidden_dim': 4, 'layer_dim': 2}. Best is trial 10 with value: 1.4055613424215052.\n"
     ]
    },
    {
     "name": "stdout",
     "output_type": "stream",
     "text": [
      "Training Epoch 10, Loss: 1.231832\n",
      "Accuracy: 0.5805309734513274\n",
      "Valdiation Epoch 10, Loss: 1.530277\n",
      "256 8\n",
      "[5555, 3420, 3267, 3256, 2847, 3155, 3266, 3048, 2449, 2527, 3583, 2925, 2516, 2869, 2482, 2803, 2374, 2235, 2372, 2028, 9011, 3378, 5160, 2620, 2453, 5274, 3320, 4020, 3279, 4310, 4411, 4145, 3730, 3700]\n",
      "['G1' 'G10' 'G11' 'G2' 'G3' 'G4' 'G5' 'G6' 'G8' 'G9']\n",
      "[0 0 0 ... 2 2 2]\n",
      "[[1. 0. 0. ... 0. 0. 0.]\n",
      " [1. 0. 0. ... 0. 0. 0.]\n",
      " [1. 0. 0. ... 0. 0. 0.]\n",
      " ...\n",
      " [0. 0. 1. ... 0. 0. 0.]\n",
      " [0. 0. 1. ... 0. 0. 0.]\n",
      " [0. 0. 1. ... 0. 0. 0.]]\n",
      "[2653, 2002, 2303, 2642, 1758]\n",
      "['G1' 'G10' 'G11' 'G2' 'G3' 'G4' 'G5' 'G6' 'G8' 'G9']\n",
      "[0 0 0 ... 2 2 2]\n",
      "[[1. 0. 0. ... 0. 0. 0.]\n",
      " [1. 0. 0. ... 0. 0. 0.]\n",
      " [1. 0. 0. ... 0. 0. 0.]\n",
      " ...\n",
      " [0. 0. 1. ... 0. 0. 0.]\n",
      " [0. 0. 1. ... 0. 0. 0.]\n",
      " [0. 0. 1. ... 0. 0. 0.]]\n"
     ]
    },
    {
     "name": "stderr",
     "output_type": "stream",
     "text": [
      "100%|██████████| 368/368 [00:03<00:00, 102.75it/s]\n"
     ]
    },
    {
     "name": "stdout",
     "output_type": "stream",
     "text": [
      "Training Epoch 1, Loss: 1.592094\n",
      "Accuracy: 0.5061946902654867\n",
      "Valdiation Epoch 1, Loss: 1.679862\n"
     ]
    },
    {
     "name": "stderr",
     "output_type": "stream",
     "text": [
      "100%|██████████| 368/368 [00:03<00:00, 118.61it/s]\n"
     ]
    },
    {
     "name": "stdout",
     "output_type": "stream",
     "text": [
      "Training Epoch 2, Loss: 1.022548\n",
      "Accuracy: 0.6389380530973451\n",
      "Valdiation Epoch 2, Loss: 1.575577\n"
     ]
    },
    {
     "name": "stderr",
     "output_type": "stream",
     "text": [
      "100%|██████████| 368/368 [00:03<00:00, 101.36it/s]\n"
     ]
    },
    {
     "name": "stdout",
     "output_type": "stream",
     "text": [
      "Training Epoch 3, Loss: 0.837605\n",
      "Accuracy: 0.6513274336283186\n",
      "Valdiation Epoch 3, Loss: 1.543081\n"
     ]
    },
    {
     "name": "stderr",
     "output_type": "stream",
     "text": [
      "100%|██████████| 368/368 [00:03<00:00, 94.40it/s] \n"
     ]
    },
    {
     "name": "stdout",
     "output_type": "stream",
     "text": [
      "Training Epoch 4, Loss: 0.720936\n",
      "Accuracy: 0.6548672566371682\n",
      "Valdiation Epoch 4, Loss: 1.473663\n"
     ]
    },
    {
     "name": "stderr",
     "output_type": "stream",
     "text": [
      "100%|██████████| 368/368 [00:03<00:00, 100.29it/s]\n"
     ]
    },
    {
     "name": "stdout",
     "output_type": "stream",
     "text": [
      "Training Epoch 5, Loss: 0.644303\n",
      "Accuracy: 0.6460176991150443\n",
      "Valdiation Epoch 5, Loss: 1.437474\n"
     ]
    },
    {
     "name": "stderr",
     "output_type": "stream",
     "text": [
      "100%|██████████| 368/368 [00:03<00:00, 100.94it/s]\n"
     ]
    },
    {
     "name": "stdout",
     "output_type": "stream",
     "text": [
      "Training Epoch 6, Loss: 0.567198\n",
      "Accuracy: 0.584070796460177\n",
      "Valdiation Epoch 6, Loss: 1.640485\n"
     ]
    },
    {
     "name": "stderr",
     "output_type": "stream",
     "text": [
      "100%|██████████| 368/368 [00:03<00:00, 102.29it/s]\n"
     ]
    },
    {
     "name": "stdout",
     "output_type": "stream",
     "text": [
      "Training Epoch 7, Loss: 0.505219\n",
      "Accuracy: 0.6017699115044248\n",
      "Valdiation Epoch 7, Loss: 1.731115\n"
     ]
    },
    {
     "name": "stderr",
     "output_type": "stream",
     "text": [
      "100%|██████████| 368/368 [00:03<00:00, 103.10it/s]\n"
     ]
    },
    {
     "name": "stdout",
     "output_type": "stream",
     "text": [
      "Training Epoch 8, Loss: 0.447321\n",
      "Accuracy: 0.6176991150442478\n",
      "Valdiation Epoch 8, Loss: 1.527849\n"
     ]
    },
    {
     "name": "stderr",
     "output_type": "stream",
     "text": [
      "100%|██████████| 368/368 [00:03<00:00, 108.57it/s]\n"
     ]
    },
    {
     "name": "stdout",
     "output_type": "stream",
     "text": [
      "Training Epoch 9, Loss: 0.412456\n",
      "Accuracy: 0.5805309734513274\n",
      "Valdiation Epoch 9, Loss: 1.668239\n"
     ]
    },
    {
     "name": "stderr",
     "output_type": "stream",
     "text": [
      "100%|██████████| 368/368 [00:03<00:00, 98.18it/s] \n",
      "[I 2023-08-16 16:34:52,502] Trial 16 finished with value: 1.6807433114283614 and parameters: {'lr': 9.747566038082278e-05, 'batch_size': 16, 'd_model': 8, 'nhead': 3, 'num_layers': 4, 'hidden_dim': 6, 'layer_dim': 2}. Best is trial 10 with value: 1.4055613424215052.\n"
     ]
    },
    {
     "name": "stdout",
     "output_type": "stream",
     "text": [
      "Training Epoch 10, Loss: 0.372994\n",
      "Accuracy: 0.584070796460177\n",
      "Valdiation Epoch 10, Loss: 1.680743\n",
      "32 16\n",
      "[5555, 3420, 3267, 3256, 2847, 3155, 3266, 3048, 2449, 2527, 3583, 2925, 2516, 2869, 2482, 2803, 2374, 2235, 2372, 2028, 9011, 3378, 5160, 2620, 2453, 5274, 3320, 4020, 3279, 4310, 4411, 4145, 3730, 3700]\n",
      "['G1' 'G10' 'G11' 'G2' 'G3' 'G4' 'G5' 'G6' 'G8' 'G9']\n",
      "[0 0 0 ... 2 2 2]\n",
      "[[1. 0. 0. ... 0. 0. 0.]\n",
      " [1. 0. 0. ... 0. 0. 0.]\n",
      " [1. 0. 0. ... 0. 0. 0.]\n",
      " ...\n",
      " [0. 0. 1. ... 0. 0. 0.]\n",
      " [0. 0. 1. ... 0. 0. 0.]\n",
      " [0. 0. 1. ... 0. 0. 0.]]\n",
      "[2653, 2002, 2303, 2642, 1758]\n",
      "['G1' 'G10' 'G11' 'G2' 'G3' 'G4' 'G5' 'G6' 'G8' 'G9']\n",
      "[0 0 0 ... 2 2 2]\n",
      "[[1. 0. 0. ... 0. 0. 0.]\n",
      " [1. 0. 0. ... 0. 0. 0.]\n",
      " [1. 0. 0. ... 0. 0. 0.]\n",
      " ...\n",
      " [0. 0. 1. ... 0. 0. 0.]\n",
      " [0. 0. 1. ... 0. 0. 0.]\n",
      " [0. 0. 1. ... 0. 0. 0.]]\n"
     ]
    },
    {
     "name": "stderr",
     "output_type": "stream",
     "text": [
      "100%|██████████| 92/92 [00:02<00:00, 37.41it/s]\n"
     ]
    },
    {
     "name": "stdout",
     "output_type": "stream",
     "text": [
      "Training Epoch 1, Loss: 2.222350\n",
      "Accuracy: 0.3185840707964602\n",
      "Valdiation Epoch 1, Loss: 2.210669\n"
     ]
    },
    {
     "name": "stderr",
     "output_type": "stream",
     "text": [
      "100%|██████████| 92/92 [00:02<00:00, 36.58it/s]\n"
     ]
    },
    {
     "name": "stdout",
     "output_type": "stream",
     "text": [
      "Training Epoch 2, Loss: 2.126193\n",
      "Accuracy: 0.3185840707964602\n",
      "Valdiation Epoch 2, Loss: 2.156664\n"
     ]
    },
    {
     "name": "stderr",
     "output_type": "stream",
     "text": [
      "100%|██████████| 92/92 [00:02<00:00, 35.28it/s]\n"
     ]
    },
    {
     "name": "stdout",
     "output_type": "stream",
     "text": [
      "Training Epoch 3, Loss: 2.045655\n",
      "Accuracy: 0.3185840707964602\n",
      "Valdiation Epoch 3, Loss: 2.107841\n"
     ]
    },
    {
     "name": "stderr",
     "output_type": "stream",
     "text": [
      "100%|██████████| 92/92 [00:02<00:00, 35.39it/s]\n"
     ]
    },
    {
     "name": "stdout",
     "output_type": "stream",
     "text": [
      "Training Epoch 4, Loss: 1.967735\n",
      "Accuracy: 0.3185840707964602\n",
      "Valdiation Epoch 4, Loss: 2.062257\n"
     ]
    },
    {
     "name": "stderr",
     "output_type": "stream",
     "text": [
      "100%|██████████| 92/92 [00:01<00:00, 49.10it/s]\n"
     ]
    },
    {
     "name": "stdout",
     "output_type": "stream",
     "text": [
      "Training Epoch 5, Loss: 1.896548\n",
      "Accuracy: 0.3185840707964602\n",
      "Valdiation Epoch 5, Loss: 2.020871\n"
     ]
    },
    {
     "name": "stderr",
     "output_type": "stream",
     "text": [
      "100%|██████████| 92/92 [00:02<00:00, 38.23it/s]\n"
     ]
    },
    {
     "name": "stdout",
     "output_type": "stream",
     "text": [
      "Training Epoch 6, Loss: 1.830331\n",
      "Accuracy: 0.3274336283185841\n",
      "Valdiation Epoch 6, Loss: 1.987918\n"
     ]
    },
    {
     "name": "stderr",
     "output_type": "stream",
     "text": [
      "100%|██████████| 92/92 [00:02<00:00, 36.06it/s]\n"
     ]
    },
    {
     "name": "stdout",
     "output_type": "stream",
     "text": [
      "Training Epoch 7, Loss: 1.772126\n",
      "Accuracy: 0.40530973451327434\n",
      "Valdiation Epoch 7, Loss: 1.944131\n"
     ]
    },
    {
     "name": "stderr",
     "output_type": "stream",
     "text": [
      "100%|██████████| 92/92 [00:02<00:00, 36.90it/s]\n"
     ]
    },
    {
     "name": "stdout",
     "output_type": "stream",
     "text": [
      "Training Epoch 8, Loss: 1.714410\n",
      "Accuracy: 0.415929203539823\n",
      "Valdiation Epoch 8, Loss: 1.910948\n"
     ]
    },
    {
     "name": "stderr",
     "output_type": "stream",
     "text": [
      "100%|██████████| 92/92 [00:02<00:00, 32.33it/s]\n"
     ]
    },
    {
     "name": "stdout",
     "output_type": "stream",
     "text": [
      "Training Epoch 9, Loss: 1.659301\n",
      "Accuracy: 0.4336283185840708\n",
      "Valdiation Epoch 9, Loss: 1.870205\n"
     ]
    },
    {
     "name": "stderr",
     "output_type": "stream",
     "text": [
      "100%|██████████| 92/92 [00:02<00:00, 38.37it/s]\n",
      "[I 2023-08-16 16:35:19,601] Trial 17 finished with value: 1.8375016185972426 and parameters: {'lr': 1.0753133173830494e-05, 'batch_size': 64, 'd_model': 5, 'nhead': 4, 'num_layers': 4, 'hidden_dim': 7, 'layer_dim': 1}. Best is trial 10 with value: 1.4055613424215052.\n"
     ]
    },
    {
     "name": "stdout",
     "output_type": "stream",
     "text": [
      "Training Epoch 10, Loss: 1.612131\n",
      "Accuracy: 0.431858407079646\n",
      "Valdiation Epoch 10, Loss: 1.837502\n",
      "128 4\n",
      "[5555, 3420, 3267, 3256, 2847, 3155, 3266, 3048, 2449, 2527, 3583, 2925, 2516, 2869, 2482, 2803, 2374, 2235, 2372, 2028, 9011, 3378, 5160, 2620, 2453, 5274, 3320, 4020, 3279, 4310, 4411, 4145, 3730, 3700]\n",
      "['G1' 'G10' 'G11' 'G2' 'G3' 'G4' 'G5' 'G6' 'G8' 'G9']\n",
      "[0 0 0 ... 2 2 2]\n",
      "[[1. 0. 0. ... 0. 0. 0.]\n",
      " [1. 0. 0. ... 0. 0. 0.]\n",
      " [1. 0. 0. ... 0. 0. 0.]\n",
      " ...\n",
      " [0. 0. 1. ... 0. 0. 0.]\n",
      " [0. 0. 1. ... 0. 0. 0.]\n",
      " [0. 0. 1. ... 0. 0. 0.]]\n",
      "[2653, 2002, 2303, 2642, 1758]\n",
      "['G1' 'G10' 'G11' 'G2' 'G3' 'G4' 'G5' 'G6' 'G8' 'G9']\n",
      "[0 0 0 ... 2 2 2]\n",
      "[[1. 0. 0. ... 0. 0. 0.]\n",
      " [1. 0. 0. ... 0. 0. 0.]\n",
      " [1. 0. 0. ... 0. 0. 0.]\n",
      " ...\n",
      " [0. 0. 1. ... 0. 0. 0.]\n",
      " [0. 0. 1. ... 0. 0. 0.]\n",
      " [0. 0. 1. ... 0. 0. 0.]]\n"
     ]
    },
    {
     "name": "stderr",
     "output_type": "stream",
     "text": [
      "100%|██████████| 368/368 [00:01<00:00, 194.52it/s]\n"
     ]
    },
    {
     "name": "stdout",
     "output_type": "stream",
     "text": [
      "Training Epoch 1, Loss: 1.872435\n",
      "Accuracy: 0.3185840707964602\n",
      "Valdiation Epoch 1, Loss: 2.244704\n"
     ]
    },
    {
     "name": "stderr",
     "output_type": "stream",
     "text": [
      "100%|██████████| 368/368 [00:01<00:00, 191.08it/s]\n"
     ]
    },
    {
     "name": "stdout",
     "output_type": "stream",
     "text": [
      "Training Epoch 2, Loss: 1.864472\n",
      "Accuracy: 0.3185840707964602\n",
      "Valdiation Epoch 2, Loss: 2.454123\n"
     ]
    },
    {
     "name": "stderr",
     "output_type": "stream",
     "text": [
      "100%|██████████| 368/368 [00:01<00:00, 188.33it/s]\n"
     ]
    },
    {
     "name": "stdout",
     "output_type": "stream",
     "text": [
      "Training Epoch 3, Loss: 1.863800\n",
      "Accuracy: 0.3185840707964602\n",
      "Valdiation Epoch 3, Loss: 2.419045\n"
     ]
    },
    {
     "name": "stderr",
     "output_type": "stream",
     "text": [
      "100%|██████████| 368/368 [00:01<00:00, 194.28it/s]\n"
     ]
    },
    {
     "name": "stdout",
     "output_type": "stream",
     "text": [
      "Training Epoch 4, Loss: 1.862095\n",
      "Accuracy: 0.3185840707964602\n",
      "Valdiation Epoch 4, Loss: 2.441972\n"
     ]
    },
    {
     "name": "stderr",
     "output_type": "stream",
     "text": [
      "100%|██████████| 368/368 [00:02<00:00, 181.47it/s]\n"
     ]
    },
    {
     "name": "stdout",
     "output_type": "stream",
     "text": [
      "Training Epoch 5, Loss: 1.861626\n",
      "Accuracy: 0.3185840707964602\n",
      "Valdiation Epoch 5, Loss: 2.486868\n"
     ]
    },
    {
     "name": "stderr",
     "output_type": "stream",
     "text": [
      "100%|██████████| 368/368 [00:01<00:00, 197.59it/s]\n"
     ]
    },
    {
     "name": "stdout",
     "output_type": "stream",
     "text": [
      "Training Epoch 6, Loss: 1.858704\n",
      "Accuracy: 0.3185840707964602\n",
      "Valdiation Epoch 6, Loss: 2.475274\n"
     ]
    },
    {
     "name": "stderr",
     "output_type": "stream",
     "text": [
      "100%|██████████| 368/368 [00:01<00:00, 192.89it/s]\n"
     ]
    },
    {
     "name": "stdout",
     "output_type": "stream",
     "text": [
      "Training Epoch 7, Loss: 1.861304\n",
      "Accuracy: 0.3185840707964602\n",
      "Valdiation Epoch 7, Loss: 2.473711\n"
     ]
    },
    {
     "name": "stderr",
     "output_type": "stream",
     "text": [
      "100%|██████████| 368/368 [00:01<00:00, 189.01it/s]\n"
     ]
    },
    {
     "name": "stdout",
     "output_type": "stream",
     "text": [
      "Training Epoch 8, Loss: 1.860692\n",
      "Accuracy: 0.3185840707964602\n",
      "Valdiation Epoch 8, Loss: 2.376970\n"
     ]
    },
    {
     "name": "stderr",
     "output_type": "stream",
     "text": [
      "100%|██████████| 368/368 [00:01<00:00, 212.74it/s]\n"
     ]
    },
    {
     "name": "stdout",
     "output_type": "stream",
     "text": [
      "Training Epoch 9, Loss: 1.860657\n",
      "Accuracy: 0.3185840707964602\n",
      "Valdiation Epoch 9, Loss: 2.436512\n"
     ]
    },
    {
     "name": "stderr",
     "output_type": "stream",
     "text": [
      "100%|██████████| 368/368 [00:02<00:00, 178.92it/s]\n",
      "[I 2023-08-16 16:35:40,959] Trial 18 finished with value: 2.4556363622347512 and parameters: {'lr': 0.009840141575856224, 'batch_size': 16, 'd_model': 7, 'nhead': 2, 'num_layers': 1, 'hidden_dim': 5, 'layer_dim': 2}. Best is trial 10 with value: 1.4055613424215052.\n"
     ]
    },
    {
     "name": "stdout",
     "output_type": "stream",
     "text": [
      "Training Epoch 10, Loss: 1.862671\n",
      "Accuracy: 0.3185840707964602\n",
      "Valdiation Epoch 10, Loss: 2.455636\n",
      "64 2\n",
      "[5555, 3420, 3267, 3256, 2847, 3155, 3266, 3048, 2449, 2527, 3583, 2925, 2516, 2869, 2482, 2803, 2374, 2235, 2372, 2028, 9011, 3378, 5160, 2620, 2453, 5274, 3320, 4020, 3279, 4310, 4411, 4145, 3730, 3700]\n",
      "['G1' 'G10' 'G11' 'G2' 'G3' 'G4' 'G5' 'G6' 'G8' 'G9']\n",
      "[0 0 0 ... 2 2 2]\n",
      "[[1. 0. 0. ... 0. 0. 0.]\n",
      " [1. 0. 0. ... 0. 0. 0.]\n",
      " [1. 0. 0. ... 0. 0. 0.]\n",
      " ...\n",
      " [0. 0. 1. ... 0. 0. 0.]\n",
      " [0. 0. 1. ... 0. 0. 0.]\n",
      " [0. 0. 1. ... 0. 0. 0.]]\n",
      "[2653, 2002, 2303, 2642, 1758]\n",
      "['G1' 'G10' 'G11' 'G2' 'G3' 'G4' 'G5' 'G6' 'G8' 'G9']\n",
      "[0 0 0 ... 2 2 2]\n",
      "[[1. 0. 0. ... 0. 0. 0.]\n",
      " [1. 0. 0. ... 0. 0. 0.]\n",
      " [1. 0. 0. ... 0. 0. 0.]\n",
      " ...\n",
      " [0. 0. 1. ... 0. 0. 0.]\n",
      " [0. 0. 1. ... 0. 0. 0.]\n",
      " [0. 0. 1. ... 0. 0. 0.]]\n"
     ]
    },
    {
     "name": "stderr",
     "output_type": "stream",
     "text": [
      "100%|██████████| 368/368 [00:02<00:00, 146.61it/s]\n"
     ]
    },
    {
     "name": "stdout",
     "output_type": "stream",
     "text": [
      "Training Epoch 1, Loss: 2.257622\n",
      "Accuracy: 0.2424778761061947\n",
      "Valdiation Epoch 1, Loss: 2.265228\n"
     ]
    },
    {
     "name": "stderr",
     "output_type": "stream",
     "text": [
      "100%|██████████| 368/368 [00:02<00:00, 164.68it/s]\n"
     ]
    },
    {
     "name": "stdout",
     "output_type": "stream",
     "text": [
      "Training Epoch 2, Loss: 2.184592\n",
      "Accuracy: 0.37168141592920356\n",
      "Valdiation Epoch 2, Loss: 2.231871\n"
     ]
    },
    {
     "name": "stderr",
     "output_type": "stream",
     "text": [
      "100%|██████████| 368/368 [00:02<00:00, 161.24it/s]\n"
     ]
    },
    {
     "name": "stdout",
     "output_type": "stream",
     "text": [
      "Training Epoch 3, Loss: 2.144153\n",
      "Accuracy: 0.4176991150442478\n",
      "Valdiation Epoch 3, Loss: 2.172260\n"
     ]
    },
    {
     "name": "stderr",
     "output_type": "stream",
     "text": [
      "100%|██████████| 368/368 [00:02<00:00, 162.44it/s]\n"
     ]
    },
    {
     "name": "stdout",
     "output_type": "stream",
     "text": [
      "Training Epoch 4, Loss: 2.093835\n",
      "Accuracy: 0.4194690265486726\n",
      "Valdiation Epoch 4, Loss: 2.153593\n"
     ]
    },
    {
     "name": "stderr",
     "output_type": "stream",
     "text": [
      "100%|██████████| 368/368 [00:01<00:00, 301.06it/s]\n"
     ]
    },
    {
     "name": "stdout",
     "output_type": "stream",
     "text": [
      "Training Epoch 5, Loss: 2.069710\n",
      "Accuracy: 0.4389380530973451\n",
      "Valdiation Epoch 5, Loss: 2.137247\n"
     ]
    },
    {
     "name": "stderr",
     "output_type": "stream",
     "text": [
      "100%|██████████| 368/368 [00:02<00:00, 172.24it/s]\n"
     ]
    },
    {
     "name": "stdout",
     "output_type": "stream",
     "text": [
      "Training Epoch 6, Loss: 2.049394\n",
      "Accuracy: 0.5097345132743363\n",
      "Valdiation Epoch 6, Loss: 2.124879\n"
     ]
    },
    {
     "name": "stderr",
     "output_type": "stream",
     "text": [
      "100%|██████████| 368/368 [00:02<00:00, 170.25it/s]\n"
     ]
    },
    {
     "name": "stdout",
     "output_type": "stream",
     "text": [
      "Training Epoch 7, Loss: 2.029476\n",
      "Accuracy: 0.5061946902654867\n",
      "Valdiation Epoch 7, Loss: 2.119571\n"
     ]
    },
    {
     "name": "stderr",
     "output_type": "stream",
     "text": [
      "100%|██████████| 368/368 [00:02<00:00, 150.57it/s]\n"
     ]
    },
    {
     "name": "stdout",
     "output_type": "stream",
     "text": [
      "Training Epoch 8, Loss: 2.010672\n",
      "Accuracy: 0.5132743362831859\n",
      "Valdiation Epoch 8, Loss: 2.115017\n"
     ]
    },
    {
     "name": "stderr",
     "output_type": "stream",
     "text": [
      "100%|██████████| 368/368 [00:02<00:00, 158.16it/s]\n"
     ]
    },
    {
     "name": "stdout",
     "output_type": "stream",
     "text": [
      "Training Epoch 9, Loss: 1.992619\n",
      "Accuracy: 0.5008849557522124\n",
      "Valdiation Epoch 9, Loss: 2.111460\n"
     ]
    },
    {
     "name": "stderr",
     "output_type": "stream",
     "text": [
      "100%|██████████| 368/368 [00:02<00:00, 154.67it/s]\n",
      "[I 2023-08-16 16:36:05,174] Trial 19 finished with value: 2.091420958439509 and parameters: {'lr': 2.3099142746072046e-05, 'batch_size': 16, 'd_model': 6, 'nhead': 1, 'num_layers': 2, 'hidden_dim': 1, 'layer_dim': 1}. Best is trial 10 with value: 1.4055613424215052.\n"
     ]
    },
    {
     "name": "stdout",
     "output_type": "stream",
     "text": [
      "Training Epoch 10, Loss: 1.972054\n",
      "Accuracy: 0.5221238938053098\n",
      "Valdiation Epoch 10, Loss: 2.091421\n",
      "16 16\n",
      "[5555, 3420, 3267, 3256, 2847, 3155, 3266, 3048, 2449, 2527, 3583, 2925, 2516, 2869, 2482, 2803, 2374, 2235, 2372, 2028, 9011, 3378, 5160, 2620, 2453, 5274, 3320, 4020, 3279, 4310, 4411, 4145, 3730, 3700]\n",
      "['G1' 'G10' 'G11' 'G2' 'G3' 'G4' 'G5' 'G6' 'G8' 'G9']\n",
      "[0 0 0 ... 2 2 2]\n",
      "[[1. 0. 0. ... 0. 0. 0.]\n",
      " [1. 0. 0. ... 0. 0. 0.]\n",
      " [1. 0. 0. ... 0. 0. 0.]\n",
      " ...\n",
      " [0. 0. 1. ... 0. 0. 0.]\n",
      " [0. 0. 1. ... 0. 0. 0.]\n",
      " [0. 0. 1. ... 0. 0. 0.]]\n",
      "[2653, 2002, 2303, 2642, 1758]\n",
      "['G1' 'G10' 'G11' 'G2' 'G3' 'G4' 'G5' 'G6' 'G8' 'G9']\n",
      "[0 0 0 ... 2 2 2]\n",
      "[[1. 0. 0. ... 0. 0. 0.]\n",
      " [1. 0. 0. ... 0. 0. 0.]\n",
      " [1. 0. 0. ... 0. 0. 0.]\n",
      " ...\n",
      " [0. 0. 1. ... 0. 0. 0.]\n",
      " [0. 0. 1. ... 0. 0. 0.]\n",
      " [0. 0. 1. ... 0. 0. 0.]]\n"
     ]
    },
    {
     "name": "stderr",
     "output_type": "stream",
     "text": [
      "100%|██████████| 368/368 [00:03<00:00, 106.34it/s]\n"
     ]
    },
    {
     "name": "stdout",
     "output_type": "stream",
     "text": [
      "Training Epoch 1, Loss: 2.014882\n",
      "Accuracy: 0.3185840707964602\n",
      "Valdiation Epoch 1, Loss: 2.235960\n"
     ]
    },
    {
     "name": "stderr",
     "output_type": "stream",
     "text": [
      "100%|██████████| 368/368 [00:03<00:00, 110.48it/s]\n"
     ]
    },
    {
     "name": "stdout",
     "output_type": "stream",
     "text": [
      "Training Epoch 2, Loss: 1.794946\n",
      "Accuracy: 0.4194690265486726\n",
      "Valdiation Epoch 2, Loss: 1.965772\n"
     ]
    },
    {
     "name": "stderr",
     "output_type": "stream",
     "text": [
      "100%|██████████| 368/368 [00:03<00:00, 109.40it/s]\n"
     ]
    },
    {
     "name": "stdout",
     "output_type": "stream",
     "text": [
      "Training Epoch 3, Loss: 1.552388\n",
      "Accuracy: 0.5097345132743363\n",
      "Valdiation Epoch 3, Loss: 1.846492\n"
     ]
    },
    {
     "name": "stderr",
     "output_type": "stream",
     "text": [
      "100%|██████████| 368/368 [00:03<00:00, 114.55it/s]\n"
     ]
    },
    {
     "name": "stdout",
     "output_type": "stream",
     "text": [
      "Training Epoch 4, Loss: 1.328574\n",
      "Accuracy: 0.5097345132743363\n",
      "Valdiation Epoch 4, Loss: 1.807562\n"
     ]
    },
    {
     "name": "stderr",
     "output_type": "stream",
     "text": [
      "100%|██████████| 368/368 [00:03<00:00, 110.23it/s]\n"
     ]
    },
    {
     "name": "stdout",
     "output_type": "stream",
     "text": [
      "Training Epoch 5, Loss: 1.210700\n",
      "Accuracy: 0.5132743362831859\n",
      "Valdiation Epoch 5, Loss: 1.791509\n"
     ]
    },
    {
     "name": "stderr",
     "output_type": "stream",
     "text": [
      "100%|██████████| 368/368 [00:03<00:00, 117.36it/s]\n"
     ]
    },
    {
     "name": "stdout",
     "output_type": "stream",
     "text": [
      "Training Epoch 6, Loss: 1.133709\n",
      "Accuracy: 0.5132743362831859\n",
      "Valdiation Epoch 6, Loss: 1.760572\n"
     ]
    },
    {
     "name": "stderr",
     "output_type": "stream",
     "text": [
      "100%|██████████| 368/368 [00:03<00:00, 110.17it/s]\n"
     ]
    },
    {
     "name": "stdout",
     "output_type": "stream",
     "text": [
      "Training Epoch 7, Loss: 1.071821\n",
      "Accuracy: 0.5610619469026549\n",
      "Valdiation Epoch 7, Loss: 1.703196\n"
     ]
    },
    {
     "name": "stderr",
     "output_type": "stream",
     "text": [
      "100%|██████████| 368/368 [00:03<00:00, 108.26it/s]\n"
     ]
    },
    {
     "name": "stdout",
     "output_type": "stream",
     "text": [
      "Training Epoch 8, Loss: 1.026346\n",
      "Accuracy: 0.5592920353982301\n",
      "Valdiation Epoch 8, Loss: 1.692259\n"
     ]
    },
    {
     "name": "stderr",
     "output_type": "stream",
     "text": [
      "100%|██████████| 368/368 [00:03<00:00, 107.85it/s]\n"
     ]
    },
    {
     "name": "stdout",
     "output_type": "stream",
     "text": [
      "Training Epoch 9, Loss: 0.983739\n",
      "Accuracy: 0.5681415929203539\n",
      "Valdiation Epoch 9, Loss: 1.675920\n"
     ]
    },
    {
     "name": "stderr",
     "output_type": "stream",
     "text": [
      "100%|██████████| 368/368 [00:03<00:00, 107.54it/s]\n"
     ]
    },
    {
     "name": "stdout",
     "output_type": "stream",
     "text": [
      "Training Epoch 10, Loss: 0.954423\n"
     ]
    },
    {
     "name": "stderr",
     "output_type": "stream",
     "text": [
      "[I 2023-08-16 16:36:41,358] Trial 20 finished with value: 1.7273069330387645 and parameters: {'lr': 5.781783383277119e-05, 'batch_size': 16, 'd_model': 4, 'nhead': 4, 'num_layers': 4, 'hidden_dim': 6, 'layer_dim': 2}. Best is trial 10 with value: 1.4055613424215052.\n"
     ]
    },
    {
     "name": "stdout",
     "output_type": "stream",
     "text": [
      "Accuracy: 0.5646017699115045\n",
      "Valdiation Epoch 10, Loss: 1.727307\n",
      "256 4\n",
      "[5555, 3420, 3267, 3256, 2847, 3155, 3266, 3048, 2449, 2527, 3583, 2925, 2516, 2869, 2482, 2803, 2374, 2235, 2372, 2028, 9011, 3378, 5160, 2620, 2453, 5274, 3320, 4020, 3279, 4310, 4411, 4145, 3730, 3700]\n",
      "['G1' 'G10' 'G11' 'G2' 'G3' 'G4' 'G5' 'G6' 'G8' 'G9']\n",
      "[0 0 0 ... 2 2 2]\n",
      "[[1. 0. 0. ... 0. 0. 0.]\n",
      " [1. 0. 0. ... 0. 0. 0.]\n",
      " [1. 0. 0. ... 0. 0. 0.]\n",
      " ...\n",
      " [0. 0. 1. ... 0. 0. 0.]\n",
      " [0. 0. 1. ... 0. 0. 0.]\n",
      " [0. 0. 1. ... 0. 0. 0.]]\n",
      "[2653, 2002, 2303, 2642, 1758]\n",
      "['G1' 'G10' 'G11' 'G2' 'G3' 'G4' 'G5' 'G6' 'G8' 'G9']\n",
      "[0 0 0 ... 2 2 2]\n",
      "[[1. 0. 0. ... 0. 0. 0.]\n",
      " [1. 0. 0. ... 0. 0. 0.]\n",
      " [1. 0. 0. ... 0. 0. 0.]\n",
      " ...\n",
      " [0. 0. 1. ... 0. 0. 0.]\n",
      " [0. 0. 1. ... 0. 0. 0.]\n",
      " [0. 0. 1. ... 0. 0. 0.]]\n"
     ]
    },
    {
     "name": "stderr",
     "output_type": "stream",
     "text": [
      "100%|██████████| 368/368 [00:03<00:00, 100.05it/s]\n"
     ]
    },
    {
     "name": "stdout",
     "output_type": "stream",
     "text": [
      "Training Epoch 1, Loss: 2.053823\n",
      "Accuracy: 0.336283185840708\n",
      "Valdiation Epoch 1, Loss: 2.059078\n"
     ]
    },
    {
     "name": "stderr",
     "output_type": "stream",
     "text": [
      "100%|██████████| 368/368 [00:03<00:00, 104.03it/s]\n"
     ]
    },
    {
     "name": "stdout",
     "output_type": "stream",
     "text": [
      "Training Epoch 2, Loss: 1.803683\n",
      "Accuracy: 0.4265486725663717\n",
      "Valdiation Epoch 2, Loss: 1.917664\n"
     ]
    },
    {
     "name": "stderr",
     "output_type": "stream",
     "text": [
      "100%|██████████| 368/368 [00:03<00:00, 97.66it/s] \n"
     ]
    },
    {
     "name": "stdout",
     "output_type": "stream",
     "text": [
      "Training Epoch 3, Loss: 1.618207\n",
      "Accuracy: 0.45663716814159294\n",
      "Valdiation Epoch 3, Loss: 1.810549\n"
     ]
    },
    {
     "name": "stderr",
     "output_type": "stream",
     "text": [
      "100%|██████████| 368/368 [00:03<00:00, 100.48it/s]\n"
     ]
    },
    {
     "name": "stdout",
     "output_type": "stream",
     "text": [
      "Training Epoch 4, Loss: 1.454478\n",
      "Accuracy: 0.5203539823008849\n",
      "Valdiation Epoch 4, Loss: 1.752743\n"
     ]
    },
    {
     "name": "stderr",
     "output_type": "stream",
     "text": [
      "100%|██████████| 368/368 [00:03<00:00, 95.97it/s] \n"
     ]
    },
    {
     "name": "stdout",
     "output_type": "stream",
     "text": [
      "Training Epoch 5, Loss: 1.330129\n",
      "Accuracy: 0.5592920353982301\n",
      "Valdiation Epoch 5, Loss: 1.670173\n"
     ]
    },
    {
     "name": "stderr",
     "output_type": "stream",
     "text": [
      "100%|██████████| 368/368 [00:03<00:00, 95.76it/s] \n"
     ]
    },
    {
     "name": "stdout",
     "output_type": "stream",
     "text": [
      "Training Epoch 6, Loss: 1.227186\n",
      "Accuracy: 0.6176991150442478\n",
      "Valdiation Epoch 6, Loss: 1.632619\n"
     ]
    },
    {
     "name": "stderr",
     "output_type": "stream",
     "text": [
      "100%|██████████| 368/368 [00:03<00:00, 98.78it/s] \n"
     ]
    },
    {
     "name": "stdout",
     "output_type": "stream",
     "text": [
      "Training Epoch 7, Loss: 1.144418\n",
      "Accuracy: 0.6159292035398231\n",
      "Valdiation Epoch 7, Loss: 1.612801\n"
     ]
    },
    {
     "name": "stderr",
     "output_type": "stream",
     "text": [
      "100%|██████████| 368/368 [00:02<00:00, 135.76it/s]\n"
     ]
    },
    {
     "name": "stdout",
     "output_type": "stream",
     "text": [
      "Training Epoch 8, Loss: 1.079682\n",
      "Accuracy: 0.6389380530973451\n",
      "Valdiation Epoch 8, Loss: 1.580739\n"
     ]
    },
    {
     "name": "stderr",
     "output_type": "stream",
     "text": [
      "100%|██████████| 368/368 [00:03<00:00, 106.94it/s]\n"
     ]
    },
    {
     "name": "stdout",
     "output_type": "stream",
     "text": [
      "Training Epoch 9, Loss: 1.021838\n",
      "Accuracy: 0.631858407079646\n",
      "Valdiation Epoch 9, Loss: 1.593658\n"
     ]
    },
    {
     "name": "stderr",
     "output_type": "stream",
     "text": [
      "100%|██████████| 368/368 [00:03<00:00, 98.90it/s] \n",
      "[I 2023-08-16 16:37:19,942] Trial 21 finished with value: 1.5626237930523024 and parameters: {'lr': 1.1598915933558035e-05, 'batch_size': 16, 'd_model': 8, 'nhead': 2, 'num_layers': 4, 'hidden_dim': 6, 'layer_dim': 2}. Best is trial 10 with value: 1.4055613424215052.\n"
     ]
    },
    {
     "name": "stdout",
     "output_type": "stream",
     "text": [
      "Training Epoch 10, Loss: 0.968447\n",
      "Accuracy: 0.6424778761061947\n",
      "Valdiation Epoch 10, Loss: 1.562624\n",
      "256 4\n",
      "[5555, 3420, 3267, 3256, 2847, 3155, 3266, 3048, 2449, 2527, 3583, 2925, 2516, 2869, 2482, 2803, 2374, 2235, 2372, 2028, 9011, 3378, 5160, 2620, 2453, 5274, 3320, 4020, 3279, 4310, 4411, 4145, 3730, 3700]\n",
      "['G1' 'G10' 'G11' 'G2' 'G3' 'G4' 'G5' 'G6' 'G8' 'G9']\n",
      "[0 0 0 ... 2 2 2]\n",
      "[[1. 0. 0. ... 0. 0. 0.]\n",
      " [1. 0. 0. ... 0. 0. 0.]\n",
      " [1. 0. 0. ... 0. 0. 0.]\n",
      " ...\n",
      " [0. 0. 1. ... 0. 0. 0.]\n",
      " [0. 0. 1. ... 0. 0. 0.]\n",
      " [0. 0. 1. ... 0. 0. 0.]]\n",
      "[2653, 2002, 2303, 2642, 1758]\n",
      "['G1' 'G10' 'G11' 'G2' 'G3' 'G4' 'G5' 'G6' 'G8' 'G9']\n",
      "[0 0 0 ... 2 2 2]\n",
      "[[1. 0. 0. ... 0. 0. 0.]\n",
      " [1. 0. 0. ... 0. 0. 0.]\n",
      " [1. 0. 0. ... 0. 0. 0.]\n",
      " ...\n",
      " [0. 0. 1. ... 0. 0. 0.]\n",
      " [0. 0. 1. ... 0. 0. 0.]\n",
      " [0. 0. 1. ... 0. 0. 0.]]\n"
     ]
    },
    {
     "name": "stderr",
     "output_type": "stream",
     "text": [
      "100%|██████████| 368/368 [00:03<00:00, 95.62it/s] \n"
     ]
    },
    {
     "name": "stdout",
     "output_type": "stream",
     "text": [
      "Training Epoch 1, Loss: 1.821797\n",
      "Accuracy: 0.4690265486725664\n",
      "Valdiation Epoch 1, Loss: 1.884307\n"
     ]
    },
    {
     "name": "stderr",
     "output_type": "stream",
     "text": [
      "100%|██████████| 368/368 [00:03<00:00, 95.06it/s] \n"
     ]
    },
    {
     "name": "stdout",
     "output_type": "stream",
     "text": [
      "Training Epoch 2, Loss: 1.303272\n",
      "Accuracy: 0.5433628318584071\n",
      "Valdiation Epoch 2, Loss: 1.747933\n"
     ]
    },
    {
     "name": "stderr",
     "output_type": "stream",
     "text": [
      "100%|██████████| 368/368 [00:03<00:00, 98.42it/s] \n"
     ]
    },
    {
     "name": "stdout",
     "output_type": "stream",
     "text": [
      "Training Epoch 3, Loss: 1.057139\n",
      "Accuracy: 0.6336283185840708\n",
      "Valdiation Epoch 3, Loss: 1.623666\n"
     ]
    },
    {
     "name": "stderr",
     "output_type": "stream",
     "text": [
      "100%|██████████| 368/368 [00:03<00:00, 103.09it/s]\n"
     ]
    },
    {
     "name": "stdout",
     "output_type": "stream",
     "text": [
      "Training Epoch 4, Loss: 0.916278\n",
      "Accuracy: 0.6407079646017699\n",
      "Valdiation Epoch 4, Loss: 1.554055\n"
     ]
    },
    {
     "name": "stderr",
     "output_type": "stream",
     "text": [
      "100%|██████████| 368/368 [00:03<00:00, 97.76it/s] \n"
     ]
    },
    {
     "name": "stdout",
     "output_type": "stream",
     "text": [
      "Training Epoch 5, Loss: 0.826492\n",
      "Accuracy: 0.6371681415929203\n",
      "Valdiation Epoch 5, Loss: 1.534783\n"
     ]
    },
    {
     "name": "stderr",
     "output_type": "stream",
     "text": [
      "100%|██████████| 368/368 [00:03<00:00, 108.06it/s]\n"
     ]
    },
    {
     "name": "stdout",
     "output_type": "stream",
     "text": [
      "Training Epoch 6, Loss: 0.752876\n",
      "Accuracy: 0.6194690265486725\n",
      "Valdiation Epoch 6, Loss: 1.534058\n"
     ]
    },
    {
     "name": "stderr",
     "output_type": "stream",
     "text": [
      "100%|██████████| 368/368 [00:03<00:00, 94.64it/s] \n"
     ]
    },
    {
     "name": "stdout",
     "output_type": "stream",
     "text": [
      "Training Epoch 7, Loss: 0.698298\n",
      "Accuracy: 0.6123893805309735\n",
      "Valdiation Epoch 7, Loss: 1.525152\n"
     ]
    },
    {
     "name": "stderr",
     "output_type": "stream",
     "text": [
      "100%|██████████| 368/368 [00:03<00:00, 97.85it/s] \n"
     ]
    },
    {
     "name": "stdout",
     "output_type": "stream",
     "text": [
      "Training Epoch 8, Loss: 0.647503\n",
      "Accuracy: 0.6265486725663717\n",
      "Valdiation Epoch 8, Loss: 1.531383\n"
     ]
    },
    {
     "name": "stderr",
     "output_type": "stream",
     "text": [
      "100%|██████████| 368/368 [00:03<00:00, 101.26it/s]\n"
     ]
    },
    {
     "name": "stdout",
     "output_type": "stream",
     "text": [
      "Training Epoch 9, Loss: 0.608127\n",
      "Accuracy: 0.6265486725663717\n",
      "Valdiation Epoch 9, Loss: 1.550471\n"
     ]
    },
    {
     "name": "stderr",
     "output_type": "stream",
     "text": [
      "100%|██████████| 368/368 [00:03<00:00, 96.22it/s] \n"
     ]
    },
    {
     "name": "stdout",
     "output_type": "stream",
     "text": [
      "Training Epoch 10, Loss: 0.561250\n"
     ]
    },
    {
     "name": "stderr",
     "output_type": "stream",
     "text": [
      "[I 2023-08-16 16:38:00,053] Trial 22 finished with value: 1.5045966706756089 and parameters: {'lr': 2.500577639864192e-05, 'batch_size': 16, 'd_model': 8, 'nhead': 2, 'num_layers': 4, 'hidden_dim': 7, 'layer_dim': 2}. Best is trial 10 with value: 1.4055613424215052.\n"
     ]
    },
    {
     "name": "stdout",
     "output_type": "stream",
     "text": [
      "Accuracy: 0.6424778761061947\n",
      "Valdiation Epoch 10, Loss: 1.504597\n",
      "128 8\n",
      "[5555, 3420, 3267, 3256, 2847, 3155, 3266, 3048, 2449, 2527, 3583, 2925, 2516, 2869, 2482, 2803, 2374, 2235, 2372, 2028, 9011, 3378, 5160, 2620, 2453, 5274, 3320, 4020, 3279, 4310, 4411, 4145, 3730, 3700]\n",
      "['G1' 'G10' 'G11' 'G2' 'G3' 'G4' 'G5' 'G6' 'G8' 'G9']\n",
      "[0 0 0 ... 2 2 2]\n",
      "[[1. 0. 0. ... 0. 0. 0.]\n",
      " [1. 0. 0. ... 0. 0. 0.]\n",
      " [1. 0. 0. ... 0. 0. 0.]\n",
      " ...\n",
      " [0. 0. 1. ... 0. 0. 0.]\n",
      " [0. 0. 1. ... 0. 0. 0.]\n",
      " [0. 0. 1. ... 0. 0. 0.]]\n",
      "[2653, 2002, 2303, 2642, 1758]\n",
      "['G1' 'G10' 'G11' 'G2' 'G3' 'G4' 'G5' 'G6' 'G8' 'G9']\n",
      "[0 0 0 ... 2 2 2]\n",
      "[[1. 0. 0. ... 0. 0. 0.]\n",
      " [1. 0. 0. ... 0. 0. 0.]\n",
      " [1. 0. 0. ... 0. 0. 0.]\n",
      " ...\n",
      " [0. 0. 1. ... 0. 0. 0.]\n",
      " [0. 0. 1. ... 0. 0. 0.]\n",
      " [0. 0. 1. ... 0. 0. 0.]]\n"
     ]
    },
    {
     "name": "stderr",
     "output_type": "stream",
     "text": [
      "100%|██████████| 368/368 [00:03<00:00, 109.09it/s]\n"
     ]
    },
    {
     "name": "stdout",
     "output_type": "stream",
     "text": [
      "Training Epoch 1, Loss: 1.918588\n",
      "Accuracy: 0.42123893805309737\n",
      "Valdiation Epoch 1, Loss: 1.975887\n"
     ]
    },
    {
     "name": "stderr",
     "output_type": "stream",
     "text": [
      "100%|██████████| 368/368 [00:03<00:00, 114.14it/s]\n"
     ]
    },
    {
     "name": "stdout",
     "output_type": "stream",
     "text": [
      "Training Epoch 2, Loss: 1.548431\n",
      "Accuracy: 0.5185840707964602\n",
      "Valdiation Epoch 2, Loss: 1.815590\n"
     ]
    },
    {
     "name": "stderr",
     "output_type": "stream",
     "text": [
      "100%|██████████| 368/368 [00:03<00:00, 101.57it/s]\n"
     ]
    },
    {
     "name": "stdout",
     "output_type": "stream",
     "text": [
      "Training Epoch 3, Loss: 1.263212\n",
      "Accuracy: 0.5185840707964602\n",
      "Valdiation Epoch 3, Loss: 1.825898\n"
     ]
    },
    {
     "name": "stderr",
     "output_type": "stream",
     "text": [
      "100%|██████████| 368/368 [00:03<00:00, 99.95it/s] \n"
     ]
    },
    {
     "name": "stdout",
     "output_type": "stream",
     "text": [
      "Training Epoch 4, Loss: 1.093811\n",
      "Accuracy: 0.5592920353982301\n",
      "Valdiation Epoch 4, Loss: 1.689085\n"
     ]
    },
    {
     "name": "stderr",
     "output_type": "stream",
     "text": [
      "100%|██████████| 368/368 [00:03<00:00, 109.46it/s]\n"
     ]
    },
    {
     "name": "stdout",
     "output_type": "stream",
     "text": [
      "Training Epoch 5, Loss: 0.968862\n",
      "Accuracy: 0.5823008849557522\n",
      "Valdiation Epoch 5, Loss: 1.643565\n"
     ]
    },
    {
     "name": "stderr",
     "output_type": "stream",
     "text": [
      "100%|██████████| 368/368 [00:03<00:00, 106.03it/s]\n"
     ]
    },
    {
     "name": "stdout",
     "output_type": "stream",
     "text": [
      "Training Epoch 6, Loss: 0.878029\n",
      "Accuracy: 0.6017699115044248\n",
      "Valdiation Epoch 6, Loss: 1.620958\n"
     ]
    },
    {
     "name": "stderr",
     "output_type": "stream",
     "text": [
      "100%|██████████| 368/368 [00:03<00:00, 105.10it/s]\n"
     ]
    },
    {
     "name": "stdout",
     "output_type": "stream",
     "text": [
      "Training Epoch 7, Loss: 0.804996\n",
      "Accuracy: 0.5823008849557522\n",
      "Valdiation Epoch 7, Loss: 1.695090\n"
     ]
    },
    {
     "name": "stderr",
     "output_type": "stream",
     "text": [
      "100%|██████████| 368/368 [00:03<00:00, 108.78it/s]\n"
     ]
    },
    {
     "name": "stdout",
     "output_type": "stream",
     "text": [
      "Training Epoch 8, Loss: 0.754816\n",
      "Accuracy: 0.6265486725663717\n",
      "Valdiation Epoch 8, Loss: 1.560428\n"
     ]
    },
    {
     "name": "stderr",
     "output_type": "stream",
     "text": [
      "100%|██████████| 368/368 [00:01<00:00, 239.45it/s]\n"
     ]
    },
    {
     "name": "stdout",
     "output_type": "stream",
     "text": [
      "Training Epoch 9, Loss: 0.707899\n",
      "Accuracy: 0.631858407079646\n",
      "Valdiation Epoch 9, Loss: 1.570500\n"
     ]
    },
    {
     "name": "stderr",
     "output_type": "stream",
     "text": [
      "100%|██████████| 368/368 [00:01<00:00, 238.75it/s]\n",
      "[I 2023-08-16 16:38:33,329] Trial 23 finished with value: 1.5565092638134956 and parameters: {'lr': 2.280232588965392e-05, 'batch_size': 16, 'd_model': 7, 'nhead': 3, 'num_layers': 4, 'hidden_dim': 7, 'layer_dim': 2}. Best is trial 10 with value: 1.4055613424215052.\n"
     ]
    },
    {
     "name": "stdout",
     "output_type": "stream",
     "text": [
      "Training Epoch 10, Loss: 0.671375\n",
      "Accuracy: 0.631858407079646\n",
      "Valdiation Epoch 10, Loss: 1.556509\n",
      "256 4\n",
      "[5555, 3420, 3267, 3256, 2847, 3155, 3266, 3048, 2449, 2527, 3583, 2925, 2516, 2869, 2482, 2803, 2374, 2235, 2372, 2028, 9011, 3378, 5160, 2620, 2453, 5274, 3320, 4020, 3279, 4310, 4411, 4145, 3730, 3700]\n",
      "['G1' 'G10' 'G11' 'G2' 'G3' 'G4' 'G5' 'G6' 'G8' 'G9']\n",
      "[0 0 0 ... 2 2 2]\n",
      "[[1. 0. 0. ... 0. 0. 0.]\n",
      " [1. 0. 0. ... 0. 0. 0.]\n",
      " [1. 0. 0. ... 0. 0. 0.]\n",
      " ...\n",
      " [0. 0. 1. ... 0. 0. 0.]\n",
      " [0. 0. 1. ... 0. 0. 0.]\n",
      " [0. 0. 1. ... 0. 0. 0.]]\n",
      "[2653, 2002, 2303, 2642, 1758]\n",
      "['G1' 'G10' 'G11' 'G2' 'G3' 'G4' 'G5' 'G6' 'G8' 'G9']\n",
      "[0 0 0 ... 2 2 2]\n",
      "[[1. 0. 0. ... 0. 0. 0.]\n",
      " [1. 0. 0. ... 0. 0. 0.]\n",
      " [1. 0. 0. ... 0. 0. 0.]\n",
      " ...\n",
      " [0. 0. 1. ... 0. 0. 0.]\n",
      " [0. 0. 1. ... 0. 0. 0.]\n",
      " [0. 0. 1. ... 0. 0. 0.]]\n"
     ]
    },
    {
     "name": "stderr",
     "output_type": "stream",
     "text": [
      "100%|██████████| 368/368 [00:02<00:00, 170.19it/s]\n"
     ]
    },
    {
     "name": "stdout",
     "output_type": "stream",
     "text": [
      "Training Epoch 1, Loss: 1.910069\n",
      "Accuracy: 0.39823008849557523\n",
      "Valdiation Epoch 1, Loss: 2.088240\n"
     ]
    },
    {
     "name": "stderr",
     "output_type": "stream",
     "text": [
      "100%|██████████| 368/368 [00:02<00:00, 178.35it/s]\n"
     ]
    },
    {
     "name": "stdout",
     "output_type": "stream",
     "text": [
      "Training Epoch 2, Loss: 1.507585\n",
      "Accuracy: 0.5079646017699115\n",
      "Valdiation Epoch 2, Loss: 1.941966\n"
     ]
    },
    {
     "name": "stderr",
     "output_type": "stream",
     "text": [
      "100%|██████████| 368/368 [00:02<00:00, 176.97it/s]\n"
     ]
    },
    {
     "name": "stdout",
     "output_type": "stream",
     "text": [
      "Training Epoch 3, Loss: 1.199964\n",
      "Accuracy: 0.5380530973451327\n",
      "Valdiation Epoch 3, Loss: 1.842611\n"
     ]
    },
    {
     "name": "stderr",
     "output_type": "stream",
     "text": [
      "100%|██████████| 368/368 [00:02<00:00, 176.19it/s]\n"
     ]
    },
    {
     "name": "stdout",
     "output_type": "stream",
     "text": [
      "Training Epoch 4, Loss: 1.076357\n",
      "Accuracy: 0.5876106194690266\n",
      "Valdiation Epoch 4, Loss: 1.749524\n"
     ]
    },
    {
     "name": "stderr",
     "output_type": "stream",
     "text": [
      "100%|██████████| 368/368 [00:02<00:00, 175.84it/s]\n"
     ]
    },
    {
     "name": "stdout",
     "output_type": "stream",
     "text": [
      "Training Epoch 5, Loss: 0.943348\n",
      "Accuracy: 0.6230088495575221\n",
      "Valdiation Epoch 5, Loss: 1.723463\n"
     ]
    },
    {
     "name": "stderr",
     "output_type": "stream",
     "text": [
      "100%|██████████| 368/368 [00:02<00:00, 182.40it/s]\n"
     ]
    },
    {
     "name": "stdout",
     "output_type": "stream",
     "text": [
      "Training Epoch 6, Loss: 0.848900\n",
      "Accuracy: 0.6053097345132743\n",
      "Valdiation Epoch 6, Loss: 1.717393\n"
     ]
    },
    {
     "name": "stderr",
     "output_type": "stream",
     "text": [
      "100%|██████████| 368/368 [00:02<00:00, 179.13it/s]\n"
     ]
    },
    {
     "name": "stdout",
     "output_type": "stream",
     "text": [
      "Training Epoch 7, Loss: 0.787688\n",
      "Accuracy: 0.6106194690265486\n",
      "Valdiation Epoch 7, Loss: 1.746341\n"
     ]
    },
    {
     "name": "stderr",
     "output_type": "stream",
     "text": [
      "100%|██████████| 368/368 [00:02<00:00, 178.63it/s]\n"
     ]
    },
    {
     "name": "stdout",
     "output_type": "stream",
     "text": [
      "Training Epoch 8, Loss: 0.737816\n",
      "Accuracy: 0.5628318584070796\n",
      "Valdiation Epoch 8, Loss: 1.784758\n"
     ]
    },
    {
     "name": "stderr",
     "output_type": "stream",
     "text": [
      "100%|██████████| 368/368 [00:02<00:00, 175.95it/s]\n"
     ]
    },
    {
     "name": "stdout",
     "output_type": "stream",
     "text": [
      "Training Epoch 9, Loss: 0.698255\n",
      "Accuracy: 0.5911504424778761\n",
      "Valdiation Epoch 9, Loss: 1.700506\n"
     ]
    },
    {
     "name": "stderr",
     "output_type": "stream",
     "text": [
      "100%|██████████| 368/368 [00:02<00:00, 178.93it/s]\n",
      "[I 2023-08-16 16:38:55,670] Trial 24 finished with value: 1.6831532729168732 and parameters: {'lr': 2.1710248718870922e-05, 'batch_size': 16, 'd_model': 8, 'nhead': 2, 'num_layers': 4, 'hidden_dim': 8, 'layer_dim': 3}. Best is trial 10 with value: 1.4055613424215052.\n"
     ]
    },
    {
     "name": "stdout",
     "output_type": "stream",
     "text": [
      "Training Epoch 10, Loss: 0.665578\n",
      "Accuracy: 0.6265486725663717\n",
      "Valdiation Epoch 10, Loss: 1.683153\n",
      "128 8\n",
      "[5555, 3420, 3267, 3256, 2847, 3155, 3266, 3048, 2449, 2527, 3583, 2925, 2516, 2869, 2482, 2803, 2374, 2235, 2372, 2028, 9011, 3378, 5160, 2620, 2453, 5274, 3320, 4020, 3279, 4310, 4411, 4145, 3730, 3700]\n",
      "['G1' 'G10' 'G11' 'G2' 'G3' 'G4' 'G5' 'G6' 'G8' 'G9']\n",
      "[0 0 0 ... 2 2 2]\n",
      "[[1. 0. 0. ... 0. 0. 0.]\n",
      " [1. 0. 0. ... 0. 0. 0.]\n",
      " [1. 0. 0. ... 0. 0. 0.]\n",
      " ...\n",
      " [0. 0. 1. ... 0. 0. 0.]\n",
      " [0. 0. 1. ... 0. 0. 0.]\n",
      " [0. 0. 1. ... 0. 0. 0.]]\n",
      "[2653, 2002, 2303, 2642, 1758]\n",
      "['G1' 'G10' 'G11' 'G2' 'G3' 'G4' 'G5' 'G6' 'G8' 'G9']\n",
      "[0 0 0 ... 2 2 2]\n",
      "[[1. 0. 0. ... 0. 0. 0.]\n",
      " [1. 0. 0. ... 0. 0. 0.]\n",
      " [1. 0. 0. ... 0. 0. 0.]\n",
      " ...\n",
      " [0. 0. 1. ... 0. 0. 0.]\n",
      " [0. 0. 1. ... 0. 0. 0.]\n",
      " [0. 0. 1. ... 0. 0. 0.]]\n"
     ]
    },
    {
     "name": "stderr",
     "output_type": "stream",
     "text": [
      "100%|██████████| 92/92 [00:00<00:00, 114.42it/s]\n"
     ]
    },
    {
     "name": "stdout",
     "output_type": "stream",
     "text": [
      "Training Epoch 1, Loss: 2.046342\n",
      "Accuracy: 0.32035398230088497\n",
      "Valdiation Epoch 1, Loss: 2.033107\n"
     ]
    },
    {
     "name": "stderr",
     "output_type": "stream",
     "text": [
      "100%|██████████| 92/92 [00:00<00:00, 114.74it/s]\n"
     ]
    },
    {
     "name": "stdout",
     "output_type": "stream",
     "text": [
      "Training Epoch 2, Loss: 1.746996\n",
      "Accuracy: 0.4336283185840708\n",
      "Valdiation Epoch 2, Loss: 1.854336\n"
     ]
    },
    {
     "name": "stderr",
     "output_type": "stream",
     "text": [
      "100%|██████████| 92/92 [00:00<00:00, 112.52it/s]\n"
     ]
    },
    {
     "name": "stdout",
     "output_type": "stream",
     "text": [
      "Training Epoch 3, Loss: 1.505921\n",
      "Accuracy: 0.5008849557522124\n",
      "Valdiation Epoch 3, Loss: 1.746060\n"
     ]
    },
    {
     "name": "stderr",
     "output_type": "stream",
     "text": [
      "100%|██████████| 92/92 [00:00<00:00, 122.70it/s]\n"
     ]
    },
    {
     "name": "stdout",
     "output_type": "stream",
     "text": [
      "Training Epoch 4, Loss: 1.299150\n",
      "Accuracy: 0.5628318584070796\n",
      "Valdiation Epoch 4, Loss: 1.680169\n"
     ]
    },
    {
     "name": "stderr",
     "output_type": "stream",
     "text": [
      "100%|██████████| 92/92 [00:00<00:00, 111.55it/s]\n"
     ]
    },
    {
     "name": "stdout",
     "output_type": "stream",
     "text": [
      "Training Epoch 5, Loss: 1.159762\n",
      "Accuracy: 0.5858407079646017\n",
      "Valdiation Epoch 5, Loss: 1.663598\n"
     ]
    },
    {
     "name": "stderr",
     "output_type": "stream",
     "text": [
      "100%|██████████| 92/92 [00:00<00:00, 112.27it/s]\n"
     ]
    },
    {
     "name": "stdout",
     "output_type": "stream",
     "text": [
      "Training Epoch 6, Loss: 1.040841\n",
      "Accuracy: 0.6566371681415929\n",
      "Valdiation Epoch 6, Loss: 1.540355\n"
     ]
    },
    {
     "name": "stderr",
     "output_type": "stream",
     "text": [
      "100%|██████████| 92/92 [00:00<00:00, 113.54it/s]\n"
     ]
    },
    {
     "name": "stdout",
     "output_type": "stream",
     "text": [
      "Training Epoch 7, Loss: 0.945599\n",
      "Accuracy: 0.6584070796460177\n",
      "Valdiation Epoch 7, Loss: 1.514806\n"
     ]
    },
    {
     "name": "stderr",
     "output_type": "stream",
     "text": [
      "100%|██████████| 92/92 [00:00<00:00, 113.58it/s]\n"
     ]
    },
    {
     "name": "stdout",
     "output_type": "stream",
     "text": [
      "Training Epoch 8, Loss: 0.879036\n",
      "Accuracy: 0.6513274336283186\n",
      "Valdiation Epoch 8, Loss: 1.498258\n"
     ]
    },
    {
     "name": "stderr",
     "output_type": "stream",
     "text": [
      "100%|██████████| 92/92 [00:00<00:00, 116.10it/s]\n"
     ]
    },
    {
     "name": "stdout",
     "output_type": "stream",
     "text": [
      "Training Epoch 9, Loss: 0.822760\n",
      "Accuracy: 0.6654867256637168\n",
      "Valdiation Epoch 9, Loss: 1.487728\n"
     ]
    },
    {
     "name": "stderr",
     "output_type": "stream",
     "text": [
      "100%|██████████| 92/92 [00:00<00:00, 102.22it/s]\n",
      "[I 2023-08-16 16:39:05,143] Trial 25 finished with value: 1.4889736043082342 and parameters: {'lr': 3.803579179223022e-05, 'batch_size': 64, 'd_model': 7, 'nhead': 3, 'num_layers': 4, 'hidden_dim': 7, 'layer_dim': 2}. Best is trial 10 with value: 1.4055613424215052.\n"
     ]
    },
    {
     "name": "stdout",
     "output_type": "stream",
     "text": [
      "Training Epoch 10, Loss: 0.769521\n",
      "Accuracy: 0.6424778761061947\n",
      "Valdiation Epoch 10, Loss: 1.488974\n",
      "128 8\n",
      "[5555, 3420, 3267, 3256, 2847, 3155, 3266, 3048, 2449, 2527, 3583, 2925, 2516, 2869, 2482, 2803, 2374, 2235, 2372, 2028, 9011, 3378, 5160, 2620, 2453, 5274, 3320, 4020, 3279, 4310, 4411, 4145, 3730, 3700]\n",
      "['G1' 'G10' 'G11' 'G2' 'G3' 'G4' 'G5' 'G6' 'G8' 'G9']\n",
      "[0 0 0 ... 2 2 2]\n",
      "[[1. 0. 0. ... 0. 0. 0.]\n",
      " [1. 0. 0. ... 0. 0. 0.]\n",
      " [1. 0. 0. ... 0. 0. 0.]\n",
      " ...\n",
      " [0. 0. 1. ... 0. 0. 0.]\n",
      " [0. 0. 1. ... 0. 0. 0.]\n",
      " [0. 0. 1. ... 0. 0. 0.]]\n",
      "[2653, 2002, 2303, 2642, 1758]\n",
      "['G1' 'G10' 'G11' 'G2' 'G3' 'G4' 'G5' 'G6' 'G8' 'G9']\n",
      "[0 0 0 ... 2 2 2]\n",
      "[[1. 0. 0. ... 0. 0. 0.]\n",
      " [1. 0. 0. ... 0. 0. 0.]\n",
      " [1. 0. 0. ... 0. 0. 0.]\n",
      " ...\n",
      " [0. 0. 1. ... 0. 0. 0.]\n",
      " [0. 0. 1. ... 0. 0. 0.]\n",
      " [0. 0. 1. ... 0. 0. 0.]]\n"
     ]
    },
    {
     "name": "stderr",
     "output_type": "stream",
     "text": [
      "100%|██████████| 92/92 [00:00<00:00, 118.21it/s]\n"
     ]
    },
    {
     "name": "stdout",
     "output_type": "stream",
     "text": [
      "Training Epoch 1, Loss: 1.879199\n",
      "Accuracy: 0.4407079646017699\n",
      "Valdiation Epoch 1, Loss: 1.871477\n"
     ]
    },
    {
     "name": "stderr",
     "output_type": "stream",
     "text": [
      "100%|██████████| 92/92 [00:00<00:00, 124.47it/s]\n"
     ]
    },
    {
     "name": "stdout",
     "output_type": "stream",
     "text": [
      "Training Epoch 2, Loss: 1.544920\n",
      "Accuracy: 0.5557522123893806\n",
      "Valdiation Epoch 2, Loss: 1.686231\n"
     ]
    },
    {
     "name": "stderr",
     "output_type": "stream",
     "text": [
      "100%|██████████| 92/92 [00:00<00:00, 123.65it/s]\n"
     ]
    },
    {
     "name": "stdout",
     "output_type": "stream",
     "text": [
      "Training Epoch 3, Loss: 1.342309\n",
      "Accuracy: 0.5681415929203539\n",
      "Valdiation Epoch 3, Loss: 1.561610\n"
     ]
    },
    {
     "name": "stderr",
     "output_type": "stream",
     "text": [
      "100%|██████████| 92/92 [00:00<00:00, 122.15it/s]\n"
     ]
    },
    {
     "name": "stdout",
     "output_type": "stream",
     "text": [
      "Training Epoch 4, Loss: 1.214556\n",
      "Accuracy: 0.6371681415929203\n",
      "Valdiation Epoch 4, Loss: 1.481065\n"
     ]
    },
    {
     "name": "stderr",
     "output_type": "stream",
     "text": [
      "100%|██████████| 92/92 [00:00<00:00, 125.65it/s]\n"
     ]
    },
    {
     "name": "stdout",
     "output_type": "stream",
     "text": [
      "Training Epoch 5, Loss: 1.118790\n",
      "Accuracy: 0.6371681415929203\n",
      "Valdiation Epoch 5, Loss: 1.397654\n"
     ]
    },
    {
     "name": "stderr",
     "output_type": "stream",
     "text": [
      "100%|██████████| 92/92 [00:00<00:00, 119.41it/s]\n"
     ]
    },
    {
     "name": "stdout",
     "output_type": "stream",
     "text": [
      "Training Epoch 6, Loss: 1.041741\n",
      "Accuracy: 0.631858407079646\n",
      "Valdiation Epoch 6, Loss: 1.395114\n"
     ]
    },
    {
     "name": "stderr",
     "output_type": "stream",
     "text": [
      "100%|██████████| 92/92 [00:00<00:00, 114.94it/s]\n"
     ]
    },
    {
     "name": "stdout",
     "output_type": "stream",
     "text": [
      "Training Epoch 7, Loss: 0.980320\n",
      "Accuracy: 0.6460176991150443\n",
      "Valdiation Epoch 7, Loss: 1.362740\n"
     ]
    },
    {
     "name": "stderr",
     "output_type": "stream",
     "text": [
      "100%|██████████| 92/92 [00:00<00:00, 117.92it/s]\n"
     ]
    },
    {
     "name": "stdout",
     "output_type": "stream",
     "text": [
      "Training Epoch 8, Loss: 0.926877\n",
      "Accuracy: 0.6141592920353982\n",
      "Valdiation Epoch 8, Loss: 1.397025\n"
     ]
    },
    {
     "name": "stderr",
     "output_type": "stream",
     "text": [
      "100%|██████████| 92/92 [00:00<00:00, 122.04it/s]\n"
     ]
    },
    {
     "name": "stdout",
     "output_type": "stream",
     "text": [
      "Training Epoch 9, Loss: 0.879783\n",
      "Accuracy: 0.6424778761061947\n",
      "Valdiation Epoch 9, Loss: 1.328793\n"
     ]
    },
    {
     "name": "stderr",
     "output_type": "stream",
     "text": [
      "100%|██████████| 92/92 [00:00<00:00, 120.43it/s]\n",
      "[I 2023-08-16 16:39:14,062] Trial 26 finished with value: 1.3897925681538053 and parameters: {'lr': 4.240580721529334e-05, 'batch_size': 64, 'd_model': 7, 'nhead': 3, 'num_layers': 4, 'hidden_dim': 5, 'layer_dim': 1}. Best is trial 26 with value: 1.3897925681538053.\n"
     ]
    },
    {
     "name": "stdout",
     "output_type": "stream",
     "text": [
      "Training Epoch 10, Loss: 0.831698\n",
      "Accuracy: 0.6070796460176991\n",
      "Valdiation Epoch 10, Loss: 1.389793\n",
      "64 16\n",
      "[5555, 3420, 3267, 3256, 2847, 3155, 3266, 3048, 2449, 2527, 3583, 2925, 2516, 2869, 2482, 2803, 2374, 2235, 2372, 2028, 9011, 3378, 5160, 2620, 2453, 5274, 3320, 4020, 3279, 4310, 4411, 4145, 3730, 3700]\n",
      "['G1' 'G10' 'G11' 'G2' 'G3' 'G4' 'G5' 'G6' 'G8' 'G9']\n",
      "[0 0 0 ... 2 2 2]\n",
      "[[1. 0. 0. ... 0. 0. 0.]\n",
      " [1. 0. 0. ... 0. 0. 0.]\n",
      " [1. 0. 0. ... 0. 0. 0.]\n",
      " ...\n",
      " [0. 0. 1. ... 0. 0. 0.]\n",
      " [0. 0. 1. ... 0. 0. 0.]\n",
      " [0. 0. 1. ... 0. 0. 0.]]\n",
      "[2653, 2002, 2303, 2642, 1758]\n",
      "['G1' 'G10' 'G11' 'G2' 'G3' 'G4' 'G5' 'G6' 'G8' 'G9']\n",
      "[0 0 0 ... 2 2 2]\n",
      "[[1. 0. 0. ... 0. 0. 0.]\n",
      " [1. 0. 0. ... 0. 0. 0.]\n",
      " [1. 0. 0. ... 0. 0. 0.]\n",
      " ...\n",
      " [0. 0. 1. ... 0. 0. 0.]\n",
      " [0. 0. 1. ... 0. 0. 0.]\n",
      " [0. 0. 1. ... 0. 0. 0.]]\n"
     ]
    },
    {
     "name": "stderr",
     "output_type": "stream",
     "text": [
      "100%|██████████| 92/92 [00:00<00:00, 119.33it/s]\n"
     ]
    },
    {
     "name": "stdout",
     "output_type": "stream",
     "text": [
      "Training Epoch 1, Loss: 2.059724\n",
      "Accuracy: 0.32212389380530976\n",
      "Valdiation Epoch 1, Loss: 2.062837\n"
     ]
    },
    {
     "name": "stderr",
     "output_type": "stream",
     "text": [
      "100%|██████████| 92/92 [00:00<00:00, 124.51it/s]\n"
     ]
    },
    {
     "name": "stdout",
     "output_type": "stream",
     "text": [
      "Training Epoch 2, Loss: 1.875780\n",
      "Accuracy: 0.32035398230088497\n",
      "Valdiation Epoch 2, Loss: 1.990113\n"
     ]
    },
    {
     "name": "stderr",
     "output_type": "stream",
     "text": [
      "100%|██████████| 92/92 [00:00<00:00, 109.62it/s]\n"
     ]
    },
    {
     "name": "stdout",
     "output_type": "stream",
     "text": [
      "Training Epoch 3, Loss: 1.789092\n",
      "Accuracy: 0.336283185840708\n",
      "Valdiation Epoch 3, Loss: 1.940541\n"
     ]
    },
    {
     "name": "stderr",
     "output_type": "stream",
     "text": [
      "100%|██████████| 92/92 [00:00<00:00, 116.94it/s]\n"
     ]
    },
    {
     "name": "stdout",
     "output_type": "stream",
     "text": [
      "Training Epoch 4, Loss: 1.725393\n",
      "Accuracy: 0.37168141592920356\n",
      "Valdiation Epoch 4, Loss: 1.893781\n"
     ]
    },
    {
     "name": "stderr",
     "output_type": "stream",
     "text": [
      "100%|██████████| 92/92 [00:00<00:00, 121.79it/s]\n"
     ]
    },
    {
     "name": "stdout",
     "output_type": "stream",
     "text": [
      "Training Epoch 5, Loss: 1.672238\n",
      "Accuracy: 0.39469026548672564\n",
      "Valdiation Epoch 5, Loss: 1.851086\n"
     ]
    },
    {
     "name": "stderr",
     "output_type": "stream",
     "text": [
      "100%|██████████| 92/92 [00:00<00:00, 124.92it/s]\n"
     ]
    },
    {
     "name": "stdout",
     "output_type": "stream",
     "text": [
      "Training Epoch 6, Loss: 1.630504\n",
      "Accuracy: 0.37168141592920356\n",
      "Valdiation Epoch 6, Loss: 1.852639\n"
     ]
    },
    {
     "name": "stderr",
     "output_type": "stream",
     "text": [
      "100%|██████████| 92/92 [00:00<00:00, 126.03it/s]\n"
     ]
    },
    {
     "name": "stdout",
     "output_type": "stream",
     "text": [
      "Training Epoch 7, Loss: 1.591897\n",
      "Accuracy: 0.4088495575221239\n",
      "Valdiation Epoch 7, Loss: 1.816708\n"
     ]
    },
    {
     "name": "stderr",
     "output_type": "stream",
     "text": [
      "100%|██████████| 92/92 [00:00<00:00, 123.25it/s]\n"
     ]
    },
    {
     "name": "stdout",
     "output_type": "stream",
     "text": [
      "Training Epoch 8, Loss: 1.559735\n",
      "Accuracy: 0.4283185840707965\n",
      "Valdiation Epoch 8, Loss: 1.803182\n"
     ]
    },
    {
     "name": "stderr",
     "output_type": "stream",
     "text": [
      "100%|██████████| 92/92 [00:00<00:00, 117.04it/s]\n"
     ]
    },
    {
     "name": "stdout",
     "output_type": "stream",
     "text": [
      "Training Epoch 9, Loss: 1.527284\n",
      "Accuracy: 0.4690265486725664\n",
      "Valdiation Epoch 9, Loss: 1.758644\n"
     ]
    },
    {
     "name": "stderr",
     "output_type": "stream",
     "text": [
      "100%|██████████| 92/92 [00:00<00:00, 117.25it/s]\n",
      "[I 2023-08-16 16:39:23,031] Trial 27 finished with value: 1.735813193851047 and parameters: {'lr': 1.696079368339222e-05, 'batch_size': 64, 'd_model': 6, 'nhead': 4, 'num_layers': 4, 'hidden_dim': 4, 'layer_dim': 1}. Best is trial 26 with value: 1.3897925681538053.\n"
     ]
    },
    {
     "name": "stdout",
     "output_type": "stream",
     "text": [
      "Training Epoch 10, Loss: 1.499109\n",
      "Accuracy: 0.49734513274336284\n",
      "Valdiation Epoch 10, Loss: 1.735813\n",
      "128 32\n",
      "[5555, 3420, 3267, 3256, 2847, 3155, 3266, 3048, 2449, 2527, 3583, 2925, 2516, 2869, 2482, 2803, 2374, 2235, 2372, 2028, 9011, 3378, 5160, 2620, 2453, 5274, 3320, 4020, 3279, 4310, 4411, 4145, 3730, 3700]\n",
      "['G1' 'G10' 'G11' 'G2' 'G3' 'G4' 'G5' 'G6' 'G8' 'G9']\n",
      "[0 0 0 ... 2 2 2]\n",
      "[[1. 0. 0. ... 0. 0. 0.]\n",
      " [1. 0. 0. ... 0. 0. 0.]\n",
      " [1. 0. 0. ... 0. 0. 0.]\n",
      " ...\n",
      " [0. 0. 1. ... 0. 0. 0.]\n",
      " [0. 0. 1. ... 0. 0. 0.]\n",
      " [0. 0. 1. ... 0. 0. 0.]]\n",
      "[2653, 2002, 2303, 2642, 1758]\n",
      "['G1' 'G10' 'G11' 'G2' 'G3' 'G4' 'G5' 'G6' 'G8' 'G9']\n",
      "[0 0 0 ... 2 2 2]\n",
      "[[1. 0. 0. ... 0. 0. 0.]\n",
      " [1. 0. 0. ... 0. 0. 0.]\n",
      " [1. 0. 0. ... 0. 0. 0.]\n",
      " ...\n",
      " [0. 0. 1. ... 0. 0. 0.]\n",
      " [0. 0. 1. ... 0. 0. 0.]\n",
      " [0. 0. 1. ... 0. 0. 0.]]\n"
     ]
    },
    {
     "name": "stderr",
     "output_type": "stream",
     "text": [
      "100%|██████████| 92/92 [00:00<00:00, 224.44it/s]\n"
     ]
    },
    {
     "name": "stdout",
     "output_type": "stream",
     "text": [
      "Training Epoch 1, Loss: 2.184214\n",
      "Accuracy: 0.32035398230088497\n",
      "Valdiation Epoch 1, Loss: 2.096133\n"
     ]
    },
    {
     "name": "stderr",
     "output_type": "stream",
     "text": [
      "100%|██████████| 92/92 [00:00<00:00, 202.26it/s]\n"
     ]
    },
    {
     "name": "stdout",
     "output_type": "stream",
     "text": [
      "Training Epoch 2, Loss: 1.943949\n",
      "Accuracy: 0.3415929203539823\n",
      "Valdiation Epoch 2, Loss: 1.997695\n"
     ]
    },
    {
     "name": "stderr",
     "output_type": "stream",
     "text": [
      "100%|██████████| 92/92 [00:00<00:00, 194.28it/s]\n"
     ]
    },
    {
     "name": "stdout",
     "output_type": "stream",
     "text": [
      "Training Epoch 3, Loss: 1.824188\n",
      "Accuracy: 0.3787610619469027\n",
      "Valdiation Epoch 3, Loss: 1.916028\n"
     ]
    },
    {
     "name": "stderr",
     "output_type": "stream",
     "text": [
      "100%|██████████| 92/92 [00:00<00:00, 191.10it/s]\n"
     ]
    },
    {
     "name": "stdout",
     "output_type": "stream",
     "text": [
      "Training Epoch 4, Loss: 1.742111\n",
      "Accuracy: 0.41238938053097346\n",
      "Valdiation Epoch 4, Loss: 1.861741\n"
     ]
    },
    {
     "name": "stderr",
     "output_type": "stream",
     "text": [
      "100%|██████████| 92/92 [00:00<00:00, 214.69it/s]\n"
     ]
    },
    {
     "name": "stdout",
     "output_type": "stream",
     "text": [
      "Training Epoch 5, Loss: 1.675295\n",
      "Accuracy: 0.4265486725663717\n",
      "Valdiation Epoch 5, Loss: 1.821727\n"
     ]
    },
    {
     "name": "stderr",
     "output_type": "stream",
     "text": [
      "100%|██████████| 92/92 [00:00<00:00, 195.91it/s]\n"
     ]
    },
    {
     "name": "stdout",
     "output_type": "stream",
     "text": [
      "Training Epoch 6, Loss: 1.612285\n",
      "Accuracy: 0.4300884955752212\n",
      "Valdiation Epoch 6, Loss: 1.787515\n"
     ]
    },
    {
     "name": "stderr",
     "output_type": "stream",
     "text": [
      "100%|██████████| 92/92 [00:00<00:00, 209.88it/s]\n"
     ]
    },
    {
     "name": "stdout",
     "output_type": "stream",
     "text": [
      "Training Epoch 7, Loss: 1.556155\n",
      "Accuracy: 0.44424778761061945\n",
      "Valdiation Epoch 7, Loss: 1.742736\n"
     ]
    },
    {
     "name": "stderr",
     "output_type": "stream",
     "text": [
      "100%|██████████| 92/92 [00:00<00:00, 203.71it/s]\n"
     ]
    },
    {
     "name": "stdout",
     "output_type": "stream",
     "text": [
      "Training Epoch 8, Loss: 1.505344\n",
      "Accuracy: 0.46017699115044247\n",
      "Valdiation Epoch 8, Loss: 1.707183\n"
     ]
    },
    {
     "name": "stderr",
     "output_type": "stream",
     "text": [
      "100%|██████████| 92/92 [00:00<00:00, 210.14it/s]\n"
     ]
    },
    {
     "name": "stdout",
     "output_type": "stream",
     "text": [
      "Training Epoch 9, Loss: 1.461526\n",
      "Accuracy: 0.4761061946902655\n",
      "Valdiation Epoch 9, Loss: 1.671629\n"
     ]
    },
    {
     "name": "stderr",
     "output_type": "stream",
     "text": [
      "100%|██████████| 92/92 [00:00<00:00, 216.01it/s]\n",
      "[I 2023-08-16 16:39:28,717] Trial 28 finished with value: 1.64185455110338 and parameters: {'lr': 1.0095871877391933e-05, 'batch_size': 64, 'd_model': 7, 'nhead': 5, 'num_layers': 2, 'hidden_dim': 5, 'layer_dim': 1}. Best is trial 26 with value: 1.3897925681538053.\n"
     ]
    },
    {
     "name": "stdout",
     "output_type": "stream",
     "text": [
      "Training Epoch 10, Loss: 1.418296\n",
      "Accuracy: 0.4902654867256637\n",
      "Valdiation Epoch 10, Loss: 1.641855\n",
      "32 8\n",
      "[5555, 3420, 3267, 3256, 2847, 3155, 3266, 3048, 2449, 2527, 3583, 2925, 2516, 2869, 2482, 2803, 2374, 2235, 2372, 2028, 9011, 3378, 5160, 2620, 2453, 5274, 3320, 4020, 3279, 4310, 4411, 4145, 3730, 3700]\n",
      "['G1' 'G10' 'G11' 'G2' 'G3' 'G4' 'G5' 'G6' 'G8' 'G9']\n",
      "[0 0 0 ... 2 2 2]\n",
      "[[1. 0. 0. ... 0. 0. 0.]\n",
      " [1. 0. 0. ... 0. 0. 0.]\n",
      " [1. 0. 0. ... 0. 0. 0.]\n",
      " ...\n",
      " [0. 0. 1. ... 0. 0. 0.]\n",
      " [0. 0. 1. ... 0. 0. 0.]\n",
      " [0. 0. 1. ... 0. 0. 0.]]\n",
      "[2653, 2002, 2303, 2642, 1758]\n",
      "['G1' 'G10' 'G11' 'G2' 'G3' 'G4' 'G5' 'G6' 'G8' 'G9']\n",
      "[0 0 0 ... 2 2 2]\n",
      "[[1. 0. 0. ... 0. 0. 0.]\n",
      " [1. 0. 0. ... 0. 0. 0.]\n",
      " [1. 0. 0. ... 0. 0. 0.]\n",
      " ...\n",
      " [0. 0. 1. ... 0. 0. 0.]\n",
      " [0. 0. 1. ... 0. 0. 0.]\n",
      " [0. 0. 1. ... 0. 0. 0.]]\n"
     ]
    },
    {
     "name": "stderr",
     "output_type": "stream",
     "text": [
      "100%|██████████| 92/92 [00:00<00:00, 346.61it/s]\n"
     ]
    },
    {
     "name": "stdout",
     "output_type": "stream",
     "text": [
      "Training Epoch 1, Loss: 2.194300\n",
      "Accuracy: 0.3274336283185841\n",
      "Valdiation Epoch 1, Loss: 2.299671\n"
     ]
    },
    {
     "name": "stderr",
     "output_type": "stream",
     "text": [
      "100%|██████████| 92/92 [00:00<00:00, 292.63it/s]\n"
     ]
    },
    {
     "name": "stdout",
     "output_type": "stream",
     "text": [
      "Training Epoch 2, Loss: 2.058168\n",
      "Accuracy: 0.32212389380530976\n",
      "Valdiation Epoch 2, Loss: 2.230332\n"
     ]
    },
    {
     "name": "stderr",
     "output_type": "stream",
     "text": [
      "100%|██████████| 92/92 [00:00<00:00, 302.55it/s]\n"
     ]
    },
    {
     "name": "stdout",
     "output_type": "stream",
     "text": [
      "Training Epoch 3, Loss: 1.984516\n",
      "Accuracy: 0.3327433628318584\n",
      "Valdiation Epoch 3, Loss: 2.155390\n"
     ]
    },
    {
     "name": "stderr",
     "output_type": "stream",
     "text": [
      "100%|██████████| 92/92 [00:00<00:00, 282.46it/s]\n"
     ]
    },
    {
     "name": "stdout",
     "output_type": "stream",
     "text": [
      "Training Epoch 4, Loss: 1.926365\n",
      "Accuracy: 0.368141592920354\n",
      "Valdiation Epoch 4, Loss: 2.095288\n"
     ]
    },
    {
     "name": "stderr",
     "output_type": "stream",
     "text": [
      "100%|██████████| 92/92 [00:00<00:00, 329.70it/s]\n"
     ]
    },
    {
     "name": "stdout",
     "output_type": "stream",
     "text": [
      "Training Epoch 5, Loss: 1.871921\n",
      "Accuracy: 0.40176991150442476\n",
      "Valdiation Epoch 5, Loss: 2.051233\n"
     ]
    },
    {
     "name": "stderr",
     "output_type": "stream",
     "text": [
      "100%|██████████| 92/92 [00:00<00:00, 292.98it/s]\n"
     ]
    },
    {
     "name": "stdout",
     "output_type": "stream",
     "text": [
      "Training Epoch 6, Loss: 1.823691\n",
      "Accuracy: 0.40530973451327434\n",
      "Valdiation Epoch 6, Loss: 2.008824\n"
     ]
    },
    {
     "name": "stderr",
     "output_type": "stream",
     "text": [
      "100%|██████████| 92/92 [00:00<00:00, 283.13it/s]\n"
     ]
    },
    {
     "name": "stdout",
     "output_type": "stream",
     "text": [
      "Training Epoch 7, Loss: 1.777540\n",
      "Accuracy: 0.4194690265486726\n",
      "Valdiation Epoch 7, Loss: 1.972526\n"
     ]
    },
    {
     "name": "stderr",
     "output_type": "stream",
     "text": [
      "100%|██████████| 92/92 [00:00<00:00, 294.79it/s]\n"
     ]
    },
    {
     "name": "stdout",
     "output_type": "stream",
     "text": [
      "Training Epoch 8, Loss: 1.738986\n",
      "Accuracy: 0.4283185840707965\n",
      "Valdiation Epoch 8, Loss: 1.942023\n"
     ]
    },
    {
     "name": "stderr",
     "output_type": "stream",
     "text": [
      "100%|██████████| 92/92 [00:00<00:00, 318.27it/s]\n"
     ]
    },
    {
     "name": "stdout",
     "output_type": "stream",
     "text": [
      "Training Epoch 9, Loss: 1.701505\n",
      "Accuracy: 0.44424778761061945\n",
      "Valdiation Epoch 9, Loss: 1.913281\n"
     ]
    },
    {
     "name": "stderr",
     "output_type": "stream",
     "text": [
      "100%|██████████| 92/92 [00:00<00:00, 275.81it/s]\n",
      "[I 2023-08-16 16:39:32,952] Trial 29 finished with value: 1.8870220979054768 and parameters: {'lr': 3.9462451681150025e-05, 'batch_size': 64, 'd_model': 5, 'nhead': 3, 'num_layers': 1, 'hidden_dim': 3, 'layer_dim': 1}. Best is trial 26 with value: 1.3897925681538053.\n"
     ]
    },
    {
     "name": "stdout",
     "output_type": "stream",
     "text": [
      "Training Epoch 10, Loss: 1.664382\n",
      "Accuracy: 0.4654867256637168\n",
      "Valdiation Epoch 10, Loss: 1.887022\n",
      "64 2\n",
      "[5555, 3420, 3267, 3256, 2847, 3155, 3266, 3048, 2449, 2527, 3583, 2925, 2516, 2869, 2482, 2803, 2374, 2235, 2372, 2028, 9011, 3378, 5160, 2620, 2453, 5274, 3320, 4020, 3279, 4310, 4411, 4145, 3730, 3700]\n",
      "['G1' 'G10' 'G11' 'G2' 'G3' 'G4' 'G5' 'G6' 'G8' 'G9']\n",
      "[0 0 0 ... 2 2 2]\n",
      "[[1. 0. 0. ... 0. 0. 0.]\n",
      " [1. 0. 0. ... 0. 0. 0.]\n",
      " [1. 0. 0. ... 0. 0. 0.]\n",
      " ...\n",
      " [0. 0. 1. ... 0. 0. 0.]\n",
      " [0. 0. 1. ... 0. 0. 0.]\n",
      " [0. 0. 1. ... 0. 0. 0.]]\n",
      "[2653, 2002, 2303, 2642, 1758]\n",
      "['G1' 'G10' 'G11' 'G2' 'G3' 'G4' 'G5' 'G6' 'G8' 'G9']\n",
      "[0 0 0 ... 2 2 2]\n",
      "[[1. 0. 0. ... 0. 0. 0.]\n",
      " [1. 0. 0. ... 0. 0. 0.]\n",
      " [1. 0. 0. ... 0. 0. 0.]\n",
      " ...\n",
      " [0. 0. 1. ... 0. 0. 0.]\n",
      " [0. 0. 1. ... 0. 0. 0.]\n",
      " [0. 0. 1. ... 0. 0. 0.]]\n"
     ]
    },
    {
     "name": "stderr",
     "output_type": "stream",
     "text": [
      "100%|██████████| 92/92 [00:00<00:00, 111.77it/s]\n"
     ]
    },
    {
     "name": "stdout",
     "output_type": "stream",
     "text": [
      "Training Epoch 1, Loss: 2.333523\n",
      "Accuracy: 0.14690265486725665\n",
      "Valdiation Epoch 1, Loss: 2.348318\n"
     ]
    },
    {
     "name": "stderr",
     "output_type": "stream",
     "text": [
      "100%|██████████| 92/92 [00:00<00:00, 102.32it/s]\n"
     ]
    },
    {
     "name": "stdout",
     "output_type": "stream",
     "text": [
      "Training Epoch 2, Loss: 2.296803\n",
      "Accuracy: 0.14690265486725665\n",
      "Valdiation Epoch 2, Loss: 2.319420\n"
     ]
    },
    {
     "name": "stderr",
     "output_type": "stream",
     "text": [
      "100%|██████████| 92/92 [00:00<00:00, 116.40it/s]\n"
     ]
    },
    {
     "name": "stdout",
     "output_type": "stream",
     "text": [
      "Training Epoch 3, Loss: 2.248964\n",
      "Accuracy: 0.14690265486725665\n",
      "Valdiation Epoch 3, Loss: 2.274306\n"
     ]
    },
    {
     "name": "stderr",
     "output_type": "stream",
     "text": [
      "100%|██████████| 92/92 [00:00<00:00, 178.47it/s]\n"
     ]
    },
    {
     "name": "stdout",
     "output_type": "stream",
     "text": [
      "Training Epoch 4, Loss: 2.175604\n",
      "Accuracy: 0.30442477876106194\n",
      "Valdiation Epoch 4, Loss: 2.205329\n"
     ]
    },
    {
     "name": "stderr",
     "output_type": "stream",
     "text": [
      "100%|██████████| 92/92 [00:00<00:00, 111.09it/s]\n"
     ]
    },
    {
     "name": "stdout",
     "output_type": "stream",
     "text": [
      "Training Epoch 5, Loss: 2.076704\n",
      "Accuracy: 0.3185840707964602\n",
      "Valdiation Epoch 5, Loss: 2.128976\n"
     ]
    },
    {
     "name": "stderr",
     "output_type": "stream",
     "text": [
      "100%|██████████| 92/92 [00:00<00:00, 107.36it/s]\n"
     ]
    },
    {
     "name": "stdout",
     "output_type": "stream",
     "text": [
      "Training Epoch 6, Loss: 1.994119\n",
      "Accuracy: 0.3185840707964602\n",
      "Valdiation Epoch 6, Loss: 2.092264\n"
     ]
    },
    {
     "name": "stderr",
     "output_type": "stream",
     "text": [
      "100%|██████████| 92/92 [00:00<00:00, 121.95it/s]\n"
     ]
    },
    {
     "name": "stdout",
     "output_type": "stream",
     "text": [
      "Training Epoch 7, Loss: 1.942822\n",
      "Accuracy: 0.3185840707964602\n",
      "Valdiation Epoch 7, Loss: 2.088982\n"
     ]
    },
    {
     "name": "stderr",
     "output_type": "stream",
     "text": [
      "100%|██████████| 92/92 [00:00<00:00, 106.63it/s]\n"
     ]
    },
    {
     "name": "stdout",
     "output_type": "stream",
     "text": [
      "Training Epoch 8, Loss: 1.920174\n",
      "Accuracy: 0.3185840707964602\n",
      "Valdiation Epoch 8, Loss: 2.100857\n"
     ]
    },
    {
     "name": "stderr",
     "output_type": "stream",
     "text": [
      "100%|██████████| 92/92 [00:00<00:00, 106.29it/s]\n"
     ]
    },
    {
     "name": "stdout",
     "output_type": "stream",
     "text": [
      "Training Epoch 9, Loss: 1.905435\n",
      "Accuracy: 0.3185840707964602\n",
      "Valdiation Epoch 9, Loss: 2.115866\n"
     ]
    },
    {
     "name": "stderr",
     "output_type": "stream",
     "text": [
      "100%|██████████| 92/92 [00:00<00:00, 106.23it/s]\n",
      "[I 2023-08-16 16:39:42,347] Trial 30 finished with value: 2.131690118047926 and parameters: {'lr': 1.6472578280523626e-05, 'batch_size': 64, 'd_model': 6, 'nhead': 1, 'num_layers': 4, 'hidden_dim': 5, 'layer_dim': 4}. Best is trial 26 with value: 1.3897925681538053.\n"
     ]
    },
    {
     "name": "stdout",
     "output_type": "stream",
     "text": [
      "Training Epoch 10, Loss: 1.893983\n",
      "Accuracy: 0.3185840707964602\n",
      "Valdiation Epoch 10, Loss: 2.131690\n",
      "128 8\n",
      "[5555, 3420, 3267, 3256, 2847, 3155, 3266, 3048, 2449, 2527, 3583, 2925, 2516, 2869, 2482, 2803, 2374, 2235, 2372, 2028, 9011, 3378, 5160, 2620, 2453, 5274, 3320, 4020, 3279, 4310, 4411, 4145, 3730, 3700]\n",
      "['G1' 'G10' 'G11' 'G2' 'G3' 'G4' 'G5' 'G6' 'G8' 'G9']\n",
      "[0 0 0 ... 2 2 2]\n",
      "[[1. 0. 0. ... 0. 0. 0.]\n",
      " [1. 0. 0. ... 0. 0. 0.]\n",
      " [1. 0. 0. ... 0. 0. 0.]\n",
      " ...\n",
      " [0. 0. 1. ... 0. 0. 0.]\n",
      " [0. 0. 1. ... 0. 0. 0.]\n",
      " [0. 0. 1. ... 0. 0. 0.]]\n",
      "[2653, 2002, 2303, 2642, 1758]\n",
      "['G1' 'G10' 'G11' 'G2' 'G3' 'G4' 'G5' 'G6' 'G8' 'G9']\n",
      "[0 0 0 ... 2 2 2]\n",
      "[[1. 0. 0. ... 0. 0. 0.]\n",
      " [1. 0. 0. ... 0. 0. 0.]\n",
      " [1. 0. 0. ... 0. 0. 0.]\n",
      " ...\n",
      " [0. 0. 1. ... 0. 0. 0.]\n",
      " [0. 0. 1. ... 0. 0. 0.]\n",
      " [0. 0. 1. ... 0. 0. 0.]]\n"
     ]
    },
    {
     "name": "stderr",
     "output_type": "stream",
     "text": [
      "100%|██████████| 92/92 [00:00<00:00, 116.28it/s]\n"
     ]
    },
    {
     "name": "stdout",
     "output_type": "stream",
     "text": [
      "Training Epoch 1, Loss: 2.084500\n",
      "Accuracy: 0.3185840707964602\n",
      "Valdiation Epoch 1, Loss: 2.044761\n"
     ]
    },
    {
     "name": "stderr",
     "output_type": "stream",
     "text": [
      "100%|██████████| 92/92 [00:00<00:00, 114.27it/s]\n"
     ]
    },
    {
     "name": "stdout",
     "output_type": "stream",
     "text": [
      "Training Epoch 2, Loss: 1.853923\n",
      "Accuracy: 0.39469026548672564\n",
      "Valdiation Epoch 2, Loss: 1.892932\n"
     ]
    },
    {
     "name": "stderr",
     "output_type": "stream",
     "text": [
      "100%|██████████| 92/92 [00:00<00:00, 120.84it/s]\n"
     ]
    },
    {
     "name": "stdout",
     "output_type": "stream",
     "text": [
      "Training Epoch 3, Loss: 1.675092\n",
      "Accuracy: 0.41415929203539825\n",
      "Valdiation Epoch 3, Loss: 1.761412\n"
     ]
    },
    {
     "name": "stderr",
     "output_type": "stream",
     "text": [
      "100%|██████████| 92/92 [00:00<00:00, 110.92it/s]\n"
     ]
    },
    {
     "name": "stdout",
     "output_type": "stream",
     "text": [
      "Training Epoch 4, Loss: 1.510098\n",
      "Accuracy: 0.45663716814159294\n",
      "Valdiation Epoch 4, Loss: 1.703643\n"
     ]
    },
    {
     "name": "stderr",
     "output_type": "stream",
     "text": [
      "100%|██████████| 92/92 [00:00<00:00, 111.10it/s]\n"
     ]
    },
    {
     "name": "stdout",
     "output_type": "stream",
     "text": [
      "Training Epoch 5, Loss: 1.374422\n",
      "Accuracy: 0.5185840707964602\n",
      "Valdiation Epoch 5, Loss: 1.634578\n"
     ]
    },
    {
     "name": "stderr",
     "output_type": "stream",
     "text": [
      "100%|██████████| 92/92 [00:00<00:00, 117.91it/s]\n"
     ]
    },
    {
     "name": "stdout",
     "output_type": "stream",
     "text": [
      "Training Epoch 6, Loss: 1.266176\n",
      "Accuracy: 0.5433628318584071\n",
      "Valdiation Epoch 6, Loss: 1.577875\n"
     ]
    },
    {
     "name": "stderr",
     "output_type": "stream",
     "text": [
      "100%|██████████| 92/92 [00:00<00:00, 118.55it/s]\n"
     ]
    },
    {
     "name": "stdout",
     "output_type": "stream",
     "text": [
      "Training Epoch 7, Loss: 1.179173\n",
      "Accuracy: 0.5805309734513274\n",
      "Valdiation Epoch 7, Loss: 1.543388\n"
     ]
    },
    {
     "name": "stderr",
     "output_type": "stream",
     "text": [
      "100%|██████████| 92/92 [00:00<00:00, 126.42it/s]\n"
     ]
    },
    {
     "name": "stdout",
     "output_type": "stream",
     "text": [
      "Training Epoch 8, Loss: 1.113072\n",
      "Accuracy: 0.6283185840707964\n",
      "Valdiation Epoch 8, Loss: 1.523628\n"
     ]
    },
    {
     "name": "stderr",
     "output_type": "stream",
     "text": [
      "100%|██████████| 92/92 [00:00<00:00, 118.11it/s]\n"
     ]
    },
    {
     "name": "stdout",
     "output_type": "stream",
     "text": [
      "Training Epoch 9, Loss: 1.046590\n",
      "Accuracy: 0.6513274336283186\n",
      "Valdiation Epoch 9, Loss: 1.509218\n"
     ]
    },
    {
     "name": "stderr",
     "output_type": "stream",
     "text": [
      "100%|██████████| 92/92 [00:00<00:00, 116.61it/s]\n",
      "[I 2023-08-16 16:39:51,568] Trial 31 finished with value: 1.5066746208402846 and parameters: {'lr': 3.706507035655606e-05, 'batch_size': 64, 'd_model': 7, 'nhead': 3, 'num_layers': 4, 'hidden_dim': 6, 'layer_dim': 2}. Best is trial 26 with value: 1.3897925681538053.\n"
     ]
    },
    {
     "name": "stdout",
     "output_type": "stream",
     "text": [
      "Training Epoch 10, Loss: 0.993861\n",
      "Accuracy: 0.6530973451327433\n",
      "Valdiation Epoch 10, Loss: 1.506675\n",
      "128 16\n",
      "[5555, 3420, 3267, 3256, 2847, 3155, 3266, 3048, 2449, 2527, 3583, 2925, 2516, 2869, 2482, 2803, 2374, 2235, 2372, 2028, 9011, 3378, 5160, 2620, 2453, 5274, 3320, 4020, 3279, 4310, 4411, 4145, 3730, 3700]\n",
      "['G1' 'G10' 'G11' 'G2' 'G3' 'G4' 'G5' 'G6' 'G8' 'G9']\n",
      "[0 0 0 ... 2 2 2]\n",
      "[[1. 0. 0. ... 0. 0. 0.]\n",
      " [1. 0. 0. ... 0. 0. 0.]\n",
      " [1. 0. 0. ... 0. 0. 0.]\n",
      " ...\n",
      " [0. 0. 1. ... 0. 0. 0.]\n",
      " [0. 0. 1. ... 0. 0. 0.]\n",
      " [0. 0. 1. ... 0. 0. 0.]]\n",
      "[2653, 2002, 2303, 2642, 1758]\n",
      "['G1' 'G10' 'G11' 'G2' 'G3' 'G4' 'G5' 'G6' 'G8' 'G9']\n",
      "[0 0 0 ... 2 2 2]\n",
      "[[1. 0. 0. ... 0. 0. 0.]\n",
      " [1. 0. 0. ... 0. 0. 0.]\n",
      " [1. 0. 0. ... 0. 0. 0.]\n",
      " ...\n",
      " [0. 0. 1. ... 0. 0. 0.]\n",
      " [0. 0. 1. ... 0. 0. 0.]\n",
      " [0. 0. 1. ... 0. 0. 0.]]\n"
     ]
    },
    {
     "name": "stderr",
     "output_type": "stream",
     "text": [
      "100%|██████████| 92/92 [00:00<00:00, 106.41it/s]\n"
     ]
    },
    {
     "name": "stdout",
     "output_type": "stream",
     "text": [
      "Training Epoch 1, Loss: 2.034283\n",
      "Accuracy: 0.3185840707964602\n",
      "Valdiation Epoch 1, Loss: 2.186803\n"
     ]
    },
    {
     "name": "stderr",
     "output_type": "stream",
     "text": [
      "100%|██████████| 92/92 [00:00<00:00, 134.08it/s]\n"
     ]
    },
    {
     "name": "stdout",
     "output_type": "stream",
     "text": [
      "Training Epoch 2, Loss: 1.845633\n",
      "Accuracy: 0.3415929203539823\n",
      "Valdiation Epoch 2, Loss: 2.127290\n"
     ]
    },
    {
     "name": "stderr",
     "output_type": "stream",
     "text": [
      "100%|██████████| 92/92 [00:00<00:00, 113.01it/s]\n"
     ]
    },
    {
     "name": "stdout",
     "output_type": "stream",
     "text": [
      "Training Epoch 3, Loss: 1.699209\n",
      "Accuracy: 0.41415929203539825\n",
      "Valdiation Epoch 3, Loss: 2.079465\n"
     ]
    },
    {
     "name": "stderr",
     "output_type": "stream",
     "text": [
      "100%|██████████| 92/92 [00:00<00:00, 112.39it/s]\n"
     ]
    },
    {
     "name": "stdout",
     "output_type": "stream",
     "text": [
      "Training Epoch 4, Loss: 1.474402\n",
      "Accuracy: 0.41415929203539825\n",
      "Valdiation Epoch 4, Loss: 2.073498\n"
     ]
    },
    {
     "name": "stderr",
     "output_type": "stream",
     "text": [
      "100%|██████████| 92/92 [00:00<00:00, 111.82it/s]\n"
     ]
    },
    {
     "name": "stdout",
     "output_type": "stream",
     "text": [
      "Training Epoch 5, Loss: 1.329736\n",
      "Accuracy: 0.4247787610619469\n",
      "Valdiation Epoch 5, Loss: 1.985021\n"
     ]
    },
    {
     "name": "stderr",
     "output_type": "stream",
     "text": [
      "100%|██████████| 92/92 [00:00<00:00, 116.40it/s]\n"
     ]
    },
    {
     "name": "stdout",
     "output_type": "stream",
     "text": [
      "Training Epoch 6, Loss: 1.226149\n",
      "Accuracy: 0.49557522123893805\n",
      "Valdiation Epoch 6, Loss: 1.891930\n"
     ]
    },
    {
     "name": "stderr",
     "output_type": "stream",
     "text": [
      "100%|██████████| 92/92 [00:00<00:00, 111.21it/s]\n"
     ]
    },
    {
     "name": "stdout",
     "output_type": "stream",
     "text": [
      "Training Epoch 7, Loss: 1.161219\n",
      "Accuracy: 0.5097345132743363\n",
      "Valdiation Epoch 7, Loss: 1.868119\n"
     ]
    },
    {
     "name": "stderr",
     "output_type": "stream",
     "text": [
      "100%|██████████| 92/92 [00:00<00:00, 108.08it/s]\n"
     ]
    },
    {
     "name": "stdout",
     "output_type": "stream",
     "text": [
      "Training Epoch 8, Loss: 1.106332\n",
      "Accuracy: 0.5061946902654867\n",
      "Valdiation Epoch 8, Loss: 1.780066\n"
     ]
    },
    {
     "name": "stderr",
     "output_type": "stream",
     "text": [
      "100%|██████████| 92/92 [00:00<00:00, 117.01it/s]\n"
     ]
    },
    {
     "name": "stdout",
     "output_type": "stream",
     "text": [
      "Training Epoch 9, Loss: 1.069824\n",
      "Accuracy: 0.5380530973451327\n",
      "Valdiation Epoch 9, Loss: 1.840590\n"
     ]
    },
    {
     "name": "stderr",
     "output_type": "stream",
     "text": [
      "100%|██████████| 92/92 [00:00<00:00, 117.39it/s]\n",
      "[I 2023-08-16 16:40:00,980] Trial 32 finished with value: 1.7209319670995076 and parameters: {'lr': 4.9018771813399606e-05, 'batch_size': 64, 'd_model': 7, 'nhead': 4, 'num_layers': 4, 'hidden_dim': 7, 'layer_dim': 3}. Best is trial 26 with value: 1.3897925681538053.\n"
     ]
    },
    {
     "name": "stdout",
     "output_type": "stream",
     "text": [
      "Training Epoch 10, Loss: 1.018350\n",
      "Accuracy: 0.6035398230088496\n",
      "Valdiation Epoch 10, Loss: 1.720932\n",
      "256 8\n",
      "[5555, 3420, 3267, 3256, 2847, 3155, 3266, 3048, 2449, 2527, 3583, 2925, 2516, 2869, 2482, 2803, 2374, 2235, 2372, 2028, 9011, 3378, 5160, 2620, 2453, 5274, 3320, 4020, 3279, 4310, 4411, 4145, 3730, 3700]\n",
      "['G1' 'G10' 'G11' 'G2' 'G3' 'G4' 'G5' 'G6' 'G8' 'G9']\n",
      "[0 0 0 ... 2 2 2]\n",
      "[[1. 0. 0. ... 0. 0. 0.]\n",
      " [1. 0. 0. ... 0. 0. 0.]\n",
      " [1. 0. 0. ... 0. 0. 0.]\n",
      " ...\n",
      " [0. 0. 1. ... 0. 0. 0.]\n",
      " [0. 0. 1. ... 0. 0. 0.]\n",
      " [0. 0. 1. ... 0. 0. 0.]]\n",
      "[2653, 2002, 2303, 2642, 1758]\n",
      "['G1' 'G10' 'G11' 'G2' 'G3' 'G4' 'G5' 'G6' 'G8' 'G9']\n",
      "[0 0 0 ... 2 2 2]\n",
      "[[1. 0. 0. ... 0. 0. 0.]\n",
      " [1. 0. 0. ... 0. 0. 0.]\n",
      " [1. 0. 0. ... 0. 0. 0.]\n",
      " ...\n",
      " [0. 0. 1. ... 0. 0. 0.]\n",
      " [0. 0. 1. ... 0. 0. 0.]\n",
      " [0. 0. 1. ... 0. 0. 0.]]\n"
     ]
    },
    {
     "name": "stderr",
     "output_type": "stream",
     "text": [
      "100%|██████████| 92/92 [00:00<00:00, 103.88it/s]\n"
     ]
    },
    {
     "name": "stdout",
     "output_type": "stream",
     "text": [
      "Training Epoch 1, Loss: 2.133474\n",
      "Accuracy: 0.3185840707964602\n",
      "Valdiation Epoch 1, Loss: 2.156557\n"
     ]
    },
    {
     "name": "stderr",
     "output_type": "stream",
     "text": [
      "100%|██████████| 92/92 [00:00<00:00, 106.58it/s]\n"
     ]
    },
    {
     "name": "stdout",
     "output_type": "stream",
     "text": [
      "Training Epoch 2, Loss: 1.944083\n",
      "Accuracy: 0.40176991150442476\n",
      "Valdiation Epoch 2, Loss: 2.035751\n"
     ]
    },
    {
     "name": "stderr",
     "output_type": "stream",
     "text": [
      "100%|██████████| 92/92 [00:00<00:00, 111.71it/s]\n"
     ]
    },
    {
     "name": "stdout",
     "output_type": "stream",
     "text": [
      "Training Epoch 3, Loss: 1.802041\n",
      "Accuracy: 0.4336283185840708\n",
      "Valdiation Epoch 3, Loss: 1.935226\n"
     ]
    },
    {
     "name": "stderr",
     "output_type": "stream",
     "text": [
      "100%|██████████| 92/92 [00:00<00:00, 113.23it/s]\n"
     ]
    },
    {
     "name": "stdout",
     "output_type": "stream",
     "text": [
      "Training Epoch 4, Loss: 1.695071\n",
      "Accuracy: 0.4300884955752212\n",
      "Valdiation Epoch 4, Loss: 1.853563\n"
     ]
    },
    {
     "name": "stderr",
     "output_type": "stream",
     "text": [
      "100%|██████████| 92/92 [00:00<00:00, 113.32it/s]\n"
     ]
    },
    {
     "name": "stdout",
     "output_type": "stream",
     "text": [
      "Training Epoch 5, Loss: 1.605468\n",
      "Accuracy: 0.49734513274336284\n",
      "Valdiation Epoch 5, Loss: 1.790628\n"
     ]
    },
    {
     "name": "stderr",
     "output_type": "stream",
     "text": [
      "100%|██████████| 92/92 [00:00<00:00, 116.15it/s]\n"
     ]
    },
    {
     "name": "stdout",
     "output_type": "stream",
     "text": [
      "Training Epoch 6, Loss: 1.522159\n",
      "Accuracy: 0.5168141592920354\n",
      "Valdiation Epoch 6, Loss: 1.725157\n"
     ]
    },
    {
     "name": "stderr",
     "output_type": "stream",
     "text": [
      "100%|██████████| 92/92 [00:00<00:00, 114.23it/s]\n"
     ]
    },
    {
     "name": "stdout",
     "output_type": "stream",
     "text": [
      "Training Epoch 7, Loss: 1.447364\n",
      "Accuracy: 0.5469026548672566\n",
      "Valdiation Epoch 7, Loss: 1.633467\n"
     ]
    },
    {
     "name": "stderr",
     "output_type": "stream",
     "text": [
      "100%|██████████| 92/92 [00:00<00:00, 131.92it/s]\n"
     ]
    },
    {
     "name": "stdout",
     "output_type": "stream",
     "text": [
      "Training Epoch 8, Loss: 1.377581\n",
      "Accuracy: 0.631858407079646\n",
      "Valdiation Epoch 8, Loss: 1.556642\n"
     ]
    },
    {
     "name": "stderr",
     "output_type": "stream",
     "text": [
      "100%|██████████| 92/92 [00:00<00:00, 109.48it/s]\n"
     ]
    },
    {
     "name": "stdout",
     "output_type": "stream",
     "text": [
      "Training Epoch 9, Loss: 1.312833\n",
      "Accuracy: 0.6548672566371682\n",
      "Valdiation Epoch 9, Loss: 1.535965\n"
     ]
    },
    {
     "name": "stderr",
     "output_type": "stream",
     "text": [
      "100%|██████████| 92/92 [00:00<00:00, 118.37it/s]\n",
      "[I 2023-08-16 16:40:10,448] Trial 33 finished with value: 1.5016686386532254 and parameters: {'lr': 3.339808816122178e-05, 'batch_size': 64, 'd_model': 8, 'nhead': 3, 'num_layers': 4, 'hidden_dim': 5, 'layer_dim': 2}. Best is trial 26 with value: 1.3897925681538053.\n"
     ]
    },
    {
     "name": "stdout",
     "output_type": "stream",
     "text": [
      "Training Epoch 10, Loss: 1.254717\n",
      "Accuracy: 0.6424778761061947\n",
      "Valdiation Epoch 10, Loss: 1.501669\n",
      "128 32\n",
      "[5555, 3420, 3267, 3256, 2847, 3155, 3266, 3048, 2449, 2527, 3583, 2925, 2516, 2869, 2482, 2803, 2374, 2235, 2372, 2028, 9011, 3378, 5160, 2620, 2453, 5274, 3320, 4020, 3279, 4310, 4411, 4145, 3730, 3700]\n",
      "['G1' 'G10' 'G11' 'G2' 'G3' 'G4' 'G5' 'G6' 'G8' 'G9']\n",
      "[0 0 0 ... 2 2 2]\n",
      "[[1. 0. 0. ... 0. 0. 0.]\n",
      " [1. 0. 0. ... 0. 0. 0.]\n",
      " [1. 0. 0. ... 0. 0. 0.]\n",
      " ...\n",
      " [0. 0. 1. ... 0. 0. 0.]\n",
      " [0. 0. 1. ... 0. 0. 0.]\n",
      " [0. 0. 1. ... 0. 0. 0.]]\n",
      "[2653, 2002, 2303, 2642, 1758]\n",
      "['G1' 'G10' 'G11' 'G2' 'G3' 'G4' 'G5' 'G6' 'G8' 'G9']\n",
      "[0 0 0 ... 2 2 2]\n",
      "[[1. 0. 0. ... 0. 0. 0.]\n",
      " [1. 0. 0. ... 0. 0. 0.]\n",
      " [1. 0. 0. ... 0. 0. 0.]\n",
      " ...\n",
      " [0. 0. 1. ... 0. 0. 0.]\n",
      " [0. 0. 1. ... 0. 0. 0.]\n",
      " [0. 0. 1. ... 0. 0. 0.]]\n"
     ]
    },
    {
     "name": "stderr",
     "output_type": "stream",
     "text": [
      "100%|██████████| 92/92 [00:00<00:00, 224.65it/s]\n"
     ]
    },
    {
     "name": "stdout",
     "output_type": "stream",
     "text": [
      "Training Epoch 1, Loss: 1.977677\n",
      "Accuracy: 0.3185840707964602\n",
      "Valdiation Epoch 1, Loss: 2.259900\n"
     ]
    },
    {
     "name": "stderr",
     "output_type": "stream",
     "text": [
      "100%|██████████| 92/92 [00:00<00:00, 228.49it/s]\n"
     ]
    },
    {
     "name": "stdout",
     "output_type": "stream",
     "text": [
      "Training Epoch 2, Loss: 1.773649\n",
      "Accuracy: 0.4265486725663717\n",
      "Valdiation Epoch 2, Loss: 2.010087\n"
     ]
    },
    {
     "name": "stderr",
     "output_type": "stream",
     "text": [
      "100%|██████████| 92/92 [00:00<00:00, 219.82it/s]\n"
     ]
    },
    {
     "name": "stdout",
     "output_type": "stream",
     "text": [
      "Training Epoch 3, Loss: 1.405299\n",
      "Accuracy: 0.5026548672566372\n",
      "Valdiation Epoch 3, Loss: 1.836886\n"
     ]
    },
    {
     "name": "stderr",
     "output_type": "stream",
     "text": [
      "100%|██████████| 92/92 [00:00<00:00, 226.19it/s]\n"
     ]
    },
    {
     "name": "stdout",
     "output_type": "stream",
     "text": [
      "Training Epoch 4, Loss: 1.194164\n",
      "Accuracy: 0.5327433628318584\n",
      "Valdiation Epoch 4, Loss: 1.792162\n"
     ]
    },
    {
     "name": "stderr",
     "output_type": "stream",
     "text": [
      "100%|██████████| 92/92 [00:00<00:00, 233.33it/s]\n"
     ]
    },
    {
     "name": "stdout",
     "output_type": "stream",
     "text": [
      "Training Epoch 5, Loss: 1.089418\n",
      "Accuracy: 0.5681415929203539\n",
      "Valdiation Epoch 5, Loss: 1.687502\n"
     ]
    },
    {
     "name": "stderr",
     "output_type": "stream",
     "text": [
      "100%|██████████| 92/92 [00:00<00:00, 222.14it/s]\n"
     ]
    },
    {
     "name": "stdout",
     "output_type": "stream",
     "text": [
      "Training Epoch 6, Loss: 0.978815\n",
      "Accuracy: 0.6336283185840708\n",
      "Valdiation Epoch 6, Loss: 1.582860\n"
     ]
    },
    {
     "name": "stderr",
     "output_type": "stream",
     "text": [
      "100%|██████████| 92/92 [00:00<00:00, 226.67it/s]\n"
     ]
    },
    {
     "name": "stdout",
     "output_type": "stream",
     "text": [
      "Training Epoch 7, Loss: 0.880326\n",
      "Accuracy: 0.6265486725663717\n",
      "Valdiation Epoch 7, Loss: 1.588164\n"
     ]
    },
    {
     "name": "stderr",
     "output_type": "stream",
     "text": [
      "100%|██████████| 92/92 [00:00<00:00, 227.80it/s]\n"
     ]
    },
    {
     "name": "stdout",
     "output_type": "stream",
     "text": [
      "Training Epoch 8, Loss: 0.815453\n",
      "Accuracy: 0.6424778761061947\n",
      "Valdiation Epoch 8, Loss: 1.588911\n"
     ]
    },
    {
     "name": "stderr",
     "output_type": "stream",
     "text": [
      "100%|██████████| 92/92 [00:00<00:00, 229.82it/s]\n"
     ]
    },
    {
     "name": "stdout",
     "output_type": "stream",
     "text": [
      "Training Epoch 9, Loss: 0.763956\n",
      "Accuracy: 0.6407079646017699\n",
      "Valdiation Epoch 9, Loss: 1.555975\n"
     ]
    },
    {
     "name": "stderr",
     "output_type": "stream",
     "text": [
      "100%|██████████| 92/92 [00:00<00:00, 229.23it/s]\n",
      "[I 2023-08-16 16:40:15,770] Trial 34 finished with value: 1.522059394253625 and parameters: {'lr': 9.209723689448863e-05, 'batch_size': 64, 'd_model': 7, 'nhead': 5, 'num_layers': 1, 'hidden_dim': 7, 'layer_dim': 3}. Best is trial 26 with value: 1.3897925681538053.\n"
     ]
    },
    {
     "name": "stdout",
     "output_type": "stream",
     "text": [
      "Training Epoch 10, Loss: 0.724885\n",
      "Accuracy: 0.6548672566371682\n",
      "Valdiation Epoch 10, Loss: 1.522059\n",
      "256 16\n",
      "[5555, 3420, 3267, 3256, 2847, 3155, 3266, 3048, 2449, 2527, 3583, 2925, 2516, 2869, 2482, 2803, 2374, 2235, 2372, 2028, 9011, 3378, 5160, 2620, 2453, 5274, 3320, 4020, 3279, 4310, 4411, 4145, 3730, 3700]\n",
      "['G1' 'G10' 'G11' 'G2' 'G3' 'G4' 'G5' 'G6' 'G8' 'G9']\n",
      "[0 0 0 ... 2 2 2]\n",
      "[[1. 0. 0. ... 0. 0. 0.]\n",
      " [1. 0. 0. ... 0. 0. 0.]\n",
      " [1. 0. 0. ... 0. 0. 0.]\n",
      " ...\n",
      " [0. 0. 1. ... 0. 0. 0.]\n",
      " [0. 0. 1. ... 0. 0. 0.]\n",
      " [0. 0. 1. ... 0. 0. 0.]]\n",
      "[2653, 2002, 2303, 2642, 1758]\n",
      "['G1' 'G10' 'G11' 'G2' 'G3' 'G4' 'G5' 'G6' 'G8' 'G9']\n",
      "[0 0 0 ... 2 2 2]\n",
      "[[1. 0. 0. ... 0. 0. 0.]\n",
      " [1. 0. 0. ... 0. 0. 0.]\n",
      " [1. 0. 0. ... 0. 0. 0.]\n",
      " ...\n",
      " [0. 0. 1. ... 0. 0. 0.]\n",
      " [0. 0. 1. ... 0. 0. 0.]\n",
      " [0. 0. 1. ... 0. 0. 0.]]\n"
     ]
    },
    {
     "name": "stderr",
     "output_type": "stream",
     "text": [
      "100%|██████████| 92/92 [00:00<00:00, 117.96it/s]\n"
     ]
    },
    {
     "name": "stdout",
     "output_type": "stream",
     "text": [
      "Training Epoch 1, Loss: 1.545920\n",
      "Accuracy: 0.49734513274336284\n",
      "Valdiation Epoch 1, Loss: 1.611112\n"
     ]
    },
    {
     "name": "stderr",
     "output_type": "stream",
     "text": [
      "100%|██████████| 92/92 [00:00<00:00, 118.61it/s]\n"
     ]
    },
    {
     "name": "stdout",
     "output_type": "stream",
     "text": [
      "Training Epoch 2, Loss: 1.067177\n",
      "Accuracy: 0.6407079646017699\n",
      "Valdiation Epoch 2, Loss: 1.400440\n"
     ]
    },
    {
     "name": "stderr",
     "output_type": "stream",
     "text": [
      "100%|██████████| 92/92 [00:00<00:00, 114.70it/s]\n"
     ]
    },
    {
     "name": "stdout",
     "output_type": "stream",
     "text": [
      "Training Epoch 3, Loss: 0.885813\n",
      "Accuracy: 0.6070796460176991\n",
      "Valdiation Epoch 3, Loss: 1.331552\n"
     ]
    },
    {
     "name": "stderr",
     "output_type": "stream",
     "text": [
      "100%|██████████| 92/92 [00:00<00:00, 118.28it/s]\n"
     ]
    },
    {
     "name": "stdout",
     "output_type": "stream",
     "text": [
      "Training Epoch 4, Loss: 0.786039\n",
      "Accuracy: 0.6566371681415929\n",
      "Valdiation Epoch 4, Loss: 1.337338\n"
     ]
    },
    {
     "name": "stderr",
     "output_type": "stream",
     "text": [
      "100%|██████████| 92/92 [00:00<00:00, 114.89it/s]\n"
     ]
    },
    {
     "name": "stdout",
     "output_type": "stream",
     "text": [
      "Training Epoch 5, Loss: 0.695196\n",
      "Accuracy: 0.6619469026548672\n",
      "Valdiation Epoch 5, Loss: 1.295262\n"
     ]
    },
    {
     "name": "stderr",
     "output_type": "stream",
     "text": [
      "100%|██████████| 92/92 [00:00<00:00, 112.73it/s]\n"
     ]
    },
    {
     "name": "stdout",
     "output_type": "stream",
     "text": [
      "Training Epoch 6, Loss: 0.621256\n",
      "Accuracy: 0.5592920353982301\n",
      "Valdiation Epoch 6, Loss: 1.502249\n"
     ]
    },
    {
     "name": "stderr",
     "output_type": "stream",
     "text": [
      "100%|██████████| 92/92 [00:00<00:00, 117.59it/s]\n"
     ]
    },
    {
     "name": "stdout",
     "output_type": "stream",
     "text": [
      "Training Epoch 7, Loss: 0.568660\n",
      "Accuracy: 0.6672566371681415\n",
      "Valdiation Epoch 7, Loss: 1.348547\n"
     ]
    },
    {
     "name": "stderr",
     "output_type": "stream",
     "text": [
      "100%|██████████| 92/92 [00:00<00:00, 120.18it/s]\n"
     ]
    },
    {
     "name": "stdout",
     "output_type": "stream",
     "text": [
      "Training Epoch 8, Loss: 0.514808\n",
      "Accuracy: 0.6513274336283186\n",
      "Valdiation Epoch 8, Loss: 1.340691\n"
     ]
    },
    {
     "name": "stderr",
     "output_type": "stream",
     "text": [
      "100%|██████████| 92/92 [00:00<00:00, 117.90it/s]\n"
     ]
    },
    {
     "name": "stdout",
     "output_type": "stream",
     "text": [
      "Training Epoch 9, Loss: 0.466943\n",
      "Accuracy: 0.6424778761061947\n",
      "Valdiation Epoch 9, Loss: 1.355282\n"
     ]
    },
    {
     "name": "stderr",
     "output_type": "stream",
     "text": [
      "100%|██████████| 92/92 [00:00<00:00, 116.40it/s]\n",
      "[I 2023-08-16 16:40:24,947] Trial 35 finished with value: 1.394135336081187 and parameters: {'lr': 7.052473774420461e-05, 'batch_size': 64, 'd_model': 8, 'nhead': 4, 'num_layers': 4, 'hidden_dim': 6, 'layer_dim': 1}. Best is trial 26 with value: 1.3897925681538053.\n"
     ]
    },
    {
     "name": "stdout",
     "output_type": "stream",
     "text": [
      "Training Epoch 10, Loss: 0.426534\n",
      "Accuracy: 0.6176991150442478\n",
      "Valdiation Epoch 10, Loss: 1.394135\n",
      "256 64\n",
      "[5555, 3420, 3267, 3256, 2847, 3155, 3266, 3048, 2449, 2527, 3583, 2925, 2516, 2869, 2482, 2803, 2374, 2235, 2372, 2028, 9011, 3378, 5160, 2620, 2453, 5274, 3320, 4020, 3279, 4310, 4411, 4145, 3730, 3700]\n",
      "['G1' 'G10' 'G11' 'G2' 'G3' 'G4' 'G5' 'G6' 'G8' 'G9']\n",
      "[0 0 0 ... 2 2 2]\n",
      "[[1. 0. 0. ... 0. 0. 0.]\n",
      " [1. 0. 0. ... 0. 0. 0.]\n",
      " [1. 0. 0. ... 0. 0. 0.]\n",
      " ...\n",
      " [0. 0. 1. ... 0. 0. 0.]\n",
      " [0. 0. 1. ... 0. 0. 0.]\n",
      " [0. 0. 1. ... 0. 0. 0.]]\n",
      "[2653, 2002, 2303, 2642, 1758]\n",
      "['G1' 'G10' 'G11' 'G2' 'G3' 'G4' 'G5' 'G6' 'G8' 'G9']\n",
      "[0 0 0 ... 2 2 2]\n",
      "[[1. 0. 0. ... 0. 0. 0.]\n",
      " [1. 0. 0. ... 0. 0. 0.]\n",
      " [1. 0. 0. ... 0. 0. 0.]\n",
      " ...\n",
      " [0. 0. 1. ... 0. 0. 0.]\n",
      " [0. 0. 1. ... 0. 0. 0.]\n",
      " [0. 0. 1. ... 0. 0. 0.]]\n"
     ]
    },
    {
     "name": "stderr",
     "output_type": "stream",
     "text": [
      "100%|██████████| 92/92 [00:00<00:00, 119.03it/s]\n"
     ]
    },
    {
     "name": "stdout",
     "output_type": "stream",
     "text": [
      "Training Epoch 1, Loss: 1.362259\n",
      "Accuracy: 0.5805309734513274\n",
      "Valdiation Epoch 1, Loss: 1.418528\n"
     ]
    },
    {
     "name": "stderr",
     "output_type": "stream",
     "text": [
      "100%|██████████| 92/92 [00:00<00:00, 158.18it/s]\n"
     ]
    },
    {
     "name": "stdout",
     "output_type": "stream",
     "text": [
      "Training Epoch 2, Loss: 0.878007\n",
      "Accuracy: 0.6761061946902654\n",
      "Valdiation Epoch 2, Loss: 1.267936\n"
     ]
    },
    {
     "name": "stderr",
     "output_type": "stream",
     "text": [
      "100%|██████████| 92/92 [00:00<00:00, 158.94it/s]\n"
     ]
    },
    {
     "name": "stdout",
     "output_type": "stream",
     "text": [
      "Training Epoch 3, Loss: 0.725843\n",
      "Accuracy: 0.6831858407079646\n",
      "Valdiation Epoch 3, Loss: 1.252060\n"
     ]
    },
    {
     "name": "stderr",
     "output_type": "stream",
     "text": [
      "100%|██████████| 92/92 [00:00<00:00, 117.04it/s]\n"
     ]
    },
    {
     "name": "stdout",
     "output_type": "stream",
     "text": [
      "Training Epoch 4, Loss: 0.619307\n",
      "Accuracy: 0.6778761061946903\n",
      "Valdiation Epoch 4, Loss: 1.279583\n"
     ]
    },
    {
     "name": "stderr",
     "output_type": "stream",
     "text": [
      "100%|██████████| 92/92 [00:00<00:00, 119.40it/s]\n"
     ]
    },
    {
     "name": "stdout",
     "output_type": "stream",
     "text": [
      "Training Epoch 5, Loss: 0.539064\n",
      "Accuracy: 0.6761061946902654\n",
      "Valdiation Epoch 5, Loss: 1.319826\n"
     ]
    },
    {
     "name": "stderr",
     "output_type": "stream",
     "text": [
      "100%|██████████| 92/92 [00:00<00:00, 114.58it/s]\n"
     ]
    },
    {
     "name": "stdout",
     "output_type": "stream",
     "text": [
      "Training Epoch 6, Loss: 0.474075\n",
      "Accuracy: 0.6407079646017699\n",
      "Valdiation Epoch 6, Loss: 1.421234\n"
     ]
    },
    {
     "name": "stderr",
     "output_type": "stream",
     "text": [
      "100%|██████████| 92/92 [00:00<00:00, 117.79it/s]\n"
     ]
    },
    {
     "name": "stdout",
     "output_type": "stream",
     "text": [
      "Training Epoch 7, Loss: 0.416961\n",
      "Accuracy: 0.6530973451327433\n",
      "Valdiation Epoch 7, Loss: 1.378726\n"
     ]
    },
    {
     "name": "stderr",
     "output_type": "stream",
     "text": [
      "100%|██████████| 92/92 [00:00<00:00, 113.77it/s]\n"
     ]
    },
    {
     "name": "stdout",
     "output_type": "stream",
     "text": [
      "Training Epoch 8, Loss: 0.368969\n",
      "Accuracy: 0.6141592920353982\n",
      "Valdiation Epoch 8, Loss: 1.445794\n"
     ]
    },
    {
     "name": "stderr",
     "output_type": "stream",
     "text": [
      "100%|██████████| 92/92 [00:00<00:00, 123.48it/s]\n"
     ]
    },
    {
     "name": "stdout",
     "output_type": "stream",
     "text": [
      "Training Epoch 9, Loss: 0.332515\n",
      "Accuracy: 0.6424778761061947\n",
      "Valdiation Epoch 9, Loss: 1.286423\n"
     ]
    },
    {
     "name": "stderr",
     "output_type": "stream",
     "text": [
      "100%|██████████| 92/92 [00:00<00:00, 98.61it/s] \n",
      "[I 2023-08-16 16:40:33,791] Trial 36 finished with value: 1.3689517577489216 and parameters: {'lr': 0.0001681640497652253, 'batch_size': 64, 'd_model': 8, 'nhead': 6, 'num_layers': 4, 'hidden_dim': 6, 'layer_dim': 1}. Best is trial 36 with value: 1.3689517577489216.\n"
     ]
    },
    {
     "name": "stdout",
     "output_type": "stream",
     "text": [
      "Training Epoch 10, Loss: 0.298715\n",
      "Accuracy: 0.6353982300884956\n",
      "Valdiation Epoch 10, Loss: 1.368952\n",
      "256 64\n",
      "[5555, 3420, 3267, 3256, 2847, 3155, 3266, 3048, 2449, 2527, 3583, 2925, 2516, 2869, 2482, 2803, 2374, 2235, 2372, 2028, 9011, 3378, 5160, 2620, 2453, 5274, 3320, 4020, 3279, 4310, 4411, 4145, 3730, 3700]\n",
      "['G1' 'G10' 'G11' 'G2' 'G3' 'G4' 'G5' 'G6' 'G8' 'G9']\n",
      "[0 0 0 ... 2 2 2]\n",
      "[[1. 0. 0. ... 0. 0. 0.]\n",
      " [1. 0. 0. ... 0. 0. 0.]\n",
      " [1. 0. 0. ... 0. 0. 0.]\n",
      " ...\n",
      " [0. 0. 1. ... 0. 0. 0.]\n",
      " [0. 0. 1. ... 0. 0. 0.]\n",
      " [0. 0. 1. ... 0. 0. 0.]]\n",
      "[2653, 2002, 2303, 2642, 1758]\n",
      "['G1' 'G10' 'G11' 'G2' 'G3' 'G4' 'G5' 'G6' 'G8' 'G9']\n",
      "[0 0 0 ... 2 2 2]\n",
      "[[1. 0. 0. ... 0. 0. 0.]\n",
      " [1. 0. 0. ... 0. 0. 0.]\n",
      " [1. 0. 0. ... 0. 0. 0.]\n",
      " ...\n",
      " [0. 0. 1. ... 0. 0. 0.]\n",
      " [0. 0. 1. ... 0. 0. 0.]\n",
      " [0. 0. 1. ... 0. 0. 0.]]\n"
     ]
    },
    {
     "name": "stderr",
     "output_type": "stream",
     "text": [
      "100%|██████████| 92/92 [00:00<00:00, 127.82it/s]\n"
     ]
    },
    {
     "name": "stdout",
     "output_type": "stream",
     "text": [
      "Training Epoch 1, Loss: 1.561747\n",
      "Accuracy: 0.5592920353982301\n",
      "Valdiation Epoch 1, Loss: 1.553577\n"
     ]
    },
    {
     "name": "stderr",
     "output_type": "stream",
     "text": [
      "100%|██████████| 92/92 [00:00<00:00, 114.86it/s]\n"
     ]
    },
    {
     "name": "stdout",
     "output_type": "stream",
     "text": [
      "Training Epoch 2, Loss: 1.182989\n",
      "Accuracy: 0.5876106194690266\n",
      "Valdiation Epoch 2, Loss: 1.442727\n"
     ]
    },
    {
     "name": "stderr",
     "output_type": "stream",
     "text": [
      "100%|██████████| 92/92 [00:00<00:00, 121.44it/s]\n"
     ]
    },
    {
     "name": "stdout",
     "output_type": "stream",
     "text": [
      "Training Epoch 3, Loss: 1.039972\n",
      "Accuracy: 0.6212389380530974\n",
      "Valdiation Epoch 3, Loss: 1.375000\n"
     ]
    },
    {
     "name": "stderr",
     "output_type": "stream",
     "text": [
      "100%|██████████| 92/92 [00:00<00:00, 117.76it/s]\n"
     ]
    },
    {
     "name": "stdout",
     "output_type": "stream",
     "text": [
      "Training Epoch 4, Loss: 0.938918\n",
      "Accuracy: 0.5628318584070796\n",
      "Valdiation Epoch 4, Loss: 1.394254\n"
     ]
    },
    {
     "name": "stderr",
     "output_type": "stream",
     "text": [
      "100%|██████████| 92/92 [00:00<00:00, 116.57it/s]\n"
     ]
    },
    {
     "name": "stdout",
     "output_type": "stream",
     "text": [
      "Training Epoch 5, Loss: 0.848077\n",
      "Accuracy: 0.5964601769911504\n",
      "Valdiation Epoch 5, Loss: 1.396335\n"
     ]
    },
    {
     "name": "stderr",
     "output_type": "stream",
     "text": [
      "100%|██████████| 92/92 [00:00<00:00, 117.51it/s]\n"
     ]
    },
    {
     "name": "stdout",
     "output_type": "stream",
     "text": [
      "Training Epoch 6, Loss: 0.779432\n",
      "Accuracy: 0.5964601769911504\n",
      "Valdiation Epoch 6, Loss: 1.390405\n"
     ]
    },
    {
     "name": "stderr",
     "output_type": "stream",
     "text": [
      "100%|██████████| 92/92 [00:00<00:00, 119.55it/s]\n"
     ]
    },
    {
     "name": "stdout",
     "output_type": "stream",
     "text": [
      "Training Epoch 7, Loss: 0.722524\n",
      "Accuracy: 0.6407079646017699\n",
      "Valdiation Epoch 7, Loss: 1.322819\n"
     ]
    },
    {
     "name": "stderr",
     "output_type": "stream",
     "text": [
      "100%|██████████| 92/92 [00:00<00:00, 117.17it/s]\n"
     ]
    },
    {
     "name": "stdout",
     "output_type": "stream",
     "text": [
      "Training Epoch 8, Loss: 0.669763\n",
      "Accuracy: 0.6495575221238938\n",
      "Valdiation Epoch 8, Loss: 1.322485\n"
     ]
    },
    {
     "name": "stderr",
     "output_type": "stream",
     "text": [
      "100%|██████████| 92/92 [00:00<00:00, 116.62it/s]\n"
     ]
    },
    {
     "name": "stdout",
     "output_type": "stream",
     "text": [
      "Training Epoch 9, Loss: 0.607746\n",
      "Accuracy: 0.6176991150442478\n",
      "Valdiation Epoch 9, Loss: 1.354472\n"
     ]
    },
    {
     "name": "stderr",
     "output_type": "stream",
     "text": [
      "100%|██████████| 92/92 [00:00<00:00, 111.22it/s]\n",
      "[I 2023-08-16 16:40:42,915] Trial 37 finished with value: 1.282056662771437 and parameters: {'lr': 0.00015081806093789345, 'batch_size': 64, 'd_model': 8, 'nhead': 6, 'num_layers': 4, 'hidden_dim': 4, 'layer_dim': 1}. Best is trial 37 with value: 1.282056662771437.\n"
     ]
    },
    {
     "name": "stdout",
     "output_type": "stream",
     "text": [
      "Training Epoch 10, Loss: 0.573933\n",
      "Accuracy: 0.679646017699115\n",
      "Valdiation Epoch 10, Loss: 1.282057\n",
      "256 64\n",
      "[5555, 3420, 3267, 3256, 2847, 3155, 3266, 3048, 2449, 2527, 3583, 2925, 2516, 2869, 2482, 2803, 2374, 2235, 2372, 2028, 9011, 3378, 5160, 2620, 2453, 5274, 3320, 4020, 3279, 4310, 4411, 4145, 3730, 3700]\n",
      "['G1' 'G10' 'G11' 'G2' 'G3' 'G4' 'G5' 'G6' 'G8' 'G9']\n",
      "[0 0 0 ... 2 2 2]\n",
      "[[1. 0. 0. ... 0. 0. 0.]\n",
      " [1. 0. 0. ... 0. 0. 0.]\n",
      " [1. 0. 0. ... 0. 0. 0.]\n",
      " ...\n",
      " [0. 0. 1. ... 0. 0. 0.]\n",
      " [0. 0. 1. ... 0. 0. 0.]\n",
      " [0. 0. 1. ... 0. 0. 0.]]\n",
      "[2653, 2002, 2303, 2642, 1758]\n",
      "['G1' 'G10' 'G11' 'G2' 'G3' 'G4' 'G5' 'G6' 'G8' 'G9']\n",
      "[0 0 0 ... 2 2 2]\n",
      "[[1. 0. 0. ... 0. 0. 0.]\n",
      " [1. 0. 0. ... 0. 0. 0.]\n",
      " [1. 0. 0. ... 0. 0. 0.]\n",
      " ...\n",
      " [0. 0. 1. ... 0. 0. 0.]\n",
      " [0. 0. 1. ... 0. 0. 0.]\n",
      " [0. 0. 1. ... 0. 0. 0.]]\n"
     ]
    },
    {
     "name": "stderr",
     "output_type": "stream",
     "text": [
      "100%|██████████| 92/92 [00:00<00:00, 118.89it/s]\n"
     ]
    },
    {
     "name": "stdout",
     "output_type": "stream",
     "text": [
      "Training Epoch 1, Loss: 1.785447\n",
      "Accuracy: 0.5221238938053098\n",
      "Valdiation Epoch 1, Loss: 1.799915\n"
     ]
    },
    {
     "name": "stderr",
     "output_type": "stream",
     "text": [
      "100%|██████████| 92/92 [00:00<00:00, 118.87it/s]\n"
     ]
    },
    {
     "name": "stdout",
     "output_type": "stream",
     "text": [
      "Training Epoch 2, Loss: 1.531385\n",
      "Accuracy: 0.5716814159292035\n",
      "Valdiation Epoch 2, Loss: 1.691739\n"
     ]
    },
    {
     "name": "stderr",
     "output_type": "stream",
     "text": [
      "100%|██████████| 92/92 [00:00<00:00, 116.17it/s]\n"
     ]
    },
    {
     "name": "stdout",
     "output_type": "stream",
     "text": [
      "Training Epoch 3, Loss: 1.373789\n",
      "Accuracy: 0.6159292035398231\n",
      "Valdiation Epoch 3, Loss: 1.582880\n"
     ]
    },
    {
     "name": "stderr",
     "output_type": "stream",
     "text": [
      "100%|██████████| 92/92 [00:00<00:00, 115.19it/s]\n"
     ]
    },
    {
     "name": "stdout",
     "output_type": "stream",
     "text": [
      "Training Epoch 4, Loss: 1.271680\n",
      "Accuracy: 0.6088495575221239\n",
      "Valdiation Epoch 4, Loss: 1.572238\n"
     ]
    },
    {
     "name": "stderr",
     "output_type": "stream",
     "text": [
      "100%|██████████| 92/92 [00:00<00:00, 116.45it/s]\n"
     ]
    },
    {
     "name": "stdout",
     "output_type": "stream",
     "text": [
      "Training Epoch 5, Loss: 1.184050\n",
      "Accuracy: 0.6017699115044248\n",
      "Valdiation Epoch 5, Loss: 1.550444\n"
     ]
    },
    {
     "name": "stderr",
     "output_type": "stream",
     "text": [
      "100%|██████████| 92/92 [00:00<00:00, 114.63it/s]\n"
     ]
    },
    {
     "name": "stdout",
     "output_type": "stream",
     "text": [
      "Training Epoch 6, Loss: 1.117652\n",
      "Accuracy: 0.6176991150442478\n",
      "Valdiation Epoch 6, Loss: 1.506408\n"
     ]
    },
    {
     "name": "stderr",
     "output_type": "stream",
     "text": [
      "100%|██████████| 92/92 [00:00<00:00, 117.72it/s]\n"
     ]
    },
    {
     "name": "stdout",
     "output_type": "stream",
     "text": [
      "Training Epoch 7, Loss: 1.055334\n",
      "Accuracy: 0.6283185840707964\n",
      "Valdiation Epoch 7, Loss: 1.480387\n"
     ]
    },
    {
     "name": "stderr",
     "output_type": "stream",
     "text": [
      "100%|██████████| 92/92 [00:00<00:00, 119.57it/s]\n"
     ]
    },
    {
     "name": "stdout",
     "output_type": "stream",
     "text": [
      "Training Epoch 8, Loss: 1.003345\n",
      "Accuracy: 0.6\n",
      "Valdiation Epoch 8, Loss: 1.486614\n"
     ]
    },
    {
     "name": "stderr",
     "output_type": "stream",
     "text": [
      "100%|██████████| 92/92 [00:00<00:00, 119.16it/s]\n"
     ]
    },
    {
     "name": "stdout",
     "output_type": "stream",
     "text": [
      "Training Epoch 9, Loss: 0.945277\n",
      "Accuracy: 0.6017699115044248\n",
      "Valdiation Epoch 9, Loss: 1.465403\n"
     ]
    },
    {
     "name": "stderr",
     "output_type": "stream",
     "text": [
      "100%|██████████| 92/92 [00:00<00:00, 118.41it/s]\n",
      "[I 2023-08-16 16:40:52,083] Trial 38 finished with value: 1.4839567608303494 and parameters: {'lr': 0.00018474099670135857, 'batch_size': 64, 'd_model': 8, 'nhead': 6, 'num_layers': 4, 'hidden_dim': 3, 'layer_dim': 1}. Best is trial 37 with value: 1.282056662771437.\n",
      "[I 2023-08-16 16:40:52,100] Trial 39 finished with value: 1000.0 and parameters: {'lr': 0.00016946275702260899, 'batch_size': 64, 'd_model': 4, 'nhead': 6, 'num_layers': 2, 'hidden_dim': 4, 'layer_dim': 1}. Best is trial 37 with value: 1.282056662771437.\n"
     ]
    },
    {
     "name": "stdout",
     "output_type": "stream",
     "text": [
      "Training Epoch 10, Loss: 0.904294\n",
      "Accuracy: 0.6017699115044248\n",
      "Valdiation Epoch 10, Loss: 1.483957\n",
      "16 64\n",
      "128 128\n",
      "[5555, 3420, 3267, 3256, 2847, 3155, 3266, 3048, 2449, 2527, 3583, 2925, 2516, 2869, 2482, 2803, 2374, 2235, 2372, 2028, 9011, 3378, 5160, 2620, 2453, 5274, 3320, 4020, 3279, 4310, 4411, 4145, 3730, 3700]\n",
      "['G1' 'G10' 'G11' 'G2' 'G3' 'G4' 'G5' 'G6' 'G8' 'G9']\n",
      "[0 0 0 ... 2 2 2]\n",
      "[[1. 0. 0. ... 0. 0. 0.]\n",
      " [1. 0. 0. ... 0. 0. 0.]\n",
      " [1. 0. 0. ... 0. 0. 0.]\n",
      " ...\n",
      " [0. 0. 1. ... 0. 0. 0.]\n",
      " [0. 0. 1. ... 0. 0. 0.]\n",
      " [0. 0. 1. ... 0. 0. 0.]]\n",
      "[2653, 2002, 2303, 2642, 1758]\n",
      "['G1' 'G10' 'G11' 'G2' 'G3' 'G4' 'G5' 'G6' 'G8' 'G9']\n",
      "[0 0 0 ... 2 2 2]\n",
      "[[1. 0. 0. ... 0. 0. 0.]\n",
      " [1. 0. 0. ... 0. 0. 0.]\n",
      " [1. 0. 0. ... 0. 0. 0.]\n",
      " ...\n",
      " [0. 0. 1. ... 0. 0. 0.]\n",
      " [0. 0. 1. ... 0. 0. 0.]\n",
      " [0. 0. 1. ... 0. 0. 0.]]\n"
     ]
    },
    {
     "name": "stderr",
     "output_type": "stream",
     "text": [
      "100%|██████████| 92/92 [00:00<00:00, 282.63it/s]\n"
     ]
    },
    {
     "name": "stdout",
     "output_type": "stream",
     "text": [
      "Training Epoch 1, Loss: 1.743161\n",
      "Accuracy: 0.4495575221238938\n",
      "Valdiation Epoch 1, Loss: 1.846758\n"
     ]
    },
    {
     "name": "stderr",
     "output_type": "stream",
     "text": [
      "100%|██████████| 92/92 [00:00<00:00, 290.30it/s]\n"
     ]
    },
    {
     "name": "stdout",
     "output_type": "stream",
     "text": [
      "Training Epoch 2, Loss: 1.460537\n",
      "Accuracy: 0.44778761061946903\n",
      "Valdiation Epoch 2, Loss: 1.724188\n"
     ]
    },
    {
     "name": "stderr",
     "output_type": "stream",
     "text": [
      "100%|██████████| 92/92 [00:00<00:00, 281.43it/s]\n"
     ]
    },
    {
     "name": "stdout",
     "output_type": "stream",
     "text": [
      "Training Epoch 3, Loss: 1.314883\n",
      "Accuracy: 0.5681415929203539\n",
      "Valdiation Epoch 3, Loss: 1.610432\n"
     ]
    },
    {
     "name": "stderr",
     "output_type": "stream",
     "text": [
      "100%|██████████| 92/92 [00:00<00:00, 276.17it/s]\n"
     ]
    },
    {
     "name": "stdout",
     "output_type": "stream",
     "text": [
      "Training Epoch 4, Loss: 1.196929\n",
      "Accuracy: 0.6088495575221239\n",
      "Valdiation Epoch 4, Loss: 1.530979\n"
     ]
    },
    {
     "name": "stderr",
     "output_type": "stream",
     "text": [
      "100%|██████████| 92/92 [00:00<00:00, 293.50it/s]\n"
     ]
    },
    {
     "name": "stdout",
     "output_type": "stream",
     "text": [
      "Training Epoch 5, Loss: 1.096331\n",
      "Accuracy: 0.6212389380530974\n",
      "Valdiation Epoch 5, Loss: 1.508660\n"
     ]
    },
    {
     "name": "stderr",
     "output_type": "stream",
     "text": [
      "100%|██████████| 92/92 [00:00<00:00, 282.77it/s]\n"
     ]
    },
    {
     "name": "stdout",
     "output_type": "stream",
     "text": [
      "Training Epoch 6, Loss: 1.018084\n",
      "Accuracy: 0.6283185840707964\n",
      "Valdiation Epoch 6, Loss: 1.476372\n"
     ]
    },
    {
     "name": "stderr",
     "output_type": "stream",
     "text": [
      "100%|██████████| 92/92 [00:00<00:00, 273.67it/s]\n"
     ]
    },
    {
     "name": "stdout",
     "output_type": "stream",
     "text": [
      "Training Epoch 7, Loss: 0.948657\n",
      "Accuracy: 0.6424778761061947\n",
      "Valdiation Epoch 7, Loss: 1.456308\n"
     ]
    },
    {
     "name": "stderr",
     "output_type": "stream",
     "text": [
      "100%|██████████| 92/92 [00:00<00:00, 285.87it/s]\n"
     ]
    },
    {
     "name": "stdout",
     "output_type": "stream",
     "text": [
      "Training Epoch 8, Loss: 0.884867\n",
      "Accuracy: 0.6619469026548672\n",
      "Valdiation Epoch 8, Loss: 1.426435\n"
     ]
    },
    {
     "name": "stderr",
     "output_type": "stream",
     "text": [
      "100%|██████████| 92/92 [00:00<00:00, 305.89it/s]\n"
     ]
    },
    {
     "name": "stdout",
     "output_type": "stream",
     "text": [
      "Training Epoch 9, Loss: 0.828119\n",
      "Accuracy: 0.6265486725663717\n",
      "Valdiation Epoch 9, Loss: 1.446105\n"
     ]
    },
    {
     "name": "stderr",
     "output_type": "stream",
     "text": [
      "100%|██████████| 92/92 [00:00<00:00, 276.57it/s]\n",
      "[I 2023-08-16 16:40:56,542] Trial 40 finished with value: 1.424973772631751 and parameters: {'lr': 0.00028835645555162526, 'batch_size': 64, 'd_model': 7, 'nhead': 7, 'num_layers': 1, 'hidden_dim': 3, 'layer_dim': 1}. Best is trial 37 with value: 1.282056662771437.\n"
     ]
    },
    {
     "name": "stdout",
     "output_type": "stream",
     "text": [
      "Training Epoch 10, Loss: 0.775588\n",
      "Accuracy: 0.6637168141592921\n",
      "Valdiation Epoch 10, Loss: 1.424974\n",
      "256 64\n",
      "[5555, 3420, 3267, 3256, 2847, 3155, 3266, 3048, 2449, 2527, 3583, 2925, 2516, 2869, 2482, 2803, 2374, 2235, 2372, 2028, 9011, 3378, 5160, 2620, 2453, 5274, 3320, 4020, 3279, 4310, 4411, 4145, 3730, 3700]\n",
      "['G1' 'G10' 'G11' 'G2' 'G3' 'G4' 'G5' 'G6' 'G8' 'G9']\n",
      "[0 0 0 ... 2 2 2]\n",
      "[[1. 0. 0. ... 0. 0. 0.]\n",
      " [1. 0. 0. ... 0. 0. 0.]\n",
      " [1. 0. 0. ... 0. 0. 0.]\n",
      " ...\n",
      " [0. 0. 1. ... 0. 0. 0.]\n",
      " [0. 0. 1. ... 0. 0. 0.]\n",
      " [0. 0. 1. ... 0. 0. 0.]]\n",
      "[2653, 2002, 2303, 2642, 1758]\n",
      "['G1' 'G10' 'G11' 'G2' 'G3' 'G4' 'G5' 'G6' 'G8' 'G9']\n",
      "[0 0 0 ... 2 2 2]\n",
      "[[1. 0. 0. ... 0. 0. 0.]\n",
      " [1. 0. 0. ... 0. 0. 0.]\n",
      " [1. 0. 0. ... 0. 0. 0.]\n",
      " ...\n",
      " [0. 0. 1. ... 0. 0. 0.]\n",
      " [0. 0. 1. ... 0. 0. 0.]\n",
      " [0. 0. 1. ... 0. 0. 0.]]\n"
     ]
    },
    {
     "name": "stderr",
     "output_type": "stream",
     "text": [
      "100%|██████████| 92/92 [00:00<00:00, 118.66it/s]\n"
     ]
    },
    {
     "name": "stdout",
     "output_type": "stream",
     "text": [
      "Training Epoch 1, Loss: 1.569109\n",
      "Accuracy: 0.5238938053097345\n",
      "Valdiation Epoch 1, Loss: 1.623962\n"
     ]
    },
    {
     "name": "stderr",
     "output_type": "stream",
     "text": [
      "100%|██████████| 92/92 [00:00<00:00, 111.56it/s]\n"
     ]
    },
    {
     "name": "stdout",
     "output_type": "stream",
     "text": [
      "Training Epoch 2, Loss: 1.167363\n",
      "Accuracy: 0.5893805309734513\n",
      "Valdiation Epoch 2, Loss: 1.495538\n"
     ]
    },
    {
     "name": "stderr",
     "output_type": "stream",
     "text": [
      "100%|██████████| 92/92 [00:00<00:00, 116.33it/s]\n"
     ]
    },
    {
     "name": "stdout",
     "output_type": "stream",
     "text": [
      "Training Epoch 3, Loss: 1.013300\n",
      "Accuracy: 0.6407079646017699\n",
      "Valdiation Epoch 3, Loss: 1.392379\n"
     ]
    },
    {
     "name": "stderr",
     "output_type": "stream",
     "text": [
      "100%|██████████| 92/92 [00:00<00:00, 117.61it/s]\n"
     ]
    },
    {
     "name": "stdout",
     "output_type": "stream",
     "text": [
      "Training Epoch 4, Loss: 0.903961\n",
      "Accuracy: 0.6407079646017699\n",
      "Valdiation Epoch 4, Loss: 1.358653\n"
     ]
    },
    {
     "name": "stderr",
     "output_type": "stream",
     "text": [
      "100%|██████████| 92/92 [00:00<00:00, 117.20it/s]\n"
     ]
    },
    {
     "name": "stdout",
     "output_type": "stream",
     "text": [
      "Training Epoch 5, Loss: 0.815913\n",
      "Accuracy: 0.5929203539823009\n",
      "Valdiation Epoch 5, Loss: 1.451934\n"
     ]
    },
    {
     "name": "stderr",
     "output_type": "stream",
     "text": [
      "100%|██████████| 92/92 [00:00<00:00, 101.27it/s]\n"
     ]
    },
    {
     "name": "stdout",
     "output_type": "stream",
     "text": [
      "Training Epoch 6, Loss: 0.749988\n",
      "Accuracy: 0.6336283185840708\n",
      "Valdiation Epoch 6, Loss: 1.349893\n"
     ]
    },
    {
     "name": "stderr",
     "output_type": "stream",
     "text": [
      "100%|██████████| 92/92 [00:00<00:00, 112.90it/s]\n"
     ]
    },
    {
     "name": "stdout",
     "output_type": "stream",
     "text": [
      "Training Epoch 7, Loss: 0.684495\n",
      "Accuracy: 0.6176991150442478\n",
      "Valdiation Epoch 7, Loss: 1.342314\n"
     ]
    },
    {
     "name": "stderr",
     "output_type": "stream",
     "text": [
      "100%|██████████| 92/92 [00:00<00:00, 121.18it/s]\n"
     ]
    },
    {
     "name": "stdout",
     "output_type": "stream",
     "text": [
      "Training Epoch 8, Loss: 0.629520\n",
      "Accuracy: 0.5805309734513274\n",
      "Valdiation Epoch 8, Loss: 1.414694\n"
     ]
    },
    {
     "name": "stderr",
     "output_type": "stream",
     "text": [
      "100%|██████████| 92/92 [00:00<00:00, 114.12it/s]\n"
     ]
    },
    {
     "name": "stdout",
     "output_type": "stream",
     "text": [
      "Training Epoch 9, Loss: 0.582915\n",
      "Accuracy: 0.584070796460177\n",
      "Valdiation Epoch 9, Loss: 1.465922\n"
     ]
    },
    {
     "name": "stderr",
     "output_type": "stream",
     "text": [
      "100%|██████████| 92/92 [00:00<00:00, 118.17it/s]\n",
      "[I 2023-08-16 16:41:05,880] Trial 41 finished with value: 1.4494436383247375 and parameters: {'lr': 7.193322211271828e-05, 'batch_size': 64, 'd_model': 8, 'nhead': 6, 'num_layers': 4, 'hidden_dim': 5, 'layer_dim': 1}. Best is trial 37 with value: 1.282056662771437.\n"
     ]
    },
    {
     "name": "stdout",
     "output_type": "stream",
     "text": [
      "Training Epoch 10, Loss: 0.545422\n",
      "Accuracy: 0.5769911504424778\n",
      "Valdiation Epoch 10, Loss: 1.449444\n",
      "256 128\n",
      "[5555, 3420, 3267, 3256, 2847, 3155, 3266, 3048, 2449, 2527, 3583, 2925, 2516, 2869, 2482, 2803, 2374, 2235, 2372, 2028, 9011, 3378, 5160, 2620, 2453, 5274, 3320, 4020, 3279, 4310, 4411, 4145, 3730, 3700]\n",
      "['G1' 'G10' 'G11' 'G2' 'G3' 'G4' 'G5' 'G6' 'G8' 'G9']\n",
      "[0 0 0 ... 2 2 2]\n",
      "[[1. 0. 0. ... 0. 0. 0.]\n",
      " [1. 0. 0. ... 0. 0. 0.]\n",
      " [1. 0. 0. ... 0. 0. 0.]\n",
      " ...\n",
      " [0. 0. 1. ... 0. 0. 0.]\n",
      " [0. 0. 1. ... 0. 0. 0.]\n",
      " [0. 0. 1. ... 0. 0. 0.]]\n",
      "[2653, 2002, 2303, 2642, 1758]\n",
      "['G1' 'G10' 'G11' 'G2' 'G3' 'G4' 'G5' 'G6' 'G8' 'G9']\n",
      "[0 0 0 ... 2 2 2]\n",
      "[[1. 0. 0. ... 0. 0. 0.]\n",
      " [1. 0. 0. ... 0. 0. 0.]\n",
      " [1. 0. 0. ... 0. 0. 0.]\n",
      " ...\n",
      " [0. 0. 1. ... 0. 0. 0.]\n",
      " [0. 0. 1. ... 0. 0. 0.]\n",
      " [0. 0. 1. ... 0. 0. 0.]]\n"
     ]
    },
    {
     "name": "stderr",
     "output_type": "stream",
     "text": [
      "100%|██████████| 184/184 [00:00<00:00, 213.56it/s]\n"
     ]
    },
    {
     "name": "stdout",
     "output_type": "stream",
     "text": [
      "Training Epoch 1, Loss: 1.343685\n",
      "Accuracy: 0.5787610619469027\n",
      "Valdiation Epoch 1, Loss: 1.648673\n"
     ]
    },
    {
     "name": "stderr",
     "output_type": "stream",
     "text": [
      "100%|██████████| 184/184 [00:00<00:00, 236.78it/s]\n"
     ]
    },
    {
     "name": "stdout",
     "output_type": "stream",
     "text": [
      "Training Epoch 2, Loss: 0.925953\n",
      "Accuracy: 0.6336283185840708\n",
      "Valdiation Epoch 2, Loss: 1.452821\n"
     ]
    },
    {
     "name": "stderr",
     "output_type": "stream",
     "text": [
      "100%|██████████| 184/184 [00:00<00:00, 230.87it/s]\n"
     ]
    },
    {
     "name": "stdout",
     "output_type": "stream",
     "text": [
      "Training Epoch 3, Loss: 0.787289\n",
      "Accuracy: 0.6176991150442478\n",
      "Valdiation Epoch 3, Loss: 1.402946\n"
     ]
    },
    {
     "name": "stderr",
     "output_type": "stream",
     "text": [
      "100%|██████████| 184/184 [00:00<00:00, 225.63it/s]\n"
     ]
    },
    {
     "name": "stdout",
     "output_type": "stream",
     "text": [
      "Training Epoch 4, Loss: 0.689786\n",
      "Accuracy: 0.6336283185840708\n",
      "Valdiation Epoch 4, Loss: 1.386929\n"
     ]
    },
    {
     "name": "stderr",
     "output_type": "stream",
     "text": [
      "100%|██████████| 184/184 [00:00<00:00, 222.92it/s]\n"
     ]
    },
    {
     "name": "stdout",
     "output_type": "stream",
     "text": [
      "Training Epoch 5, Loss: 0.608988\n",
      "Accuracy: 0.5787610619469027\n",
      "Valdiation Epoch 5, Loss: 1.490076\n"
     ]
    },
    {
     "name": "stderr",
     "output_type": "stream",
     "text": [
      "100%|██████████| 184/184 [00:00<00:00, 239.11it/s]\n"
     ]
    },
    {
     "name": "stdout",
     "output_type": "stream",
     "text": [
      "Training Epoch 6, Loss: 0.548255\n",
      "Accuracy: 0.6159292035398231\n",
      "Valdiation Epoch 6, Loss: 1.421805\n"
     ]
    },
    {
     "name": "stderr",
     "output_type": "stream",
     "text": [
      "100%|██████████| 184/184 [00:00<00:00, 233.95it/s]\n"
     ]
    },
    {
     "name": "stdout",
     "output_type": "stream",
     "text": [
      "Training Epoch 7, Loss: 0.489791\n",
      "Accuracy: 0.6159292035398231\n",
      "Valdiation Epoch 7, Loss: 1.474286\n"
     ]
    },
    {
     "name": "stderr",
     "output_type": "stream",
     "text": [
      "100%|██████████| 184/184 [00:00<00:00, 224.25it/s]\n"
     ]
    },
    {
     "name": "stdout",
     "output_type": "stream",
     "text": [
      "Training Epoch 8, Loss: 0.435282\n",
      "Accuracy: 0.5876106194690266\n",
      "Valdiation Epoch 8, Loss: 1.627511\n"
     ]
    },
    {
     "name": "stderr",
     "output_type": "stream",
     "text": [
      "100%|██████████| 184/184 [00:00<00:00, 233.71it/s]\n"
     ]
    },
    {
     "name": "stdout",
     "output_type": "stream",
     "text": [
      "Training Epoch 9, Loss: 0.394035\n",
      "Accuracy: 0.6\n",
      "Valdiation Epoch 9, Loss: 1.605586\n"
     ]
    },
    {
     "name": "stderr",
     "output_type": "stream",
     "text": [
      "100%|██████████| 184/184 [00:00<00:00, 221.64it/s]\n",
      "[I 2023-08-16 16:41:15,209] Trial 42 finished with value: 1.6477066212230258 and parameters: {'lr': 0.00012578294479593274, 'batch_size': 32, 'd_model': 8, 'nhead': 7, 'num_layers': 4, 'hidden_dim': 5, 'layer_dim': 1}. Best is trial 37 with value: 1.282056662771437.\n"
     ]
    },
    {
     "name": "stdout",
     "output_type": "stream",
     "text": [
      "Training Epoch 10, Loss: 0.354914\n",
      "Accuracy: 0.6035398230088496\n",
      "Valdiation Epoch 10, Loss: 1.647707\n",
      "256 32\n",
      "[5555, 3420, 3267, 3256, 2847, 3155, 3266, 3048, 2449, 2527, 3583, 2925, 2516, 2869, 2482, 2803, 2374, 2235, 2372, 2028, 9011, 3378, 5160, 2620, 2453, 5274, 3320, 4020, 3279, 4310, 4411, 4145, 3730, 3700]\n",
      "['G1' 'G10' 'G11' 'G2' 'G3' 'G4' 'G5' 'G6' 'G8' 'G9']\n",
      "[0 0 0 ... 2 2 2]\n",
      "[[1. 0. 0. ... 0. 0. 0.]\n",
      " [1. 0. 0. ... 0. 0. 0.]\n",
      " [1. 0. 0. ... 0. 0. 0.]\n",
      " ...\n",
      " [0. 0. 1. ... 0. 0. 0.]\n",
      " [0. 0. 1. ... 0. 0. 0.]\n",
      " [0. 0. 1. ... 0. 0. 0.]]\n",
      "[2653, 2002, 2303, 2642, 1758]\n",
      "['G1' 'G10' 'G11' 'G2' 'G3' 'G4' 'G5' 'G6' 'G8' 'G9']\n",
      "[0 0 0 ... 2 2 2]\n",
      "[[1. 0. 0. ... 0. 0. 0.]\n",
      " [1. 0. 0. ... 0. 0. 0.]\n",
      " [1. 0. 0. ... 0. 0. 0.]\n",
      " ...\n",
      " [0. 0. 1. ... 0. 0. 0.]\n",
      " [0. 0. 1. ... 0. 0. 0.]\n",
      " [0. 0. 1. ... 0. 0. 0.]]\n"
     ]
    },
    {
     "name": "stderr",
     "output_type": "stream",
     "text": [
      "100%|██████████| 92/92 [00:00<00:00, 115.32it/s]\n"
     ]
    },
    {
     "name": "stdout",
     "output_type": "stream",
     "text": [
      "Training Epoch 1, Loss: 1.550666\n",
      "Accuracy: 0.5274336283185841\n",
      "Valdiation Epoch 1, Loss: 1.601653\n"
     ]
    },
    {
     "name": "stderr",
     "output_type": "stream",
     "text": [
      "100%|██████████| 92/92 [00:00<00:00, 112.08it/s]\n"
     ]
    },
    {
     "name": "stdout",
     "output_type": "stream",
     "text": [
      "Training Epoch 2, Loss: 1.056159\n",
      "Accuracy: 0.6141592920353982\n",
      "Valdiation Epoch 2, Loss: 1.414778\n"
     ]
    },
    {
     "name": "stderr",
     "output_type": "stream",
     "text": [
      "100%|██████████| 92/92 [00:00<00:00, 113.19it/s]\n"
     ]
    },
    {
     "name": "stdout",
     "output_type": "stream",
     "text": [
      "Training Epoch 3, Loss: 0.874091\n",
      "Accuracy: 0.6424778761061947\n",
      "Valdiation Epoch 3, Loss: 1.387106\n"
     ]
    },
    {
     "name": "stderr",
     "output_type": "stream",
     "text": [
      "100%|██████████| 92/92 [00:00<00:00, 116.76it/s]\n"
     ]
    },
    {
     "name": "stdout",
     "output_type": "stream",
     "text": [
      "Training Epoch 4, Loss: 0.765714\n",
      "Accuracy: 0.6389380530973451\n",
      "Valdiation Epoch 4, Loss: 1.361432\n"
     ]
    },
    {
     "name": "stderr",
     "output_type": "stream",
     "text": [
      "100%|██████████| 92/92 [00:00<00:00, 117.20it/s]\n"
     ]
    },
    {
     "name": "stdout",
     "output_type": "stream",
     "text": [
      "Training Epoch 5, Loss: 0.679621\n",
      "Accuracy: 0.6336283185840708\n",
      "Valdiation Epoch 5, Loss: 1.395490\n"
     ]
    },
    {
     "name": "stderr",
     "output_type": "stream",
     "text": [
      "100%|██████████| 92/92 [00:00<00:00, 116.94it/s]\n"
     ]
    },
    {
     "name": "stdout",
     "output_type": "stream",
     "text": [
      "Training Epoch 6, Loss: 0.613635\n",
      "Accuracy: 0.6106194690265486\n",
      "Valdiation Epoch 6, Loss: 1.413318\n"
     ]
    },
    {
     "name": "stderr",
     "output_type": "stream",
     "text": [
      "100%|██████████| 92/92 [00:00<00:00, 118.47it/s]\n"
     ]
    },
    {
     "name": "stdout",
     "output_type": "stream",
     "text": [
      "Training Epoch 7, Loss: 0.553715\n",
      "Accuracy: 0.6123893805309735\n",
      "Valdiation Epoch 7, Loss: 1.422337\n"
     ]
    },
    {
     "name": "stderr",
     "output_type": "stream",
     "text": [
      "100%|██████████| 92/92 [00:00<00:00, 113.57it/s]\n"
     ]
    },
    {
     "name": "stdout",
     "output_type": "stream",
     "text": [
      "Training Epoch 8, Loss: 0.499450\n",
      "Accuracy: 0.6035398230088496\n",
      "Valdiation Epoch 8, Loss: 1.483771\n"
     ]
    },
    {
     "name": "stderr",
     "output_type": "stream",
     "text": [
      "100%|██████████| 92/92 [00:00<00:00, 123.52it/s]\n"
     ]
    },
    {
     "name": "stdout",
     "output_type": "stream",
     "text": [
      "Training Epoch 9, Loss: 0.452243\n",
      "Accuracy: 0.5946902654867257\n",
      "Valdiation Epoch 9, Loss: 1.528384\n"
     ]
    },
    {
     "name": "stderr",
     "output_type": "stream",
     "text": [
      "100%|██████████| 92/92 [00:00<00:00, 117.23it/s]\n",
      "[I 2023-08-16 16:41:24,428] Trial 43 finished with value: 1.5241380466355219 and parameters: {'lr': 7.22663223863381e-05, 'batch_size': 64, 'd_model': 8, 'nhead': 5, 'num_layers': 4, 'hidden_dim': 6, 'layer_dim': 1}. Best is trial 37 with value: 1.282056662771437.\n",
      "[I 2023-08-16 16:41:24,444] Trial 44 finished with value: 1000.0 and parameters: {'lr': 0.0001306144683471509, 'batch_size': 64, 'd_model': 1, 'nhead': 6, 'num_layers': 4, 'hidden_dim': 4, 'layer_dim': 1}. Best is trial 37 with value: 1.282056662771437.\n"
     ]
    },
    {
     "name": "stdout",
     "output_type": "stream",
     "text": [
      "Training Epoch 10, Loss: 0.413165\n",
      "Accuracy: 0.5929203539823009\n",
      "Valdiation Epoch 10, Loss: 1.524138\n",
      "2 64\n",
      "128 32\n",
      "[5555, 3420, 3267, 3256, 2847, 3155, 3266, 3048, 2449, 2527, 3583, 2925, 2516, 2869, 2482, 2803, 2374, 2235, 2372, 2028, 9011, 3378, 5160, 2620, 2453, 5274, 3320, 4020, 3279, 4310, 4411, 4145, 3730, 3700]\n",
      "['G1' 'G10' 'G11' 'G2' 'G3' 'G4' 'G5' 'G6' 'G8' 'G9']\n",
      "[0 0 0 ... 2 2 2]\n",
      "[[1. 0. 0. ... 0. 0. 0.]\n",
      " [1. 0. 0. ... 0. 0. 0.]\n",
      " [1. 0. 0. ... 0. 0. 0.]\n",
      " ...\n",
      " [0. 0. 1. ... 0. 0. 0.]\n",
      " [0. 0. 1. ... 0. 0. 0.]\n",
      " [0. 0. 1. ... 0. 0. 0.]]\n",
      "[2653, 2002, 2303, 2642, 1758]\n",
      "['G1' 'G10' 'G11' 'G2' 'G3' 'G4' 'G5' 'G6' 'G8' 'G9']\n",
      "[0 0 0 ... 2 2 2]\n",
      "[[1. 0. 0. ... 0. 0. 0.]\n",
      " [1. 0. 0. ... 0. 0. 0.]\n",
      " [1. 0. 0. ... 0. 0. 0.]\n",
      " ...\n",
      " [0. 0. 1. ... 0. 0. 0.]\n",
      " [0. 0. 1. ... 0. 0. 0.]\n",
      " [0. 0. 1. ... 0. 0. 0.]]\n"
     ]
    },
    {
     "name": "stderr",
     "output_type": "stream",
     "text": [
      "100%|██████████| 184/184 [00:00<00:00, 230.52it/s]\n"
     ]
    },
    {
     "name": "stdout",
     "output_type": "stream",
     "text": [
      "Training Epoch 1, Loss: 1.332122\n",
      "Accuracy: 0.5787610619469027\n",
      "Valdiation Epoch 1, Loss: 1.555598\n"
     ]
    },
    {
     "name": "stderr",
     "output_type": "stream",
     "text": [
      "100%|██████████| 184/184 [00:00<00:00, 244.50it/s]\n"
     ]
    },
    {
     "name": "stdout",
     "output_type": "stream",
     "text": [
      "Training Epoch 2, Loss: 0.853315\n",
      "Accuracy: 0.6353982300884956\n",
      "Valdiation Epoch 2, Loss: 1.463060\n"
     ]
    },
    {
     "name": "stderr",
     "output_type": "stream",
     "text": [
      "100%|██████████| 184/184 [00:00<00:00, 248.32it/s]\n"
     ]
    },
    {
     "name": "stdout",
     "output_type": "stream",
     "text": [
      "Training Epoch 3, Loss: 0.717740\n",
      "Accuracy: 0.6053097345132743\n",
      "Valdiation Epoch 3, Loss: 1.574909\n"
     ]
    },
    {
     "name": "stderr",
     "output_type": "stream",
     "text": [
      "100%|██████████| 184/184 [00:00<00:00, 257.30it/s]\n"
     ]
    },
    {
     "name": "stdout",
     "output_type": "stream",
     "text": [
      "Training Epoch 4, Loss: 0.621045\n",
      "Accuracy: 0.6424778761061947\n",
      "Valdiation Epoch 4, Loss: 1.446436\n"
     ]
    },
    {
     "name": "stderr",
     "output_type": "stream",
     "text": [
      "100%|██████████| 184/184 [00:00<00:00, 264.69it/s]\n"
     ]
    },
    {
     "name": "stdout",
     "output_type": "stream",
     "text": [
      "Training Epoch 5, Loss: 0.539373\n",
      "Accuracy: 0.6460176991150443\n",
      "Valdiation Epoch 5, Loss: 1.481776\n"
     ]
    },
    {
     "name": "stderr",
     "output_type": "stream",
     "text": [
      "100%|██████████| 184/184 [00:00<00:00, 259.53it/s]\n"
     ]
    },
    {
     "name": "stdout",
     "output_type": "stream",
     "text": [
      "Training Epoch 6, Loss: 0.472439\n",
      "Accuracy: 0.6053097345132743\n",
      "Valdiation Epoch 6, Loss: 1.625192\n"
     ]
    },
    {
     "name": "stderr",
     "output_type": "stream",
     "text": [
      "100%|██████████| 184/184 [00:00<00:00, 260.84it/s]\n"
     ]
    },
    {
     "name": "stdout",
     "output_type": "stream",
     "text": [
      "Training Epoch 7, Loss: 0.421976\n",
      "Accuracy: 0.5769911504424778\n",
      "Valdiation Epoch 7, Loss: 1.620283\n"
     ]
    },
    {
     "name": "stderr",
     "output_type": "stream",
     "text": [
      "100%|██████████| 184/184 [00:00<00:00, 264.97it/s]\n"
     ]
    },
    {
     "name": "stdout",
     "output_type": "stream",
     "text": [
      "Training Epoch 8, Loss: 0.394542\n",
      "Accuracy: 0.6548672566371682\n",
      "Valdiation Epoch 8, Loss: 1.478109\n"
     ]
    },
    {
     "name": "stderr",
     "output_type": "stream",
     "text": [
      "100%|██████████| 184/184 [00:00<00:00, 262.60it/s]\n"
     ]
    },
    {
     "name": "stdout",
     "output_type": "stream",
     "text": [
      "Training Epoch 9, Loss: 0.344366\n",
      "Accuracy: 0.5823008849557522\n",
      "Valdiation Epoch 9, Loss: 1.556375\n"
     ]
    },
    {
     "name": "stderr",
     "output_type": "stream",
     "text": [
      "100%|██████████| 184/184 [00:00<00:00, 255.65it/s]\n",
      "[I 2023-08-16 16:41:32,905] Trial 45 finished with value: 1.4091995126671262 and parameters: {'lr': 0.00022778168698468532, 'batch_size': 32, 'd_model': 7, 'nhead': 5, 'num_layers': 4, 'hidden_dim': 6, 'layer_dim': 1}. Best is trial 37 with value: 1.282056662771437.\n"
     ]
    },
    {
     "name": "stdout",
     "output_type": "stream",
     "text": [
      "Training Epoch 10, Loss: 0.311297\n",
      "Accuracy: 0.6707964601769911\n",
      "Valdiation Epoch 10, Loss: 1.409200\n",
      "256 256\n",
      "[5555, 3420, 3267, 3256, 2847, 3155, 3266, 3048, 2449, 2527, 3583, 2925, 2516, 2869, 2482, 2803, 2374, 2235, 2372, 2028, 9011, 3378, 5160, 2620, 2453, 5274, 3320, 4020, 3279, 4310, 4411, 4145, 3730, 3700]\n",
      "['G1' 'G10' 'G11' 'G2' 'G3' 'G4' 'G5' 'G6' 'G8' 'G9']\n",
      "[0 0 0 ... 2 2 2]\n",
      "[[1. 0. 0. ... 0. 0. 0.]\n",
      " [1. 0. 0. ... 0. 0. 0.]\n",
      " [1. 0. 0. ... 0. 0. 0.]\n",
      " ...\n",
      " [0. 0. 1. ... 0. 0. 0.]\n",
      " [0. 0. 1. ... 0. 0. 0.]\n",
      " [0. 0. 1. ... 0. 0. 0.]]\n",
      "[2653, 2002, 2303, 2642, 1758]\n",
      "['G1' 'G10' 'G11' 'G2' 'G3' 'G4' 'G5' 'G6' 'G8' 'G9']\n",
      "[0 0 0 ... 2 2 2]\n",
      "[[1. 0. 0. ... 0. 0. 0.]\n",
      " [1. 0. 0. ... 0. 0. 0.]\n",
      " [1. 0. 0. ... 0. 0. 0.]\n",
      " ...\n",
      " [0. 0. 1. ... 0. 0. 0.]\n",
      " [0. 0. 1. ... 0. 0. 0.]\n",
      " [0. 0. 1. ... 0. 0. 0.]]\n"
     ]
    },
    {
     "name": "stderr",
     "output_type": "stream",
     "text": [
      "100%|██████████| 92/92 [00:00<00:00, 200.80it/s]\n"
     ]
    },
    {
     "name": "stdout",
     "output_type": "stream",
     "text": [
      "Training Epoch 1, Loss: 1.590227\n",
      "Accuracy: 0.5203539823008849\n",
      "Valdiation Epoch 1, Loss: 1.621030\n"
     ]
    },
    {
     "name": "stderr",
     "output_type": "stream",
     "text": [
      "100%|██████████| 92/92 [00:00<00:00, 194.76it/s]\n"
     ]
    },
    {
     "name": "stdout",
     "output_type": "stream",
     "text": [
      "Training Epoch 2, Loss: 1.181687\n",
      "Accuracy: 0.6017699115044248\n",
      "Valdiation Epoch 2, Loss: 1.470171\n"
     ]
    },
    {
     "name": "stderr",
     "output_type": "stream",
     "text": [
      "100%|██████████| 92/92 [00:00<00:00, 209.43it/s]\n"
     ]
    },
    {
     "name": "stdout",
     "output_type": "stream",
     "text": [
      "Training Epoch 3, Loss: 1.026889\n",
      "Accuracy: 0.6053097345132743\n",
      "Valdiation Epoch 3, Loss: 1.357225\n"
     ]
    },
    {
     "name": "stderr",
     "output_type": "stream",
     "text": [
      "100%|██████████| 92/92 [00:00<00:00, 194.45it/s]\n"
     ]
    },
    {
     "name": "stdout",
     "output_type": "stream",
     "text": [
      "Training Epoch 4, Loss: 0.926573\n",
      "Accuracy: 0.6513274336283186\n",
      "Valdiation Epoch 4, Loss: 1.298336\n"
     ]
    },
    {
     "name": "stderr",
     "output_type": "stream",
     "text": [
      "100%|██████████| 92/92 [00:00<00:00, 178.64it/s]\n"
     ]
    },
    {
     "name": "stdout",
     "output_type": "stream",
     "text": [
      "Training Epoch 5, Loss: 0.845535\n",
      "Accuracy: 0.6353982300884956\n",
      "Valdiation Epoch 5, Loss: 1.283242\n"
     ]
    },
    {
     "name": "stderr",
     "output_type": "stream",
     "text": [
      "100%|██████████| 92/92 [00:00<00:00, 232.21it/s]\n"
     ]
    },
    {
     "name": "stdout",
     "output_type": "stream",
     "text": [
      "Training Epoch 6, Loss: 0.788049\n",
      "Accuracy: 0.6637168141592921\n",
      "Valdiation Epoch 6, Loss: 1.263944\n"
     ]
    },
    {
     "name": "stderr",
     "output_type": "stream",
     "text": [
      "100%|██████████| 92/92 [00:00<00:00, 276.44it/s]\n"
     ]
    },
    {
     "name": "stdout",
     "output_type": "stream",
     "text": [
      "Training Epoch 7, Loss: 0.726966\n",
      "Accuracy: 0.6495575221238938\n",
      "Valdiation Epoch 7, Loss: 1.245782\n"
     ]
    },
    {
     "name": "stderr",
     "output_type": "stream",
     "text": [
      "100%|██████████| 92/92 [00:00<00:00, 242.22it/s]\n"
     ]
    },
    {
     "name": "stdout",
     "output_type": "stream",
     "text": [
      "Training Epoch 8, Loss: 0.678989\n",
      "Accuracy: 0.6619469026548672\n",
      "Valdiation Epoch 8, Loss: 1.248950\n"
     ]
    },
    {
     "name": "stderr",
     "output_type": "stream",
     "text": [
      "100%|██████████| 92/92 [00:00<00:00, 264.54it/s]\n"
     ]
    },
    {
     "name": "stdout",
     "output_type": "stream",
     "text": [
      "Training Epoch 9, Loss: 0.635183\n",
      "Accuracy: 0.6566371681415929\n",
      "Valdiation Epoch 9, Loss: 1.271450\n"
     ]
    },
    {
     "name": "stderr",
     "output_type": "stream",
     "text": [
      "100%|██████████| 92/92 [00:00<00:00, 202.36it/s]\n",
      "[I 2023-08-16 16:41:38,401] Trial 46 finished with value: 1.2882540424664815 and parameters: {'lr': 7.321067305475299e-05, 'batch_size': 64, 'd_model': 8, 'nhead': 8, 'num_layers': 2, 'hidden_dim': 5, 'layer_dim': 1}. Best is trial 37 with value: 1.282056662771437.\n"
     ]
    },
    {
     "name": "stdout",
     "output_type": "stream",
     "text": [
      "Training Epoch 10, Loss: 0.602876\n",
      "Accuracy: 0.6247787610619469\n",
      "Valdiation Epoch 10, Loss: 1.288254\n",
      "256 256\n",
      "[5555, 3420, 3267, 3256, 2847, 3155, 3266, 3048, 2449, 2527, 3583, 2925, 2516, 2869, 2482, 2803, 2374, 2235, 2372, 2028, 9011, 3378, 5160, 2620, 2453, 5274, 3320, 4020, 3279, 4310, 4411, 4145, 3730, 3700]\n",
      "['G1' 'G10' 'G11' 'G2' 'G3' 'G4' 'G5' 'G6' 'G8' 'G9']\n",
      "[0 0 0 ... 2 2 2]\n",
      "[[1. 0. 0. ... 0. 0. 0.]\n",
      " [1. 0. 0. ... 0. 0. 0.]\n",
      " [1. 0. 0. ... 0. 0. 0.]\n",
      " ...\n",
      " [0. 0. 1. ... 0. 0. 0.]\n",
      " [0. 0. 1. ... 0. 0. 0.]\n",
      " [0. 0. 1. ... 0. 0. 0.]]\n",
      "[2653, 2002, 2303, 2642, 1758]\n",
      "['G1' 'G10' 'G11' 'G2' 'G3' 'G4' 'G5' 'G6' 'G8' 'G9']\n",
      "[0 0 0 ... 2 2 2]\n",
      "[[1. 0. 0. ... 0. 0. 0.]\n",
      " [1. 0. 0. ... 0. 0. 0.]\n",
      " [1. 0. 0. ... 0. 0. 0.]\n",
      " ...\n",
      " [0. 0. 1. ... 0. 0. 0.]\n",
      " [0. 0. 1. ... 0. 0. 0.]\n",
      " [0. 0. 1. ... 0. 0. 0.]]\n"
     ]
    },
    {
     "name": "stderr",
     "output_type": "stream",
     "text": [
      "100%|██████████| 92/92 [00:00<00:00, 206.36it/s]\n"
     ]
    },
    {
     "name": "stdout",
     "output_type": "stream",
     "text": [
      "Training Epoch 1, Loss: 1.549529\n",
      "Accuracy: 0.5769911504424778\n",
      "Valdiation Epoch 1, Loss: 1.525544\n"
     ]
    },
    {
     "name": "stderr",
     "output_type": "stream",
     "text": [
      "100%|██████████| 92/92 [00:00<00:00, 201.61it/s]\n"
     ]
    },
    {
     "name": "stdout",
     "output_type": "stream",
     "text": [
      "Training Epoch 2, Loss: 1.102769\n",
      "Accuracy: 0.5823008849557522\n",
      "Valdiation Epoch 2, Loss: 1.409582\n"
     ]
    },
    {
     "name": "stderr",
     "output_type": "stream",
     "text": [
      "100%|██████████| 92/92 [00:00<00:00, 185.65it/s]\n"
     ]
    },
    {
     "name": "stdout",
     "output_type": "stream",
     "text": [
      "Training Epoch 3, Loss: 0.938715\n",
      "Accuracy: 0.6212389380530974\n",
      "Valdiation Epoch 3, Loss: 1.387888\n"
     ]
    },
    {
     "name": "stderr",
     "output_type": "stream",
     "text": [
      "100%|██████████| 92/92 [00:00<00:00, 220.47it/s]\n"
     ]
    },
    {
     "name": "stdout",
     "output_type": "stream",
     "text": [
      "Training Epoch 4, Loss: 0.831164\n",
      "Accuracy: 0.6654867256637168\n",
      "Valdiation Epoch 4, Loss: 1.290783\n"
     ]
    },
    {
     "name": "stderr",
     "output_type": "stream",
     "text": [
      "100%|██████████| 92/92 [00:00<00:00, 196.57it/s]\n"
     ]
    },
    {
     "name": "stdout",
     "output_type": "stream",
     "text": [
      "Training Epoch 5, Loss: 0.751902\n",
      "Accuracy: 0.6778761061946903\n",
      "Valdiation Epoch 5, Loss: 1.330864\n"
     ]
    },
    {
     "name": "stderr",
     "output_type": "stream",
     "text": [
      "100%|██████████| 92/92 [00:00<00:00, 202.82it/s]\n"
     ]
    },
    {
     "name": "stdout",
     "output_type": "stream",
     "text": [
      "Training Epoch 6, Loss: 0.684840\n",
      "Accuracy: 0.6548672566371682\n",
      "Valdiation Epoch 6, Loss: 1.321538\n"
     ]
    },
    {
     "name": "stderr",
     "output_type": "stream",
     "text": [
      "100%|██████████| 92/92 [00:00<00:00, 190.71it/s]\n"
     ]
    },
    {
     "name": "stdout",
     "output_type": "stream",
     "text": [
      "Training Epoch 7, Loss: 0.623667\n",
      "Accuracy: 0.6106194690265486\n",
      "Valdiation Epoch 7, Loss: 1.397774\n"
     ]
    },
    {
     "name": "stderr",
     "output_type": "stream",
     "text": [
      "100%|██████████| 92/92 [00:00<00:00, 200.09it/s]\n"
     ]
    },
    {
     "name": "stdout",
     "output_type": "stream",
     "text": [
      "Training Epoch 8, Loss: 0.569232\n",
      "Accuracy: 0.6035398230088496\n",
      "Valdiation Epoch 8, Loss: 1.385812\n"
     ]
    },
    {
     "name": "stderr",
     "output_type": "stream",
     "text": [
      "100%|██████████| 92/92 [00:00<00:00, 195.85it/s]\n"
     ]
    },
    {
     "name": "stdout",
     "output_type": "stream",
     "text": [
      "Training Epoch 9, Loss: 0.522526\n",
      "Accuracy: 0.6300884955752213\n",
      "Valdiation Epoch 9, Loss: 1.366765\n"
     ]
    },
    {
     "name": "stderr",
     "output_type": "stream",
     "text": [
      "100%|██████████| 92/92 [00:00<00:00, 191.78it/s]\n",
      "[I 2023-08-16 16:41:44,295] Trial 47 finished with value: 1.3402332597308688 and parameters: {'lr': 0.00011312654860197872, 'batch_size': 64, 'd_model': 8, 'nhead': 8, 'num_layers': 2, 'hidden_dim': 5, 'layer_dim': 1}. Best is trial 37 with value: 1.282056662771437.\n",
      "[I 2023-08-16 16:41:44,311] Trial 48 finished with value: 1000.0 and parameters: {'lr': 0.00011603546081232437, 'batch_size': 64, 'd_model': 7, 'nhead': 8, 'num_layers': 2, 'hidden_dim': 4, 'layer_dim': 1}. Best is trial 37 with value: 1.282056662771437.\n",
      "[I 2023-08-16 16:41:44,323] Trial 49 finished with value: 1000.0 and parameters: {'lr': 0.00035180660614524264, 'batch_size': 64, 'd_model': 3, 'nhead': 8, 'num_layers': 2, 'hidden_dim': 5, 'layer_dim': 1}. Best is trial 37 with value: 1.282056662771437.\n"
     ]
    },
    {
     "name": "stdout",
     "output_type": "stream",
     "text": [
      "Training Epoch 10, Loss: 0.477956\n",
      "Accuracy: 0.6407079646017699\n",
      "Valdiation Epoch 10, Loss: 1.340233\n",
      "128 256\n",
      "8 256\n",
      "256 128\n",
      "[5555, 3420, 3267, 3256, 2847, 3155, 3266, 3048, 2449, 2527, 3583, 2925, 2516, 2869, 2482, 2803, 2374, 2235, 2372, 2028, 9011, 3378, 5160, 2620, 2453, 5274, 3320, 4020, 3279, 4310, 4411, 4145, 3730, 3700]\n",
      "['G1' 'G10' 'G11' 'G2' 'G3' 'G4' 'G5' 'G6' 'G8' 'G9']\n",
      "[0 0 0 ... 2 2 2]\n",
      "[[1. 0. 0. ... 0. 0. 0.]\n",
      " [1. 0. 0. ... 0. 0. 0.]\n",
      " [1. 0. 0. ... 0. 0. 0.]\n",
      " ...\n",
      " [0. 0. 1. ... 0. 0. 0.]\n",
      " [0. 0. 1. ... 0. 0. 0.]\n",
      " [0. 0. 1. ... 0. 0. 0.]]\n",
      "[2653, 2002, 2303, 2642, 1758]\n",
      "['G1' 'G10' 'G11' 'G2' 'G3' 'G4' 'G5' 'G6' 'G8' 'G9']\n",
      "[0 0 0 ... 2 2 2]\n",
      "[[1. 0. 0. ... 0. 0. 0.]\n",
      " [1. 0. 0. ... 0. 0. 0.]\n",
      " [1. 0. 0. ... 0. 0. 0.]\n",
      " ...\n",
      " [0. 0. 1. ... 0. 0. 0.]\n",
      " [0. 0. 1. ... 0. 0. 0.]\n",
      " [0. 0. 1. ... 0. 0. 0.]]\n"
     ]
    },
    {
     "name": "stderr",
     "output_type": "stream",
     "text": [
      "100%|██████████| 92/92 [00:00<00:00, 187.25it/s]\n"
     ]
    },
    {
     "name": "stdout",
     "output_type": "stream",
     "text": [
      "Training Epoch 1, Loss: 1.824811\n",
      "Accuracy: 0.4849557522123894\n",
      "Valdiation Epoch 1, Loss: 1.926354\n"
     ]
    },
    {
     "name": "stderr",
     "output_type": "stream",
     "text": [
      "100%|██████████| 92/92 [00:00<00:00, 205.27it/s]\n"
     ]
    },
    {
     "name": "stdout",
     "output_type": "stream",
     "text": [
      "Training Epoch 2, Loss: 1.543619\n",
      "Accuracy: 0.5168141592920354\n",
      "Valdiation Epoch 2, Loss: 1.794038\n"
     ]
    },
    {
     "name": "stderr",
     "output_type": "stream",
     "text": [
      "100%|██████████| 92/92 [00:00<00:00, 212.77it/s]\n"
     ]
    },
    {
     "name": "stdout",
     "output_type": "stream",
     "text": [
      "Training Epoch 3, Loss: 1.406716\n",
      "Accuracy: 0.5380530973451327\n",
      "Valdiation Epoch 3, Loss: 1.664235\n"
     ]
    },
    {
     "name": "stderr",
     "output_type": "stream",
     "text": [
      "100%|██████████| 92/92 [00:00<00:00, 219.26it/s]\n"
     ]
    },
    {
     "name": "stdout",
     "output_type": "stream",
     "text": [
      "Training Epoch 4, Loss: 1.301792\n",
      "Accuracy: 0.5504424778761062\n",
      "Valdiation Epoch 4, Loss: 1.623279\n"
     ]
    },
    {
     "name": "stderr",
     "output_type": "stream",
     "text": [
      "100%|██████████| 92/92 [00:00<00:00, 215.51it/s]\n"
     ]
    },
    {
     "name": "stdout",
     "output_type": "stream",
     "text": [
      "Training Epoch 5, Loss: 1.216057\n",
      "Accuracy: 0.6123893805309735\n",
      "Valdiation Epoch 5, Loss: 1.567440\n"
     ]
    },
    {
     "name": "stderr",
     "output_type": "stream",
     "text": [
      "100%|██████████| 92/92 [00:00<00:00, 203.64it/s]\n"
     ]
    },
    {
     "name": "stdout",
     "output_type": "stream",
     "text": [
      "Training Epoch 6, Loss: 1.143282\n",
      "Accuracy: 0.584070796460177\n",
      "Valdiation Epoch 6, Loss: 1.584477\n"
     ]
    },
    {
     "name": "stderr",
     "output_type": "stream",
     "text": [
      "100%|██████████| 92/92 [00:00<00:00, 204.64it/s]\n"
     ]
    },
    {
     "name": "stdout",
     "output_type": "stream",
     "text": [
      "Training Epoch 7, Loss: 1.077370\n",
      "Accuracy: 0.5858407079646017\n",
      "Valdiation Epoch 7, Loss: 1.573037\n"
     ]
    },
    {
     "name": "stderr",
     "output_type": "stream",
     "text": [
      "100%|██████████| 92/92 [00:00<00:00, 191.65it/s]\n"
     ]
    },
    {
     "name": "stdout",
     "output_type": "stream",
     "text": [
      "Training Epoch 8, Loss: 1.008951\n",
      "Accuracy: 0.5893805309734513\n",
      "Valdiation Epoch 8, Loss: 1.521459\n"
     ]
    },
    {
     "name": "stderr",
     "output_type": "stream",
     "text": [
      "100%|██████████| 92/92 [00:00<00:00, 196.36it/s]\n"
     ]
    },
    {
     "name": "stdout",
     "output_type": "stream",
     "text": [
      "Training Epoch 9, Loss: 0.947235\n",
      "Accuracy: 0.6424778761061947\n",
      "Valdiation Epoch 9, Loss: 1.441996\n"
     ]
    },
    {
     "name": "stderr",
     "output_type": "stream",
     "text": [
      "100%|██████████| 92/92 [00:00<00:00, 196.91it/s]\n",
      "[I 2023-08-16 16:41:50,099] Trial 50 finished with value: 1.4443443152639601 and parameters: {'lr': 0.00018512677742385002, 'batch_size': 64, 'd_model': 8, 'nhead': 7, 'num_layers': 2, 'hidden_dim': 3, 'layer_dim': 1}. Best is trial 37 with value: 1.282056662771437.\n"
     ]
    },
    {
     "name": "stdout",
     "output_type": "stream",
     "text": [
      "Training Epoch 10, Loss: 0.898977\n",
      "Accuracy: 0.6212389380530974\n",
      "Valdiation Epoch 10, Loss: 1.444344\n",
      "256 256\n",
      "[5555, 3420, 3267, 3256, 2847, 3155, 3266, 3048, 2449, 2527, 3583, 2925, 2516, 2869, 2482, 2803, 2374, 2235, 2372, 2028, 9011, 3378, 5160, 2620, 2453, 5274, 3320, 4020, 3279, 4310, 4411, 4145, 3730, 3700]\n",
      "['G1' 'G10' 'G11' 'G2' 'G3' 'G4' 'G5' 'G6' 'G8' 'G9']\n",
      "[0 0 0 ... 2 2 2]\n",
      "[[1. 0. 0. ... 0. 0. 0.]\n",
      " [1. 0. 0. ... 0. 0. 0.]\n",
      " [1. 0. 0. ... 0. 0. 0.]\n",
      " ...\n",
      " [0. 0. 1. ... 0. 0. 0.]\n",
      " [0. 0. 1. ... 0. 0. 0.]\n",
      " [0. 0. 1. ... 0. 0. 0.]]\n",
      "[2653, 2002, 2303, 2642, 1758]\n",
      "['G1' 'G10' 'G11' 'G2' 'G3' 'G4' 'G5' 'G6' 'G8' 'G9']\n",
      "[0 0 0 ... 2 2 2]\n",
      "[[1. 0. 0. ... 0. 0. 0.]\n",
      " [1. 0. 0. ... 0. 0. 0.]\n",
      " [1. 0. 0. ... 0. 0. 0.]\n",
      " ...\n",
      " [0. 0. 1. ... 0. 0. 0.]\n",
      " [0. 0. 1. ... 0. 0. 0.]\n",
      " [0. 0. 1. ... 0. 0. 0.]]\n"
     ]
    },
    {
     "name": "stderr",
     "output_type": "stream",
     "text": [
      "100%|██████████| 92/92 [00:00<00:00, 192.68it/s]\n"
     ]
    },
    {
     "name": "stdout",
     "output_type": "stream",
     "text": [
      "Training Epoch 1, Loss: 1.599378\n",
      "Accuracy: 0.5274336283185841\n",
      "Valdiation Epoch 1, Loss: 1.632720\n"
     ]
    },
    {
     "name": "stderr",
     "output_type": "stream",
     "text": [
      "100%|██████████| 92/92 [00:00<00:00, 201.53it/s]\n"
     ]
    },
    {
     "name": "stdout",
     "output_type": "stream",
     "text": [
      "Training Epoch 2, Loss: 1.194196\n",
      "Accuracy: 0.6371681415929203\n",
      "Valdiation Epoch 2, Loss: 1.418766\n"
     ]
    },
    {
     "name": "stderr",
     "output_type": "stream",
     "text": [
      "100%|██████████| 92/92 [00:00<00:00, 190.42it/s]\n"
     ]
    },
    {
     "name": "stdout",
     "output_type": "stream",
     "text": [
      "Training Epoch 3, Loss: 1.019315\n",
      "Accuracy: 0.6619469026548672\n",
      "Valdiation Epoch 3, Loss: 1.359236\n"
     ]
    },
    {
     "name": "stderr",
     "output_type": "stream",
     "text": [
      "100%|██████████| 92/92 [00:00<00:00, 185.44it/s]\n"
     ]
    },
    {
     "name": "stdout",
     "output_type": "stream",
     "text": [
      "Training Epoch 4, Loss: 0.910950\n",
      "Accuracy: 0.6654867256637168\n",
      "Valdiation Epoch 4, Loss: 1.298706\n"
     ]
    },
    {
     "name": "stderr",
     "output_type": "stream",
     "text": [
      "100%|██████████| 92/92 [00:00<00:00, 196.12it/s]\n"
     ]
    },
    {
     "name": "stdout",
     "output_type": "stream",
     "text": [
      "Training Epoch 5, Loss: 0.828796\n",
      "Accuracy: 0.6654867256637168\n",
      "Valdiation Epoch 5, Loss: 1.293927\n"
     ]
    },
    {
     "name": "stderr",
     "output_type": "stream",
     "text": [
      "100%|██████████| 92/92 [00:00<00:00, 192.81it/s]\n"
     ]
    },
    {
     "name": "stdout",
     "output_type": "stream",
     "text": [
      "Training Epoch 6, Loss: 0.763736\n",
      "Accuracy: 0.6761061946902654\n",
      "Valdiation Epoch 6, Loss: 1.279346\n"
     ]
    },
    {
     "name": "stderr",
     "output_type": "stream",
     "text": [
      "100%|██████████| 92/92 [00:00<00:00, 199.75it/s]\n"
     ]
    },
    {
     "name": "stdout",
     "output_type": "stream",
     "text": [
      "Training Epoch 7, Loss: 0.710785\n",
      "Accuracy: 0.6902654867256637\n",
      "Valdiation Epoch 7, Loss: 1.225306\n"
     ]
    },
    {
     "name": "stderr",
     "output_type": "stream",
     "text": [
      "100%|██████████| 92/92 [00:00<00:00, 199.50it/s]\n"
     ]
    },
    {
     "name": "stdout",
     "output_type": "stream",
     "text": [
      "Training Epoch 8, Loss: 0.657873\n",
      "Accuracy: 0.6849557522123894\n",
      "Valdiation Epoch 8, Loss: 1.225045\n"
     ]
    },
    {
     "name": "stderr",
     "output_type": "stream",
     "text": [
      "100%|██████████| 92/92 [00:00<00:00, 196.10it/s]\n"
     ]
    },
    {
     "name": "stdout",
     "output_type": "stream",
     "text": [
      "Training Epoch 9, Loss: 0.613041\n",
      "Accuracy: 0.6672566371681415\n",
      "Valdiation Epoch 9, Loss: 1.228451\n"
     ]
    },
    {
     "name": "stderr",
     "output_type": "stream",
     "text": [
      "100%|██████████| 92/92 [00:00<00:00, 211.02it/s]\n",
      "[I 2023-08-16 16:41:56,063] Trial 51 finished with value: 1.25646264023251 and parameters: {'lr': 7.719843368375554e-05, 'batch_size': 64, 'd_model': 8, 'nhead': 8, 'num_layers': 2, 'hidden_dim': 5, 'layer_dim': 1}. Best is trial 51 with value: 1.25646264023251.\n"
     ]
    },
    {
     "name": "stdout",
     "output_type": "stream",
     "text": [
      "Training Epoch 10, Loss: 0.567756\n",
      "Accuracy: 0.6424778761061947\n",
      "Valdiation Epoch 10, Loss: 1.256463\n",
      "256 256\n",
      "[5555, 3420, 3267, 3256, 2847, 3155, 3266, 3048, 2449, 2527, 3583, 2925, 2516, 2869, 2482, 2803, 2374, 2235, 2372, 2028, 9011, 3378, 5160, 2620, 2453, 5274, 3320, 4020, 3279, 4310, 4411, 4145, 3730, 3700]\n",
      "['G1' 'G10' 'G11' 'G2' 'G3' 'G4' 'G5' 'G6' 'G8' 'G9']\n",
      "[0 0 0 ... 2 2 2]\n",
      "[[1. 0. 0. ... 0. 0. 0.]\n",
      " [1. 0. 0. ... 0. 0. 0.]\n",
      " [1. 0. 0. ... 0. 0. 0.]\n",
      " ...\n",
      " [0. 0. 1. ... 0. 0. 0.]\n",
      " [0. 0. 1. ... 0. 0. 0.]\n",
      " [0. 0. 1. ... 0. 0. 0.]]\n",
      "[2653, 2002, 2303, 2642, 1758]\n",
      "['G1' 'G10' 'G11' 'G2' 'G3' 'G4' 'G5' 'G6' 'G8' 'G9']\n",
      "[0 0 0 ... 2 2 2]\n",
      "[[1. 0. 0. ... 0. 0. 0.]\n",
      " [1. 0. 0. ... 0. 0. 0.]\n",
      " [1. 0. 0. ... 0. 0. 0.]\n",
      " ...\n",
      " [0. 0. 1. ... 0. 0. 0.]\n",
      " [0. 0. 1. ... 0. 0. 0.]\n",
      " [0. 0. 1. ... 0. 0. 0.]]\n"
     ]
    },
    {
     "name": "stderr",
     "output_type": "stream",
     "text": [
      "100%|██████████| 92/92 [00:00<00:00, 208.35it/s]\n"
     ]
    },
    {
     "name": "stdout",
     "output_type": "stream",
     "text": [
      "Training Epoch 1, Loss: 1.657396\n",
      "Accuracy: 0.5274336283185841\n",
      "Valdiation Epoch 1, Loss: 1.584896\n"
     ]
    },
    {
     "name": "stderr",
     "output_type": "stream",
     "text": [
      "100%|██████████| 92/92 [00:00<00:00, 210.45it/s]\n"
     ]
    },
    {
     "name": "stdout",
     "output_type": "stream",
     "text": [
      "Training Epoch 2, Loss: 1.302467\n",
      "Accuracy: 0.5734513274336284\n",
      "Valdiation Epoch 2, Loss: 1.472473\n"
     ]
    },
    {
     "name": "stderr",
     "output_type": "stream",
     "text": [
      "100%|██████████| 92/92 [00:00<00:00, 200.96it/s]\n"
     ]
    },
    {
     "name": "stdout",
     "output_type": "stream",
     "text": [
      "Training Epoch 3, Loss: 1.161524\n",
      "Accuracy: 0.6584070796460177\n",
      "Valdiation Epoch 3, Loss: 1.429858\n"
     ]
    },
    {
     "name": "stderr",
     "output_type": "stream",
     "text": [
      "100%|██████████| 92/92 [00:00<00:00, 193.75it/s]\n"
     ]
    },
    {
     "name": "stdout",
     "output_type": "stream",
     "text": [
      "Training Epoch 4, Loss: 1.072717\n",
      "Accuracy: 0.6566371681415929\n",
      "Valdiation Epoch 4, Loss: 1.405625\n"
     ]
    },
    {
     "name": "stderr",
     "output_type": "stream",
     "text": [
      "100%|██████████| 92/92 [00:00<00:00, 200.39it/s]\n"
     ]
    },
    {
     "name": "stdout",
     "output_type": "stream",
     "text": [
      "Training Epoch 5, Loss: 0.975450\n",
      "Accuracy: 0.679646017699115\n",
      "Valdiation Epoch 5, Loss: 1.355903\n"
     ]
    },
    {
     "name": "stderr",
     "output_type": "stream",
     "text": [
      "100%|██████████| 92/92 [00:00<00:00, 186.84it/s]\n"
     ]
    },
    {
     "name": "stdout",
     "output_type": "stream",
     "text": [
      "Training Epoch 6, Loss: 0.904117\n",
      "Accuracy: 0.6778761061946903\n",
      "Valdiation Epoch 6, Loss: 1.304701\n"
     ]
    },
    {
     "name": "stderr",
     "output_type": "stream",
     "text": [
      "100%|██████████| 92/92 [00:00<00:00, 194.45it/s]\n"
     ]
    },
    {
     "name": "stdout",
     "output_type": "stream",
     "text": [
      "Training Epoch 7, Loss: 0.843044\n",
      "Accuracy: 0.6849557522123894\n",
      "Valdiation Epoch 7, Loss: 1.287802\n"
     ]
    },
    {
     "name": "stderr",
     "output_type": "stream",
     "text": [
      "100%|██████████| 92/92 [00:00<00:00, 206.79it/s]\n"
     ]
    },
    {
     "name": "stdout",
     "output_type": "stream",
     "text": [
      "Training Epoch 8, Loss: 0.788173\n",
      "Accuracy: 0.6902654867256637\n",
      "Valdiation Epoch 8, Loss: 1.292928\n"
     ]
    },
    {
     "name": "stderr",
     "output_type": "stream",
     "text": [
      "100%|██████████| 92/92 [00:00<00:00, 200.23it/s]\n"
     ]
    },
    {
     "name": "stdout",
     "output_type": "stream",
     "text": [
      "Training Epoch 9, Loss: 0.735027\n",
      "Accuracy: 0.6920353982300885\n",
      "Valdiation Epoch 9, Loss: 1.292940\n"
     ]
    },
    {
     "name": "stderr",
     "output_type": "stream",
     "text": [
      "100%|██████████| 92/92 [00:00<00:00, 203.53it/s]\n",
      "[I 2023-08-16 16:42:01,894] Trial 52 finished with value: 1.2867511643303766 and parameters: {'lr': 0.00010882392895330462, 'batch_size': 64, 'd_model': 8, 'nhead': 8, 'num_layers': 2, 'hidden_dim': 4, 'layer_dim': 1}. Best is trial 51 with value: 1.25646264023251.\n"
     ]
    },
    {
     "name": "stdout",
     "output_type": "stream",
     "text": [
      "Training Epoch 10, Loss: 0.687763\n",
      "Accuracy: 0.6814159292035398\n",
      "Valdiation Epoch 10, Loss: 1.286751\n",
      "256 256\n",
      "[5555, 3420, 3267, 3256, 2847, 3155, 3266, 3048, 2449, 2527, 3583, 2925, 2516, 2869, 2482, 2803, 2374, 2235, 2372, 2028, 9011, 3378, 5160, 2620, 2453, 5274, 3320, 4020, 3279, 4310, 4411, 4145, 3730, 3700]\n",
      "['G1' 'G10' 'G11' 'G2' 'G3' 'G4' 'G5' 'G6' 'G8' 'G9']\n",
      "[0 0 0 ... 2 2 2]\n",
      "[[1. 0. 0. ... 0. 0. 0.]\n",
      " [1. 0. 0. ... 0. 0. 0.]\n",
      " [1. 0. 0. ... 0. 0. 0.]\n",
      " ...\n",
      " [0. 0. 1. ... 0. 0. 0.]\n",
      " [0. 0. 1. ... 0. 0. 0.]\n",
      " [0. 0. 1. ... 0. 0. 0.]]\n",
      "[2653, 2002, 2303, 2642, 1758]\n",
      "['G1' 'G10' 'G11' 'G2' 'G3' 'G4' 'G5' 'G6' 'G8' 'G9']\n",
      "[0 0 0 ... 2 2 2]\n",
      "[[1. 0. 0. ... 0. 0. 0.]\n",
      " [1. 0. 0. ... 0. 0. 0.]\n",
      " [1. 0. 0. ... 0. 0. 0.]\n",
      " ...\n",
      " [0. 0. 1. ... 0. 0. 0.]\n",
      " [0. 0. 1. ... 0. 0. 0.]\n",
      " [0. 0. 1. ... 0. 0. 0.]]\n"
     ]
    },
    {
     "name": "stderr",
     "output_type": "stream",
     "text": [
      "100%|██████████| 92/92 [00:00<00:00, 216.29it/s]\n"
     ]
    },
    {
     "name": "stdout",
     "output_type": "stream",
     "text": [
      "Training Epoch 1, Loss: 1.664918\n",
      "Accuracy: 0.5292035398230088\n",
      "Valdiation Epoch 1, Loss: 1.637330\n"
     ]
    },
    {
     "name": "stderr",
     "output_type": "stream",
     "text": [
      "100%|██████████| 92/92 [00:00<00:00, 196.29it/s]\n"
     ]
    },
    {
     "name": "stdout",
     "output_type": "stream",
     "text": [
      "Training Epoch 2, Loss: 1.274510\n",
      "Accuracy: 0.6159292035398231\n",
      "Valdiation Epoch 2, Loss: 1.550818\n"
     ]
    },
    {
     "name": "stderr",
     "output_type": "stream",
     "text": [
      "100%|██████████| 92/92 [00:00<00:00, 211.03it/s]\n"
     ]
    },
    {
     "name": "stdout",
     "output_type": "stream",
     "text": [
      "Training Epoch 3, Loss: 1.134195\n",
      "Accuracy: 0.6513274336283186\n",
      "Valdiation Epoch 3, Loss: 1.438465\n"
     ]
    },
    {
     "name": "stderr",
     "output_type": "stream",
     "text": [
      "100%|██████████| 92/92 [00:00<00:00, 194.34it/s]\n"
     ]
    },
    {
     "name": "stdout",
     "output_type": "stream",
     "text": [
      "Training Epoch 4, Loss: 1.038826\n",
      "Accuracy: 0.6654867256637168\n",
      "Valdiation Epoch 4, Loss: 1.414121\n"
     ]
    },
    {
     "name": "stderr",
     "output_type": "stream",
     "text": [
      "100%|██████████| 92/92 [00:00<00:00, 193.94it/s]\n"
     ]
    },
    {
     "name": "stdout",
     "output_type": "stream",
     "text": [
      "Training Epoch 5, Loss: 0.958049\n",
      "Accuracy: 0.6761061946902654\n",
      "Valdiation Epoch 5, Loss: 1.354780\n"
     ]
    },
    {
     "name": "stderr",
     "output_type": "stream",
     "text": [
      "100%|██████████| 92/92 [00:00<00:00, 196.38it/s]\n"
     ]
    },
    {
     "name": "stdout",
     "output_type": "stream",
     "text": [
      "Training Epoch 6, Loss: 0.898685\n",
      "Accuracy: 0.6247787610619469\n",
      "Valdiation Epoch 6, Loss: 1.362093\n"
     ]
    },
    {
     "name": "stderr",
     "output_type": "stream",
     "text": [
      "100%|██████████| 92/92 [00:00<00:00, 194.99it/s]\n"
     ]
    },
    {
     "name": "stdout",
     "output_type": "stream",
     "text": [
      "Training Epoch 7, Loss: 0.845166\n",
      "Accuracy: 0.6601769911504425\n",
      "Valdiation Epoch 7, Loss: 1.304527\n"
     ]
    },
    {
     "name": "stderr",
     "output_type": "stream",
     "text": [
      "100%|██████████| 92/92 [00:00<00:00, 207.91it/s]\n"
     ]
    },
    {
     "name": "stdout",
     "output_type": "stream",
     "text": [
      "Training Epoch 8, Loss: 0.793896\n",
      "Accuracy: 0.6619469026548672\n",
      "Valdiation Epoch 8, Loss: 1.298060\n"
     ]
    },
    {
     "name": "stderr",
     "output_type": "stream",
     "text": [
      "100%|██████████| 92/92 [00:00<00:00, 194.60it/s]\n"
     ]
    },
    {
     "name": "stdout",
     "output_type": "stream",
     "text": [
      "Training Epoch 9, Loss: 0.753437\n",
      "Accuracy: 0.6\n",
      "Valdiation Epoch 9, Loss: 1.369502\n"
     ]
    },
    {
     "name": "stderr",
     "output_type": "stream",
     "text": [
      "100%|██████████| 92/92 [00:00<00:00, 192.82it/s]\n",
      "[I 2023-08-16 16:42:07,762] Trial 53 finished with value: 1.3052145904964871 and parameters: {'lr': 9.718009043473647e-05, 'batch_size': 64, 'd_model': 8, 'nhead': 8, 'num_layers': 2, 'hidden_dim': 4, 'layer_dim': 1}. Best is trial 51 with value: 1.25646264023251.\n"
     ]
    },
    {
     "name": "stdout",
     "output_type": "stream",
     "text": [
      "Training Epoch 10, Loss: 0.704803\n",
      "Accuracy: 0.631858407079646\n",
      "Valdiation Epoch 10, Loss: 1.305215\n",
      "256 256\n",
      "[5555, 3420, 3267, 3256, 2847, 3155, 3266, 3048, 2449, 2527, 3583, 2925, 2516, 2869, 2482, 2803, 2374, 2235, 2372, 2028, 9011, 3378, 5160, 2620, 2453, 5274, 3320, 4020, 3279, 4310, 4411, 4145, 3730, 3700]\n",
      "['G1' 'G10' 'G11' 'G2' 'G3' 'G4' 'G5' 'G6' 'G8' 'G9']\n",
      "[0 0 0 ... 2 2 2]\n",
      "[[1. 0. 0. ... 0. 0. 0.]\n",
      " [1. 0. 0. ... 0. 0. 0.]\n",
      " [1. 0. 0. ... 0. 0. 0.]\n",
      " ...\n",
      " [0. 0. 1. ... 0. 0. 0.]\n",
      " [0. 0. 1. ... 0. 0. 0.]\n",
      " [0. 0. 1. ... 0. 0. 0.]]\n",
      "[2653, 2002, 2303, 2642, 1758]\n",
      "['G1' 'G10' 'G11' 'G2' 'G3' 'G4' 'G5' 'G6' 'G8' 'G9']\n",
      "[0 0 0 ... 2 2 2]\n",
      "[[1. 0. 0. ... 0. 0. 0.]\n",
      " [1. 0. 0. ... 0. 0. 0.]\n",
      " [1. 0. 0. ... 0. 0. 0.]\n",
      " ...\n",
      " [0. 0. 1. ... 0. 0. 0.]\n",
      " [0. 0. 1. ... 0. 0. 0.]\n",
      " [0. 0. 1. ... 0. 0. 0.]]\n"
     ]
    },
    {
     "name": "stderr",
     "output_type": "stream",
     "text": [
      "100%|██████████| 92/92 [00:00<00:00, 209.67it/s]\n"
     ]
    },
    {
     "name": "stdout",
     "output_type": "stream",
     "text": [
      "Training Epoch 1, Loss: 1.693942\n",
      "Accuracy: 0.5203539823008849\n",
      "Valdiation Epoch 1, Loss: 1.725556\n"
     ]
    },
    {
     "name": "stderr",
     "output_type": "stream",
     "text": [
      "100%|██████████| 92/92 [00:00<00:00, 192.12it/s]\n"
     ]
    },
    {
     "name": "stdout",
     "output_type": "stream",
     "text": [
      "Training Epoch 2, Loss: 1.324799\n",
      "Accuracy: 0.5663716814159292\n",
      "Valdiation Epoch 2, Loss: 1.562627\n"
     ]
    },
    {
     "name": "stderr",
     "output_type": "stream",
     "text": [
      "100%|██████████| 92/92 [00:00<00:00, 203.28it/s]\n"
     ]
    },
    {
     "name": "stdout",
     "output_type": "stream",
     "text": [
      "Training Epoch 3, Loss: 1.195641\n",
      "Accuracy: 0.6212389380530974\n",
      "Valdiation Epoch 3, Loss: 1.473636\n"
     ]
    },
    {
     "name": "stderr",
     "output_type": "stream",
     "text": [
      "100%|██████████| 92/92 [00:00<00:00, 197.44it/s]\n"
     ]
    },
    {
     "name": "stdout",
     "output_type": "stream",
     "text": [
      "Training Epoch 4, Loss: 1.085630\n",
      "Accuracy: 0.6513274336283186\n",
      "Valdiation Epoch 4, Loss: 1.401010\n"
     ]
    },
    {
     "name": "stderr",
     "output_type": "stream",
     "text": [
      "100%|██████████| 92/92 [00:00<00:00, 197.87it/s]\n"
     ]
    },
    {
     "name": "stdout",
     "output_type": "stream",
     "text": [
      "Training Epoch 5, Loss: 1.012510\n",
      "Accuracy: 0.6265486725663717\n",
      "Valdiation Epoch 5, Loss: 1.377369\n"
     ]
    },
    {
     "name": "stderr",
     "output_type": "stream",
     "text": [
      "100%|██████████| 92/92 [00:00<00:00, 208.98it/s]\n"
     ]
    },
    {
     "name": "stdout",
     "output_type": "stream",
     "text": [
      "Training Epoch 6, Loss: 0.951060\n",
      "Accuracy: 0.679646017699115\n",
      "Valdiation Epoch 6, Loss: 1.268972\n"
     ]
    },
    {
     "name": "stderr",
     "output_type": "stream",
     "text": [
      "100%|██████████| 92/92 [00:00<00:00, 201.55it/s]\n"
     ]
    },
    {
     "name": "stdout",
     "output_type": "stream",
     "text": [
      "Training Epoch 7, Loss: 0.893984\n",
      "Accuracy: 0.6584070796460177\n",
      "Valdiation Epoch 7, Loss: 1.261177\n"
     ]
    },
    {
     "name": "stderr",
     "output_type": "stream",
     "text": [
      "100%|██████████| 92/92 [00:00<00:00, 241.61it/s]\n"
     ]
    },
    {
     "name": "stdout",
     "output_type": "stream",
     "text": [
      "Training Epoch 8, Loss: 0.845922\n",
      "Accuracy: 0.6513274336283186\n",
      "Valdiation Epoch 8, Loss: 1.243126\n"
     ]
    },
    {
     "name": "stderr",
     "output_type": "stream",
     "text": [
      "100%|██████████| 92/92 [00:00<00:00, 215.70it/s]\n"
     ]
    },
    {
     "name": "stdout",
     "output_type": "stream",
     "text": [
      "Training Epoch 9, Loss: 0.797332\n",
      "Accuracy: 0.679646017699115\n",
      "Valdiation Epoch 9, Loss: 1.222237\n"
     ]
    },
    {
     "name": "stderr",
     "output_type": "stream",
     "text": [
      "100%|██████████| 92/92 [00:00<00:00, 193.78it/s]\n",
      "[I 2023-08-16 16:42:13,487] Trial 54 finished with value: 1.242251820034451 and parameters: {'lr': 8.906324028628413e-05, 'batch_size': 64, 'd_model': 8, 'nhead': 8, 'num_layers': 2, 'hidden_dim': 4, 'layer_dim': 1}. Best is trial 54 with value: 1.242251820034451.\n"
     ]
    },
    {
     "name": "stdout",
     "output_type": "stream",
     "text": [
      "Training Epoch 10, Loss: 0.756784\n",
      "Accuracy: 0.679646017699115\n",
      "Valdiation Epoch 10, Loss: 1.242252\n",
      "256 256\n",
      "[5555, 3420, 3267, 3256, 2847, 3155, 3266, 3048, 2449, 2527, 3583, 2925, 2516, 2869, 2482, 2803, 2374, 2235, 2372, 2028, 9011, 3378, 5160, 2620, 2453, 5274, 3320, 4020, 3279, 4310, 4411, 4145, 3730, 3700]\n",
      "['G1' 'G10' 'G11' 'G2' 'G3' 'G4' 'G5' 'G6' 'G8' 'G9']\n",
      "[0 0 0 ... 2 2 2]\n",
      "[[1. 0. 0. ... 0. 0. 0.]\n",
      " [1. 0. 0. ... 0. 0. 0.]\n",
      " [1. 0. 0. ... 0. 0. 0.]\n",
      " ...\n",
      " [0. 0. 1. ... 0. 0. 0.]\n",
      " [0. 0. 1. ... 0. 0. 0.]\n",
      " [0. 0. 1. ... 0. 0. 0.]]\n",
      "[2653, 2002, 2303, 2642, 1758]\n",
      "['G1' 'G10' 'G11' 'G2' 'G3' 'G4' 'G5' 'G6' 'G8' 'G9']\n",
      "[0 0 0 ... 2 2 2]\n",
      "[[1. 0. 0. ... 0. 0. 0.]\n",
      " [1. 0. 0. ... 0. 0. 0.]\n",
      " [1. 0. 0. ... 0. 0. 0.]\n",
      " ...\n",
      " [0. 0. 1. ... 0. 0. 0.]\n",
      " [0. 0. 1. ... 0. 0. 0.]\n",
      " [0. 0. 1. ... 0. 0. 0.]]\n"
     ]
    },
    {
     "name": "stderr",
     "output_type": "stream",
     "text": [
      "100%|██████████| 92/92 [00:00<00:00, 197.56it/s]\n"
     ]
    },
    {
     "name": "stdout",
     "output_type": "stream",
     "text": [
      "Training Epoch 1, Loss: 1.652384\n",
      "Accuracy: 0.5451327433628319\n",
      "Valdiation Epoch 1, Loss: 1.754216\n"
     ]
    },
    {
     "name": "stderr",
     "output_type": "stream",
     "text": [
      "100%|██████████| 92/92 [00:00<00:00, 191.71it/s]\n"
     ]
    },
    {
     "name": "stdout",
     "output_type": "stream",
     "text": [
      "Training Epoch 2, Loss: 1.289702\n",
      "Accuracy: 0.6212389380530974\n",
      "Valdiation Epoch 2, Loss: 1.592712\n"
     ]
    },
    {
     "name": "stderr",
     "output_type": "stream",
     "text": [
      "100%|██████████| 92/92 [00:00<00:00, 203.40it/s]\n"
     ]
    },
    {
     "name": "stdout",
     "output_type": "stream",
     "text": [
      "Training Epoch 3, Loss: 1.163988\n",
      "Accuracy: 0.6424778761061947\n",
      "Valdiation Epoch 3, Loss: 1.495995\n"
     ]
    },
    {
     "name": "stderr",
     "output_type": "stream",
     "text": [
      "100%|██████████| 92/92 [00:00<00:00, 200.39it/s]\n"
     ]
    },
    {
     "name": "stdout",
     "output_type": "stream",
     "text": [
      "Training Epoch 4, Loss: 1.073152\n",
      "Accuracy: 0.6283185840707964\n",
      "Valdiation Epoch 4, Loss: 1.491199\n"
     ]
    },
    {
     "name": "stderr",
     "output_type": "stream",
     "text": [
      "100%|██████████| 92/92 [00:00<00:00, 238.35it/s]\n"
     ]
    },
    {
     "name": "stdout",
     "output_type": "stream",
     "text": [
      "Training Epoch 5, Loss: 1.009146\n",
      "Accuracy: 0.6566371681415929\n",
      "Valdiation Epoch 5, Loss: 1.438648\n"
     ]
    },
    {
     "name": "stderr",
     "output_type": "stream",
     "text": [
      "100%|██████████| 92/92 [00:00<00:00, 199.30it/s]\n"
     ]
    },
    {
     "name": "stdout",
     "output_type": "stream",
     "text": [
      "Training Epoch 6, Loss: 0.946469\n",
      "Accuracy: 0.6743362831858407\n",
      "Valdiation Epoch 6, Loss: 1.389346\n"
     ]
    },
    {
     "name": "stderr",
     "output_type": "stream",
     "text": [
      "100%|██████████| 92/92 [00:00<00:00, 207.42it/s]\n"
     ]
    },
    {
     "name": "stdout",
     "output_type": "stream",
     "text": [
      "Training Epoch 7, Loss: 0.895171\n",
      "Accuracy: 0.6601769911504425\n",
      "Valdiation Epoch 7, Loss: 1.441286\n"
     ]
    },
    {
     "name": "stderr",
     "output_type": "stream",
     "text": [
      "100%|██████████| 92/92 [00:00<00:00, 211.14it/s]\n"
     ]
    },
    {
     "name": "stdout",
     "output_type": "stream",
     "text": [
      "Training Epoch 8, Loss: 0.846755\n",
      "Accuracy: 0.672566371681416\n",
      "Valdiation Epoch 8, Loss: 1.428554\n"
     ]
    },
    {
     "name": "stderr",
     "output_type": "stream",
     "text": [
      "100%|██████████| 92/92 [00:00<00:00, 212.44it/s]\n"
     ]
    },
    {
     "name": "stdout",
     "output_type": "stream",
     "text": [
      "Training Epoch 9, Loss: 0.799752\n",
      "Accuracy: 0.6584070796460177\n",
      "Valdiation Epoch 9, Loss: 1.401617\n"
     ]
    },
    {
     "name": "stderr",
     "output_type": "stream",
     "text": [
      "100%|██████████| 92/92 [00:00<00:00, 185.60it/s]\n",
      "[I 2023-08-16 16:42:19,251] Trial 55 finished with value: 1.4373108281029596 and parameters: {'lr': 8.957641175354383e-05, 'batch_size': 64, 'd_model': 8, 'nhead': 8, 'num_layers': 2, 'hidden_dim': 4, 'layer_dim': 1}. Best is trial 54 with value: 1.242251820034451.\n"
     ]
    },
    {
     "name": "stdout",
     "output_type": "stream",
     "text": [
      "Training Epoch 10, Loss: 0.764533\n",
      "Accuracy: 0.6106194690265486\n",
      "Valdiation Epoch 10, Loss: 1.437311\n",
      "256 256\n",
      "[5555, 3420, 3267, 3256, 2847, 3155, 3266, 3048, 2449, 2527, 3583, 2925, 2516, 2869, 2482, 2803, 2374, 2235, 2372, 2028, 9011, 3378, 5160, 2620, 2453, 5274, 3320, 4020, 3279, 4310, 4411, 4145, 3730, 3700]\n",
      "['G1' 'G10' 'G11' 'G2' 'G3' 'G4' 'G5' 'G6' 'G8' 'G9']\n",
      "[0 0 0 ... 2 2 2]\n",
      "[[1. 0. 0. ... 0. 0. 0.]\n",
      " [1. 0. 0. ... 0. 0. 0.]\n",
      " [1. 0. 0. ... 0. 0. 0.]\n",
      " ...\n",
      " [0. 0. 1. ... 0. 0. 0.]\n",
      " [0. 0. 1. ... 0. 0. 0.]\n",
      " [0. 0. 1. ... 0. 0. 0.]]\n",
      "[2653, 2002, 2303, 2642, 1758]\n",
      "['G1' 'G10' 'G11' 'G2' 'G3' 'G4' 'G5' 'G6' 'G8' 'G9']\n",
      "[0 0 0 ... 2 2 2]\n",
      "[[1. 0. 0. ... 0. 0. 0.]\n",
      " [1. 0. 0. ... 0. 0. 0.]\n",
      " [1. 0. 0. ... 0. 0. 0.]\n",
      " ...\n",
      " [0. 0. 1. ... 0. 0. 0.]\n",
      " [0. 0. 1. ... 0. 0. 0.]\n",
      " [0. 0. 1. ... 0. 0. 0.]]\n"
     ]
    },
    {
     "name": "stderr",
     "output_type": "stream",
     "text": [
      "100%|██████████| 184/184 [00:00<00:00, 323.22it/s]\n"
     ]
    },
    {
     "name": "stdout",
     "output_type": "stream",
     "text": [
      "Training Epoch 1, Loss: 1.658197\n",
      "Accuracy: 0.5061946902654867\n",
      "Valdiation Epoch 1, Loss: 1.806730\n"
     ]
    },
    {
     "name": "stderr",
     "output_type": "stream",
     "text": [
      "100%|██████████| 184/184 [00:00<00:00, 344.02it/s]\n"
     ]
    },
    {
     "name": "stdout",
     "output_type": "stream",
     "text": [
      "Training Epoch 2, Loss: 1.350333\n",
      "Accuracy: 0.5557522123893806\n",
      "Valdiation Epoch 2, Loss: 1.653644\n"
     ]
    },
    {
     "name": "stderr",
     "output_type": "stream",
     "text": [
      "100%|██████████| 184/184 [00:00<00:00, 362.62it/s]\n"
     ]
    },
    {
     "name": "stdout",
     "output_type": "stream",
     "text": [
      "Training Epoch 3, Loss: 1.199502\n",
      "Accuracy: 0.5663716814159292\n",
      "Valdiation Epoch 3, Loss: 1.577228\n"
     ]
    },
    {
     "name": "stderr",
     "output_type": "stream",
     "text": [
      "100%|██████████| 184/184 [00:00<00:00, 347.38it/s]\n"
     ]
    },
    {
     "name": "stdout",
     "output_type": "stream",
     "text": [
      "Training Epoch 4, Loss: 1.097693\n",
      "Accuracy: 0.6017699115044248\n",
      "Valdiation Epoch 4, Loss: 1.489883\n"
     ]
    },
    {
     "name": "stderr",
     "output_type": "stream",
     "text": [
      "100%|██████████| 184/184 [00:00<00:00, 322.58it/s]\n"
     ]
    },
    {
     "name": "stdout",
     "output_type": "stream",
     "text": [
      "Training Epoch 5, Loss: 1.013439\n",
      "Accuracy: 0.5911504424778761\n",
      "Valdiation Epoch 5, Loss: 1.474761\n"
     ]
    },
    {
     "name": "stderr",
     "output_type": "stream",
     "text": [
      "100%|██████████| 184/184 [00:00<00:00, 275.92it/s]\n"
     ]
    },
    {
     "name": "stdout",
     "output_type": "stream",
     "text": [
      "Training Epoch 6, Loss: 0.939158\n",
      "Accuracy: 0.6353982300884956\n",
      "Valdiation Epoch 6, Loss: 1.388273\n"
     ]
    },
    {
     "name": "stderr",
     "output_type": "stream",
     "text": [
      "100%|██████████| 184/184 [00:00<00:00, 333.02it/s]\n"
     ]
    },
    {
     "name": "stdout",
     "output_type": "stream",
     "text": [
      "Training Epoch 7, Loss: 0.876509\n",
      "Accuracy: 0.6176991150442478\n",
      "Valdiation Epoch 7, Loss: 1.424293\n"
     ]
    },
    {
     "name": "stderr",
     "output_type": "stream",
     "text": [
      "100%|██████████| 184/184 [00:00<00:00, 338.13it/s]\n"
     ]
    },
    {
     "name": "stdout",
     "output_type": "stream",
     "text": [
      "Training Epoch 8, Loss: 0.830379\n",
      "Accuracy: 0.6230088495575221\n",
      "Valdiation Epoch 8, Loss: 1.389117\n"
     ]
    },
    {
     "name": "stderr",
     "output_type": "stream",
     "text": [
      "100%|██████████| 184/184 [00:00<00:00, 341.49it/s]\n"
     ]
    },
    {
     "name": "stdout",
     "output_type": "stream",
     "text": [
      "Training Epoch 9, Loss: 0.779335\n",
      "Accuracy: 0.6123893805309735\n",
      "Valdiation Epoch 9, Loss: 1.376012\n"
     ]
    },
    {
     "name": "stderr",
     "output_type": "stream",
     "text": [
      "100%|██████████| 184/184 [00:00<00:00, 337.15it/s]\n",
      "[I 2023-08-16 16:42:26,079] Trial 56 finished with value: 1.3911991616090138 and parameters: {'lr': 5.883949323742396e-05, 'batch_size': 32, 'd_model': 8, 'nhead': 8, 'num_layers': 2, 'hidden_dim': 4, 'layer_dim': 1}. Best is trial 54 with value: 1.242251820034451.\n",
      "[I 2023-08-16 16:42:26,091] Trial 57 finished with value: 1000.0 and parameters: {'lr': 9.501046134630025e-05, 'batch_size': 64, 'd_model': 6, 'nhead': 7, 'num_layers': 2, 'hidden_dim': 3, 'layer_dim': 1}. Best is trial 54 with value: 1.242251820034451.\n"
     ]
    },
    {
     "name": "stdout",
     "output_type": "stream",
     "text": [
      "Training Epoch 10, Loss: 0.740380\n",
      "Accuracy: 0.6247787610619469\n",
      "Valdiation Epoch 10, Loss: 1.391199\n",
      "64 128\n",
      "128 128\n",
      "[5555, 3420, 3267, 3256, 2847, 3155, 3266, 3048, 2449, 2527, 3583, 2925, 2516, 2869, 2482, 2803, 2374, 2235, 2372, 2028, 9011, 3378, 5160, 2620, 2453, 5274, 3320, 4020, 3279, 4310, 4411, 4145, 3730, 3700]\n",
      "['G1' 'G10' 'G11' 'G2' 'G3' 'G4' 'G5' 'G6' 'G8' 'G9']\n",
      "[0 0 0 ... 2 2 2]\n",
      "[[1. 0. 0. ... 0. 0. 0.]\n",
      " [1. 0. 0. ... 0. 0. 0.]\n",
      " [1. 0. 0. ... 0. 0. 0.]\n",
      " ...\n",
      " [0. 0. 1. ... 0. 0. 0.]\n",
      " [0. 0. 1. ... 0. 0. 0.]\n",
      " [0. 0. 1. ... 0. 0. 0.]]\n",
      "[2653, 2002, 2303, 2642, 1758]\n",
      "['G1' 'G10' 'G11' 'G2' 'G3' 'G4' 'G5' 'G6' 'G8' 'G9']\n",
      "[0 0 0 ... 2 2 2]\n",
      "[[1. 0. 0. ... 0. 0. 0.]\n",
      " [1. 0. 0. ... 0. 0. 0.]\n",
      " [1. 0. 0. ... 0. 0. 0.]\n",
      " ...\n",
      " [0. 0. 1. ... 0. 0. 0.]\n",
      " [0. 0. 1. ... 0. 0. 0.]\n",
      " [0. 0. 1. ... 0. 0. 0.]]\n"
     ]
    },
    {
     "name": "stderr",
     "output_type": "stream",
     "text": [
      "100%|██████████| 92/92 [00:00<00:00, 195.16it/s]\n"
     ]
    },
    {
     "name": "stdout",
     "output_type": "stream",
     "text": [
      "Training Epoch 1, Loss: 1.827502\n",
      "Accuracy: 0.49911504424778763\n",
      "Valdiation Epoch 1, Loss: 1.765414\n"
     ]
    },
    {
     "name": "stderr",
     "output_type": "stream",
     "text": [
      "100%|██████████| 92/92 [00:00<00:00, 230.71it/s]\n"
     ]
    },
    {
     "name": "stdout",
     "output_type": "stream",
     "text": [
      "Training Epoch 2, Loss: 1.450123\n",
      "Accuracy: 0.5274336283185841\n",
      "Valdiation Epoch 2, Loss: 1.627316\n"
     ]
    },
    {
     "name": "stderr",
     "output_type": "stream",
     "text": [
      "100%|██████████| 92/92 [00:00<00:00, 230.15it/s]\n"
     ]
    },
    {
     "name": "stdout",
     "output_type": "stream",
     "text": [
      "Training Epoch 3, Loss: 1.299942\n",
      "Accuracy: 0.552212389380531\n",
      "Valdiation Epoch 3, Loss: 1.536640\n"
     ]
    },
    {
     "name": "stderr",
     "output_type": "stream",
     "text": [
      "100%|██████████| 92/92 [00:00<00:00, 211.08it/s]\n"
     ]
    },
    {
     "name": "stdout",
     "output_type": "stream",
     "text": [
      "Training Epoch 4, Loss: 1.196344\n",
      "Accuracy: 0.631858407079646\n",
      "Valdiation Epoch 4, Loss: 1.434854\n"
     ]
    },
    {
     "name": "stderr",
     "output_type": "stream",
     "text": [
      "100%|██████████| 92/92 [00:00<00:00, 199.72it/s]\n"
     ]
    },
    {
     "name": "stdout",
     "output_type": "stream",
     "text": [
      "Training Epoch 5, Loss: 1.118130\n",
      "Accuracy: 0.6389380530973451\n",
      "Valdiation Epoch 5, Loss: 1.398862\n"
     ]
    },
    {
     "name": "stderr",
     "output_type": "stream",
     "text": [
      "100%|██████████| 92/92 [00:00<00:00, 208.46it/s]\n"
     ]
    },
    {
     "name": "stdout",
     "output_type": "stream",
     "text": [
      "Training Epoch 6, Loss: 1.056599\n",
      "Accuracy: 0.6336283185840708\n",
      "Valdiation Epoch 6, Loss: 1.378536\n"
     ]
    },
    {
     "name": "stderr",
     "output_type": "stream",
     "text": [
      "100%|██████████| 92/92 [00:00<00:00, 200.68it/s]\n"
     ]
    },
    {
     "name": "stdout",
     "output_type": "stream",
     "text": [
      "Training Epoch 7, Loss: 1.003932\n",
      "Accuracy: 0.6442477876106195\n",
      "Valdiation Epoch 7, Loss: 1.353008\n"
     ]
    },
    {
     "name": "stderr",
     "output_type": "stream",
     "text": [
      "100%|██████████| 92/92 [00:00<00:00, 219.88it/s]\n"
     ]
    },
    {
     "name": "stdout",
     "output_type": "stream",
     "text": [
      "Training Epoch 8, Loss: 0.959940\n",
      "Accuracy: 0.6460176991150443\n",
      "Valdiation Epoch 8, Loss: 1.352142\n"
     ]
    },
    {
     "name": "stderr",
     "output_type": "stream",
     "text": [
      "100%|██████████| 92/92 [00:00<00:00, 210.20it/s]\n"
     ]
    },
    {
     "name": "stdout",
     "output_type": "stream",
     "text": [
      "Training Epoch 9, Loss: 0.919087\n",
      "Accuracy: 0.6548672566371682\n",
      "Valdiation Epoch 9, Loss: 1.345139\n"
     ]
    },
    {
     "name": "stderr",
     "output_type": "stream",
     "text": [
      "100%|██████████| 92/92 [00:00<00:00, 215.60it/s]\n",
      "[I 2023-08-16 16:42:31,660] Trial 58 finished with value: 1.3545645872751872 and parameters: {'lr': 7.350307092417406e-05, 'batch_size': 64, 'd_model': 7, 'nhead': 7, 'num_layers': 2, 'hidden_dim': 4, 'layer_dim': 1}. Best is trial 54 with value: 1.242251820034451.\n"
     ]
    },
    {
     "name": "stdout",
     "output_type": "stream",
     "text": [
      "Training Epoch 10, Loss: 0.883837\n",
      "Accuracy: 0.6566371681415929\n",
      "Valdiation Epoch 10, Loss: 1.354565\n",
      "256 256\n",
      "[5555, 3420, 3267, 3256, 2847, 3155, 3266, 3048, 2449, 2527, 3583, 2925, 2516, 2869, 2482, 2803, 2374, 2235, 2372, 2028, 9011, 3378, 5160, 2620, 2453, 5274, 3320, 4020, 3279, 4310, 4411, 4145, 3730, 3700]\n",
      "['G1' 'G10' 'G11' 'G2' 'G3' 'G4' 'G5' 'G6' 'G8' 'G9']\n",
      "[0 0 0 ... 2 2 2]\n",
      "[[1. 0. 0. ... 0. 0. 0.]\n",
      " [1. 0. 0. ... 0. 0. 0.]\n",
      " [1. 0. 0. ... 0. 0. 0.]\n",
      " ...\n",
      " [0. 0. 1. ... 0. 0. 0.]\n",
      " [0. 0. 1. ... 0. 0. 0.]\n",
      " [0. 0. 1. ... 0. 0. 0.]]\n",
      "[2653, 2002, 2303, 2642, 1758]\n",
      "['G1' 'G10' 'G11' 'G2' 'G3' 'G4' 'G5' 'G6' 'G8' 'G9']\n",
      "[0 0 0 ... 2 2 2]\n",
      "[[1. 0. 0. ... 0. 0. 0.]\n",
      " [1. 0. 0. ... 0. 0. 0.]\n",
      " [1. 0. 0. ... 0. 0. 0.]\n",
      " ...\n",
      " [0. 0. 1. ... 0. 0. 0.]\n",
      " [0. 0. 1. ... 0. 0. 0.]\n",
      " [0. 0. 1. ... 0. 0. 0.]]\n"
     ]
    },
    {
     "name": "stderr",
     "output_type": "stream",
     "text": [
      "100%|██████████| 92/92 [00:00<00:00, 198.03it/s]\n"
     ]
    },
    {
     "name": "stdout",
     "output_type": "stream",
     "text": [
      "Training Epoch 1, Loss: 2.123564\n",
      "Accuracy: 0.21238938053097345\n",
      "Valdiation Epoch 1, Loss: 2.080740\n"
     ]
    },
    {
     "name": "stderr",
     "output_type": "stream",
     "text": [
      "100%|██████████| 92/92 [00:00<00:00, 207.64it/s]\n"
     ]
    },
    {
     "name": "stdout",
     "output_type": "stream",
     "text": [
      "Training Epoch 2, Loss: 1.953289\n",
      "Accuracy: 0.4247787610619469\n",
      "Valdiation Epoch 2, Loss: 2.009609\n"
     ]
    },
    {
     "name": "stderr",
     "output_type": "stream",
     "text": [
      "100%|██████████| 92/92 [00:00<00:00, 190.27it/s]\n"
     ]
    },
    {
     "name": "stdout",
     "output_type": "stream",
     "text": [
      "Training Epoch 3, Loss: 1.873229\n",
      "Accuracy: 0.5592920353982301\n",
      "Valdiation Epoch 3, Loss: 1.957579\n"
     ]
    },
    {
     "name": "stderr",
     "output_type": "stream",
     "text": [
      "100%|██████████| 92/92 [00:00<00:00, 198.11it/s]\n"
     ]
    },
    {
     "name": "stdout",
     "output_type": "stream",
     "text": [
      "Training Epoch 4, Loss: 1.831546\n",
      "Accuracy: 0.5858407079646017\n",
      "Valdiation Epoch 4, Loss: 1.914834\n"
     ]
    },
    {
     "name": "stderr",
     "output_type": "stream",
     "text": [
      "100%|██████████| 92/92 [00:00<00:00, 203.21it/s]\n"
     ]
    },
    {
     "name": "stdout",
     "output_type": "stream",
     "text": [
      "Training Epoch 5, Loss: 1.789505\n",
      "Accuracy: 0.5752212389380531\n",
      "Valdiation Epoch 5, Loss: 1.907844\n"
     ]
    },
    {
     "name": "stderr",
     "output_type": "stream",
     "text": [
      "100%|██████████| 92/92 [00:00<00:00, 191.01it/s]\n"
     ]
    },
    {
     "name": "stdout",
     "output_type": "stream",
     "text": [
      "Training Epoch 6, Loss: 1.753071\n",
      "Accuracy: 0.6106194690265486\n",
      "Valdiation Epoch 6, Loss: 1.872889\n"
     ]
    },
    {
     "name": "stderr",
     "output_type": "stream",
     "text": [
      "100%|██████████| 92/92 [00:00<00:00, 202.47it/s]\n"
     ]
    },
    {
     "name": "stdout",
     "output_type": "stream",
     "text": [
      "Training Epoch 7, Loss: 1.725052\n",
      "Accuracy: 0.6123893805309735\n",
      "Valdiation Epoch 7, Loss: 1.884519\n"
     ]
    },
    {
     "name": "stderr",
     "output_type": "stream",
     "text": [
      "100%|██████████| 92/92 [00:00<00:00, 202.72it/s]\n"
     ]
    },
    {
     "name": "stdout",
     "output_type": "stream",
     "text": [
      "Training Epoch 8, Loss: 1.696495\n",
      "Accuracy: 0.6283185840707964\n",
      "Valdiation Epoch 8, Loss: 1.839653\n"
     ]
    },
    {
     "name": "stderr",
     "output_type": "stream",
     "text": [
      "100%|██████████| 92/92 [00:00<00:00, 191.85it/s]\n"
     ]
    },
    {
     "name": "stdout",
     "output_type": "stream",
     "text": [
      "Training Epoch 9, Loss: 1.668790\n",
      "Accuracy: 0.6230088495575221\n",
      "Valdiation Epoch 9, Loss: 1.820198\n"
     ]
    },
    {
     "name": "stderr",
     "output_type": "stream",
     "text": [
      "100%|██████████| 92/92 [00:00<00:00, 186.93it/s]\n",
      "[I 2023-08-16 16:42:37,592] Trial 59 finished with value: 1.8407147990332708 and parameters: {'lr': 5.407800711777566e-05, 'batch_size': 64, 'd_model': 8, 'nhead': 8, 'num_layers': 2, 'hidden_dim': 2, 'layer_dim': 1}. Best is trial 54 with value: 1.242251820034451.\n",
      "[I 2023-08-16 16:42:37,610] Trial 60 finished with value: 1000.0 and parameters: {'lr': 0.00014360273938457573, 'batch_size': 64, 'd_model': 7, 'nhead': 8, 'num_layers': 2, 'hidden_dim': 4, 'layer_dim': 4}. Best is trial 54 with value: 1.242251820034451.\n"
     ]
    },
    {
     "name": "stdout",
     "output_type": "stream",
     "text": [
      "Training Epoch 10, Loss: 1.641864\n",
      "Accuracy: 0.6300884955752213\n",
      "Valdiation Epoch 10, Loss: 1.840715\n",
      "128 256\n",
      "256 256\n",
      "[5555, 3420, 3267, 3256, 2847, 3155, 3266, 3048, 2449, 2527, 3583, 2925, 2516, 2869, 2482, 2803, 2374, 2235, 2372, 2028, 9011, 3378, 5160, 2620, 2453, 5274, 3320, 4020, 3279, 4310, 4411, 4145, 3730, 3700]\n",
      "['G1' 'G10' 'G11' 'G2' 'G3' 'G4' 'G5' 'G6' 'G8' 'G9']\n",
      "[0 0 0 ... 2 2 2]\n",
      "[[1. 0. 0. ... 0. 0. 0.]\n",
      " [1. 0. 0. ... 0. 0. 0.]\n",
      " [1. 0. 0. ... 0. 0. 0.]\n",
      " ...\n",
      " [0. 0. 1. ... 0. 0. 0.]\n",
      " [0. 0. 1. ... 0. 0. 0.]\n",
      " [0. 0. 1. ... 0. 0. 0.]]\n",
      "[2653, 2002, 2303, 2642, 1758]\n",
      "['G1' 'G10' 'G11' 'G2' 'G3' 'G4' 'G5' 'G6' 'G8' 'G9']\n",
      "[0 0 0 ... 2 2 2]\n",
      "[[1. 0. 0. ... 0. 0. 0.]\n",
      " [1. 0. 0. ... 0. 0. 0.]\n",
      " [1. 0. 0. ... 0. 0. 0.]\n",
      " ...\n",
      " [0. 0. 1. ... 0. 0. 0.]\n",
      " [0. 0. 1. ... 0. 0. 0.]\n",
      " [0. 0. 1. ... 0. 0. 0.]]\n"
     ]
    },
    {
     "name": "stderr",
     "output_type": "stream",
     "text": [
      "100%|██████████| 92/92 [00:00<00:00, 193.36it/s]\n"
     ]
    },
    {
     "name": "stdout",
     "output_type": "stream",
     "text": [
      "Training Epoch 1, Loss: 1.545880\n",
      "Accuracy: 0.5539823008849557\n",
      "Valdiation Epoch 1, Loss: 1.605369\n"
     ]
    },
    {
     "name": "stderr",
     "output_type": "stream",
     "text": [
      "100%|██████████| 92/92 [00:00<00:00, 177.24it/s]\n"
     ]
    },
    {
     "name": "stdout",
     "output_type": "stream",
     "text": [
      "Training Epoch 2, Loss: 1.130139\n",
      "Accuracy: 0.6389380530973451\n",
      "Valdiation Epoch 2, Loss: 1.471767\n"
     ]
    },
    {
     "name": "stderr",
     "output_type": "stream",
     "text": [
      "100%|██████████| 92/92 [00:00<00:00, 218.89it/s]\n"
     ]
    },
    {
     "name": "stdout",
     "output_type": "stream",
     "text": [
      "Training Epoch 3, Loss: 0.961530\n",
      "Accuracy: 0.6601769911504425\n",
      "Valdiation Epoch 3, Loss: 1.394791\n"
     ]
    },
    {
     "name": "stderr",
     "output_type": "stream",
     "text": [
      "100%|██████████| 92/92 [00:00<00:00, 213.80it/s]\n"
     ]
    },
    {
     "name": "stdout",
     "output_type": "stream",
     "text": [
      "Training Epoch 4, Loss: 0.851527\n",
      "Accuracy: 0.6867256637168142\n",
      "Valdiation Epoch 4, Loss: 1.383166\n"
     ]
    },
    {
     "name": "stderr",
     "output_type": "stream",
     "text": [
      "100%|██████████| 92/92 [00:00<00:00, 199.57it/s]\n"
     ]
    },
    {
     "name": "stdout",
     "output_type": "stream",
     "text": [
      "Training Epoch 5, Loss: 0.772034\n",
      "Accuracy: 0.6920353982300885\n",
      "Valdiation Epoch 5, Loss: 1.350416\n"
     ]
    },
    {
     "name": "stderr",
     "output_type": "stream",
     "text": [
      "100%|██████████| 92/92 [00:00<00:00, 187.00it/s]\n"
     ]
    },
    {
     "name": "stdout",
     "output_type": "stream",
     "text": [
      "Training Epoch 6, Loss: 0.708110\n",
      "Accuracy: 0.7026548672566372\n",
      "Valdiation Epoch 6, Loss: 1.337080\n"
     ]
    },
    {
     "name": "stderr",
     "output_type": "stream",
     "text": [
      "100%|██████████| 92/92 [00:00<00:00, 207.73it/s]\n"
     ]
    },
    {
     "name": "stdout",
     "output_type": "stream",
     "text": [
      "Training Epoch 7, Loss: 0.644811\n",
      "Accuracy: 0.6424778761061947\n",
      "Valdiation Epoch 7, Loss: 1.384415\n"
     ]
    },
    {
     "name": "stderr",
     "output_type": "stream",
     "text": [
      "100%|██████████| 92/92 [00:00<00:00, 207.66it/s]\n"
     ]
    },
    {
     "name": "stdout",
     "output_type": "stream",
     "text": [
      "Training Epoch 8, Loss: 0.594296\n",
      "Accuracy: 0.6424778761061947\n",
      "Valdiation Epoch 8, Loss: 1.353281\n"
     ]
    },
    {
     "name": "stderr",
     "output_type": "stream",
     "text": [
      "100%|██████████| 92/92 [00:00<00:00, 193.99it/s]\n"
     ]
    },
    {
     "name": "stdout",
     "output_type": "stream",
     "text": [
      "Training Epoch 9, Loss: 0.560879\n",
      "Accuracy: 0.5982300884955752\n",
      "Valdiation Epoch 9, Loss: 1.395306\n"
     ]
    },
    {
     "name": "stderr",
     "output_type": "stream",
     "text": [
      "100%|██████████| 92/92 [00:00<00:00, 187.98it/s]\n",
      "[I 2023-08-16 16:42:43,520] Trial 61 finished with value: 1.3731537792417738 and parameters: {'lr': 0.00010389750639897928, 'batch_size': 64, 'd_model': 8, 'nhead': 8, 'num_layers': 2, 'hidden_dim': 5, 'layer_dim': 1}. Best is trial 54 with value: 1.242251820034451.\n"
     ]
    },
    {
     "name": "stdout",
     "output_type": "stream",
     "text": [
      "Training Epoch 10, Loss: 0.511884\n",
      "Accuracy: 0.6548672566371682\n",
      "Valdiation Epoch 10, Loss: 1.373154\n",
      "256 256\n",
      "[5555, 3420, 3267, 3256, 2847, 3155, 3266, 3048, 2449, 2527, 3583, 2925, 2516, 2869, 2482, 2803, 2374, 2235, 2372, 2028, 9011, 3378, 5160, 2620, 2453, 5274, 3320, 4020, 3279, 4310, 4411, 4145, 3730, 3700]\n",
      "['G1' 'G10' 'G11' 'G2' 'G3' 'G4' 'G5' 'G6' 'G8' 'G9']\n",
      "[0 0 0 ... 2 2 2]\n",
      "[[1. 0. 0. ... 0. 0. 0.]\n",
      " [1. 0. 0. ... 0. 0. 0.]\n",
      " [1. 0. 0. ... 0. 0. 0.]\n",
      " ...\n",
      " [0. 0. 1. ... 0. 0. 0.]\n",
      " [0. 0. 1. ... 0. 0. 0.]\n",
      " [0. 0. 1. ... 0. 0. 0.]]\n",
      "[2653, 2002, 2303, 2642, 1758]\n",
      "['G1' 'G10' 'G11' 'G2' 'G3' 'G4' 'G5' 'G6' 'G8' 'G9']\n",
      "[0 0 0 ... 2 2 2]\n",
      "[[1. 0. 0. ... 0. 0. 0.]\n",
      " [1. 0. 0. ... 0. 0. 0.]\n",
      " [1. 0. 0. ... 0. 0. 0.]\n",
      " ...\n",
      " [0. 0. 1. ... 0. 0. 0.]\n",
      " [0. 0. 1. ... 0. 0. 0.]\n",
      " [0. 0. 1. ... 0. 0. 0.]]\n"
     ]
    },
    {
     "name": "stderr",
     "output_type": "stream",
     "text": [
      "100%|██████████| 92/92 [00:00<00:00, 195.29it/s]\n"
     ]
    },
    {
     "name": "stdout",
     "output_type": "stream",
     "text": [
      "Training Epoch 1, Loss: 1.722582\n",
      "Accuracy: 0.5327433628318584\n",
      "Valdiation Epoch 1, Loss: 1.678543\n"
     ]
    },
    {
     "name": "stderr",
     "output_type": "stream",
     "text": [
      "100%|██████████| 92/92 [00:00<00:00, 198.67it/s]\n"
     ]
    },
    {
     "name": "stdout",
     "output_type": "stream",
     "text": [
      "Training Epoch 2, Loss: 1.391867\n",
      "Accuracy: 0.6106194690265486\n",
      "Valdiation Epoch 2, Loss: 1.485803\n"
     ]
    },
    {
     "name": "stderr",
     "output_type": "stream",
     "text": [
      "100%|██████████| 92/92 [00:00<00:00, 195.23it/s]\n"
     ]
    },
    {
     "name": "stdout",
     "output_type": "stream",
     "text": [
      "Training Epoch 3, Loss: 1.232782\n",
      "Accuracy: 0.6389380530973451\n",
      "Valdiation Epoch 3, Loss: 1.397947\n"
     ]
    },
    {
     "name": "stderr",
     "output_type": "stream",
     "text": [
      "100%|██████████| 92/92 [00:00<00:00, 180.97it/s]\n"
     ]
    },
    {
     "name": "stdout",
     "output_type": "stream",
     "text": [
      "Training Epoch 4, Loss: 1.133786\n",
      "Accuracy: 0.6530973451327433\n",
      "Valdiation Epoch 4, Loss: 1.346952\n"
     ]
    },
    {
     "name": "stderr",
     "output_type": "stream",
     "text": [
      "100%|██████████| 92/92 [00:00<00:00, 185.28it/s]\n"
     ]
    },
    {
     "name": "stdout",
     "output_type": "stream",
     "text": [
      "Training Epoch 5, Loss: 1.062318\n",
      "Accuracy: 0.6424778761061947\n",
      "Valdiation Epoch 5, Loss: 1.338640\n"
     ]
    },
    {
     "name": "stderr",
     "output_type": "stream",
     "text": [
      "100%|██████████| 92/92 [00:00<00:00, 179.29it/s]\n"
     ]
    },
    {
     "name": "stdout",
     "output_type": "stream",
     "text": [
      "Training Epoch 6, Loss: 0.997647\n",
      "Accuracy: 0.647787610619469\n",
      "Valdiation Epoch 6, Loss: 1.316107\n"
     ]
    },
    {
     "name": "stderr",
     "output_type": "stream",
     "text": [
      "100%|██████████| 92/92 [00:00<00:00, 193.85it/s]\n"
     ]
    },
    {
     "name": "stdout",
     "output_type": "stream",
     "text": [
      "Training Epoch 7, Loss: 0.939302\n",
      "Accuracy: 0.6389380530973451\n",
      "Valdiation Epoch 7, Loss: 1.303419\n"
     ]
    },
    {
     "name": "stderr",
     "output_type": "stream",
     "text": [
      "100%|██████████| 92/92 [00:00<00:00, 184.00it/s]\n"
     ]
    },
    {
     "name": "stdout",
     "output_type": "stream",
     "text": [
      "Training Epoch 8, Loss: 0.893687\n",
      "Accuracy: 0.6212389380530974\n",
      "Valdiation Epoch 8, Loss: 1.325380\n"
     ]
    },
    {
     "name": "stderr",
     "output_type": "stream",
     "text": [
      "100%|██████████| 92/92 [00:00<00:00, 184.26it/s]\n"
     ]
    },
    {
     "name": "stdout",
     "output_type": "stream",
     "text": [
      "Training Epoch 9, Loss: 0.839441\n",
      "Accuracy: 0.6141592920353982\n",
      "Valdiation Epoch 9, Loss: 1.317906\n"
     ]
    },
    {
     "name": "stderr",
     "output_type": "stream",
     "text": [
      "100%|██████████| 92/92 [00:00<00:00, 183.49it/s]\n",
      "[I 2023-08-16 16:42:49,667] Trial 62 finished with value: 1.3036537965138753 and parameters: {'lr': 8.776948613086589e-05, 'batch_size': 64, 'd_model': 8, 'nhead': 8, 'num_layers': 2, 'hidden_dim': 4, 'layer_dim': 1}. Best is trial 54 with value: 1.242251820034451.\n"
     ]
    },
    {
     "name": "stdout",
     "output_type": "stream",
     "text": [
      "Training Epoch 10, Loss: 0.792510\n",
      "Accuracy: 0.5946902654867257\n",
      "Valdiation Epoch 10, Loss: 1.303654\n",
      "256 128\n",
      "[5555, 3420, 3267, 3256, 2847, 3155, 3266, 3048, 2449, 2527, 3583, 2925, 2516, 2869, 2482, 2803, 2374, 2235, 2372, 2028, 9011, 3378, 5160, 2620, 2453, 5274, 3320, 4020, 3279, 4310, 4411, 4145, 3730, 3700]\n",
      "['G1' 'G10' 'G11' 'G2' 'G3' 'G4' 'G5' 'G6' 'G8' 'G9']\n",
      "[0 0 0 ... 2 2 2]\n",
      "[[1. 0. 0. ... 0. 0. 0.]\n",
      " [1. 0. 0. ... 0. 0. 0.]\n",
      " [1. 0. 0. ... 0. 0. 0.]\n",
      " ...\n",
      " [0. 0. 1. ... 0. 0. 0.]\n",
      " [0. 0. 1. ... 0. 0. 0.]\n",
      " [0. 0. 1. ... 0. 0. 0.]]\n",
      "[2653, 2002, 2303, 2642, 1758]\n",
      "['G1' 'G10' 'G11' 'G2' 'G3' 'G4' 'G5' 'G6' 'G8' 'G9']\n",
      "[0 0 0 ... 2 2 2]\n",
      "[[1. 0. 0. ... 0. 0. 0.]\n",
      " [1. 0. 0. ... 0. 0. 0.]\n",
      " [1. 0. 0. ... 0. 0. 0.]\n",
      " ...\n",
      " [0. 0. 1. ... 0. 0. 0.]\n",
      " [0. 0. 1. ... 0. 0. 0.]\n",
      " [0. 0. 1. ... 0. 0. 0.]]\n"
     ]
    },
    {
     "name": "stderr",
     "output_type": "stream",
     "text": [
      "100%|██████████| 92/92 [00:00<00:00, 215.28it/s]\n"
     ]
    },
    {
     "name": "stdout",
     "output_type": "stream",
     "text": [
      "Training Epoch 1, Loss: 1.801807\n",
      "Accuracy: 0.5079646017699115\n",
      "Valdiation Epoch 1, Loss: 1.867112\n"
     ]
    },
    {
     "name": "stderr",
     "output_type": "stream",
     "text": [
      "100%|██████████| 92/92 [00:00<00:00, 197.27it/s]\n"
     ]
    },
    {
     "name": "stdout",
     "output_type": "stream",
     "text": [
      "Training Epoch 2, Loss: 1.573538\n",
      "Accuracy: 0.5433628318584071\n",
      "Valdiation Epoch 2, Loss: 1.711238\n"
     ]
    },
    {
     "name": "stderr",
     "output_type": "stream",
     "text": [
      "100%|██████████| 92/92 [00:00<00:00, 222.28it/s]\n"
     ]
    },
    {
     "name": "stdout",
     "output_type": "stream",
     "text": [
      "Training Epoch 3, Loss: 1.450778\n",
      "Accuracy: 0.6106194690265486\n",
      "Valdiation Epoch 3, Loss: 1.669082\n"
     ]
    },
    {
     "name": "stderr",
     "output_type": "stream",
     "text": [
      "100%|██████████| 92/92 [00:00<00:00, 182.08it/s]\n"
     ]
    },
    {
     "name": "stdout",
     "output_type": "stream",
     "text": [
      "Training Epoch 4, Loss: 1.376478\n",
      "Accuracy: 0.6212389380530974\n",
      "Valdiation Epoch 4, Loss: 1.612898\n"
     ]
    },
    {
     "name": "stderr",
     "output_type": "stream",
     "text": [
      "100%|██████████| 92/92 [00:00<00:00, 189.61it/s]\n"
     ]
    },
    {
     "name": "stdout",
     "output_type": "stream",
     "text": [
      "Training Epoch 5, Loss: 1.314852\n",
      "Accuracy: 0.6495575221238938\n",
      "Valdiation Epoch 5, Loss: 1.556008\n"
     ]
    },
    {
     "name": "stderr",
     "output_type": "stream",
     "text": [
      "100%|██████████| 92/92 [00:00<00:00, 192.25it/s]\n"
     ]
    },
    {
     "name": "stdout",
     "output_type": "stream",
     "text": [
      "Training Epoch 6, Loss: 1.262063\n",
      "Accuracy: 0.6424778761061947\n",
      "Valdiation Epoch 6, Loss: 1.535764\n"
     ]
    },
    {
     "name": "stderr",
     "output_type": "stream",
     "text": [
      "100%|██████████| 92/92 [00:00<00:00, 187.81it/s]\n"
     ]
    },
    {
     "name": "stdout",
     "output_type": "stream",
     "text": [
      "Training Epoch 7, Loss: 1.222549\n",
      "Accuracy: 0.6442477876106195\n",
      "Valdiation Epoch 7, Loss: 1.505046\n"
     ]
    },
    {
     "name": "stderr",
     "output_type": "stream",
     "text": [
      "100%|██████████| 92/92 [00:00<00:00, 189.43it/s]\n"
     ]
    },
    {
     "name": "stdout",
     "output_type": "stream",
     "text": [
      "Training Epoch 8, Loss: 1.178037\n",
      "Accuracy: 0.6548672566371682\n",
      "Valdiation Epoch 8, Loss: 1.475298\n"
     ]
    },
    {
     "name": "stderr",
     "output_type": "stream",
     "text": [
      "100%|██████████| 92/92 [00:00<00:00, 201.32it/s]\n"
     ]
    },
    {
     "name": "stdout",
     "output_type": "stream",
     "text": [
      "Training Epoch 9, Loss: 1.136680\n",
      "Accuracy: 0.6300884955752213\n",
      "Valdiation Epoch 9, Loss: 1.496168\n"
     ]
    },
    {
     "name": "stderr",
     "output_type": "stream",
     "text": [
      "100%|██████████| 92/92 [00:00<00:00, 199.69it/s]\n",
      "[I 2023-08-16 16:42:55,590] Trial 63 finished with value: 1.4679617351955838 and parameters: {'lr': 8.221547677345267e-05, 'batch_size': 64, 'd_model': 8, 'nhead': 7, 'num_layers': 2, 'hidden_dim': 3, 'layer_dim': 1}. Best is trial 54 with value: 1.242251820034451.\n"
     ]
    },
    {
     "name": "stdout",
     "output_type": "stream",
     "text": [
      "Training Epoch 10, Loss: 1.099885\n",
      "Accuracy: 0.6353982300884956\n",
      "Valdiation Epoch 10, Loss: 1.467962\n",
      "256 256\n",
      "[5555, 3420, 3267, 3256, 2847, 3155, 3266, 3048, 2449, 2527, 3583, 2925, 2516, 2869, 2482, 2803, 2374, 2235, 2372, 2028, 9011, 3378, 5160, 2620, 2453, 5274, 3320, 4020, 3279, 4310, 4411, 4145, 3730, 3700]\n",
      "['G1' 'G10' 'G11' 'G2' 'G3' 'G4' 'G5' 'G6' 'G8' 'G9']\n",
      "[0 0 0 ... 2 2 2]\n",
      "[[1. 0. 0. ... 0. 0. 0.]\n",
      " [1. 0. 0. ... 0. 0. 0.]\n",
      " [1. 0. 0. ... 0. 0. 0.]\n",
      " ...\n",
      " [0. 0. 1. ... 0. 0. 0.]\n",
      " [0. 0. 1. ... 0. 0. 0.]\n",
      " [0. 0. 1. ... 0. 0. 0.]]\n",
      "[2653, 2002, 2303, 2642, 1758]\n",
      "['G1' 'G10' 'G11' 'G2' 'G3' 'G4' 'G5' 'G6' 'G8' 'G9']\n",
      "[0 0 0 ... 2 2 2]\n",
      "[[1. 0. 0. ... 0. 0. 0.]\n",
      " [1. 0. 0. ... 0. 0. 0.]\n",
      " [1. 0. 0. ... 0. 0. 0.]\n",
      " ...\n",
      " [0. 0. 1. ... 0. 0. 0.]\n",
      " [0. 0. 1. ... 0. 0. 0.]\n",
      " [0. 0. 1. ... 0. 0. 0.]]\n"
     ]
    },
    {
     "name": "stderr",
     "output_type": "stream",
     "text": [
      "100%|██████████| 92/92 [00:00<00:00, 204.24it/s]\n"
     ]
    },
    {
     "name": "stdout",
     "output_type": "stream",
     "text": [
      "Training Epoch 1, Loss: 1.726421\n",
      "Accuracy: 0.5805309734513274\n",
      "Valdiation Epoch 1, Loss: 1.730473\n"
     ]
    },
    {
     "name": "stderr",
     "output_type": "stream",
     "text": [
      "100%|██████████| 92/92 [00:00<00:00, 204.48it/s]\n"
     ]
    },
    {
     "name": "stdout",
     "output_type": "stream",
     "text": [
      "Training Epoch 2, Loss: 1.294789\n",
      "Accuracy: 0.5929203539823009\n",
      "Valdiation Epoch 2, Loss: 1.586422\n"
     ]
    },
    {
     "name": "stderr",
     "output_type": "stream",
     "text": [
      "100%|██████████| 92/92 [00:00<00:00, 194.79it/s]\n"
     ]
    },
    {
     "name": "stdout",
     "output_type": "stream",
     "text": [
      "Training Epoch 3, Loss: 1.134831\n",
      "Accuracy: 0.6212389380530974\n",
      "Valdiation Epoch 3, Loss: 1.489529\n"
     ]
    },
    {
     "name": "stderr",
     "output_type": "stream",
     "text": [
      "100%|██████████| 92/92 [00:00<00:00, 199.40it/s]\n"
     ]
    },
    {
     "name": "stdout",
     "output_type": "stream",
     "text": [
      "Training Epoch 4, Loss: 1.026905\n",
      "Accuracy: 0.6230088495575221\n",
      "Valdiation Epoch 4, Loss: 1.487154\n"
     ]
    },
    {
     "name": "stderr",
     "output_type": "stream",
     "text": [
      "100%|██████████| 92/92 [00:00<00:00, 203.67it/s]\n"
     ]
    },
    {
     "name": "stdout",
     "output_type": "stream",
     "text": [
      "Training Epoch 5, Loss: 0.940516\n",
      "Accuracy: 0.6283185840707964\n",
      "Valdiation Epoch 5, Loss: 1.449928\n"
     ]
    },
    {
     "name": "stderr",
     "output_type": "stream",
     "text": [
      "100%|██████████| 92/92 [00:00<00:00, 197.41it/s]\n"
     ]
    },
    {
     "name": "stdout",
     "output_type": "stream",
     "text": [
      "Training Epoch 6, Loss: 0.864591\n",
      "Accuracy: 0.6513274336283186\n",
      "Valdiation Epoch 6, Loss: 1.381540\n"
     ]
    },
    {
     "name": "stderr",
     "output_type": "stream",
     "text": [
      "100%|██████████| 92/92 [00:00<00:00, 209.27it/s]\n"
     ]
    },
    {
     "name": "stdout",
     "output_type": "stream",
     "text": [
      "Training Epoch 7, Loss: 0.811867\n",
      "Accuracy: 0.6035398230088496\n",
      "Valdiation Epoch 7, Loss: 1.392757\n"
     ]
    },
    {
     "name": "stderr",
     "output_type": "stream",
     "text": [
      "100%|██████████| 92/92 [00:00<00:00, 252.62it/s]\n"
     ]
    },
    {
     "name": "stdout",
     "output_type": "stream",
     "text": [
      "Training Epoch 8, Loss: 0.751179\n",
      "Accuracy: 0.6088495575221239\n",
      "Valdiation Epoch 8, Loss: 1.406259\n"
     ]
    },
    {
     "name": "stderr",
     "output_type": "stream",
     "text": [
      "100%|██████████| 92/92 [00:00<00:00, 198.42it/s]\n"
     ]
    },
    {
     "name": "stdout",
     "output_type": "stream",
     "text": [
      "Training Epoch 9, Loss: 0.695061\n",
      "Accuracy: 0.6265486725663717\n",
      "Valdiation Epoch 9, Loss: 1.396375\n"
     ]
    },
    {
     "name": "stderr",
     "output_type": "stream",
     "text": [
      "100%|██████████| 92/92 [00:00<00:00, 189.27it/s]\n",
      "[I 2023-08-16 16:43:01,352] Trial 64 finished with value: 1.3333575924237568 and parameters: {'lr': 0.00013907470692742655, 'batch_size': 64, 'd_model': 8, 'nhead': 8, 'num_layers': 2, 'hidden_dim': 4, 'layer_dim': 1}. Best is trial 54 with value: 1.242251820034451.\n"
     ]
    },
    {
     "name": "stdout",
     "output_type": "stream",
     "text": [
      "Training Epoch 10, Loss: 0.647060\n",
      "Accuracy: 0.672566371681416\n",
      "Valdiation Epoch 10, Loss: 1.333358\n",
      "256 128\n",
      "[5555, 3420, 3267, 3256, 2847, 3155, 3266, 3048, 2449, 2527, 3583, 2925, 2516, 2869, 2482, 2803, 2374, 2235, 2372, 2028, 9011, 3378, 5160, 2620, 2453, 5274, 3320, 4020, 3279, 4310, 4411, 4145, 3730, 3700]\n",
      "['G1' 'G10' 'G11' 'G2' 'G3' 'G4' 'G5' 'G6' 'G8' 'G9']\n",
      "[0 0 0 ... 2 2 2]\n",
      "[[1. 0. 0. ... 0. 0. 0.]\n",
      " [1. 0. 0. ... 0. 0. 0.]\n",
      " [1. 0. 0. ... 0. 0. 0.]\n",
      " ...\n",
      " [0. 0. 1. ... 0. 0. 0.]\n",
      " [0. 0. 1. ... 0. 0. 0.]\n",
      " [0. 0. 1. ... 0. 0. 0.]]\n",
      "[2653, 2002, 2303, 2642, 1758]\n",
      "['G1' 'G10' 'G11' 'G2' 'G3' 'G4' 'G5' 'G6' 'G8' 'G9']\n",
      "[0 0 0 ... 2 2 2]\n",
      "[[1. 0. 0. ... 0. 0. 0.]\n",
      " [1. 0. 0. ... 0. 0. 0.]\n",
      " [1. 0. 0. ... 0. 0. 0.]\n",
      " ...\n",
      " [0. 0. 1. ... 0. 0. 0.]\n",
      " [0. 0. 1. ... 0. 0. 0.]\n",
      " [0. 0. 1. ... 0. 0. 0.]]\n"
     ]
    },
    {
     "name": "stderr",
     "output_type": "stream",
     "text": [
      "100%|██████████| 92/92 [00:00<00:00, 202.32it/s]\n"
     ]
    },
    {
     "name": "stdout",
     "output_type": "stream",
     "text": [
      "Training Epoch 1, Loss: 1.742177\n",
      "Accuracy: 0.4725663716814159\n",
      "Valdiation Epoch 1, Loss: 1.844679\n"
     ]
    },
    {
     "name": "stderr",
     "output_type": "stream",
     "text": [
      "100%|██████████| 92/92 [00:00<00:00, 192.19it/s]\n"
     ]
    },
    {
     "name": "stdout",
     "output_type": "stream",
     "text": [
      "Training Epoch 2, Loss: 1.401862\n",
      "Accuracy: 0.5380530973451327\n",
      "Valdiation Epoch 2, Loss: 1.661967\n"
     ]
    },
    {
     "name": "stderr",
     "output_type": "stream",
     "text": [
      "100%|██████████| 92/92 [00:00<00:00, 196.86it/s]\n"
     ]
    },
    {
     "name": "stdout",
     "output_type": "stream",
     "text": [
      "Training Epoch 3, Loss: 1.256057\n",
      "Accuracy: 0.5716814159292035\n",
      "Valdiation Epoch 3, Loss: 1.579557\n"
     ]
    },
    {
     "name": "stderr",
     "output_type": "stream",
     "text": [
      "100%|██████████| 92/92 [00:00<00:00, 192.39it/s]\n"
     ]
    },
    {
     "name": "stdout",
     "output_type": "stream",
     "text": [
      "Training Epoch 4, Loss: 1.173472\n",
      "Accuracy: 0.6053097345132743\n",
      "Valdiation Epoch 4, Loss: 1.514622\n"
     ]
    },
    {
     "name": "stderr",
     "output_type": "stream",
     "text": [
      "100%|██████████| 92/92 [00:00<00:00, 190.25it/s]\n"
     ]
    },
    {
     "name": "stdout",
     "output_type": "stream",
     "text": [
      "Training Epoch 5, Loss: 1.116270\n",
      "Accuracy: 0.6035398230088496\n",
      "Valdiation Epoch 5, Loss: 1.499478\n"
     ]
    },
    {
     "name": "stderr",
     "output_type": "stream",
     "text": [
      "100%|██████████| 92/92 [00:00<00:00, 192.72it/s]\n"
     ]
    },
    {
     "name": "stdout",
     "output_type": "stream",
     "text": [
      "Training Epoch 6, Loss: 1.069493\n",
      "Accuracy: 0.6159292035398231\n",
      "Valdiation Epoch 6, Loss: 1.460753\n"
     ]
    },
    {
     "name": "stderr",
     "output_type": "stream",
     "text": [
      "100%|██████████| 92/92 [00:00<00:00, 202.76it/s]\n"
     ]
    },
    {
     "name": "stdout",
     "output_type": "stream",
     "text": [
      "Training Epoch 7, Loss: 1.018443\n",
      "Accuracy: 0.6247787610619469\n",
      "Valdiation Epoch 7, Loss: 1.447533\n"
     ]
    },
    {
     "name": "stderr",
     "output_type": "stream",
     "text": [
      "100%|██████████| 92/92 [00:00<00:00, 197.05it/s]\n"
     ]
    },
    {
     "name": "stdout",
     "output_type": "stream",
     "text": [
      "Training Epoch 8, Loss: 0.978997\n",
      "Accuracy: 0.6283185840707964\n",
      "Valdiation Epoch 8, Loss: 1.425891\n"
     ]
    },
    {
     "name": "stderr",
     "output_type": "stream",
     "text": [
      "100%|██████████| 92/92 [00:00<00:00, 186.92it/s]\n"
     ]
    },
    {
     "name": "stdout",
     "output_type": "stream",
     "text": [
      "Training Epoch 9, Loss: 0.939010\n",
      "Accuracy: 0.6336283185840708\n",
      "Valdiation Epoch 9, Loss: 1.435753\n"
     ]
    },
    {
     "name": "stderr",
     "output_type": "stream",
     "text": [
      "100%|██████████| 92/92 [00:00<00:00, 221.76it/s]\n",
      "[I 2023-08-16 16:43:07,298] Trial 65 finished with value: 1.4254545238282945 and parameters: {'lr': 6.379811123216995e-05, 'batch_size': 64, 'd_model': 8, 'nhead': 7, 'num_layers': 2, 'hidden_dim': 4, 'layer_dim': 1}. Best is trial 54 with value: 1.242251820034451.\n"
     ]
    },
    {
     "name": "stdout",
     "output_type": "stream",
     "text": [
      "Training Epoch 10, Loss: 0.904979\n",
      "Accuracy: 0.6389380530973451\n",
      "Valdiation Epoch 10, Loss: 1.425455\n",
      "256 256\n",
      "[5555, 3420, 3267, 3256, 2847, 3155, 3266, 3048, 2449, 2527, 3583, 2925, 2516, 2869, 2482, 2803, 2374, 2235, 2372, 2028, 9011, 3378, 5160, 2620, 2453, 5274, 3320, 4020, 3279, 4310, 4411, 4145, 3730, 3700]\n",
      "['G1' 'G10' 'G11' 'G2' 'G3' 'G4' 'G5' 'G6' 'G8' 'G9']\n",
      "[0 0 0 ... 2 2 2]\n",
      "[[1. 0. 0. ... 0. 0. 0.]\n",
      " [1. 0. 0. ... 0. 0. 0.]\n",
      " [1. 0. 0. ... 0. 0. 0.]\n",
      " ...\n",
      " [0. 0. 1. ... 0. 0. 0.]\n",
      " [0. 0. 1. ... 0. 0. 0.]\n",
      " [0. 0. 1. ... 0. 0. 0.]]\n",
      "[2653, 2002, 2303, 2642, 1758]\n",
      "['G1' 'G10' 'G11' 'G2' 'G3' 'G4' 'G5' 'G6' 'G8' 'G9']\n",
      "[0 0 0 ... 2 2 2]\n",
      "[[1. 0. 0. ... 0. 0. 0.]\n",
      " [1. 0. 0. ... 0. 0. 0.]\n",
      " [1. 0. 0. ... 0. 0. 0.]\n",
      " ...\n",
      " [0. 0. 1. ... 0. 0. 0.]\n",
      " [0. 0. 1. ... 0. 0. 0.]\n",
      " [0. 0. 1. ... 0. 0. 0.]]\n"
     ]
    },
    {
     "name": "stderr",
     "output_type": "stream",
     "text": [
      "100%|██████████| 184/184 [00:00<00:00, 362.97it/s]\n"
     ]
    },
    {
     "name": "stdout",
     "output_type": "stream",
     "text": [
      "Training Epoch 1, Loss: 1.572738\n",
      "Accuracy: 0.6106194690265486\n",
      "Valdiation Epoch 1, Loss: 1.549211\n"
     ]
    },
    {
     "name": "stderr",
     "output_type": "stream",
     "text": [
      "100%|██████████| 184/184 [00:00<00:00, 367.27it/s]\n"
     ]
    },
    {
     "name": "stdout",
     "output_type": "stream",
     "text": [
      "Training Epoch 2, Loss: 1.241233\n",
      "Accuracy: 0.6230088495575221\n",
      "Valdiation Epoch 2, Loss: 1.447814\n"
     ]
    },
    {
     "name": "stderr",
     "output_type": "stream",
     "text": [
      "100%|██████████| 184/184 [00:00<00:00, 354.09it/s]\n"
     ]
    },
    {
     "name": "stdout",
     "output_type": "stream",
     "text": [
      "Training Epoch 3, Loss: 1.088190\n",
      "Accuracy: 0.6424778761061947\n",
      "Valdiation Epoch 3, Loss: 1.392489\n"
     ]
    },
    {
     "name": "stderr",
     "output_type": "stream",
     "text": [
      "100%|██████████| 184/184 [00:00<00:00, 357.53it/s]\n"
     ]
    },
    {
     "name": "stdout",
     "output_type": "stream",
     "text": [
      "Training Epoch 4, Loss: 0.979114\n",
      "Accuracy: 0.6584070796460177\n",
      "Valdiation Epoch 4, Loss: 1.363744\n"
     ]
    },
    {
     "name": "stderr",
     "output_type": "stream",
     "text": [
      "100%|██████████| 184/184 [00:00<00:00, 358.53it/s]\n"
     ]
    },
    {
     "name": "stdout",
     "output_type": "stream",
     "text": [
      "Training Epoch 5, Loss: 0.891630\n",
      "Accuracy: 0.6619469026548672\n",
      "Valdiation Epoch 5, Loss: 1.322252\n"
     ]
    },
    {
     "name": "stderr",
     "output_type": "stream",
     "text": [
      "100%|██████████| 184/184 [00:00<00:00, 369.11it/s]\n"
     ]
    },
    {
     "name": "stdout",
     "output_type": "stream",
     "text": [
      "Training Epoch 6, Loss: 0.823324\n",
      "Accuracy: 0.6690265486725664\n",
      "Valdiation Epoch 6, Loss: 1.338529\n"
     ]
    },
    {
     "name": "stderr",
     "output_type": "stream",
     "text": [
      "100%|██████████| 184/184 [00:00<00:00, 365.91it/s]\n"
     ]
    },
    {
     "name": "stdout",
     "output_type": "stream",
     "text": [
      "Training Epoch 7, Loss: 0.758790\n",
      "Accuracy: 0.6867256637168142\n",
      "Valdiation Epoch 7, Loss: 1.305176\n"
     ]
    },
    {
     "name": "stderr",
     "output_type": "stream",
     "text": [
      "100%|██████████| 184/184 [00:00<00:00, 374.47it/s]\n"
     ]
    },
    {
     "name": "stdout",
     "output_type": "stream",
     "text": [
      "Training Epoch 8, Loss: 0.700955\n",
      "Accuracy: 0.6548672566371682\n",
      "Valdiation Epoch 8, Loss: 1.309908\n"
     ]
    },
    {
     "name": "stderr",
     "output_type": "stream",
     "text": [
      "100%|██████████| 184/184 [00:00<00:00, 369.72it/s]\n"
     ]
    },
    {
     "name": "stdout",
     "output_type": "stream",
     "text": [
      "Training Epoch 9, Loss: 0.650897\n",
      "Accuracy: 0.5716814159292035\n",
      "Valdiation Epoch 9, Loss: 1.398275\n"
     ]
    },
    {
     "name": "stderr",
     "output_type": "stream",
     "text": [
      "100%|██████████| 184/184 [00:00<00:00, 373.26it/s]\n",
      "[I 2023-08-16 16:43:13,532] Trial 66 finished with value: 1.3206619123617809 and parameters: {'lr': 8.714699748552034e-05, 'batch_size': 32, 'd_model': 8, 'nhead': 8, 'num_layers': 2, 'hidden_dim': 4, 'layer_dim': 1}. Best is trial 54 with value: 1.242251820034451.\n",
      "[I 2023-08-16 16:43:13,545] Trial 67 finished with value: 1000.0 and parameters: {'lr': 4.894940358557454e-05, 'batch_size': 64, 'd_model': 7, 'nhead': 8, 'num_layers': 2, 'hidden_dim': 3, 'layer_dim': 1}. Best is trial 54 with value: 1.242251820034451.\n"
     ]
    },
    {
     "name": "stdout",
     "output_type": "stream",
     "text": [
      "Training Epoch 10, Loss: 0.604239\n",
      "Accuracy: 0.6212389380530974\n",
      "Valdiation Epoch 10, Loss: 1.320662\n",
      "128 256\n",
      "128 128\n",
      "[5555, 3420, 3267, 3256, 2847, 3155, 3266, 3048, 2449, 2527, 3583, 2925, 2516, 2869, 2482, 2803, 2374, 2235, 2372, 2028, 9011, 3378, 5160, 2620, 2453, 5274, 3320, 4020, 3279, 4310, 4411, 4145, 3730, 3700]\n",
      "['G1' 'G10' 'G11' 'G2' 'G3' 'G4' 'G5' 'G6' 'G8' 'G9']\n",
      "[0 0 0 ... 2 2 2]\n",
      "[[1. 0. 0. ... 0. 0. 0.]\n",
      " [1. 0. 0. ... 0. 0. 0.]\n",
      " [1. 0. 0. ... 0. 0. 0.]\n",
      " ...\n",
      " [0. 0. 1. ... 0. 0. 0.]\n",
      " [0. 0. 1. ... 0. 0. 0.]\n",
      " [0. 0. 1. ... 0. 0. 0.]]\n",
      "[2653, 2002, 2303, 2642, 1758]\n",
      "['G1' 'G10' 'G11' 'G2' 'G3' 'G4' 'G5' 'G6' 'G8' 'G9']\n",
      "[0 0 0 ... 2 2 2]\n",
      "[[1. 0. 0. ... 0. 0. 0.]\n",
      " [1. 0. 0. ... 0. 0. 0.]\n",
      " [1. 0. 0. ... 0. 0. 0.]\n",
      " ...\n",
      " [0. 0. 1. ... 0. 0. 0.]\n",
      " [0. 0. 1. ... 0. 0. 0.]\n",
      " [0. 0. 1. ... 0. 0. 0.]]\n"
     ]
    },
    {
     "name": "stderr",
     "output_type": "stream",
     "text": [
      "100%|██████████| 92/92 [00:00<00:00, 234.91it/s]\n"
     ]
    },
    {
     "name": "stdout",
     "output_type": "stream",
     "text": [
      "Training Epoch 1, Loss: 1.741680\n",
      "Accuracy: 0.49734513274336284\n",
      "Valdiation Epoch 1, Loss: 1.706638\n"
     ]
    },
    {
     "name": "stderr",
     "output_type": "stream",
     "text": [
      "100%|██████████| 92/92 [00:00<00:00, 199.95it/s]\n"
     ]
    },
    {
     "name": "stdout",
     "output_type": "stream",
     "text": [
      "Training Epoch 2, Loss: 1.362182\n",
      "Accuracy: 0.5610619469026549\n",
      "Valdiation Epoch 2, Loss: 1.522126\n"
     ]
    },
    {
     "name": "stderr",
     "output_type": "stream",
     "text": [
      "100%|██████████| 92/92 [00:00<00:00, 200.90it/s]\n"
     ]
    },
    {
     "name": "stdout",
     "output_type": "stream",
     "text": [
      "Training Epoch 3, Loss: 1.198762\n",
      "Accuracy: 0.5823008849557522\n",
      "Valdiation Epoch 3, Loss: 1.471529\n"
     ]
    },
    {
     "name": "stderr",
     "output_type": "stream",
     "text": [
      "100%|██████████| 92/92 [00:00<00:00, 204.16it/s]\n"
     ]
    },
    {
     "name": "stdout",
     "output_type": "stream",
     "text": [
      "Training Epoch 4, Loss: 1.094988\n",
      "Accuracy: 0.5964601769911504\n",
      "Valdiation Epoch 4, Loss: 1.476238\n"
     ]
    },
    {
     "name": "stderr",
     "output_type": "stream",
     "text": [
      "100%|██████████| 92/92 [00:00<00:00, 205.40it/s]\n"
     ]
    },
    {
     "name": "stdout",
     "output_type": "stream",
     "text": [
      "Training Epoch 5, Loss: 1.017291\n",
      "Accuracy: 0.6707964601769911\n",
      "Valdiation Epoch 5, Loss: 1.387493\n"
     ]
    },
    {
     "name": "stderr",
     "output_type": "stream",
     "text": [
      "100%|██████████| 92/92 [00:00<00:00, 207.17it/s]\n"
     ]
    },
    {
     "name": "stdout",
     "output_type": "stream",
     "text": [
      "Training Epoch 6, Loss: 0.947207\n",
      "Accuracy: 0.679646017699115\n",
      "Valdiation Epoch 6, Loss: 1.335849\n"
     ]
    },
    {
     "name": "stderr",
     "output_type": "stream",
     "text": [
      "100%|██████████| 92/92 [00:00<00:00, 218.80it/s]\n"
     ]
    },
    {
     "name": "stdout",
     "output_type": "stream",
     "text": [
      "Training Epoch 7, Loss: 0.884187\n",
      "Accuracy: 0.6566371681415929\n",
      "Valdiation Epoch 7, Loss: 1.326715\n"
     ]
    },
    {
     "name": "stderr",
     "output_type": "stream",
     "text": [
      "100%|██████████| 92/92 [00:00<00:00, 196.70it/s]\n"
     ]
    },
    {
     "name": "stdout",
     "output_type": "stream",
     "text": [
      "Training Epoch 8, Loss: 0.828516\n",
      "Accuracy: 0.6442477876106195\n",
      "Valdiation Epoch 8, Loss: 1.349707\n"
     ]
    },
    {
     "name": "stderr",
     "output_type": "stream",
     "text": [
      "100%|██████████| 92/92 [00:00<00:00, 196.00it/s]\n"
     ]
    },
    {
     "name": "stdout",
     "output_type": "stream",
     "text": [
      "Training Epoch 9, Loss: 0.780344\n",
      "Accuracy: 0.6141592920353982\n",
      "Valdiation Epoch 9, Loss: 1.349848\n"
     ]
    },
    {
     "name": "stderr",
     "output_type": "stream",
     "text": [
      "100%|██████████| 92/92 [00:00<00:00, 204.66it/s]\n",
      "[I 2023-08-16 16:43:19,242] Trial 68 finished with value: 1.3727281093597412 and parameters: {'lr': 0.00010757657069020283, 'batch_size': 64, 'd_model': 7, 'nhead': 7, 'num_layers': 2, 'hidden_dim': 4, 'layer_dim': 1}. Best is trial 54 with value: 1.242251820034451.\n"
     ]
    },
    {
     "name": "stdout",
     "output_type": "stream",
     "text": [
      "Training Epoch 10, Loss: 0.735441\n",
      "Accuracy: 0.6070796460176991\n",
      "Valdiation Epoch 10, Loss: 1.372728\n",
      "256 256\n",
      "[5555, 3420, 3267, 3256, 2847, 3155, 3266, 3048, 2449, 2527, 3583, 2925, 2516, 2869, 2482, 2803, 2374, 2235, 2372, 2028, 9011, 3378, 5160, 2620, 2453, 5274, 3320, 4020, 3279, 4310, 4411, 4145, 3730, 3700]\n",
      "['G1' 'G10' 'G11' 'G2' 'G3' 'G4' 'G5' 'G6' 'G8' 'G9']\n",
      "[0 0 0 ... 2 2 2]\n",
      "[[1. 0. 0. ... 0. 0. 0.]\n",
      " [1. 0. 0. ... 0. 0. 0.]\n",
      " [1. 0. 0. ... 0. 0. 0.]\n",
      " ...\n",
      " [0. 0. 1. ... 0. 0. 0.]\n",
      " [0. 0. 1. ... 0. 0. 0.]\n",
      " [0. 0. 1. ... 0. 0. 0.]]\n",
      "[2653, 2002, 2303, 2642, 1758]\n",
      "['G1' 'G10' 'G11' 'G2' 'G3' 'G4' 'G5' 'G6' 'G8' 'G9']\n",
      "[0 0 0 ... 2 2 2]\n",
      "[[1. 0. 0. ... 0. 0. 0.]\n",
      " [1. 0. 0. ... 0. 0. 0.]\n",
      " [1. 0. 0. ... 0. 0. 0.]\n",
      " ...\n",
      " [0. 0. 1. ... 0. 0. 0.]\n",
      " [0. 0. 1. ... 0. 0. 0.]\n",
      " [0. 0. 1. ... 0. 0. 0.]]\n"
     ]
    },
    {
     "name": "stderr",
     "output_type": "stream",
     "text": [
      "100%|██████████| 92/92 [00:00<00:00, 214.39it/s]\n"
     ]
    },
    {
     "name": "stdout",
     "output_type": "stream",
     "text": [
      "Training Epoch 1, Loss: 1.689442\n",
      "Accuracy: 0.5327433628318584\n",
      "Valdiation Epoch 1, Loss: 1.656395\n"
     ]
    },
    {
     "name": "stderr",
     "output_type": "stream",
     "text": [
      "100%|██████████| 92/92 [00:00<00:00, 198.75it/s]\n"
     ]
    },
    {
     "name": "stdout",
     "output_type": "stream",
     "text": [
      "Training Epoch 2, Loss: 1.279494\n",
      "Accuracy: 0.5716814159292035\n",
      "Valdiation Epoch 2, Loss: 1.493172\n"
     ]
    },
    {
     "name": "stderr",
     "output_type": "stream",
     "text": [
      "100%|██████████| 92/92 [00:00<00:00, 186.73it/s]\n"
     ]
    },
    {
     "name": "stdout",
     "output_type": "stream",
     "text": [
      "Training Epoch 3, Loss: 1.105897\n",
      "Accuracy: 0.5982300884955752\n",
      "Valdiation Epoch 3, Loss: 1.408403\n"
     ]
    },
    {
     "name": "stderr",
     "output_type": "stream",
     "text": [
      "100%|██████████| 92/92 [00:00<00:00, 195.03it/s]\n"
     ]
    },
    {
     "name": "stdout",
     "output_type": "stream",
     "text": [
      "Training Epoch 4, Loss: 1.003022\n",
      "Accuracy: 0.6389380530973451\n",
      "Valdiation Epoch 4, Loss: 1.373809\n"
     ]
    },
    {
     "name": "stderr",
     "output_type": "stream",
     "text": [
      "100%|██████████| 92/92 [00:00<00:00, 197.70it/s]\n"
     ]
    },
    {
     "name": "stdout",
     "output_type": "stream",
     "text": [
      "Training Epoch 5, Loss: 0.918092\n",
      "Accuracy: 0.6566371681415929\n",
      "Valdiation Epoch 5, Loss: 1.308681\n"
     ]
    },
    {
     "name": "stderr",
     "output_type": "stream",
     "text": [
      "100%|██████████| 92/92 [00:00<00:00, 201.80it/s]\n"
     ]
    },
    {
     "name": "stdout",
     "output_type": "stream",
     "text": [
      "Training Epoch 6, Loss: 0.850272\n",
      "Accuracy: 0.6743362831858407\n",
      "Valdiation Epoch 6, Loss: 1.341186\n"
     ]
    },
    {
     "name": "stderr",
     "output_type": "stream",
     "text": [
      "100%|██████████| 92/92 [00:00<00:00, 188.16it/s]\n"
     ]
    },
    {
     "name": "stdout",
     "output_type": "stream",
     "text": [
      "Training Epoch 7, Loss: 0.799852\n",
      "Accuracy: 0.6849557522123894\n",
      "Valdiation Epoch 7, Loss: 1.310085\n"
     ]
    },
    {
     "name": "stderr",
     "output_type": "stream",
     "text": [
      "100%|██████████| 92/92 [00:00<00:00, 206.07it/s]\n"
     ]
    },
    {
     "name": "stdout",
     "output_type": "stream",
     "text": [
      "Training Epoch 8, Loss: 0.742816\n",
      "Accuracy: 0.6831858407079646\n",
      "Valdiation Epoch 8, Loss: 1.301444\n"
     ]
    },
    {
     "name": "stderr",
     "output_type": "stream",
     "text": [
      "100%|██████████| 92/92 [00:00<00:00, 202.00it/s]\n"
     ]
    },
    {
     "name": "stdout",
     "output_type": "stream",
     "text": [
      "Training Epoch 9, Loss: 0.695617\n",
      "Accuracy: 0.6761061946902654\n",
      "Valdiation Epoch 9, Loss: 1.307929\n"
     ]
    },
    {
     "name": "stderr",
     "output_type": "stream",
     "text": [
      "100%|██████████| 92/92 [00:00<00:00, 210.09it/s]\n",
      "[I 2023-08-16 16:43:25,087] Trial 69 finished with value: 1.3489629824956257 and parameters: {'lr': 6.364421508711303e-05, 'batch_size': 64, 'd_model': 8, 'nhead': 8, 'num_layers': 2, 'hidden_dim': 5, 'layer_dim': 1}. Best is trial 54 with value: 1.242251820034451.\n",
      "[I 2023-08-16 16:43:25,106] Trial 70 finished with value: 1000.0 and parameters: {'lr': 0.00022583845245355245, 'batch_size': 64, 'd_model': 6, 'nhead': 7, 'num_layers': 2, 'hidden_dim': 3, 'layer_dim': 2}. Best is trial 54 with value: 1.242251820034451.\n"
     ]
    },
    {
     "name": "stdout",
     "output_type": "stream",
     "text": [
      "Training Epoch 10, Loss: 0.659599\n",
      "Accuracy: 0.631858407079646\n",
      "Valdiation Epoch 10, Loss: 1.348963\n",
      "64 128\n",
      "256 256\n",
      "[5555, 3420, 3267, 3256, 2847, 3155, 3266, 3048, 2449, 2527, 3583, 2925, 2516, 2869, 2482, 2803, 2374, 2235, 2372, 2028, 9011, 3378, 5160, 2620, 2453, 5274, 3320, 4020, 3279, 4310, 4411, 4145, 3730, 3700]\n",
      "['G1' 'G10' 'G11' 'G2' 'G3' 'G4' 'G5' 'G6' 'G8' 'G9']\n",
      "[0 0 0 ... 2 2 2]\n",
      "[[1. 0. 0. ... 0. 0. 0.]\n",
      " [1. 0. 0. ... 0. 0. 0.]\n",
      " [1. 0. 0. ... 0. 0. 0.]\n",
      " ...\n",
      " [0. 0. 1. ... 0. 0. 0.]\n",
      " [0. 0. 1. ... 0. 0. 0.]\n",
      " [0. 0. 1. ... 0. 0. 0.]]\n",
      "[2653, 2002, 2303, 2642, 1758]\n",
      "['G1' 'G10' 'G11' 'G2' 'G3' 'G4' 'G5' 'G6' 'G8' 'G9']\n",
      "[0 0 0 ... 2 2 2]\n",
      "[[1. 0. 0. ... 0. 0. 0.]\n",
      " [1. 0. 0. ... 0. 0. 0.]\n",
      " [1. 0. 0. ... 0. 0. 0.]\n",
      " ...\n",
      " [0. 0. 1. ... 0. 0. 0.]\n",
      " [0. 0. 1. ... 0. 0. 0.]\n",
      " [0. 0. 1. ... 0. 0. 0.]]\n"
     ]
    },
    {
     "name": "stderr",
     "output_type": "stream",
     "text": [
      "100%|██████████| 184/184 [00:00<00:00, 339.52it/s]\n"
     ]
    },
    {
     "name": "stdout",
     "output_type": "stream",
     "text": [
      "Training Epoch 1, Loss: 1.561126\n",
      "Accuracy: 0.5610619469026549\n",
      "Valdiation Epoch 1, Loss: 1.595216\n"
     ]
    },
    {
     "name": "stderr",
     "output_type": "stream",
     "text": [
      "100%|██████████| 184/184 [00:00<00:00, 328.68it/s]\n"
     ]
    },
    {
     "name": "stdout",
     "output_type": "stream",
     "text": [
      "Training Epoch 2, Loss: 1.234578\n",
      "Accuracy: 0.5787610619469027\n",
      "Valdiation Epoch 2, Loss: 1.507527\n"
     ]
    },
    {
     "name": "stderr",
     "output_type": "stream",
     "text": [
      "100%|██████████| 184/184 [00:00<00:00, 355.20it/s]\n"
     ]
    },
    {
     "name": "stdout",
     "output_type": "stream",
     "text": [
      "Training Epoch 3, Loss: 1.104990\n",
      "Accuracy: 0.6212389380530974\n",
      "Valdiation Epoch 3, Loss: 1.425637\n"
     ]
    },
    {
     "name": "stderr",
     "output_type": "stream",
     "text": [
      "100%|██████████| 184/184 [00:00<00:00, 364.87it/s]\n"
     ]
    },
    {
     "name": "stdout",
     "output_type": "stream",
     "text": [
      "Training Epoch 4, Loss: 1.003415\n",
      "Accuracy: 0.6495575221238938\n",
      "Valdiation Epoch 4, Loss: 1.419484\n"
     ]
    },
    {
     "name": "stderr",
     "output_type": "stream",
     "text": [
      "100%|██████████| 184/184 [00:00<00:00, 351.40it/s]\n"
     ]
    },
    {
     "name": "stdout",
     "output_type": "stream",
     "text": [
      "Training Epoch 5, Loss: 0.928594\n",
      "Accuracy: 0.647787610619469\n",
      "Valdiation Epoch 5, Loss: 1.427773\n"
     ]
    },
    {
     "name": "stderr",
     "output_type": "stream",
     "text": [
      "100%|██████████| 184/184 [00:00<00:00, 360.47it/s]\n"
     ]
    },
    {
     "name": "stdout",
     "output_type": "stream",
     "text": [
      "Training Epoch 6, Loss: 0.863358\n",
      "Accuracy: 0.6690265486725664\n",
      "Valdiation Epoch 6, Loss: 1.420489\n"
     ]
    },
    {
     "name": "stderr",
     "output_type": "stream",
     "text": [
      "100%|██████████| 184/184 [00:00<00:00, 361.22it/s]\n"
     ]
    },
    {
     "name": "stdout",
     "output_type": "stream",
     "text": [
      "Training Epoch 7, Loss: 0.804310\n",
      "Accuracy: 0.6212389380530974\n",
      "Valdiation Epoch 7, Loss: 1.425186\n"
     ]
    },
    {
     "name": "stderr",
     "output_type": "stream",
     "text": [
      "100%|██████████| 184/184 [00:00<00:00, 318.87it/s]\n"
     ]
    },
    {
     "name": "stdout",
     "output_type": "stream",
     "text": [
      "Training Epoch 8, Loss: 0.749212\n",
      "Accuracy: 0.5876106194690266\n",
      "Valdiation Epoch 8, Loss: 1.468930\n"
     ]
    },
    {
     "name": "stderr",
     "output_type": "stream",
     "text": [
      "100%|██████████| 184/184 [00:00<00:00, 334.34it/s]\n"
     ]
    },
    {
     "name": "stdout",
     "output_type": "stream",
     "text": [
      "Training Epoch 9, Loss: 0.696365\n",
      "Accuracy: 0.6371681415929203\n",
      "Valdiation Epoch 9, Loss: 1.398310\n"
     ]
    },
    {
     "name": "stderr",
     "output_type": "stream",
     "text": [
      "100%|██████████| 184/184 [00:00<00:00, 311.63it/s]\n",
      "[I 2023-08-16 16:43:31,702] Trial 71 finished with value: 1.487414903110928 and parameters: {'lr': 8.022437125740772e-05, 'batch_size': 32, 'd_model': 8, 'nhead': 8, 'num_layers': 2, 'hidden_dim': 4, 'layer_dim': 1}. Best is trial 54 with value: 1.242251820034451.\n"
     ]
    },
    {
     "name": "stdout",
     "output_type": "stream",
     "text": [
      "Training Epoch 10, Loss: 0.659909\n",
      "Accuracy: 0.5646017699115045\n",
      "Valdiation Epoch 10, Loss: 1.487415\n",
      "256 256\n",
      "[5555, 3420, 3267, 3256, 2847, 3155, 3266, 3048, 2449, 2527, 3583, 2925, 2516, 2869, 2482, 2803, 2374, 2235, 2372, 2028, 9011, 3378, 5160, 2620, 2453, 5274, 3320, 4020, 3279, 4310, 4411, 4145, 3730, 3700]\n",
      "['G1' 'G10' 'G11' 'G2' 'G3' 'G4' 'G5' 'G6' 'G8' 'G9']\n",
      "[0 0 0 ... 2 2 2]\n",
      "[[1. 0. 0. ... 0. 0. 0.]\n",
      " [1. 0. 0. ... 0. 0. 0.]\n",
      " [1. 0. 0. ... 0. 0. 0.]\n",
      " ...\n",
      " [0. 0. 1. ... 0. 0. 0.]\n",
      " [0. 0. 1. ... 0. 0. 0.]\n",
      " [0. 0. 1. ... 0. 0. 0.]]\n",
      "[2653, 2002, 2303, 2642, 1758]\n",
      "['G1' 'G10' 'G11' 'G2' 'G3' 'G4' 'G5' 'G6' 'G8' 'G9']\n",
      "[0 0 0 ... 2 2 2]\n",
      "[[1. 0. 0. ... 0. 0. 0.]\n",
      " [1. 0. 0. ... 0. 0. 0.]\n",
      " [1. 0. 0. ... 0. 0. 0.]\n",
      " ...\n",
      " [0. 0. 1. ... 0. 0. 0.]\n",
      " [0. 0. 1. ... 0. 0. 0.]\n",
      " [0. 0. 1. ... 0. 0. 0.]]\n"
     ]
    },
    {
     "name": "stderr",
     "output_type": "stream",
     "text": [
      "100%|██████████| 184/184 [00:00<00:00, 373.37it/s]\n"
     ]
    },
    {
     "name": "stdout",
     "output_type": "stream",
     "text": [
      "Training Epoch 1, Loss: 1.596572\n",
      "Accuracy: 0.5734513274336284\n",
      "Valdiation Epoch 1, Loss: 1.598817\n"
     ]
    },
    {
     "name": "stderr",
     "output_type": "stream",
     "text": [
      "100%|██████████| 184/184 [00:00<00:00, 377.89it/s]\n"
     ]
    },
    {
     "name": "stdout",
     "output_type": "stream",
     "text": [
      "Training Epoch 2, Loss: 1.236565\n",
      "Accuracy: 0.5805309734513274\n",
      "Valdiation Epoch 2, Loss: 1.527082\n"
     ]
    },
    {
     "name": "stderr",
     "output_type": "stream",
     "text": [
      "100%|██████████| 184/184 [00:00<00:00, 331.87it/s]\n"
     ]
    },
    {
     "name": "stdout",
     "output_type": "stream",
     "text": [
      "Training Epoch 3, Loss: 1.081450\n",
      "Accuracy: 0.6141592920353982\n",
      "Valdiation Epoch 3, Loss: 1.465683\n"
     ]
    },
    {
     "name": "stderr",
     "output_type": "stream",
     "text": [
      "100%|██████████| 184/184 [00:00<00:00, 330.91it/s]\n"
     ]
    },
    {
     "name": "stdout",
     "output_type": "stream",
     "text": [
      "Training Epoch 4, Loss: 0.978977\n",
      "Accuracy: 0.6566371681415929\n",
      "Valdiation Epoch 4, Loss: 1.426885\n"
     ]
    },
    {
     "name": "stderr",
     "output_type": "stream",
     "text": [
      "100%|██████████| 184/184 [00:00<00:00, 346.81it/s]\n"
     ]
    },
    {
     "name": "stdout",
     "output_type": "stream",
     "text": [
      "Training Epoch 5, Loss: 0.887930\n",
      "Accuracy: 0.6495575221238938\n",
      "Valdiation Epoch 5, Loss: 1.424950\n"
     ]
    },
    {
     "name": "stderr",
     "output_type": "stream",
     "text": [
      "100%|██████████| 184/184 [00:00<00:00, 359.14it/s]\n"
     ]
    },
    {
     "name": "stdout",
     "output_type": "stream",
     "text": [
      "Training Epoch 6, Loss: 0.816457\n",
      "Accuracy: 0.6690265486725664\n",
      "Valdiation Epoch 6, Loss: 1.437307\n"
     ]
    },
    {
     "name": "stderr",
     "output_type": "stream",
     "text": [
      "100%|██████████| 184/184 [00:00<00:00, 363.20it/s]\n"
     ]
    },
    {
     "name": "stdout",
     "output_type": "stream",
     "text": [
      "Training Epoch 7, Loss: 0.759937\n",
      "Accuracy: 0.6690265486725664\n",
      "Valdiation Epoch 7, Loss: 1.415154\n"
     ]
    },
    {
     "name": "stderr",
     "output_type": "stream",
     "text": [
      "100%|██████████| 184/184 [00:00<00:00, 337.21it/s]\n"
     ]
    },
    {
     "name": "stdout",
     "output_type": "stream",
     "text": [
      "Training Epoch 8, Loss: 0.699771\n",
      "Accuracy: 0.5929203539823009\n",
      "Valdiation Epoch 8, Loss: 1.461768\n"
     ]
    },
    {
     "name": "stderr",
     "output_type": "stream",
     "text": [
      "100%|██████████| 184/184 [00:00<00:00, 292.54it/s]\n"
     ]
    },
    {
     "name": "stdout",
     "output_type": "stream",
     "text": [
      "Training Epoch 9, Loss: 0.650172\n",
      "Accuracy: 0.6017699115044248\n",
      "Valdiation Epoch 9, Loss: 1.453064\n"
     ]
    },
    {
     "name": "stderr",
     "output_type": "stream",
     "text": [
      "100%|██████████| 184/184 [00:00<00:00, 344.92it/s]\n",
      "[I 2023-08-16 16:43:38,256] Trial 72 finished with value: 1.4146025247044034 and parameters: {'lr': 9.389894711860352e-05, 'batch_size': 32, 'd_model': 8, 'nhead': 8, 'num_layers': 2, 'hidden_dim': 4, 'layer_dim': 1}. Best is trial 54 with value: 1.242251820034451.\n"
     ]
    },
    {
     "name": "stdout",
     "output_type": "stream",
     "text": [
      "Training Epoch 10, Loss: 0.605545\n",
      "Accuracy: 0.5911504424778761\n",
      "Valdiation Epoch 10, Loss: 1.414603\n",
      "256 256\n",
      "[5555, 3420, 3267, 3256, 2847, 3155, 3266, 3048, 2449, 2527, 3583, 2925, 2516, 2869, 2482, 2803, 2374, 2235, 2372, 2028, 9011, 3378, 5160, 2620, 2453, 5274, 3320, 4020, 3279, 4310, 4411, 4145, 3730, 3700]\n",
      "['G1' 'G10' 'G11' 'G2' 'G3' 'G4' 'G5' 'G6' 'G8' 'G9']\n",
      "[0 0 0 ... 2 2 2]\n",
      "[[1. 0. 0. ... 0. 0. 0.]\n",
      " [1. 0. 0. ... 0. 0. 0.]\n",
      " [1. 0. 0. ... 0. 0. 0.]\n",
      " ...\n",
      " [0. 0. 1. ... 0. 0. 0.]\n",
      " [0. 0. 1. ... 0. 0. 0.]\n",
      " [0. 0. 1. ... 0. 0. 0.]]\n",
      "[2653, 2002, 2303, 2642, 1758]\n",
      "['G1' 'G10' 'G11' 'G2' 'G3' 'G4' 'G5' 'G6' 'G8' 'G9']\n",
      "[0 0 0 ... 2 2 2]\n",
      "[[1. 0. 0. ... 0. 0. 0.]\n",
      " [1. 0. 0. ... 0. 0. 0.]\n",
      " [1. 0. 0. ... 0. 0. 0.]\n",
      " ...\n",
      " [0. 0. 1. ... 0. 0. 0.]\n",
      " [0. 0. 1. ... 0. 0. 0.]\n",
      " [0. 0. 1. ... 0. 0. 0.]]\n"
     ]
    },
    {
     "name": "stderr",
     "output_type": "stream",
     "text": [
      "100%|██████████| 184/184 [00:00<00:00, 362.20it/s]\n"
     ]
    },
    {
     "name": "stdout",
     "output_type": "stream",
     "text": [
      "Training Epoch 1, Loss: 1.528808\n",
      "Accuracy: 0.5309734513274337\n",
      "Valdiation Epoch 1, Loss: 1.581395\n"
     ]
    },
    {
     "name": "stderr",
     "output_type": "stream",
     "text": [
      "100%|██████████| 184/184 [00:00<00:00, 361.30it/s]\n"
     ]
    },
    {
     "name": "stdout",
     "output_type": "stream",
     "text": [
      "Training Epoch 2, Loss: 1.129478\n",
      "Accuracy: 0.5823008849557522\n",
      "Valdiation Epoch 2, Loss: 1.457427\n"
     ]
    },
    {
     "name": "stderr",
     "output_type": "stream",
     "text": [
      "100%|██████████| 184/184 [00:00<00:00, 294.38it/s]\n"
     ]
    },
    {
     "name": "stdout",
     "output_type": "stream",
     "text": [
      "Training Epoch 3, Loss: 0.985550\n",
      "Accuracy: 0.6407079646017699\n",
      "Valdiation Epoch 3, Loss: 1.373211\n"
     ]
    },
    {
     "name": "stderr",
     "output_type": "stream",
     "text": [
      "100%|██████████| 184/184 [00:00<00:00, 355.31it/s]\n"
     ]
    },
    {
     "name": "stdout",
     "output_type": "stream",
     "text": [
      "Training Epoch 4, Loss: 0.893863\n",
      "Accuracy: 0.6495575221238938\n",
      "Valdiation Epoch 4, Loss: 1.343493\n"
     ]
    },
    {
     "name": "stderr",
     "output_type": "stream",
     "text": [
      "100%|██████████| 184/184 [00:00<00:00, 331.20it/s]\n"
     ]
    },
    {
     "name": "stdout",
     "output_type": "stream",
     "text": [
      "Training Epoch 5, Loss: 0.826151\n",
      "Accuracy: 0.6141592920353982\n",
      "Valdiation Epoch 5, Loss: 1.358527\n"
     ]
    },
    {
     "name": "stderr",
     "output_type": "stream",
     "text": [
      "100%|██████████| 184/184 [00:00<00:00, 331.23it/s]\n"
     ]
    },
    {
     "name": "stdout",
     "output_type": "stream",
     "text": [
      "Training Epoch 6, Loss: 0.769690\n",
      "Accuracy: 0.647787610619469\n",
      "Valdiation Epoch 6, Loss: 1.329152\n"
     ]
    },
    {
     "name": "stderr",
     "output_type": "stream",
     "text": [
      "100%|██████████| 184/184 [00:00<00:00, 359.59it/s]\n"
     ]
    },
    {
     "name": "stdout",
     "output_type": "stream",
     "text": [
      "Training Epoch 7, Loss: 0.719076\n",
      "Accuracy: 0.6973451327433628\n",
      "Valdiation Epoch 7, Loss: 1.251551\n"
     ]
    },
    {
     "name": "stderr",
     "output_type": "stream",
     "text": [
      "100%|██████████| 184/184 [00:00<00:00, 368.81it/s]\n"
     ]
    },
    {
     "name": "stdout",
     "output_type": "stream",
     "text": [
      "Training Epoch 8, Loss: 0.672236\n",
      "Accuracy: 0.6230088495575221\n",
      "Valdiation Epoch 8, Loss: 1.355399\n"
     ]
    },
    {
     "name": "stderr",
     "output_type": "stream",
     "text": [
      "100%|██████████| 184/184 [00:00<00:00, 354.68it/s]\n"
     ]
    },
    {
     "name": "stdout",
     "output_type": "stream",
     "text": [
      "Training Epoch 9, Loss: 0.630237\n",
      "Accuracy: 0.6265486725663717\n",
      "Valdiation Epoch 9, Loss: 1.282953\n"
     ]
    },
    {
     "name": "stderr",
     "output_type": "stream",
     "text": [
      "100%|██████████| 184/184 [00:00<00:00, 355.67it/s]\n",
      "[I 2023-08-16 16:43:44,787] Trial 73 finished with value: 1.2837073538038466 and parameters: {'lr': 4.8384264140126095e-05, 'batch_size': 32, 'd_model': 8, 'nhead': 8, 'num_layers': 2, 'hidden_dim': 5, 'layer_dim': 1}. Best is trial 54 with value: 1.242251820034451.\n"
     ]
    },
    {
     "name": "stdout",
     "output_type": "stream",
     "text": [
      "Training Epoch 10, Loss: 0.592459\n",
      "Accuracy: 0.6460176991150443\n",
      "Valdiation Epoch 10, Loss: 1.283707\n",
      "256 256\n",
      "[5555, 3420, 3267, 3256, 2847, 3155, 3266, 3048, 2449, 2527, 3583, 2925, 2516, 2869, 2482, 2803, 2374, 2235, 2372, 2028, 9011, 3378, 5160, 2620, 2453, 5274, 3320, 4020, 3279, 4310, 4411, 4145, 3730, 3700]\n",
      "['G1' 'G10' 'G11' 'G2' 'G3' 'G4' 'G5' 'G6' 'G8' 'G9']\n",
      "[0 0 0 ... 2 2 2]\n",
      "[[1. 0. 0. ... 0. 0. 0.]\n",
      " [1. 0. 0. ... 0. 0. 0.]\n",
      " [1. 0. 0. ... 0. 0. 0.]\n",
      " ...\n",
      " [0. 0. 1. ... 0. 0. 0.]\n",
      " [0. 0. 1. ... 0. 0. 0.]\n",
      " [0. 0. 1. ... 0. 0. 0.]]\n",
      "[2653, 2002, 2303, 2642, 1758]\n",
      "['G1' 'G10' 'G11' 'G2' 'G3' 'G4' 'G5' 'G6' 'G8' 'G9']\n",
      "[0 0 0 ... 2 2 2]\n",
      "[[1. 0. 0. ... 0. 0. 0.]\n",
      " [1. 0. 0. ... 0. 0. 0.]\n",
      " [1. 0. 0. ... 0. 0. 0.]\n",
      " ...\n",
      " [0. 0. 1. ... 0. 0. 0.]\n",
      " [0. 0. 1. ... 0. 0. 0.]\n",
      " [0. 0. 1. ... 0. 0. 0.]]\n"
     ]
    },
    {
     "name": "stderr",
     "output_type": "stream",
     "text": [
      "100%|██████████| 184/184 [00:00<00:00, 314.97it/s]\n"
     ]
    },
    {
     "name": "stdout",
     "output_type": "stream",
     "text": [
      "Training Epoch 1, Loss: 1.580256\n",
      "Accuracy: 0.5380530973451327\n",
      "Valdiation Epoch 1, Loss: 1.597385\n"
     ]
    },
    {
     "name": "stderr",
     "output_type": "stream",
     "text": [
      "100%|██████████| 184/184 [00:00<00:00, 344.64it/s]\n"
     ]
    },
    {
     "name": "stdout",
     "output_type": "stream",
     "text": [
      "Training Epoch 2, Loss: 1.168714\n",
      "Accuracy: 0.5734513274336284\n",
      "Valdiation Epoch 2, Loss: 1.474937\n"
     ]
    },
    {
     "name": "stderr",
     "output_type": "stream",
     "text": [
      "100%|██████████| 184/184 [00:00<00:00, 347.85it/s]\n"
     ]
    },
    {
     "name": "stdout",
     "output_type": "stream",
     "text": [
      "Training Epoch 3, Loss: 1.003707\n",
      "Accuracy: 0.6778761061946903\n",
      "Valdiation Epoch 3, Loss: 1.337051\n"
     ]
    },
    {
     "name": "stderr",
     "output_type": "stream",
     "text": [
      "100%|██████████| 184/184 [00:00<00:00, 335.02it/s]\n"
     ]
    },
    {
     "name": "stdout",
     "output_type": "stream",
     "text": [
      "Training Epoch 4, Loss: 0.904304\n",
      "Accuracy: 0.6831858407079646\n",
      "Valdiation Epoch 4, Loss: 1.303690\n"
     ]
    },
    {
     "name": "stderr",
     "output_type": "stream",
     "text": [
      "100%|██████████| 184/184 [00:00<00:00, 365.53it/s]\n"
     ]
    },
    {
     "name": "stdout",
     "output_type": "stream",
     "text": [
      "Training Epoch 5, Loss: 0.822701\n",
      "Accuracy: 0.6460176991150443\n",
      "Valdiation Epoch 5, Loss: 1.339181\n"
     ]
    },
    {
     "name": "stderr",
     "output_type": "stream",
     "text": [
      "100%|██████████| 184/184 [00:00<00:00, 360.79it/s]\n"
     ]
    },
    {
     "name": "stdout",
     "output_type": "stream",
     "text": [
      "Training Epoch 6, Loss: 0.757154\n",
      "Accuracy: 0.6814159292035398\n",
      "Valdiation Epoch 6, Loss: 1.311381\n"
     ]
    },
    {
     "name": "stderr",
     "output_type": "stream",
     "text": [
      "100%|██████████| 184/184 [00:00<00:00, 369.89it/s]\n"
     ]
    },
    {
     "name": "stdout",
     "output_type": "stream",
     "text": [
      "Training Epoch 7, Loss: 0.696875\n",
      "Accuracy: 0.679646017699115\n",
      "Valdiation Epoch 7, Loss: 1.316375\n"
     ]
    },
    {
     "name": "stderr",
     "output_type": "stream",
     "text": [
      "100%|██████████| 184/184 [00:00<00:00, 336.84it/s]\n"
     ]
    },
    {
     "name": "stdout",
     "output_type": "stream",
     "text": [
      "Training Epoch 8, Loss: 0.652124\n",
      "Accuracy: 0.679646017699115\n",
      "Valdiation Epoch 8, Loss: 1.306220\n"
     ]
    },
    {
     "name": "stderr",
     "output_type": "stream",
     "text": [
      "100%|██████████| 184/184 [00:00<00:00, 345.07it/s]\n"
     ]
    },
    {
     "name": "stdout",
     "output_type": "stream",
     "text": [
      "Training Epoch 9, Loss: 0.607547\n",
      "Accuracy: 0.647787610619469\n",
      "Valdiation Epoch 9, Loss: 1.325104\n"
     ]
    },
    {
     "name": "stderr",
     "output_type": "stream",
     "text": [
      "100%|██████████| 184/184 [00:00<00:00, 365.43it/s]\n",
      "[I 2023-08-16 16:43:51,297] Trial 74 finished with value: 1.333978020482593 and parameters: {'lr': 5.376549766679881e-05, 'batch_size': 32, 'd_model': 8, 'nhead': 8, 'num_layers': 2, 'hidden_dim': 5, 'layer_dim': 1}. Best is trial 54 with value: 1.242251820034451.\n",
      "[I 2023-08-16 16:43:51,310] Trial 75 finished with value: 1000.0 and parameters: {'lr': 4.5835552670730846e-05, 'batch_size': 32, 'd_model': 7, 'nhead': 8, 'num_layers': 2, 'hidden_dim': 5, 'layer_dim': 1}. Best is trial 54 with value: 1.242251820034451.\n",
      "[I 2023-08-16 16:43:51,322] Trial 76 finished with value: 1000.0 and parameters: {'lr': 3.178629895807417e-05, 'batch_size': 64, 'd_model': 2, 'nhead': 7, 'num_layers': 2, 'hidden_dim': 5, 'layer_dim': 1}. Best is trial 54 with value: 1.242251820034451.\n"
     ]
    },
    {
     "name": "stdout",
     "output_type": "stream",
     "text": [
      "Training Epoch 10, Loss: 0.565109\n",
      "Accuracy: 0.647787610619469\n",
      "Valdiation Epoch 10, Loss: 1.333978\n",
      "128 256\n",
      "4 128\n",
      "256 256\n",
      "[5555, 3420, 3267, 3256, 2847, 3155, 3266, 3048, 2449, 2527, 3583, 2925, 2516, 2869, 2482, 2803, 2374, 2235, 2372, 2028, 9011, 3378, 5160, 2620, 2453, 5274, 3320, 4020, 3279, 4310, 4411, 4145, 3730, 3700]\n",
      "['G1' 'G10' 'G11' 'G2' 'G3' 'G4' 'G5' 'G6' 'G8' 'G9']\n",
      "[0 0 0 ... 2 2 2]\n",
      "[[1. 0. 0. ... 0. 0. 0.]\n",
      " [1. 0. 0. ... 0. 0. 0.]\n",
      " [1. 0. 0. ... 0. 0. 0.]\n",
      " ...\n",
      " [0. 0. 1. ... 0. 0. 0.]\n",
      " [0. 0. 1. ... 0. 0. 0.]\n",
      " [0. 0. 1. ... 0. 0. 0.]]\n",
      "[2653, 2002, 2303, 2642, 1758]\n",
      "['G1' 'G10' 'G11' 'G2' 'G3' 'G4' 'G5' 'G6' 'G8' 'G9']\n",
      "[0 0 0 ... 2 2 2]\n",
      "[[1. 0. 0. ... 0. 0. 0.]\n",
      " [1. 0. 0. ... 0. 0. 0.]\n",
      " [1. 0. 0. ... 0. 0. 0.]\n",
      " ...\n",
      " [0. 0. 1. ... 0. 0. 0.]\n",
      " [0. 0. 1. ... 0. 0. 0.]\n",
      " [0. 0. 1. ... 0. 0. 0.]]\n"
     ]
    },
    {
     "name": "stderr",
     "output_type": "stream",
     "text": [
      "100%|██████████| 92/92 [00:00<00:00, 307.47it/s]\n"
     ]
    },
    {
     "name": "stdout",
     "output_type": "stream",
     "text": [
      "Training Epoch 1, Loss: 2.093732\n",
      "Accuracy: 0.2\n",
      "Valdiation Epoch 1, Loss: 2.269582\n"
     ]
    },
    {
     "name": "stderr",
     "output_type": "stream",
     "text": [
      "100%|██████████| 92/92 [00:00<00:00, 286.58it/s]\n"
     ]
    },
    {
     "name": "stdout",
     "output_type": "stream",
     "text": [
      "Training Epoch 2, Loss: 2.000765\n",
      "Accuracy: 0.40353982300884955\n",
      "Valdiation Epoch 2, Loss: 2.213937\n"
     ]
    },
    {
     "name": "stderr",
     "output_type": "stream",
     "text": [
      "100%|██████████| 92/92 [00:00<00:00, 315.03it/s]\n"
     ]
    },
    {
     "name": "stdout",
     "output_type": "stream",
     "text": [
      "Training Epoch 3, Loss: 1.939337\n",
      "Accuracy: 0.39646017699115044\n",
      "Valdiation Epoch 3, Loss: 2.194988\n"
     ]
    },
    {
     "name": "stderr",
     "output_type": "stream",
     "text": [
      "100%|██████████| 92/92 [00:00<00:00, 293.31it/s]\n"
     ]
    },
    {
     "name": "stdout",
     "output_type": "stream",
     "text": [
      "Training Epoch 4, Loss: 1.894031\n",
      "Accuracy: 0.40353982300884955\n",
      "Valdiation Epoch 4, Loss: 2.162574\n"
     ]
    },
    {
     "name": "stderr",
     "output_type": "stream",
     "text": [
      "100%|██████████| 92/92 [00:00<00:00, 291.00it/s]\n"
     ]
    },
    {
     "name": "stdout",
     "output_type": "stream",
     "text": [
      "Training Epoch 5, Loss: 1.856813\n",
      "Accuracy: 0.3769911504424779\n",
      "Valdiation Epoch 5, Loss: 2.144878\n"
     ]
    },
    {
     "name": "stderr",
     "output_type": "stream",
     "text": [
      "100%|██████████| 92/92 [00:00<00:00, 295.62it/s]\n"
     ]
    },
    {
     "name": "stdout",
     "output_type": "stream",
     "text": [
      "Training Epoch 6, Loss: 1.823505\n",
      "Accuracy: 0.45309734513274336\n",
      "Valdiation Epoch 6, Loss: 2.110154\n"
     ]
    },
    {
     "name": "stderr",
     "output_type": "stream",
     "text": [
      "100%|██████████| 92/92 [00:00<00:00, 276.91it/s]\n"
     ]
    },
    {
     "name": "stdout",
     "output_type": "stream",
     "text": [
      "Training Epoch 7, Loss: 1.786864\n",
      "Accuracy: 0.4300884955752212\n",
      "Valdiation Epoch 7, Loss: 2.089558\n"
     ]
    },
    {
     "name": "stderr",
     "output_type": "stream",
     "text": [
      "100%|██████████| 92/92 [00:00<00:00, 324.62it/s]\n"
     ]
    },
    {
     "name": "stdout",
     "output_type": "stream",
     "text": [
      "Training Epoch 8, Loss: 1.757335\n",
      "Accuracy: 0.5061946902654867\n",
      "Valdiation Epoch 8, Loss: 2.063002\n"
     ]
    },
    {
     "name": "stderr",
     "output_type": "stream",
     "text": [
      "100%|██████████| 92/92 [00:00<00:00, 269.76it/s]\n"
     ]
    },
    {
     "name": "stdout",
     "output_type": "stream",
     "text": [
      "Training Epoch 9, Loss: 1.729173\n",
      "Accuracy: 0.5150442477876106\n",
      "Valdiation Epoch 9, Loss: 2.061535\n"
     ]
    },
    {
     "name": "stderr",
     "output_type": "stream",
     "text": [
      "100%|██████████| 92/92 [00:00<00:00, 290.18it/s]\n",
      "[I 2023-08-16 16:43:55,601] Trial 77 finished with value: 2.0440592898262873 and parameters: {'lr': 0.00014698221081486156, 'batch_size': 64, 'd_model': 8, 'nhead': 8, 'num_layers': 1, 'hidden_dim': 1, 'layer_dim': 1}. Best is trial 54 with value: 1.242251820034451.\n"
     ]
    },
    {
     "name": "stdout",
     "output_type": "stream",
     "text": [
      "Training Epoch 10, Loss: 1.702954\n",
      "Accuracy: 0.49911504424778763\n",
      "Valdiation Epoch 10, Loss: 2.044059\n",
      "256 128\n",
      "[5555, 3420, 3267, 3256, 2847, 3155, 3266, 3048, 2449, 2527, 3583, 2925, 2516, 2869, 2482, 2803, 2374, 2235, 2372, 2028, 9011, 3378, 5160, 2620, 2453, 5274, 3320, 4020, 3279, 4310, 4411, 4145, 3730, 3700]\n",
      "['G1' 'G10' 'G11' 'G2' 'G3' 'G4' 'G5' 'G6' 'G8' 'G9']\n",
      "[0 0 0 ... 2 2 2]\n",
      "[[1. 0. 0. ... 0. 0. 0.]\n",
      " [1. 0. 0. ... 0. 0. 0.]\n",
      " [1. 0. 0. ... 0. 0. 0.]\n",
      " ...\n",
      " [0. 0. 1. ... 0. 0. 0.]\n",
      " [0. 0. 1. ... 0. 0. 0.]\n",
      " [0. 0. 1. ... 0. 0. 0.]]\n",
      "[2653, 2002, 2303, 2642, 1758]\n",
      "['G1' 'G10' 'G11' 'G2' 'G3' 'G4' 'G5' 'G6' 'G8' 'G9']\n",
      "[0 0 0 ... 2 2 2]\n",
      "[[1. 0. 0. ... 0. 0. 0.]\n",
      " [1. 0. 0. ... 0. 0. 0.]\n",
      " [1. 0. 0. ... 0. 0. 0.]\n",
      " ...\n",
      " [0. 0. 1. ... 0. 0. 0.]\n",
      " [0. 0. 1. ... 0. 0. 0.]\n",
      " [0. 0. 1. ... 0. 0. 0.]]\n"
     ]
    },
    {
     "name": "stderr",
     "output_type": "stream",
     "text": [
      "100%|██████████| 92/92 [00:00<00:00, 228.77it/s]\n"
     ]
    },
    {
     "name": "stdout",
     "output_type": "stream",
     "text": [
      "Training Epoch 1, Loss: 1.627568\n",
      "Accuracy: 0.5221238938053098\n",
      "Valdiation Epoch 1, Loss: 1.720052\n"
     ]
    },
    {
     "name": "stderr",
     "output_type": "stream",
     "text": [
      "100%|██████████| 92/92 [00:00<00:00, 204.84it/s]\n"
     ]
    },
    {
     "name": "stdout",
     "output_type": "stream",
     "text": [
      "Training Epoch 2, Loss: 1.275323\n",
      "Accuracy: 0.6336283185840708\n",
      "Valdiation Epoch 2, Loss: 1.546028\n"
     ]
    },
    {
     "name": "stderr",
     "output_type": "stream",
     "text": [
      "100%|██████████| 92/92 [00:00<00:00, 195.47it/s]\n"
     ]
    },
    {
     "name": "stdout",
     "output_type": "stream",
     "text": [
      "Training Epoch 3, Loss: 1.143124\n",
      "Accuracy: 0.584070796460177\n",
      "Valdiation Epoch 3, Loss: 1.500362\n"
     ]
    },
    {
     "name": "stderr",
     "output_type": "stream",
     "text": [
      "100%|██████████| 92/92 [00:00<00:00, 199.04it/s]\n"
     ]
    },
    {
     "name": "stdout",
     "output_type": "stream",
     "text": [
      "Training Epoch 4, Loss: 1.051276\n",
      "Accuracy: 0.6530973451327433\n",
      "Valdiation Epoch 4, Loss: 1.430611\n"
     ]
    },
    {
     "name": "stderr",
     "output_type": "stream",
     "text": [
      "100%|██████████| 92/92 [00:00<00:00, 203.48it/s]\n"
     ]
    },
    {
     "name": "stdout",
     "output_type": "stream",
     "text": [
      "Training Epoch 5, Loss: 0.974681\n",
      "Accuracy: 0.6513274336283186\n",
      "Valdiation Epoch 5, Loss: 1.408017\n"
     ]
    },
    {
     "name": "stderr",
     "output_type": "stream",
     "text": [
      "100%|██████████| 92/92 [00:00<00:00, 201.07it/s]\n"
     ]
    },
    {
     "name": "stdout",
     "output_type": "stream",
     "text": [
      "Training Epoch 6, Loss: 0.911761\n",
      "Accuracy: 0.6442477876106195\n",
      "Valdiation Epoch 6, Loss: 1.399103\n"
     ]
    },
    {
     "name": "stderr",
     "output_type": "stream",
     "text": [
      "100%|██████████| 92/92 [00:00<00:00, 183.62it/s]\n"
     ]
    },
    {
     "name": "stdout",
     "output_type": "stream",
     "text": [
      "Training Epoch 7, Loss: 0.854902\n",
      "Accuracy: 0.6371681415929203\n",
      "Valdiation Epoch 7, Loss: 1.403283\n"
     ]
    },
    {
     "name": "stderr",
     "output_type": "stream",
     "text": [
      "100%|██████████| 92/92 [00:00<00:00, 204.10it/s]\n"
     ]
    },
    {
     "name": "stdout",
     "output_type": "stream",
     "text": [
      "Training Epoch 8, Loss: 0.800165\n",
      "Accuracy: 0.6371681415929203\n",
      "Valdiation Epoch 8, Loss: 1.410788\n"
     ]
    },
    {
     "name": "stderr",
     "output_type": "stream",
     "text": [
      "100%|██████████| 92/92 [00:00<00:00, 206.10it/s]\n"
     ]
    },
    {
     "name": "stdout",
     "output_type": "stream",
     "text": [
      "Training Epoch 9, Loss: 0.751648\n",
      "Accuracy: 0.6495575221238938\n",
      "Valdiation Epoch 9, Loss: 1.432718\n"
     ]
    },
    {
     "name": "stderr",
     "output_type": "stream",
     "text": [
      "100%|██████████| 92/92 [00:00<00:00, 188.65it/s]\n",
      "[I 2023-08-16 16:44:01,416] Trial 78 finished with value: 1.4193089935514662 and parameters: {'lr': 0.00011407978988311061, 'batch_size': 64, 'd_model': 8, 'nhead': 7, 'num_layers': 2, 'hidden_dim': 4, 'layer_dim': 1}. Best is trial 54 with value: 1.242251820034451.\n",
      "[I 2023-08-16 16:44:01,433] Trial 79 finished with value: 1000.0 and parameters: {'lr': 4.2880890966687475e-05, 'batch_size': 32, 'd_model': 7, 'nhead': 8, 'num_layers': 2, 'hidden_dim': 5, 'layer_dim': 1}. Best is trial 54 with value: 1.242251820034451.\n",
      "[I 2023-08-16 16:44:01,445] Trial 80 finished with value: 1000.0 and parameters: {'lr': 6.41261551316465e-05, 'batch_size': 64, 'd_model': 5, 'nhead': 7, 'num_layers': 2, 'hidden_dim': 5, 'layer_dim': 1}. Best is trial 54 with value: 1.242251820034451.\n"
     ]
    },
    {
     "name": "stdout",
     "output_type": "stream",
     "text": [
      "Training Epoch 10, Loss: 0.703825\n",
      "Accuracy: 0.6194690265486725\n",
      "Valdiation Epoch 10, Loss: 1.419309\n",
      "128 256\n",
      "32 128\n",
      "256 256\n",
      "[5555, 3420, 3267, 3256, 2847, 3155, 3266, 3048, 2449, 2527, 3583, 2925, 2516, 2869, 2482, 2803, 2374, 2235, 2372, 2028, 9011, 3378, 5160, 2620, 2453, 5274, 3320, 4020, 3279, 4310, 4411, 4145, 3730, 3700]\n",
      "['G1' 'G10' 'G11' 'G2' 'G3' 'G4' 'G5' 'G6' 'G8' 'G9']\n",
      "[0 0 0 ... 2 2 2]\n",
      "[[1. 0. 0. ... 0. 0. 0.]\n",
      " [1. 0. 0. ... 0. 0. 0.]\n",
      " [1. 0. 0. ... 0. 0. 0.]\n",
      " ...\n",
      " [0. 0. 1. ... 0. 0. 0.]\n",
      " [0. 0. 1. ... 0. 0. 0.]\n",
      " [0. 0. 1. ... 0. 0. 0.]]\n",
      "[2653, 2002, 2303, 2642, 1758]\n",
      "['G1' 'G10' 'G11' 'G2' 'G3' 'G4' 'G5' 'G6' 'G8' 'G9']\n",
      "[0 0 0 ... 2 2 2]\n",
      "[[1. 0. 0. ... 0. 0. 0.]\n",
      " [1. 0. 0. ... 0. 0. 0.]\n",
      " [1. 0. 0. ... 0. 0. 0.]\n",
      " ...\n",
      " [0. 0. 1. ... 0. 0. 0.]\n",
      " [0. 0. 1. ... 0. 0. 0.]\n",
      " [0. 0. 1. ... 0. 0. 0.]]\n"
     ]
    },
    {
     "name": "stderr",
     "output_type": "stream",
     "text": [
      "100%|██████████| 184/184 [00:00<00:00, 351.43it/s]\n"
     ]
    },
    {
     "name": "stdout",
     "output_type": "stream",
     "text": [
      "Training Epoch 1, Loss: 1.532775\n",
      "Accuracy: 0.5592920353982301\n",
      "Valdiation Epoch 1, Loss: 1.570505\n"
     ]
    },
    {
     "name": "stderr",
     "output_type": "stream",
     "text": [
      "100%|██████████| 184/184 [00:00<00:00, 338.08it/s]\n"
     ]
    },
    {
     "name": "stdout",
     "output_type": "stream",
     "text": [
      "Training Epoch 2, Loss: 1.179626\n",
      "Accuracy: 0.6353982300884956\n",
      "Valdiation Epoch 2, Loss: 1.407494\n"
     ]
    },
    {
     "name": "stderr",
     "output_type": "stream",
     "text": [
      "100%|██████████| 184/184 [00:00<00:00, 318.99it/s]\n"
     ]
    },
    {
     "name": "stdout",
     "output_type": "stream",
     "text": [
      "Training Epoch 3, Loss: 1.032016\n",
      "Accuracy: 0.6300884955752213\n",
      "Valdiation Epoch 3, Loss: 1.372500\n"
     ]
    },
    {
     "name": "stderr",
     "output_type": "stream",
     "text": [
      "100%|██████████| 184/184 [00:00<00:00, 360.30it/s]\n"
     ]
    },
    {
     "name": "stdout",
     "output_type": "stream",
     "text": [
      "Training Epoch 4, Loss: 0.943865\n",
      "Accuracy: 0.6513274336283186\n",
      "Valdiation Epoch 4, Loss: 1.336389\n"
     ]
    },
    {
     "name": "stderr",
     "output_type": "stream",
     "text": [
      "100%|██████████| 184/184 [00:00<00:00, 364.18it/s]\n"
     ]
    },
    {
     "name": "stdout",
     "output_type": "stream",
     "text": [
      "Training Epoch 5, Loss: 0.868238\n",
      "Accuracy: 0.5911504424778761\n",
      "Valdiation Epoch 5, Loss: 1.381437\n"
     ]
    },
    {
     "name": "stderr",
     "output_type": "stream",
     "text": [
      "100%|██████████| 184/184 [00:00<00:00, 337.38it/s]\n"
     ]
    },
    {
     "name": "stdout",
     "output_type": "stream",
     "text": [
      "Training Epoch 6, Loss: 0.807349\n",
      "Accuracy: 0.6247787610619469\n",
      "Valdiation Epoch 6, Loss: 1.307908\n"
     ]
    },
    {
     "name": "stderr",
     "output_type": "stream",
     "text": [
      "100%|██████████| 184/184 [00:00<00:00, 351.94it/s]\n"
     ]
    },
    {
     "name": "stdout",
     "output_type": "stream",
     "text": [
      "Training Epoch 7, Loss: 0.751990\n",
      "Accuracy: 0.5823008849557522\n",
      "Valdiation Epoch 7, Loss: 1.373408\n"
     ]
    },
    {
     "name": "stderr",
     "output_type": "stream",
     "text": [
      "100%|██████████| 184/184 [00:00<00:00, 356.38it/s]\n"
     ]
    },
    {
     "name": "stdout",
     "output_type": "stream",
     "text": [
      "Training Epoch 8, Loss: 0.702446\n",
      "Accuracy: 0.6017699115044248\n",
      "Valdiation Epoch 8, Loss: 1.337837\n"
     ]
    },
    {
     "name": "stderr",
     "output_type": "stream",
     "text": [
      "100%|██████████| 184/184 [00:00<00:00, 368.39it/s]\n"
     ]
    },
    {
     "name": "stdout",
     "output_type": "stream",
     "text": [
      "Training Epoch 9, Loss: 0.661160\n",
      "Accuracy: 0.6176991150442478\n",
      "Valdiation Epoch 9, Loss: 1.332488\n"
     ]
    },
    {
     "name": "stderr",
     "output_type": "stream",
     "text": [
      "100%|██████████| 184/184 [00:00<00:00, 347.26it/s]\n",
      "[I 2023-08-16 16:44:07,934] Trial 81 finished with value: 1.3314994209342532 and parameters: {'lr': 8.626651170456219e-05, 'batch_size': 32, 'd_model': 8, 'nhead': 8, 'num_layers': 2, 'hidden_dim': 4, 'layer_dim': 1}. Best is trial 54 with value: 1.242251820034451.\n"
     ]
    },
    {
     "name": "stdout",
     "output_type": "stream",
     "text": [
      "Training Epoch 10, Loss: 0.614645\n",
      "Accuracy: 0.6088495575221239\n",
      "Valdiation Epoch 10, Loss: 1.331499\n",
      "256 256\n",
      "[5555, 3420, 3267, 3256, 2847, 3155, 3266, 3048, 2449, 2527, 3583, 2925, 2516, 2869, 2482, 2803, 2374, 2235, 2372, 2028, 9011, 3378, 5160, 2620, 2453, 5274, 3320, 4020, 3279, 4310, 4411, 4145, 3730, 3700]\n",
      "['G1' 'G10' 'G11' 'G2' 'G3' 'G4' 'G5' 'G6' 'G8' 'G9']\n",
      "[0 0 0 ... 2 2 2]\n",
      "[[1. 0. 0. ... 0. 0. 0.]\n",
      " [1. 0. 0. ... 0. 0. 0.]\n",
      " [1. 0. 0. ... 0. 0. 0.]\n",
      " ...\n",
      " [0. 0. 1. ... 0. 0. 0.]\n",
      " [0. 0. 1. ... 0. 0. 0.]\n",
      " [0. 0. 1. ... 0. 0. 0.]]\n",
      "[2653, 2002, 2303, 2642, 1758]\n",
      "['G1' 'G10' 'G11' 'G2' 'G3' 'G4' 'G5' 'G6' 'G8' 'G9']\n",
      "[0 0 0 ... 2 2 2]\n",
      "[[1. 0. 0. ... 0. 0. 0.]\n",
      " [1. 0. 0. ... 0. 0. 0.]\n",
      " [1. 0. 0. ... 0. 0. 0.]\n",
      " ...\n",
      " [0. 0. 1. ... 0. 0. 0.]\n",
      " [0. 0. 1. ... 0. 0. 0.]\n",
      " [0. 0. 1. ... 0. 0. 0.]]\n"
     ]
    },
    {
     "name": "stderr",
     "output_type": "stream",
     "text": [
      "100%|██████████| 184/184 [00:00<00:00, 347.33it/s]\n"
     ]
    },
    {
     "name": "stdout",
     "output_type": "stream",
     "text": [
      "Training Epoch 1, Loss: 1.566410\n",
      "Accuracy: 0.5486725663716814\n",
      "Valdiation Epoch 1, Loss: 1.670817\n"
     ]
    },
    {
     "name": "stderr",
     "output_type": "stream",
     "text": [
      "100%|██████████| 184/184 [00:00<00:00, 369.32it/s]\n"
     ]
    },
    {
     "name": "stdout",
     "output_type": "stream",
     "text": [
      "Training Epoch 2, Loss: 1.240832\n",
      "Accuracy: 0.6194690265486725\n",
      "Valdiation Epoch 2, Loss: 1.499181\n"
     ]
    },
    {
     "name": "stderr",
     "output_type": "stream",
     "text": [
      "100%|██████████| 184/184 [00:00<00:00, 363.24it/s]\n"
     ]
    },
    {
     "name": "stdout",
     "output_type": "stream",
     "text": [
      "Training Epoch 3, Loss: 1.110166\n",
      "Accuracy: 0.5964601769911504\n",
      "Valdiation Epoch 3, Loss: 1.473016\n"
     ]
    },
    {
     "name": "stderr",
     "output_type": "stream",
     "text": [
      "100%|██████████| 184/184 [00:00<00:00, 358.18it/s]\n"
     ]
    },
    {
     "name": "stdout",
     "output_type": "stream",
     "text": [
      "Training Epoch 4, Loss: 1.014751\n",
      "Accuracy: 0.6283185840707964\n",
      "Valdiation Epoch 4, Loss: 1.391610\n"
     ]
    },
    {
     "name": "stderr",
     "output_type": "stream",
     "text": [
      "100%|██████████| 184/184 [00:00<00:00, 356.95it/s]\n"
     ]
    },
    {
     "name": "stdout",
     "output_type": "stream",
     "text": [
      "Training Epoch 5, Loss: 0.931691\n",
      "Accuracy: 0.6495575221238938\n",
      "Valdiation Epoch 5, Loss: 1.339763\n"
     ]
    },
    {
     "name": "stderr",
     "output_type": "stream",
     "text": [
      "100%|██████████| 184/184 [00:00<00:00, 331.32it/s]\n"
     ]
    },
    {
     "name": "stdout",
     "output_type": "stream",
     "text": [
      "Training Epoch 6, Loss: 0.864038\n",
      "Accuracy: 0.6035398230088496\n",
      "Valdiation Epoch 6, Loss: 1.370746\n"
     ]
    },
    {
     "name": "stderr",
     "output_type": "stream",
     "text": [
      "100%|██████████| 184/184 [00:00<00:00, 253.48it/s]\n"
     ]
    },
    {
     "name": "stdout",
     "output_type": "stream",
     "text": [
      "Training Epoch 7, Loss: 0.803940\n",
      "Accuracy: 0.6460176991150443\n",
      "Valdiation Epoch 7, Loss: 1.353748\n"
     ]
    },
    {
     "name": "stderr",
     "output_type": "stream",
     "text": [
      "100%|██████████| 184/184 [00:00<00:00, 353.89it/s]\n"
     ]
    },
    {
     "name": "stdout",
     "output_type": "stream",
     "text": [
      "Training Epoch 8, Loss: 0.742816\n",
      "Accuracy: 0.6336283185840708\n",
      "Valdiation Epoch 8, Loss: 1.391576\n"
     ]
    },
    {
     "name": "stderr",
     "output_type": "stream",
     "text": [
      "100%|██████████| 184/184 [00:00<00:00, 356.23it/s]\n"
     ]
    },
    {
     "name": "stdout",
     "output_type": "stream",
     "text": [
      "Training Epoch 9, Loss: 0.694560\n",
      "Accuracy: 0.5964601769911504\n",
      "Valdiation Epoch 9, Loss: 1.376908\n"
     ]
    },
    {
     "name": "stderr",
     "output_type": "stream",
     "text": [
      "100%|██████████| 184/184 [00:00<00:00, 367.34it/s]\n",
      "[I 2023-08-16 16:44:14,524] Trial 82 finished with value: 1.3675802912977006 and parameters: {'lr': 7.844390405375045e-05, 'batch_size': 32, 'd_model': 8, 'nhead': 8, 'num_layers': 2, 'hidden_dim': 4, 'layer_dim': 1}. Best is trial 54 with value: 1.242251820034451.\n"
     ]
    },
    {
     "name": "stdout",
     "output_type": "stream",
     "text": [
      "Training Epoch 10, Loss: 0.647651\n",
      "Accuracy: 0.6106194690265486\n",
      "Valdiation Epoch 10, Loss: 1.367580\n",
      "256 256\n",
      "[5555, 3420, 3267, 3256, 2847, 3155, 3266, 3048, 2449, 2527, 3583, 2925, 2516, 2869, 2482, 2803, 2374, 2235, 2372, 2028, 9011, 3378, 5160, 2620, 2453, 5274, 3320, 4020, 3279, 4310, 4411, 4145, 3730, 3700]\n",
      "['G1' 'G10' 'G11' 'G2' 'G3' 'G4' 'G5' 'G6' 'G8' 'G9']\n",
      "[0 0 0 ... 2 2 2]\n",
      "[[1. 0. 0. ... 0. 0. 0.]\n",
      " [1. 0. 0. ... 0. 0. 0.]\n",
      " [1. 0. 0. ... 0. 0. 0.]\n",
      " ...\n",
      " [0. 0. 1. ... 0. 0. 0.]\n",
      " [0. 0. 1. ... 0. 0. 0.]\n",
      " [0. 0. 1. ... 0. 0. 0.]]\n",
      "[2653, 2002, 2303, 2642, 1758]\n",
      "['G1' 'G10' 'G11' 'G2' 'G3' 'G4' 'G5' 'G6' 'G8' 'G9']\n",
      "[0 0 0 ... 2 2 2]\n",
      "[[1. 0. 0. ... 0. 0. 0.]\n",
      " [1. 0. 0. ... 0. 0. 0.]\n",
      " [1. 0. 0. ... 0. 0. 0.]\n",
      " ...\n",
      " [0. 0. 1. ... 0. 0. 0.]\n",
      " [0. 0. 1. ... 0. 0. 0.]\n",
      " [0. 0. 1. ... 0. 0. 0.]]\n"
     ]
    },
    {
     "name": "stderr",
     "output_type": "stream",
     "text": [
      "100%|██████████| 184/184 [00:00<00:00, 362.12it/s]\n"
     ]
    },
    {
     "name": "stdout",
     "output_type": "stream",
     "text": [
      "Training Epoch 1, Loss: 1.472560\n",
      "Accuracy: 0.5628318584070796\n",
      "Valdiation Epoch 1, Loss: 1.597803\n"
     ]
    },
    {
     "name": "stderr",
     "output_type": "stream",
     "text": [
      "100%|██████████| 184/184 [00:00<00:00, 344.01it/s]\n"
     ]
    },
    {
     "name": "stdout",
     "output_type": "stream",
     "text": [
      "Training Epoch 2, Loss: 1.132692\n",
      "Accuracy: 0.6442477876106195\n",
      "Valdiation Epoch 2, Loss: 1.466871\n"
     ]
    },
    {
     "name": "stderr",
     "output_type": "stream",
     "text": [
      "100%|██████████| 184/184 [00:00<00:00, 371.97it/s]\n"
     ]
    },
    {
     "name": "stdout",
     "output_type": "stream",
     "text": [
      "Training Epoch 3, Loss: 1.000887\n",
      "Accuracy: 0.6884955752212389\n",
      "Valdiation Epoch 3, Loss: 1.357774\n"
     ]
    },
    {
     "name": "stderr",
     "output_type": "stream",
     "text": [
      "100%|██████████| 184/184 [00:00<00:00, 338.36it/s]\n"
     ]
    },
    {
     "name": "stdout",
     "output_type": "stream",
     "text": [
      "Training Epoch 4, Loss: 0.909628\n",
      "Accuracy: 0.672566371681416\n",
      "Valdiation Epoch 4, Loss: 1.331519\n"
     ]
    },
    {
     "name": "stderr",
     "output_type": "stream",
     "text": [
      "100%|██████████| 184/184 [00:00<00:00, 359.91it/s]\n"
     ]
    },
    {
     "name": "stdout",
     "output_type": "stream",
     "text": [
      "Training Epoch 5, Loss: 0.836646\n",
      "Accuracy: 0.6778761061946903\n",
      "Valdiation Epoch 5, Loss: 1.325972\n"
     ]
    },
    {
     "name": "stderr",
     "output_type": "stream",
     "text": [
      "100%|██████████| 184/184 [00:00<00:00, 327.89it/s]\n"
     ]
    },
    {
     "name": "stdout",
     "output_type": "stream",
     "text": [
      "Training Epoch 6, Loss: 0.770868\n",
      "Accuracy: 0.6814159292035398\n",
      "Valdiation Epoch 6, Loss: 1.328922\n"
     ]
    },
    {
     "name": "stderr",
     "output_type": "stream",
     "text": [
      "100%|██████████| 184/184 [00:00<00:00, 349.68it/s]\n"
     ]
    },
    {
     "name": "stdout",
     "output_type": "stream",
     "text": [
      "Training Epoch 7, Loss: 0.706204\n",
      "Accuracy: 0.6584070796460177\n",
      "Valdiation Epoch 7, Loss: 1.358768\n"
     ]
    },
    {
     "name": "stderr",
     "output_type": "stream",
     "text": [
      "100%|██████████| 184/184 [00:00<00:00, 298.38it/s]\n"
     ]
    },
    {
     "name": "stdout",
     "output_type": "stream",
     "text": [
      "Training Epoch 8, Loss: 0.656359\n",
      "Accuracy: 0.6353982300884956\n",
      "Valdiation Epoch 8, Loss: 1.351429\n"
     ]
    },
    {
     "name": "stderr",
     "output_type": "stream",
     "text": [
      "100%|██████████| 184/184 [00:00<00:00, 345.67it/s]\n"
     ]
    },
    {
     "name": "stdout",
     "output_type": "stream",
     "text": [
      "Training Epoch 9, Loss: 0.596897\n",
      "Accuracy: 0.6123893805309735\n",
      "Valdiation Epoch 9, Loss: 1.387499\n"
     ]
    },
    {
     "name": "stderr",
     "output_type": "stream",
     "text": [
      "100%|██████████| 184/184 [00:00<00:00, 357.61it/s]\n",
      "[I 2023-08-16 16:44:21,093] Trial 83 finished with value: 1.3719409339957767 and parameters: {'lr': 0.00010116285908592278, 'batch_size': 32, 'd_model': 8, 'nhead': 8, 'num_layers': 2, 'hidden_dim': 4, 'layer_dim': 1}. Best is trial 54 with value: 1.242251820034451.\n"
     ]
    },
    {
     "name": "stdout",
     "output_type": "stream",
     "text": [
      "Training Epoch 10, Loss: 0.557628\n",
      "Accuracy: 0.5964601769911504\n",
      "Valdiation Epoch 10, Loss: 1.371941\n",
      "256 256\n",
      "[5555, 3420, 3267, 3256, 2847, 3155, 3266, 3048, 2449, 2527, 3583, 2925, 2516, 2869, 2482, 2803, 2374, 2235, 2372, 2028, 9011, 3378, 5160, 2620, 2453, 5274, 3320, 4020, 3279, 4310, 4411, 4145, 3730, 3700]\n",
      "['G1' 'G10' 'G11' 'G2' 'G3' 'G4' 'G5' 'G6' 'G8' 'G9']\n",
      "[0 0 0 ... 2 2 2]\n",
      "[[1. 0. 0. ... 0. 0. 0.]\n",
      " [1. 0. 0. ... 0. 0. 0.]\n",
      " [1. 0. 0. ... 0. 0. 0.]\n",
      " ...\n",
      " [0. 0. 1. ... 0. 0. 0.]\n",
      " [0. 0. 1. ... 0. 0. 0.]\n",
      " [0. 0. 1. ... 0. 0. 0.]]\n",
      "[2653, 2002, 2303, 2642, 1758]\n",
      "['G1' 'G10' 'G11' 'G2' 'G3' 'G4' 'G5' 'G6' 'G8' 'G9']\n",
      "[0 0 0 ... 2 2 2]\n",
      "[[1. 0. 0. ... 0. 0. 0.]\n",
      " [1. 0. 0. ... 0. 0. 0.]\n",
      " [1. 0. 0. ... 0. 0. 0.]\n",
      " ...\n",
      " [0. 0. 1. ... 0. 0. 0.]\n",
      " [0. 0. 1. ... 0. 0. 0.]\n",
      " [0. 0. 1. ... 0. 0. 0.]]\n"
     ]
    },
    {
     "name": "stderr",
     "output_type": "stream",
     "text": [
      "100%|██████████| 184/184 [00:00<00:00, 368.24it/s]\n"
     ]
    },
    {
     "name": "stdout",
     "output_type": "stream",
     "text": [
      "Training Epoch 1, Loss: 1.597401\n",
      "Accuracy: 0.5256637168141592\n",
      "Valdiation Epoch 1, Loss: 1.634048\n"
     ]
    },
    {
     "name": "stderr",
     "output_type": "stream",
     "text": [
      "100%|██████████| 184/184 [00:00<00:00, 348.52it/s]\n"
     ]
    },
    {
     "name": "stdout",
     "output_type": "stream",
     "text": [
      "Training Epoch 2, Loss: 1.253504\n",
      "Accuracy: 0.6353982300884956\n",
      "Valdiation Epoch 2, Loss: 1.456546\n"
     ]
    },
    {
     "name": "stderr",
     "output_type": "stream",
     "text": [
      "100%|██████████| 184/184 [00:00<00:00, 368.97it/s]\n"
     ]
    },
    {
     "name": "stdout",
     "output_type": "stream",
     "text": [
      "Training Epoch 3, Loss: 1.138941\n",
      "Accuracy: 0.6247787610619469\n",
      "Valdiation Epoch 3, Loss: 1.433539\n"
     ]
    },
    {
     "name": "stderr",
     "output_type": "stream",
     "text": [
      "100%|██████████| 184/184 [00:00<00:00, 372.91it/s]\n"
     ]
    },
    {
     "name": "stdout",
     "output_type": "stream",
     "text": [
      "Training Epoch 4, Loss: 1.056224\n",
      "Accuracy: 0.6442477876106195\n",
      "Valdiation Epoch 4, Loss: 1.413667\n"
     ]
    },
    {
     "name": "stderr",
     "output_type": "stream",
     "text": [
      "100%|██████████| 184/184 [00:00<00:00, 318.13it/s]\n"
     ]
    },
    {
     "name": "stdout",
     "output_type": "stream",
     "text": [
      "Training Epoch 5, Loss: 0.989718\n",
      "Accuracy: 0.6460176991150443\n",
      "Valdiation Epoch 5, Loss: 1.343266\n"
     ]
    },
    {
     "name": "stderr",
     "output_type": "stream",
     "text": [
      "100%|██████████| 184/184 [00:00<00:00, 331.97it/s]\n"
     ]
    },
    {
     "name": "stdout",
     "output_type": "stream",
     "text": [
      "Training Epoch 6, Loss: 0.926726\n",
      "Accuracy: 0.6619469026548672\n",
      "Valdiation Epoch 6, Loss: 1.333762\n"
     ]
    },
    {
     "name": "stderr",
     "output_type": "stream",
     "text": [
      "100%|██████████| 184/184 [00:00<00:00, 318.24it/s]\n"
     ]
    },
    {
     "name": "stdout",
     "output_type": "stream",
     "text": [
      "Training Epoch 7, Loss: 0.874969\n",
      "Accuracy: 0.6353982300884956\n",
      "Valdiation Epoch 7, Loss: 1.336585\n"
     ]
    },
    {
     "name": "stderr",
     "output_type": "stream",
     "text": [
      "100%|██████████| 184/184 [00:00<00:00, 356.27it/s]\n"
     ]
    },
    {
     "name": "stdout",
     "output_type": "stream",
     "text": [
      "Training Epoch 8, Loss: 0.828687\n",
      "Accuracy: 0.6530973451327433\n",
      "Valdiation Epoch 8, Loss: 1.300340\n"
     ]
    },
    {
     "name": "stderr",
     "output_type": "stream",
     "text": [
      "100%|██████████| 184/184 [00:00<00:00, 326.58it/s]\n"
     ]
    },
    {
     "name": "stdout",
     "output_type": "stream",
     "text": [
      "Training Epoch 9, Loss: 0.781442\n",
      "Accuracy: 0.647787610619469\n",
      "Valdiation Epoch 9, Loss: 1.363489\n"
     ]
    },
    {
     "name": "stderr",
     "output_type": "stream",
     "text": [
      "100%|██████████| 184/184 [00:00<00:00, 341.67it/s]\n",
      "[I 2023-08-16 16:44:27,655] Trial 84 finished with value: 1.3273275461461809 and parameters: {'lr': 5.5009309972290905e-05, 'batch_size': 32, 'd_model': 8, 'nhead': 8, 'num_layers': 2, 'hidden_dim': 4, 'layer_dim': 1}. Best is trial 54 with value: 1.242251820034451.\n"
     ]
    },
    {
     "name": "stdout",
     "output_type": "stream",
     "text": [
      "Training Epoch 10, Loss: 0.739564\n",
      "Accuracy: 0.6672566371681415\n",
      "Valdiation Epoch 10, Loss: 1.327328\n",
      "256 256\n",
      "[5555, 3420, 3267, 3256, 2847, 3155, 3266, 3048, 2449, 2527, 3583, 2925, 2516, 2869, 2482, 2803, 2374, 2235, 2372, 2028, 9011, 3378, 5160, 2620, 2453, 5274, 3320, 4020, 3279, 4310, 4411, 4145, 3730, 3700]\n",
      "['G1' 'G10' 'G11' 'G2' 'G3' 'G4' 'G5' 'G6' 'G8' 'G9']\n",
      "[0 0 0 ... 2 2 2]\n",
      "[[1. 0. 0. ... 0. 0. 0.]\n",
      " [1. 0. 0. ... 0. 0. 0.]\n",
      " [1. 0. 0. ... 0. 0. 0.]\n",
      " ...\n",
      " [0. 0. 1. ... 0. 0. 0.]\n",
      " [0. 0. 1. ... 0. 0. 0.]\n",
      " [0. 0. 1. ... 0. 0. 0.]]\n",
      "[2653, 2002, 2303, 2642, 1758]\n",
      "['G1' 'G10' 'G11' 'G2' 'G3' 'G4' 'G5' 'G6' 'G8' 'G9']\n",
      "[0 0 0 ... 2 2 2]\n",
      "[[1. 0. 0. ... 0. 0. 0.]\n",
      " [1. 0. 0. ... 0. 0. 0.]\n",
      " [1. 0. 0. ... 0. 0. 0.]\n",
      " ...\n",
      " [0. 0. 1. ... 0. 0. 0.]\n",
      " [0. 0. 1. ... 0. 0. 0.]\n",
      " [0. 0. 1. ... 0. 0. 0.]]\n"
     ]
    },
    {
     "name": "stderr",
     "output_type": "stream",
     "text": [
      "100%|██████████| 184/184 [00:00<00:00, 356.72it/s]\n"
     ]
    },
    {
     "name": "stdout",
     "output_type": "stream",
     "text": [
      "Training Epoch 1, Loss: 1.381212\n",
      "Accuracy: 0.5929203539823009\n",
      "Valdiation Epoch 1, Loss: 1.373045\n"
     ]
    },
    {
     "name": "stderr",
     "output_type": "stream",
     "text": [
      "100%|██████████| 184/184 [00:00<00:00, 324.34it/s]\n"
     ]
    },
    {
     "name": "stdout",
     "output_type": "stream",
     "text": [
      "Training Epoch 2, Loss: 0.955401\n",
      "Accuracy: 0.6371681415929203\n",
      "Valdiation Epoch 2, Loss: 1.270690\n"
     ]
    },
    {
     "name": "stderr",
     "output_type": "stream",
     "text": [
      "100%|██████████| 184/184 [00:00<00:00, 300.42it/s]\n"
     ]
    },
    {
     "name": "stdout",
     "output_type": "stream",
     "text": [
      "Training Epoch 3, Loss: 0.814487\n",
      "Accuracy: 0.6495575221238938\n",
      "Valdiation Epoch 3, Loss: 1.292915\n"
     ]
    },
    {
     "name": "stderr",
     "output_type": "stream",
     "text": [
      "100%|██████████| 184/184 [00:00<00:00, 326.64it/s]\n"
     ]
    },
    {
     "name": "stdout",
     "output_type": "stream",
     "text": [
      "Training Epoch 4, Loss: 0.714975\n",
      "Accuracy: 0.6212389380530974\n",
      "Valdiation Epoch 4, Loss: 1.306390\n"
     ]
    },
    {
     "name": "stderr",
     "output_type": "stream",
     "text": [
      "100%|██████████| 184/184 [00:00<00:00, 344.11it/s]\n"
     ]
    },
    {
     "name": "stdout",
     "output_type": "stream",
     "text": [
      "Training Epoch 5, Loss: 0.628169\n",
      "Accuracy: 0.5858407079646017\n",
      "Valdiation Epoch 5, Loss: 1.347935\n"
     ]
    },
    {
     "name": "stderr",
     "output_type": "stream",
     "text": [
      "100%|██████████| 184/184 [00:00<00:00, 350.96it/s]\n"
     ]
    },
    {
     "name": "stdout",
     "output_type": "stream",
     "text": [
      "Training Epoch 6, Loss: 0.552559\n",
      "Accuracy: 0.6\n",
      "Valdiation Epoch 6, Loss: 1.349501\n"
     ]
    },
    {
     "name": "stderr",
     "output_type": "stream",
     "text": [
      "100%|██████████| 184/184 [00:00<00:00, 370.84it/s]\n"
     ]
    },
    {
     "name": "stdout",
     "output_type": "stream",
     "text": [
      "Training Epoch 7, Loss: 0.502000\n",
      "Accuracy: 0.6230088495575221\n",
      "Valdiation Epoch 7, Loss: 1.391392\n"
     ]
    },
    {
     "name": "stderr",
     "output_type": "stream",
     "text": [
      "100%|██████████| 184/184 [00:00<00:00, 358.71it/s]\n"
     ]
    },
    {
     "name": "stdout",
     "output_type": "stream",
     "text": [
      "Training Epoch 8, Loss: 0.440863\n",
      "Accuracy: 0.5716814159292035\n",
      "Valdiation Epoch 8, Loss: 1.380334\n"
     ]
    },
    {
     "name": "stderr",
     "output_type": "stream",
     "text": [
      "100%|██████████| 184/184 [00:00<00:00, 367.95it/s]\n"
     ]
    },
    {
     "name": "stdout",
     "output_type": "stream",
     "text": [
      "Training Epoch 9, Loss: 0.402044\n",
      "Accuracy: 0.6353982300884956\n",
      "Valdiation Epoch 9, Loss: 1.297521\n"
     ]
    },
    {
     "name": "stderr",
     "output_type": "stream",
     "text": [
      "100%|██████████| 184/184 [00:00<00:00, 356.04it/s]\n",
      "[I 2023-08-16 16:44:34,230] Trial 85 finished with value: 1.2570920156108008 and parameters: {'lr': 0.00012007627060226773, 'batch_size': 32, 'd_model': 8, 'nhead': 8, 'num_layers': 2, 'hidden_dim': 5, 'layer_dim': 1}. Best is trial 54 with value: 1.242251820034451.\n",
      "[I 2023-08-16 16:44:34,243] Trial 86 finished with value: 1000.0 and parameters: {'lr': 0.0001198614918640715, 'batch_size': 64, 'd_model': 7, 'nhead': 8, 'num_layers': 2, 'hidden_dim': 5, 'layer_dim': 1}. Best is trial 54 with value: 1.242251820034451.\n"
     ]
    },
    {
     "name": "stdout",
     "output_type": "stream",
     "text": [
      "Training Epoch 10, Loss: 0.360244\n",
      "Accuracy: 0.6407079646017699\n",
      "Valdiation Epoch 10, Loss: 1.257092\n",
      "128 256\n",
      "256 128\n",
      "[5555, 3420, 3267, 3256, 2847, 3155, 3266, 3048, 2449, 2527, 3583, 2925, 2516, 2869, 2482, 2803, 2374, 2235, 2372, 2028, 9011, 3378, 5160, 2620, 2453, 5274, 3320, 4020, 3279, 4310, 4411, 4145, 3730, 3700]\n",
      "['G1' 'G10' 'G11' 'G2' 'G3' 'G4' 'G5' 'G6' 'G8' 'G9']\n",
      "[0 0 0 ... 2 2 2]\n",
      "[[1. 0. 0. ... 0. 0. 0.]\n",
      " [1. 0. 0. ... 0. 0. 0.]\n",
      " [1. 0. 0. ... 0. 0. 0.]\n",
      " ...\n",
      " [0. 0. 1. ... 0. 0. 0.]\n",
      " [0. 0. 1. ... 0. 0. 0.]\n",
      " [0. 0. 1. ... 0. 0. 0.]]\n",
      "[2653, 2002, 2303, 2642, 1758]\n",
      "['G1' 'G10' 'G11' 'G2' 'G3' 'G4' 'G5' 'G6' 'G8' 'G9']\n",
      "[0 0 0 ... 2 2 2]\n",
      "[[1. 0. 0. ... 0. 0. 0.]\n",
      " [1. 0. 0. ... 0. 0. 0.]\n",
      " [1. 0. 0. ... 0. 0. 0.]\n",
      " ...\n",
      " [0. 0. 1. ... 0. 0. 0.]\n",
      " [0. 0. 1. ... 0. 0. 0.]\n",
      " [0. 0. 1. ... 0. 0. 0.]]\n"
     ]
    },
    {
     "name": "stderr",
     "output_type": "stream",
     "text": [
      "100%|██████████| 92/92 [00:00<00:00, 199.76it/s]\n"
     ]
    },
    {
     "name": "stdout",
     "output_type": "stream",
     "text": [
      "Training Epoch 1, Loss: 1.515237\n",
      "Accuracy: 0.5876106194690266\n",
      "Valdiation Epoch 1, Loss: 1.528572\n"
     ]
    },
    {
     "name": "stderr",
     "output_type": "stream",
     "text": [
      "100%|██████████| 92/92 [00:00<00:00, 194.41it/s]\n"
     ]
    },
    {
     "name": "stdout",
     "output_type": "stream",
     "text": [
      "Training Epoch 2, Loss: 1.056622\n",
      "Accuracy: 0.6548672566371682\n",
      "Valdiation Epoch 2, Loss: 1.371668\n"
     ]
    },
    {
     "name": "stderr",
     "output_type": "stream",
     "text": [
      "100%|██████████| 92/92 [00:00<00:00, 186.93it/s]\n"
     ]
    },
    {
     "name": "stdout",
     "output_type": "stream",
     "text": [
      "Training Epoch 3, Loss: 0.898524\n",
      "Accuracy: 0.6654867256637168\n",
      "Valdiation Epoch 3, Loss: 1.320934\n"
     ]
    },
    {
     "name": "stderr",
     "output_type": "stream",
     "text": [
      "100%|██████████| 92/92 [00:00<00:00, 180.50it/s]\n"
     ]
    },
    {
     "name": "stdout",
     "output_type": "stream",
     "text": [
      "Training Epoch 4, Loss: 0.793429\n",
      "Accuracy: 0.6814159292035398\n",
      "Valdiation Epoch 4, Loss: 1.330162\n"
     ]
    },
    {
     "name": "stderr",
     "output_type": "stream",
     "text": [
      "100%|██████████| 92/92 [00:00<00:00, 193.62it/s]\n"
     ]
    },
    {
     "name": "stdout",
     "output_type": "stream",
     "text": [
      "Training Epoch 5, Loss: 0.706893\n",
      "Accuracy: 0.6336283185840708\n",
      "Valdiation Epoch 5, Loss: 1.305701\n"
     ]
    },
    {
     "name": "stderr",
     "output_type": "stream",
     "text": [
      "100%|██████████| 92/92 [00:00<00:00, 187.91it/s]\n"
     ]
    },
    {
     "name": "stdout",
     "output_type": "stream",
     "text": [
      "Training Epoch 6, Loss: 0.633862\n",
      "Accuracy: 0.6513274336283186\n",
      "Valdiation Epoch 6, Loss: 1.276646\n"
     ]
    },
    {
     "name": "stderr",
     "output_type": "stream",
     "text": [
      "100%|██████████| 92/92 [00:00<00:00, 186.99it/s]\n"
     ]
    },
    {
     "name": "stdout",
     "output_type": "stream",
     "text": [
      "Training Epoch 7, Loss: 0.571321\n",
      "Accuracy: 0.6230088495575221\n",
      "Valdiation Epoch 7, Loss: 1.372978\n"
     ]
    },
    {
     "name": "stderr",
     "output_type": "stream",
     "text": [
      "100%|██████████| 92/92 [00:00<00:00, 187.15it/s]\n"
     ]
    },
    {
     "name": "stdout",
     "output_type": "stream",
     "text": [
      "Training Epoch 8, Loss: 0.512692\n",
      "Accuracy: 0.6123893805309735\n",
      "Valdiation Epoch 8, Loss: 1.435622\n"
     ]
    },
    {
     "name": "stderr",
     "output_type": "stream",
     "text": [
      "100%|██████████| 92/92 [00:00<00:00, 184.55it/s]\n"
     ]
    },
    {
     "name": "stdout",
     "output_type": "stream",
     "text": [
      "Training Epoch 9, Loss: 0.463725\n",
      "Accuracy: 0.631858407079646\n",
      "Valdiation Epoch 9, Loss: 1.375200\n"
     ]
    },
    {
     "name": "stderr",
     "output_type": "stream",
     "text": [
      "100%|██████████| 92/92 [00:00<00:00, 204.41it/s]\n",
      "[I 2023-08-16 16:44:40,319] Trial 87 finished with value: 1.4536898401048448 and parameters: {'lr': 0.00015101565663238055, 'batch_size': 64, 'd_model': 8, 'nhead': 7, 'num_layers': 2, 'hidden_dim': 5, 'layer_dim': 1}. Best is trial 54 with value: 1.242251820034451.\n",
      "[I 2023-08-16 16:44:40,338] Trial 88 finished with value: 1000.0 and parameters: {'lr': 7.264362002198332e-05, 'batch_size': 64, 'd_model': 7, 'nhead': 8, 'num_layers': 1, 'hidden_dim': 5, 'layer_dim': 2}. Best is trial 54 with value: 1.242251820034451.\n"
     ]
    },
    {
     "name": "stdout",
     "output_type": "stream",
     "text": [
      "Training Epoch 10, Loss: 0.425655\n",
      "Accuracy: 0.6070796460176991\n",
      "Valdiation Epoch 10, Loss: 1.453690\n",
      "128 256\n",
      "256 128\n",
      "[5555, 3420, 3267, 3256, 2847, 3155, 3266, 3048, 2449, 2527, 3583, 2925, 2516, 2869, 2482, 2803, 2374, 2235, 2372, 2028, 9011, 3378, 5160, 2620, 2453, 5274, 3320, 4020, 3279, 4310, 4411, 4145, 3730, 3700]\n",
      "['G1' 'G10' 'G11' 'G2' 'G3' 'G4' 'G5' 'G6' 'G8' 'G9']\n",
      "[0 0 0 ... 2 2 2]\n",
      "[[1. 0. 0. ... 0. 0. 0.]\n",
      " [1. 0. 0. ... 0. 0. 0.]\n",
      " [1. 0. 0. ... 0. 0. 0.]\n",
      " ...\n",
      " [0. 0. 1. ... 0. 0. 0.]\n",
      " [0. 0. 1. ... 0. 0. 0.]\n",
      " [0. 0. 1. ... 0. 0. 0.]]\n",
      "[2653, 2002, 2303, 2642, 1758]\n",
      "['G1' 'G10' 'G11' 'G2' 'G3' 'G4' 'G5' 'G6' 'G8' 'G9']\n",
      "[0 0 0 ... 2 2 2]\n",
      "[[1. 0. 0. ... 0. 0. 0.]\n",
      " [1. 0. 0. ... 0. 0. 0.]\n",
      " [1. 0. 0. ... 0. 0. 0.]\n",
      " ...\n",
      " [0. 0. 1. ... 0. 0. 0.]\n",
      " [0. 0. 1. ... 0. 0. 0.]\n",
      " [0. 0. 1. ... 0. 0. 0.]]\n"
     ]
    },
    {
     "name": "stderr",
     "output_type": "stream",
     "text": [
      "100%|██████████| 184/184 [00:00<00:00, 338.89it/s]\n"
     ]
    },
    {
     "name": "stdout",
     "output_type": "stream",
     "text": [
      "Training Epoch 1, Loss: 1.444583\n",
      "Accuracy: 0.5929203539823009\n",
      "Valdiation Epoch 1, Loss: 1.500244\n"
     ]
    },
    {
     "name": "stderr",
     "output_type": "stream",
     "text": [
      "100%|██████████| 184/184 [00:00<00:00, 336.96it/s]\n"
     ]
    },
    {
     "name": "stdout",
     "output_type": "stream",
     "text": [
      "Training Epoch 2, Loss: 0.997616\n",
      "Accuracy: 0.6353982300884956\n",
      "Valdiation Epoch 2, Loss: 1.360385\n"
     ]
    },
    {
     "name": "stderr",
     "output_type": "stream",
     "text": [
      "100%|██████████| 184/184 [00:00<00:00, 346.05it/s]\n"
     ]
    },
    {
     "name": "stdout",
     "output_type": "stream",
     "text": [
      "Training Epoch 3, Loss: 0.831068\n",
      "Accuracy: 0.6371681415929203\n",
      "Valdiation Epoch 3, Loss: 1.322109\n"
     ]
    },
    {
     "name": "stderr",
     "output_type": "stream",
     "text": [
      "100%|██████████| 184/184 [00:00<00:00, 357.12it/s]\n"
     ]
    },
    {
     "name": "stdout",
     "output_type": "stream",
     "text": [
      "Training Epoch 4, Loss: 0.731885\n",
      "Accuracy: 0.6247787610619469\n",
      "Valdiation Epoch 4, Loss: 1.330245\n"
     ]
    },
    {
     "name": "stderr",
     "output_type": "stream",
     "text": [
      "100%|██████████| 184/184 [00:00<00:00, 299.66it/s]\n"
     ]
    },
    {
     "name": "stdout",
     "output_type": "stream",
     "text": [
      "Training Epoch 5, Loss: 0.644373\n",
      "Accuracy: 0.6371681415929203\n",
      "Valdiation Epoch 5, Loss: 1.332540\n"
     ]
    },
    {
     "name": "stderr",
     "output_type": "stream",
     "text": [
      "100%|██████████| 184/184 [00:00<00:00, 344.52it/s]\n"
     ]
    },
    {
     "name": "stdout",
     "output_type": "stream",
     "text": [
      "Training Epoch 6, Loss: 0.580351\n",
      "Accuracy: 0.6088495575221239\n",
      "Valdiation Epoch 6, Loss: 1.450606\n"
     ]
    },
    {
     "name": "stderr",
     "output_type": "stream",
     "text": [
      "100%|██████████| 184/184 [00:00<00:00, 363.35it/s]\n"
     ]
    },
    {
     "name": "stdout",
     "output_type": "stream",
     "text": [
      "Training Epoch 7, Loss: 0.528191\n",
      "Accuracy: 0.6159292035398231\n",
      "Valdiation Epoch 7, Loss: 1.362822\n"
     ]
    },
    {
     "name": "stderr",
     "output_type": "stream",
     "text": [
      "100%|██████████| 184/184 [00:00<00:00, 362.46it/s]\n"
     ]
    },
    {
     "name": "stdout",
     "output_type": "stream",
     "text": [
      "Training Epoch 8, Loss: 0.471582\n",
      "Accuracy: 0.631858407079646\n",
      "Valdiation Epoch 8, Loss: 1.335763\n"
     ]
    },
    {
     "name": "stderr",
     "output_type": "stream",
     "text": [
      "100%|██████████| 184/184 [00:00<00:00, 341.16it/s]\n"
     ]
    },
    {
     "name": "stdout",
     "output_type": "stream",
     "text": [
      "Training Epoch 9, Loss: 0.427767\n",
      "Accuracy: 0.5646017699115045\n",
      "Valdiation Epoch 9, Loss: 1.470938\n"
     ]
    },
    {
     "name": "stderr",
     "output_type": "stream",
     "text": [
      "100%|██████████| 184/184 [00:00<00:00, 344.29it/s]\n",
      "[I 2023-08-16 16:44:46,969] Trial 89 finished with value: 1.4635572466585371 and parameters: {'lr': 0.00010536897533468903, 'batch_size': 32, 'd_model': 8, 'nhead': 7, 'num_layers': 2, 'hidden_dim': 5, 'layer_dim': 1}. Best is trial 54 with value: 1.242251820034451.\n"
     ]
    },
    {
     "name": "stdout",
     "output_type": "stream",
     "text": [
      "Training Epoch 10, Loss: 0.392379\n",
      "Accuracy: 0.5893805309734513\n",
      "Valdiation Epoch 10, Loss: 1.463557\n",
      "256 256\n",
      "[5555, 3420, 3267, 3256, 2847, 3155, 3266, 3048, 2449, 2527, 3583, 2925, 2516, 2869, 2482, 2803, 2374, 2235, 2372, 2028, 9011, 3378, 5160, 2620, 2453, 5274, 3320, 4020, 3279, 4310, 4411, 4145, 3730, 3700]\n",
      "['G1' 'G10' 'G11' 'G2' 'G3' 'G4' 'G5' 'G6' 'G8' 'G9']\n",
      "[0 0 0 ... 2 2 2]\n",
      "[[1. 0. 0. ... 0. 0. 0.]\n",
      " [1. 0. 0. ... 0. 0. 0.]\n",
      " [1. 0. 0. ... 0. 0. 0.]\n",
      " ...\n",
      " [0. 0. 1. ... 0. 0. 0.]\n",
      " [0. 0. 1. ... 0. 0. 0.]\n",
      " [0. 0. 1. ... 0. 0. 0.]]\n",
      "[2653, 2002, 2303, 2642, 1758]\n",
      "['G1' 'G10' 'G11' 'G2' 'G3' 'G4' 'G5' 'G6' 'G8' 'G9']\n",
      "[0 0 0 ... 2 2 2]\n",
      "[[1. 0. 0. ... 0. 0. 0.]\n",
      " [1. 0. 0. ... 0. 0. 0.]\n",
      " [1. 0. 0. ... 0. 0. 0.]\n",
      " ...\n",
      " [0. 0. 1. ... 0. 0. 0.]\n",
      " [0. 0. 1. ... 0. 0. 0.]\n",
      " [0. 0. 1. ... 0. 0. 0.]]\n"
     ]
    },
    {
     "name": "stderr",
     "output_type": "stream",
     "text": [
      "100%|██████████| 92/92 [00:00<00:00, 192.86it/s]\n"
     ]
    },
    {
     "name": "stdout",
     "output_type": "stream",
     "text": [
      "Training Epoch 1, Loss: 1.806981\n",
      "Accuracy: 0.42123893805309737\n",
      "Valdiation Epoch 1, Loss: 1.810806\n"
     ]
    },
    {
     "name": "stderr",
     "output_type": "stream",
     "text": [
      "100%|██████████| 92/92 [00:00<00:00, 190.41it/s]\n"
     ]
    },
    {
     "name": "stdout",
     "output_type": "stream",
     "text": [
      "Training Epoch 2, Loss: 1.255212\n",
      "Accuracy: 0.5716814159292035\n",
      "Valdiation Epoch 2, Loss: 1.583491\n"
     ]
    },
    {
     "name": "stderr",
     "output_type": "stream",
     "text": [
      "100%|██████████| 92/92 [00:00<00:00, 172.38it/s]\n"
     ]
    },
    {
     "name": "stdout",
     "output_type": "stream",
     "text": [
      "Training Epoch 3, Loss: 0.974511\n",
      "Accuracy: 0.6424778761061947\n",
      "Valdiation Epoch 3, Loss: 1.477226\n"
     ]
    },
    {
     "name": "stderr",
     "output_type": "stream",
     "text": [
      "100%|██████████| 92/92 [00:00<00:00, 174.26it/s]\n"
     ]
    },
    {
     "name": "stdout",
     "output_type": "stream",
     "text": [
      "Training Epoch 4, Loss: 0.825556\n",
      "Accuracy: 0.6761061946902654\n",
      "Valdiation Epoch 4, Loss: 1.446538\n"
     ]
    },
    {
     "name": "stderr",
     "output_type": "stream",
     "text": [
      "100%|██████████| 92/92 [00:00<00:00, 204.26it/s]\n"
     ]
    },
    {
     "name": "stdout",
     "output_type": "stream",
     "text": [
      "Training Epoch 5, Loss: 0.709363\n",
      "Accuracy: 0.6831858407079646\n",
      "Valdiation Epoch 5, Loss: 1.437754\n"
     ]
    },
    {
     "name": "stderr",
     "output_type": "stream",
     "text": [
      "100%|██████████| 92/92 [00:00<00:00, 171.35it/s]\n"
     ]
    },
    {
     "name": "stdout",
     "output_type": "stream",
     "text": [
      "Training Epoch 6, Loss: 0.624524\n",
      "Accuracy: 0.6247787610619469\n",
      "Valdiation Epoch 6, Loss: 1.512545\n"
     ]
    },
    {
     "name": "stderr",
     "output_type": "stream",
     "text": [
      "100%|██████████| 92/92 [00:00<00:00, 174.10it/s]\n"
     ]
    },
    {
     "name": "stdout",
     "output_type": "stream",
     "text": [
      "Training Epoch 7, Loss: 0.560873\n",
      "Accuracy: 0.6247787610619469\n",
      "Valdiation Epoch 7, Loss: 1.513364\n"
     ]
    },
    {
     "name": "stderr",
     "output_type": "stream",
     "text": [
      "100%|██████████| 92/92 [00:00<00:00, 177.49it/s]\n"
     ]
    },
    {
     "name": "stdout",
     "output_type": "stream",
     "text": [
      "Training Epoch 8, Loss: 0.493101\n",
      "Accuracy: 0.5893805309734513\n",
      "Valdiation Epoch 8, Loss: 1.573068\n"
     ]
    },
    {
     "name": "stderr",
     "output_type": "stream",
     "text": [
      "100%|██████████| 92/92 [00:00<00:00, 184.57it/s]\n"
     ]
    },
    {
     "name": "stdout",
     "output_type": "stream",
     "text": [
      "Training Epoch 9, Loss: 0.438650\n",
      "Accuracy: 0.5575221238938053\n",
      "Valdiation Epoch 9, Loss: 1.699261\n"
     ]
    },
    {
     "name": "stderr",
     "output_type": "stream",
     "text": [
      "100%|██████████| 92/92 [00:00<00:00, 182.21it/s]\n",
      "[I 2023-08-16 16:44:53,310] Trial 90 finished with value: 1.5670360326766968 and parameters: {'lr': 0.00016848381535756706, 'batch_size': 64, 'd_model': 8, 'nhead': 8, 'num_layers': 2, 'hidden_dim': 6, 'layer_dim': 2}. Best is trial 54 with value: 1.242251820034451.\n"
     ]
    },
    {
     "name": "stdout",
     "output_type": "stream",
     "text": [
      "Training Epoch 10, Loss: 0.392927\n",
      "Accuracy: 0.6106194690265486\n",
      "Valdiation Epoch 10, Loss: 1.567036\n",
      "256 256\n",
      "[5555, 3420, 3267, 3256, 2847, 3155, 3266, 3048, 2449, 2527, 3583, 2925, 2516, 2869, 2482, 2803, 2374, 2235, 2372, 2028, 9011, 3378, 5160, 2620, 2453, 5274, 3320, 4020, 3279, 4310, 4411, 4145, 3730, 3700]\n",
      "['G1' 'G10' 'G11' 'G2' 'G3' 'G4' 'G5' 'G6' 'G8' 'G9']\n",
      "[0 0 0 ... 2 2 2]\n",
      "[[1. 0. 0. ... 0. 0. 0.]\n",
      " [1. 0. 0. ... 0. 0. 0.]\n",
      " [1. 0. 0. ... 0. 0. 0.]\n",
      " ...\n",
      " [0. 0. 1. ... 0. 0. 0.]\n",
      " [0. 0. 1. ... 0. 0. 0.]\n",
      " [0. 0. 1. ... 0. 0. 0.]]\n",
      "[2653, 2002, 2303, 2642, 1758]\n",
      "['G1' 'G10' 'G11' 'G2' 'G3' 'G4' 'G5' 'G6' 'G8' 'G9']\n",
      "[0 0 0 ... 2 2 2]\n",
      "[[1. 0. 0. ... 0. 0. 0.]\n",
      " [1. 0. 0. ... 0. 0. 0.]\n",
      " [1. 0. 0. ... 0. 0. 0.]\n",
      " ...\n",
      " [0. 0. 1. ... 0. 0. 0.]\n",
      " [0. 0. 1. ... 0. 0. 0.]\n",
      " [0. 0. 1. ... 0. 0. 0.]]\n"
     ]
    },
    {
     "name": "stderr",
     "output_type": "stream",
     "text": [
      "100%|██████████| 184/184 [00:00<00:00, 322.37it/s]\n"
     ]
    },
    {
     "name": "stdout",
     "output_type": "stream",
     "text": [
      "Training Epoch 1, Loss: 1.569214\n",
      "Accuracy: 0.536283185840708\n",
      "Valdiation Epoch 1, Loss: 1.544332\n"
     ]
    },
    {
     "name": "stderr",
     "output_type": "stream",
     "text": [
      "100%|██████████| 184/184 [00:00<00:00, 365.60it/s]\n"
     ]
    },
    {
     "name": "stdout",
     "output_type": "stream",
     "text": [
      "Training Epoch 2, Loss: 1.214794\n",
      "Accuracy: 0.5752212389380531\n",
      "Valdiation Epoch 2, Loss: 1.463422\n"
     ]
    },
    {
     "name": "stderr",
     "output_type": "stream",
     "text": [
      "100%|██████████| 184/184 [00:00<00:00, 375.41it/s]\n"
     ]
    },
    {
     "name": "stdout",
     "output_type": "stream",
     "text": [
      "Training Epoch 3, Loss: 1.068917\n",
      "Accuracy: 0.6424778761061947\n",
      "Valdiation Epoch 3, Loss: 1.357954\n"
     ]
    },
    {
     "name": "stderr",
     "output_type": "stream",
     "text": [
      "100%|██████████| 184/184 [00:00<00:00, 363.14it/s]\n"
     ]
    },
    {
     "name": "stdout",
     "output_type": "stream",
     "text": [
      "Training Epoch 4, Loss: 0.961301\n",
      "Accuracy: 0.6548672566371682\n",
      "Valdiation Epoch 4, Loss: 1.304455\n"
     ]
    },
    {
     "name": "stderr",
     "output_type": "stream",
     "text": [
      "100%|██████████| 184/184 [00:00<00:00, 359.46it/s]\n"
     ]
    },
    {
     "name": "stdout",
     "output_type": "stream",
     "text": [
      "Training Epoch 5, Loss: 0.880358\n",
      "Accuracy: 0.6442477876106195\n",
      "Valdiation Epoch 5, Loss: 1.297498\n"
     ]
    },
    {
     "name": "stderr",
     "output_type": "stream",
     "text": [
      "100%|██████████| 184/184 [00:00<00:00, 353.62it/s]\n"
     ]
    },
    {
     "name": "stdout",
     "output_type": "stream",
     "text": [
      "Training Epoch 6, Loss: 0.812390\n",
      "Accuracy: 0.6088495575221239\n",
      "Valdiation Epoch 6, Loss: 1.315705\n"
     ]
    },
    {
     "name": "stderr",
     "output_type": "stream",
     "text": [
      "100%|██████████| 184/184 [00:00<00:00, 358.20it/s]\n"
     ]
    },
    {
     "name": "stdout",
     "output_type": "stream",
     "text": [
      "Training Epoch 7, Loss: 0.752068\n",
      "Accuracy: 0.6\n",
      "Valdiation Epoch 7, Loss: 1.343210\n"
     ]
    },
    {
     "name": "stderr",
     "output_type": "stream",
     "text": [
      "100%|██████████| 184/184 [00:00<00:00, 341.88it/s]\n"
     ]
    },
    {
     "name": "stdout",
     "output_type": "stream",
     "text": [
      "Training Epoch 8, Loss: 0.695972\n",
      "Accuracy: 0.5769911504424778\n",
      "Valdiation Epoch 8, Loss: 1.405273\n"
     ]
    },
    {
     "name": "stderr",
     "output_type": "stream",
     "text": [
      "100%|██████████| 184/184 [00:00<00:00, 343.89it/s]\n"
     ]
    },
    {
     "name": "stdout",
     "output_type": "stream",
     "text": [
      "Training Epoch 9, Loss: 0.653154\n",
      "Accuracy: 0.6283185840707964\n",
      "Valdiation Epoch 9, Loss: 1.317761\n"
     ]
    },
    {
     "name": "stderr",
     "output_type": "stream",
     "text": [
      "100%|██████████| 184/184 [00:00<00:00, 347.89it/s]\n",
      "[I 2023-08-16 16:44:59,739] Trial 91 finished with value: 1.2433526085482702 and parameters: {'lr': 8.3665767640172e-05, 'batch_size': 32, 'd_model': 8, 'nhead': 8, 'num_layers': 2, 'hidden_dim': 4, 'layer_dim': 1}. Best is trial 54 with value: 1.242251820034451.\n"
     ]
    },
    {
     "name": "stdout",
     "output_type": "stream",
     "text": [
      "Training Epoch 10, Loss: 0.605518\n",
      "Accuracy: 0.6283185840707964\n",
      "Valdiation Epoch 10, Loss: 1.243353\n",
      "256 256\n",
      "[5555, 3420, 3267, 3256, 2847, 3155, 3266, 3048, 2449, 2527, 3583, 2925, 2516, 2869, 2482, 2803, 2374, 2235, 2372, 2028, 9011, 3378, 5160, 2620, 2453, 5274, 3320, 4020, 3279, 4310, 4411, 4145, 3730, 3700]\n",
      "['G1' 'G10' 'G11' 'G2' 'G3' 'G4' 'G5' 'G6' 'G8' 'G9']\n",
      "[0 0 0 ... 2 2 2]\n",
      "[[1. 0. 0. ... 0. 0. 0.]\n",
      " [1. 0. 0. ... 0. 0. 0.]\n",
      " [1. 0. 0. ... 0. 0. 0.]\n",
      " ...\n",
      " [0. 0. 1. ... 0. 0. 0.]\n",
      " [0. 0. 1. ... 0. 0. 0.]\n",
      " [0. 0. 1. ... 0. 0. 0.]]\n",
      "[2653, 2002, 2303, 2642, 1758]\n",
      "['G1' 'G10' 'G11' 'G2' 'G3' 'G4' 'G5' 'G6' 'G8' 'G9']\n",
      "[0 0 0 ... 2 2 2]\n",
      "[[1. 0. 0. ... 0. 0. 0.]\n",
      " [1. 0. 0. ... 0. 0. 0.]\n",
      " [1. 0. 0. ... 0. 0. 0.]\n",
      " ...\n",
      " [0. 0. 1. ... 0. 0. 0.]\n",
      " [0. 0. 1. ... 0. 0. 0.]\n",
      " [0. 0. 1. ... 0. 0. 0.]]\n"
     ]
    },
    {
     "name": "stderr",
     "output_type": "stream",
     "text": [
      "100%|██████████| 184/184 [00:00<00:00, 357.41it/s]\n"
     ]
    },
    {
     "name": "stdout",
     "output_type": "stream",
     "text": [
      "Training Epoch 1, Loss: 1.628444\n",
      "Accuracy: 0.49734513274336284\n",
      "Valdiation Epoch 1, Loss: 1.658156\n"
     ]
    },
    {
     "name": "stderr",
     "output_type": "stream",
     "text": [
      "100%|██████████| 184/184 [00:00<00:00, 365.16it/s]\n"
     ]
    },
    {
     "name": "stdout",
     "output_type": "stream",
     "text": [
      "Training Epoch 2, Loss: 1.300674\n",
      "Accuracy: 0.6159292035398231\n",
      "Valdiation Epoch 2, Loss: 1.447241\n"
     ]
    },
    {
     "name": "stderr",
     "output_type": "stream",
     "text": [
      "100%|██████████| 184/184 [00:00<00:00, 370.17it/s]\n"
     ]
    },
    {
     "name": "stdout",
     "output_type": "stream",
     "text": [
      "Training Epoch 3, Loss: 1.165865\n",
      "Accuracy: 0.6371681415929203\n",
      "Valdiation Epoch 3, Loss: 1.394999\n"
     ]
    },
    {
     "name": "stderr",
     "output_type": "stream",
     "text": [
      "100%|██████████| 184/184 [00:00<00:00, 358.40it/s]\n"
     ]
    },
    {
     "name": "stdout",
     "output_type": "stream",
     "text": [
      "Training Epoch 4, Loss: 1.074337\n",
      "Accuracy: 0.6513274336283186\n",
      "Valdiation Epoch 4, Loss: 1.361102\n"
     ]
    },
    {
     "name": "stderr",
     "output_type": "stream",
     "text": [
      "100%|██████████| 184/184 [00:00<00:00, 363.93it/s]\n"
     ]
    },
    {
     "name": "stdout",
     "output_type": "stream",
     "text": [
      "Training Epoch 5, Loss: 0.996411\n",
      "Accuracy: 0.6353982300884956\n",
      "Valdiation Epoch 5, Loss: 1.324215\n"
     ]
    },
    {
     "name": "stderr",
     "output_type": "stream",
     "text": [
      "100%|██████████| 184/184 [00:00<00:00, 362.58it/s]\n"
     ]
    },
    {
     "name": "stdout",
     "output_type": "stream",
     "text": [
      "Training Epoch 6, Loss: 0.933190\n",
      "Accuracy: 0.6831858407079646\n",
      "Valdiation Epoch 6, Loss: 1.286654\n"
     ]
    },
    {
     "name": "stderr",
     "output_type": "stream",
     "text": [
      "100%|██████████| 184/184 [00:00<00:00, 343.24it/s]\n"
     ]
    },
    {
     "name": "stdout",
     "output_type": "stream",
     "text": [
      "Training Epoch 7, Loss: 0.874161\n",
      "Accuracy: 0.6761061946902654\n",
      "Valdiation Epoch 7, Loss: 1.276713\n"
     ]
    },
    {
     "name": "stderr",
     "output_type": "stream",
     "text": [
      "100%|██████████| 184/184 [00:00<00:00, 358.33it/s]\n"
     ]
    },
    {
     "name": "stdout",
     "output_type": "stream",
     "text": [
      "Training Epoch 8, Loss: 0.824697\n",
      "Accuracy: 0.6938053097345133\n",
      "Valdiation Epoch 8, Loss: 1.258672\n"
     ]
    },
    {
     "name": "stderr",
     "output_type": "stream",
     "text": [
      "100%|██████████| 184/184 [00:00<00:00, 354.21it/s]\n"
     ]
    },
    {
     "name": "stdout",
     "output_type": "stream",
     "text": [
      "Training Epoch 9, Loss: 0.777105\n",
      "Accuracy: 0.6867256637168142\n",
      "Valdiation Epoch 9, Loss: 1.261296\n"
     ]
    },
    {
     "name": "stderr",
     "output_type": "stream",
     "text": [
      "100%|██████████| 184/184 [00:00<00:00, 345.37it/s]\n",
      "[I 2023-08-16 16:45:06,069] Trial 92 finished with value: 1.2681189543671079 and parameters: {'lr': 6.387236710105066e-05, 'batch_size': 32, 'd_model': 8, 'nhead': 8, 'num_layers': 2, 'hidden_dim': 4, 'layer_dim': 1}. Best is trial 54 with value: 1.242251820034451.\n"
     ]
    },
    {
     "name": "stdout",
     "output_type": "stream",
     "text": [
      "Training Epoch 10, Loss: 0.735072\n",
      "Accuracy: 0.679646017699115\n",
      "Valdiation Epoch 10, Loss: 1.268119\n",
      "256 256\n",
      "[5555, 3420, 3267, 3256, 2847, 3155, 3266, 3048, 2449, 2527, 3583, 2925, 2516, 2869, 2482, 2803, 2374, 2235, 2372, 2028, 9011, 3378, 5160, 2620, 2453, 5274, 3320, 4020, 3279, 4310, 4411, 4145, 3730, 3700]\n",
      "['G1' 'G10' 'G11' 'G2' 'G3' 'G4' 'G5' 'G6' 'G8' 'G9']\n",
      "[0 0 0 ... 2 2 2]\n",
      "[[1. 0. 0. ... 0. 0. 0.]\n",
      " [1. 0. 0. ... 0. 0. 0.]\n",
      " [1. 0. 0. ... 0. 0. 0.]\n",
      " ...\n",
      " [0. 0. 1. ... 0. 0. 0.]\n",
      " [0. 0. 1. ... 0. 0. 0.]\n",
      " [0. 0. 1. ... 0. 0. 0.]]\n",
      "[2653, 2002, 2303, 2642, 1758]\n",
      "['G1' 'G10' 'G11' 'G2' 'G3' 'G4' 'G5' 'G6' 'G8' 'G9']\n",
      "[0 0 0 ... 2 2 2]\n",
      "[[1. 0. 0. ... 0. 0. 0.]\n",
      " [1. 0. 0. ... 0. 0. 0.]\n",
      " [1. 0. 0. ... 0. 0. 0.]\n",
      " ...\n",
      " [0. 0. 1. ... 0. 0. 0.]\n",
      " [0. 0. 1. ... 0. 0. 0.]\n",
      " [0. 0. 1. ... 0. 0. 0.]]\n"
     ]
    },
    {
     "name": "stderr",
     "output_type": "stream",
     "text": [
      "100%|██████████| 184/184 [00:00<00:00, 371.46it/s]\n"
     ]
    },
    {
     "name": "stdout",
     "output_type": "stream",
     "text": [
      "Training Epoch 1, Loss: 1.643828\n",
      "Accuracy: 0.5327433628318584\n",
      "Valdiation Epoch 1, Loss: 1.696292\n"
     ]
    },
    {
     "name": "stderr",
     "output_type": "stream",
     "text": [
      "100%|██████████| 184/184 [00:00<00:00, 361.63it/s]\n"
     ]
    },
    {
     "name": "stdout",
     "output_type": "stream",
     "text": [
      "Training Epoch 2, Loss: 1.301670\n",
      "Accuracy: 0.5805309734513274\n",
      "Valdiation Epoch 2, Loss: 1.573296\n"
     ]
    },
    {
     "name": "stderr",
     "output_type": "stream",
     "text": [
      "100%|██████████| 184/184 [00:00<00:00, 365.69it/s]\n"
     ]
    },
    {
     "name": "stdout",
     "output_type": "stream",
     "text": [
      "Training Epoch 3, Loss: 1.154472\n",
      "Accuracy: 0.6247787610619469\n",
      "Valdiation Epoch 3, Loss: 1.495494\n"
     ]
    },
    {
     "name": "stderr",
     "output_type": "stream",
     "text": [
      "100%|██████████| 184/184 [00:00<00:00, 365.93it/s]\n"
     ]
    },
    {
     "name": "stdout",
     "output_type": "stream",
     "text": [
      "Training Epoch 4, Loss: 1.055294\n",
      "Accuracy: 0.6442477876106195\n",
      "Valdiation Epoch 4, Loss: 1.439981\n"
     ]
    },
    {
     "name": "stderr",
     "output_type": "stream",
     "text": [
      "100%|██████████| 184/184 [00:00<00:00, 366.15it/s]\n"
     ]
    },
    {
     "name": "stdout",
     "output_type": "stream",
     "text": [
      "Training Epoch 5, Loss: 0.980708\n",
      "Accuracy: 0.647787610619469\n",
      "Valdiation Epoch 5, Loss: 1.407402\n"
     ]
    },
    {
     "name": "stderr",
     "output_type": "stream",
     "text": [
      "100%|██████████| 184/184 [00:00<00:00, 362.41it/s]\n"
     ]
    },
    {
     "name": "stdout",
     "output_type": "stream",
     "text": [
      "Training Epoch 6, Loss: 0.914580\n",
      "Accuracy: 0.672566371681416\n",
      "Valdiation Epoch 6, Loss: 1.387123\n"
     ]
    },
    {
     "name": "stderr",
     "output_type": "stream",
     "text": [
      "100%|██████████| 184/184 [00:00<00:00, 373.18it/s]\n"
     ]
    },
    {
     "name": "stdout",
     "output_type": "stream",
     "text": [
      "Training Epoch 7, Loss: 0.859814\n",
      "Accuracy: 0.6672566371681415\n",
      "Valdiation Epoch 7, Loss: 1.380427\n"
     ]
    },
    {
     "name": "stderr",
     "output_type": "stream",
     "text": [
      "100%|██████████| 184/184 [00:00<00:00, 367.87it/s]\n"
     ]
    },
    {
     "name": "stdout",
     "output_type": "stream",
     "text": [
      "Training Epoch 8, Loss: 0.808209\n",
      "Accuracy: 0.6654867256637168\n",
      "Valdiation Epoch 8, Loss: 1.342690\n"
     ]
    },
    {
     "name": "stderr",
     "output_type": "stream",
     "text": [
      "100%|██████████| 184/184 [00:00<00:00, 349.05it/s]\n"
     ]
    },
    {
     "name": "stdout",
     "output_type": "stream",
     "text": [
      "Training Epoch 9, Loss: 0.756872\n",
      "Accuracy: 0.6389380530973451\n",
      "Valdiation Epoch 9, Loss: 1.366201\n"
     ]
    },
    {
     "name": "stderr",
     "output_type": "stream",
     "text": [
      "100%|██████████| 184/184 [00:00<00:00, 366.52it/s]\n",
      "[I 2023-08-16 16:45:12,344] Trial 93 finished with value: 1.3795056078169081 and parameters: {'lr': 6.659970811404664e-05, 'batch_size': 32, 'd_model': 8, 'nhead': 8, 'num_layers': 2, 'hidden_dim': 4, 'layer_dim': 1}. Best is trial 54 with value: 1.242251820034451.\n"
     ]
    },
    {
     "name": "stdout",
     "output_type": "stream",
     "text": [
      "Training Epoch 10, Loss: 0.710494\n",
      "Accuracy: 0.5946902654867257\n",
      "Valdiation Epoch 10, Loss: 1.379506\n",
      "256 256\n",
      "[5555, 3420, 3267, 3256, 2847, 3155, 3266, 3048, 2449, 2527, 3583, 2925, 2516, 2869, 2482, 2803, 2374, 2235, 2372, 2028, 9011, 3378, 5160, 2620, 2453, 5274, 3320, 4020, 3279, 4310, 4411, 4145, 3730, 3700]\n",
      "['G1' 'G10' 'G11' 'G2' 'G3' 'G4' 'G5' 'G6' 'G8' 'G9']\n",
      "[0 0 0 ... 2 2 2]\n",
      "[[1. 0. 0. ... 0. 0. 0.]\n",
      " [1. 0. 0. ... 0. 0. 0.]\n",
      " [1. 0. 0. ... 0. 0. 0.]\n",
      " ...\n",
      " [0. 0. 1. ... 0. 0. 0.]\n",
      " [0. 0. 1. ... 0. 0. 0.]\n",
      " [0. 0. 1. ... 0. 0. 0.]]\n",
      "[2653, 2002, 2303, 2642, 1758]\n",
      "['G1' 'G10' 'G11' 'G2' 'G3' 'G4' 'G5' 'G6' 'G8' 'G9']\n",
      "[0 0 0 ... 2 2 2]\n",
      "[[1. 0. 0. ... 0. 0. 0.]\n",
      " [1. 0. 0. ... 0. 0. 0.]\n",
      " [1. 0. 0. ... 0. 0. 0.]\n",
      " ...\n",
      " [0. 0. 1. ... 0. 0. 0.]\n",
      " [0. 0. 1. ... 0. 0. 0.]\n",
      " [0. 0. 1. ... 0. 0. 0.]]\n"
     ]
    },
    {
     "name": "stderr",
     "output_type": "stream",
     "text": [
      "100%|██████████| 184/184 [00:00<00:00, 358.93it/s]\n"
     ]
    },
    {
     "name": "stdout",
     "output_type": "stream",
     "text": [
      "Training Epoch 1, Loss: 1.790439\n",
      "Accuracy: 0.5398230088495575\n",
      "Valdiation Epoch 1, Loss: 1.712742\n"
     ]
    },
    {
     "name": "stderr",
     "output_type": "stream",
     "text": [
      "100%|██████████| 184/184 [00:00<00:00, 363.79it/s]\n"
     ]
    },
    {
     "name": "stdout",
     "output_type": "stream",
     "text": [
      "Training Epoch 2, Loss: 1.491077\n",
      "Accuracy: 0.6194690265486725\n",
      "Valdiation Epoch 2, Loss: 1.599504\n"
     ]
    },
    {
     "name": "stderr",
     "output_type": "stream",
     "text": [
      "100%|██████████| 184/184 [00:00<00:00, 342.41it/s]\n"
     ]
    },
    {
     "name": "stdout",
     "output_type": "stream",
     "text": [
      "Training Epoch 3, Loss: 1.343380\n",
      "Accuracy: 0.6247787610619469\n",
      "Valdiation Epoch 3, Loss: 1.533534\n"
     ]
    },
    {
     "name": "stderr",
     "output_type": "stream",
     "text": [
      "100%|██████████| 184/184 [00:00<00:00, 348.38it/s]\n"
     ]
    },
    {
     "name": "stdout",
     "output_type": "stream",
     "text": [
      "Training Epoch 4, Loss: 1.220180\n",
      "Accuracy: 0.6017699115044248\n",
      "Valdiation Epoch 4, Loss: 1.490850\n"
     ]
    },
    {
     "name": "stderr",
     "output_type": "stream",
     "text": [
      "100%|██████████| 184/184 [00:00<00:00, 350.66it/s]\n"
     ]
    },
    {
     "name": "stdout",
     "output_type": "stream",
     "text": [
      "Training Epoch 5, Loss: 1.121771\n",
      "Accuracy: 0.6123893805309735\n",
      "Valdiation Epoch 5, Loss: 1.482152\n"
     ]
    },
    {
     "name": "stderr",
     "output_type": "stream",
     "text": [
      "100%|██████████| 184/184 [00:00<00:00, 353.49it/s]\n"
     ]
    },
    {
     "name": "stdout",
     "output_type": "stream",
     "text": [
      "Training Epoch 6, Loss: 1.044384\n",
      "Accuracy: 0.5982300884955752\n",
      "Valdiation Epoch 6, Loss: 1.474182\n"
     ]
    },
    {
     "name": "stderr",
     "output_type": "stream",
     "text": [
      "100%|██████████| 184/184 [00:00<00:00, 335.41it/s]\n"
     ]
    },
    {
     "name": "stdout",
     "output_type": "stream",
     "text": [
      "Training Epoch 7, Loss: 0.976268\n",
      "Accuracy: 0.5398230088495575\n",
      "Valdiation Epoch 7, Loss: 1.558256\n"
     ]
    },
    {
     "name": "stderr",
     "output_type": "stream",
     "text": [
      "100%|██████████| 184/184 [00:00<00:00, 368.99it/s]\n"
     ]
    },
    {
     "name": "stdout",
     "output_type": "stream",
     "text": [
      "Training Epoch 8, Loss: 0.916696\n",
      "Accuracy: 0.5982300884955752\n",
      "Valdiation Epoch 8, Loss: 1.436524\n"
     ]
    },
    {
     "name": "stderr",
     "output_type": "stream",
     "text": [
      "100%|██████████| 184/184 [00:00<00:00, 322.48it/s]\n"
     ]
    },
    {
     "name": "stdout",
     "output_type": "stream",
     "text": [
      "Training Epoch 9, Loss: 0.858377\n",
      "Accuracy: 0.6194690265486725\n",
      "Valdiation Epoch 9, Loss: 1.397412\n"
     ]
    },
    {
     "name": "stderr",
     "output_type": "stream",
     "text": [
      "100%|██████████| 184/184 [00:00<00:00, 324.07it/s]\n",
      "[I 2023-08-16 16:45:18,877] Trial 94 finished with value: 1.4135826296276517 and parameters: {'lr': 0.00012637462245781072, 'batch_size': 32, 'd_model': 8, 'nhead': 8, 'num_layers': 2, 'hidden_dim': 3, 'layer_dim': 1}. Best is trial 54 with value: 1.242251820034451.\n",
      "[I 2023-08-16 16:45:18,891] Trial 95 finished with value: 1000.0 and parameters: {'lr': 4.752053634973625e-05, 'batch_size': 32, 'd_model': 4, 'nhead': 8, 'num_layers': 2, 'hidden_dim': 4, 'layer_dim': 1}. Best is trial 54 with value: 1.242251820034451.\n",
      "[I 2023-08-16 16:45:18,904] Trial 96 finished with value: 1000.0 and parameters: {'lr': 6.013849790557294e-05, 'batch_size': 32, 'd_model': 3, 'nhead': 8, 'num_layers': 2, 'hidden_dim': 5, 'layer_dim': 1}. Best is trial 54 with value: 1.242251820034451.\n"
     ]
    },
    {
     "name": "stdout",
     "output_type": "stream",
     "text": [
      "Training Epoch 10, Loss: 0.809130\n",
      "Accuracy: 0.6159292035398231\n",
      "Valdiation Epoch 10, Loss: 1.413583\n",
      "16 256\n",
      "8 256\n",
      "256 128\n",
      "[5555, 3420, 3267, 3256, 2847, 3155, 3266, 3048, 2449, 2527, 3583, 2925, 2516, 2869, 2482, 2803, 2374, 2235, 2372, 2028, 9011, 3378, 5160, 2620, 2453, 5274, 3320, 4020, 3279, 4310, 4411, 4145, 3730, 3700]\n",
      "['G1' 'G10' 'G11' 'G2' 'G3' 'G4' 'G5' 'G6' 'G8' 'G9']\n",
      "[0 0 0 ... 2 2 2]\n",
      "[[1. 0. 0. ... 0. 0. 0.]\n",
      " [1. 0. 0. ... 0. 0. 0.]\n",
      " [1. 0. 0. ... 0. 0. 0.]\n",
      " ...\n",
      " [0. 0. 1. ... 0. 0. 0.]\n",
      " [0. 0. 1. ... 0. 0. 0.]\n",
      " [0. 0. 1. ... 0. 0. 0.]]\n",
      "[2653, 2002, 2303, 2642, 1758]\n",
      "['G1' 'G10' 'G11' 'G2' 'G3' 'G4' 'G5' 'G6' 'G8' 'G9']\n",
      "[0 0 0 ... 2 2 2]\n",
      "[[1. 0. 0. ... 0. 0. 0.]\n",
      " [1. 0. 0. ... 0. 0. 0.]\n",
      " [1. 0. 0. ... 0. 0. 0.]\n",
      " ...\n",
      " [0. 0. 1. ... 0. 0. 0.]\n",
      " [0. 0. 1. ... 0. 0. 0.]\n",
      " [0. 0. 1. ... 0. 0. 0.]]\n"
     ]
    },
    {
     "name": "stderr",
     "output_type": "stream",
     "text": [
      "100%|██████████| 184/184 [00:00<00:00, 335.37it/s]\n"
     ]
    },
    {
     "name": "stdout",
     "output_type": "stream",
     "text": [
      "Training Epoch 1, Loss: 1.611538\n",
      "Accuracy: 0.5663716814159292\n",
      "Valdiation Epoch 1, Loss: 1.662310\n"
     ]
    },
    {
     "name": "stderr",
     "output_type": "stream",
     "text": [
      "100%|██████████| 184/184 [00:00<00:00, 316.97it/s]\n"
     ]
    },
    {
     "name": "stdout",
     "output_type": "stream",
     "text": [
      "Training Epoch 2, Loss: 1.264523\n",
      "Accuracy: 0.6141592920353982\n",
      "Valdiation Epoch 2, Loss: 1.561487\n"
     ]
    },
    {
     "name": "stderr",
     "output_type": "stream",
     "text": [
      "100%|██████████| 184/184 [00:00<00:00, 349.61it/s]\n"
     ]
    },
    {
     "name": "stdout",
     "output_type": "stream",
     "text": [
      "Training Epoch 3, Loss: 1.125753\n",
      "Accuracy: 0.6371681415929203\n",
      "Valdiation Epoch 3, Loss: 1.509780\n"
     ]
    },
    {
     "name": "stderr",
     "output_type": "stream",
     "text": [
      "100%|██████████| 184/184 [00:00<00:00, 368.13it/s]\n"
     ]
    },
    {
     "name": "stdout",
     "output_type": "stream",
     "text": [
      "Training Epoch 4, Loss: 1.032795\n",
      "Accuracy: 0.6495575221238938\n",
      "Valdiation Epoch 4, Loss: 1.448814\n"
     ]
    },
    {
     "name": "stderr",
     "output_type": "stream",
     "text": [
      "100%|██████████| 184/184 [00:00<00:00, 356.05it/s]\n"
     ]
    },
    {
     "name": "stdout",
     "output_type": "stream",
     "text": [
      "Training Epoch 5, Loss: 0.951729\n",
      "Accuracy: 0.6353982300884956\n",
      "Valdiation Epoch 5, Loss: 1.422995\n"
     ]
    },
    {
     "name": "stderr",
     "output_type": "stream",
     "text": [
      "100%|██████████| 184/184 [00:00<00:00, 340.46it/s]\n"
     ]
    },
    {
     "name": "stdout",
     "output_type": "stream",
     "text": [
      "Training Epoch 6, Loss: 0.880606\n",
      "Accuracy: 0.6601769911504425\n",
      "Valdiation Epoch 6, Loss: 1.411485\n"
     ]
    },
    {
     "name": "stderr",
     "output_type": "stream",
     "text": [
      "100%|██████████| 184/184 [00:00<00:00, 344.01it/s]\n"
     ]
    },
    {
     "name": "stdout",
     "output_type": "stream",
     "text": [
      "Training Epoch 7, Loss: 0.817809\n",
      "Accuracy: 0.6672566371681415\n",
      "Valdiation Epoch 7, Loss: 1.358379\n"
     ]
    },
    {
     "name": "stderr",
     "output_type": "stream",
     "text": [
      "100%|██████████| 184/184 [00:00<00:00, 323.80it/s]\n"
     ]
    },
    {
     "name": "stdout",
     "output_type": "stream",
     "text": [
      "Training Epoch 8, Loss: 0.762000\n",
      "Accuracy: 0.6637168141592921\n",
      "Valdiation Epoch 8, Loss: 1.397727\n"
     ]
    },
    {
     "name": "stderr",
     "output_type": "stream",
     "text": [
      "100%|██████████| 184/184 [00:00<00:00, 354.18it/s]\n"
     ]
    },
    {
     "name": "stdout",
     "output_type": "stream",
     "text": [
      "Training Epoch 9, Loss: 0.709013\n",
      "Accuracy: 0.6619469026548672\n",
      "Valdiation Epoch 9, Loss: 1.367158\n"
     ]
    },
    {
     "name": "stderr",
     "output_type": "stream",
     "text": [
      "100%|██████████| 184/184 [00:00<00:00, 346.88it/s]\n",
      "[I 2023-08-16 16:45:25,526] Trial 97 finished with value: 1.3977062569724188 and parameters: {'lr': 7.968184092766478e-05, 'batch_size': 32, 'd_model': 8, 'nhead': 7, 'num_layers': 2, 'hidden_dim': 4, 'layer_dim': 1}. Best is trial 54 with value: 1.242251820034451.\n",
      "[I 2023-08-16 16:45:25,540] Trial 98 finished with value: 1000.0 and parameters: {'lr': 0.00012584888315484726, 'batch_size': 32, 'd_model': 7, 'nhead': 8, 'num_layers': 1, 'hidden_dim': 5, 'layer_dim': 1}. Best is trial 54 with value: 1.242251820034451.\n"
     ]
    },
    {
     "name": "stdout",
     "output_type": "stream",
     "text": [
      "Training Epoch 10, Loss: 0.663439\n",
      "Accuracy: 0.6283185840707964\n",
      "Valdiation Epoch 10, Loss: 1.397706\n",
      "128 256\n",
      "256 256\n",
      "[5555, 3420, 3267, 3256, 2847, 3155, 3266, 3048, 2449, 2527, 3583, 2925, 2516, 2869, 2482, 2803, 2374, 2235, 2372, 2028, 9011, 3378, 5160, 2620, 2453, 5274, 3320, 4020, 3279, 4310, 4411, 4145, 3730, 3700]\n",
      "['G1' 'G10' 'G11' 'G2' 'G3' 'G4' 'G5' 'G6' 'G8' 'G9']\n",
      "[0 0 0 ... 2 2 2]\n",
      "[[1. 0. 0. ... 0. 0. 0.]\n",
      " [1. 0. 0. ... 0. 0. 0.]\n",
      " [1. 0. 0. ... 0. 0. 0.]\n",
      " ...\n",
      " [0. 0. 1. ... 0. 0. 0.]\n",
      " [0. 0. 1. ... 0. 0. 0.]\n",
      " [0. 0. 1. ... 0. 0. 0.]]\n",
      "[2653, 2002, 2303, 2642, 1758]\n",
      "['G1' 'G10' 'G11' 'G2' 'G3' 'G4' 'G5' 'G6' 'G8' 'G9']\n",
      "[0 0 0 ... 2 2 2]\n",
      "[[1. 0. 0. ... 0. 0. 0.]\n",
      " [1. 0. 0. ... 0. 0. 0.]\n",
      " [1. 0. 0. ... 0. 0. 0.]\n",
      " ...\n",
      " [0. 0. 1. ... 0. 0. 0.]\n",
      " [0. 0. 1. ... 0. 0. 0.]\n",
      " [0. 0. 1. ... 0. 0. 0.]]\n"
     ]
    },
    {
     "name": "stderr",
     "output_type": "stream",
     "text": [
      "100%|██████████| 368/368 [00:01<00:00, 337.70it/s]\n"
     ]
    },
    {
     "name": "stdout",
     "output_type": "stream",
     "text": [
      "Training Epoch 1, Loss: 2.221513\n",
      "Accuracy: 0.3185840707964602\n",
      "Valdiation Epoch 1, Loss: 2.213344\n"
     ]
    },
    {
     "name": "stderr",
     "output_type": "stream",
     "text": [
      "100%|██████████| 368/368 [00:01<00:00, 326.90it/s]\n"
     ]
    },
    {
     "name": "stdout",
     "output_type": "stream",
     "text": [
      "Training Epoch 2, Loss: 2.067603\n",
      "Accuracy: 0.3185840707964602\n",
      "Valdiation Epoch 2, Loss: 2.127816\n"
     ]
    },
    {
     "name": "stderr",
     "output_type": "stream",
     "text": [
      "100%|██████████| 368/368 [00:01<00:00, 336.30it/s]\n"
     ]
    },
    {
     "name": "stdout",
     "output_type": "stream",
     "text": [
      "Training Epoch 3, Loss: 1.956011\n",
      "Accuracy: 0.3185840707964602\n",
      "Valdiation Epoch 3, Loss: 2.073563\n"
     ]
    },
    {
     "name": "stderr",
     "output_type": "stream",
     "text": [
      "100%|██████████| 368/368 [00:01<00:00, 344.89it/s]\n"
     ]
    },
    {
     "name": "stdout",
     "output_type": "stream",
     "text": [
      "Training Epoch 4, Loss: 1.884963\n",
      "Accuracy: 0.3185840707964602\n",
      "Valdiation Epoch 4, Loss: 2.004803\n"
     ]
    },
    {
     "name": "stderr",
     "output_type": "stream",
     "text": [
      "100%|██████████| 368/368 [00:01<00:00, 318.08it/s]\n"
     ]
    },
    {
     "name": "stdout",
     "output_type": "stream",
     "text": [
      "Training Epoch 5, Loss: 1.833170\n",
      "Accuracy: 0.3185840707964602\n",
      "Valdiation Epoch 5, Loss: 1.951825\n"
     ]
    },
    {
     "name": "stderr",
     "output_type": "stream",
     "text": [
      "100%|██████████| 368/368 [00:01<00:00, 345.18it/s]\n"
     ]
    },
    {
     "name": "stdout",
     "output_type": "stream",
     "text": [
      "Training Epoch 6, Loss: 1.785577\n",
      "Accuracy: 0.3185840707964602\n",
      "Valdiation Epoch 6, Loss: 1.904186\n"
     ]
    },
    {
     "name": "stderr",
     "output_type": "stream",
     "text": [
      "100%|██████████| 368/368 [00:01<00:00, 309.15it/s]\n"
     ]
    },
    {
     "name": "stdout",
     "output_type": "stream",
     "text": [
      "Training Epoch 7, Loss: 1.739062\n",
      "Accuracy: 0.40353982300884955\n",
      "Valdiation Epoch 7, Loss: 1.861685\n"
     ]
    },
    {
     "name": "stderr",
     "output_type": "stream",
     "text": [
      "100%|██████████| 368/368 [00:01<00:00, 342.19it/s]\n"
     ]
    },
    {
     "name": "stdout",
     "output_type": "stream",
     "text": [
      "Training Epoch 8, Loss: 1.681713\n",
      "Accuracy: 0.44601769911504424\n",
      "Valdiation Epoch 8, Loss: 1.822532\n"
     ]
    },
    {
     "name": "stderr",
     "output_type": "stream",
     "text": [
      "100%|██████████| 368/368 [00:01<00:00, 348.95it/s]\n"
     ]
    },
    {
     "name": "stdout",
     "output_type": "stream",
     "text": [
      "Training Epoch 9, Loss: 1.632332\n",
      "Accuracy: 0.4407079646017699\n",
      "Valdiation Epoch 9, Loss: 1.817733\n"
     ]
    },
    {
     "name": "stderr",
     "output_type": "stream",
     "text": [
      "100%|██████████| 368/368 [00:01<00:00, 325.96it/s]\n",
      "[I 2023-08-16 16:45:37,943] Trial 99 finished with value: 1.7596882316801283 and parameters: {'lr': 5.529269206213509e-05, 'batch_size': 16, 'd_model': 8, 'nhead': 8, 'num_layers': 2, 'hidden_dim': 3, 'layer_dim': 3}. Best is trial 54 with value: 1.242251820034451.\n"
     ]
    },
    {
     "name": "stdout",
     "output_type": "stream",
     "text": [
      "Training Epoch 10, Loss: 1.578771\n",
      "Accuracy: 0.4584070796460177\n",
      "Valdiation Epoch 10, Loss: 1.759688\n",
      "Number of finished trials: 100\n",
      "Best trial:\n",
      "Value: 1.242251820034451\n",
      "Params: \n",
      "    lr: 8.906324028628413e-05\n",
      "    batch_size: 64\n",
      "    d_model: 8\n",
      "    nhead: 8\n",
      "    num_layers: 2\n",
      "    hidden_dim: 4\n",
      "    layer_dim: 1\n"
     ]
    }
   ],
   "source": [
    "import optuna\n",
    "\n",
    "# Define the objective function for Optuna\n",
    "def objective(trial):\n",
    "    # Hyperparameters to be tuned\n",
    "    lr = trial.suggest_float('lr', 1e-5, 1e-2, log=True)\n",
    "    batch_size = trial.suggest_categorical('batch_size', [16, 32, 64])\n",
    "    d_model = 2**trial.suggest_int('d_model', 1, 8)\n",
    "    nhead = 2**trial.suggest_int('nhead', 1, 8)\n",
    "    num_layers = trial.suggest_categorical('num_layers', [1, 2, 4])\n",
    "    hidden_dim = 2** trial.suggest_int('hidden_dim', 1, 8)\n",
    "    layer_dim = trial.suggest_int('layer_dim', 1, 4)\n",
    "    \n",
    "    print(d_model, nhead)\n",
    "    # Other hyperparameters\n",
    "    # input_dim = 64  # Adjust according to your input data\n",
    "    # output_dim = 10  # Adjust according to your output data\n",
    "    val_loss = 1000\n",
    "    if(d_model%nhead == 0):\n",
    "        model,optimizer,scheduler,criterion = initiate_model(d_model, nhead, num_layers,input_dim,output_dim, hidden_dim, layer_dim, lr,  iterations_per_epoch=iterations_per_epoch, tcn_model_params=tcn_model_params, model=model)\n",
    "\n",
    "        model.to(device)\n",
    "        # Load your data and define loss function here\n",
    "        \n",
    "        train_dataloader, valid_dataloader = get_dataloaders(tasks,\n",
    "                                                            user_left_out,\n",
    "                                                            observation_window,\n",
    "                                                            prediction_window,\n",
    "                                                            batch_size,\n",
    "                                                            one_hot,\n",
    "                                                            class_names = class_names['Suturing'],\n",
    "                                                            feature_names = Features,\n",
    "                                                            include_image_features=include_image_features,\n",
    "                                                            cast = cast,\n",
    "                                                            normalizer = normalizer,\n",
    "                                                            step=step)\n",
    "\n",
    "        \n",
    "        # Perform training loop with the defined batch size and model\n",
    "        # ...\n",
    "\n",
    "        val_loss = traintest_loop(train_dataloader,valid_dataloader,model,optimizer,scheduler,criterion, epochs)\n",
    "        \n",
    "\n",
    "\n",
    "    return val_loss  # Return the loss as the objective to minimize\n",
    "\n",
    "if __name__ == '__main__':\n",
    "    study = optuna.create_study(direction='minimize')  # Objective is to minimize the validation loss\n",
    "    study.optimize(objective, n_trials=100)  # You can adjust the number of trials\n",
    "    \n",
    "    print(f\"Number of finished trials: {len(study.trials)}\")\n",
    "    print(\"Best trial:\")\n",
    "    trial = study.best_trial\n",
    "\n",
    "    print(f\"Value: {trial.value}\")\n",
    "    print(\"Params: \")\n",
    "    for key, value in trial.params.items():\n",
    "        print(f\"    {key}: {value}\")"
   ]
  },
  {
   "cell_type": "code",
   "execution_count": 26,
   "metadata": {},
   "outputs": [
    {
     "name": "stdout",
     "output_type": "stream",
     "text": [
      "    lr: 8.906324028628413e-05\n",
      "    batch_size: 64\n",
      "    d_model: 8\n",
      "    nhead: 8\n",
      "    num_layers: 2\n",
      "    hidden_dim: 4\n",
      "    layer_dim: 1\n",
      "Value: 1.242251820034451\n",
      "Number of finished trials: 100\n"
     ]
    }
   ],
   "source": [
    "for key, value in trial.params.items():\n",
    "    print(f\"    {key}: {value}\")\n",
    "    \n",
    "print(f\"Value: {trial.value}\")\n",
    "\n",
    "print(f\"Number of finished trials: {len(study.trials)}\")\n"
   ]
  }
 ],
 "metadata": {
  "kernelspec": {
   "display_name": "pytorch",
   "language": "python",
   "name": "python3"
  },
  "language_info": {
   "codemirror_mode": {
    "name": "ipython",
    "version": 3
   },
   "file_extension": ".py",
   "mimetype": "text/x-python",
   "name": "python",
   "nbconvert_exporter": "python",
   "pygments_lexer": "ipython3",
   "version": "3.8.17"
  }
 },
 "nbformat": 4,
 "nbformat_minor": 4
}
